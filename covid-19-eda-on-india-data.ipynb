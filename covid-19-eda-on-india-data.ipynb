{
 "cells": [
  {
   "cell_type": "markdown",
   "execution_count": null,
   "metadata": {
    "papermill": {
     "duration": 0.011013,
     "end_time": "2020-08-30T17:37:53.606359",
     "exception": false,
     "start_time": "2020-08-30T17:37:53.595346",
     "status": "completed"
    },
    "tags": []
   },
   "source": [
    "# Exploring COVID-19 data and analyzing various factors"
   ]
  },
  {
   "cell_type": "code",
   "execution_count": 1,
   "metadata": {
    "_cell_guid": "b1076dfc-b9ad-4769-8c92-a6c4dae69d19",
    "_uuid": "8f2839f25d086af736a60e9eeb907d3b93b6e0e5",
    "collapsed": true,
    "execution": {
     "iopub.execute_input": "2020-08-30T17:37:53.634193Z",
     "iopub.status.busy": "2020-08-30T17:37:53.633417Z",
     "iopub.status.idle": "2020-08-30T17:37:53.696798Z",
     "shell.execute_reply": "2020-08-30T17:37:53.695946Z"
    },
    "papermill": {
     "duration": 0.080657,
     "end_time": "2020-08-30T17:37:53.696934",
     "exception": false,
     "start_time": "2020-08-30T17:37:53.616277",
     "status": "completed"
    },
    "tags": []
   },
   "outputs": [
    {
     "name": "stdout",
     "output_type": "stream",
     "text": [
      "/kaggle/input/covid19-in-india/IndividualDetails.csv\n",
      "/kaggle/input/covid19-in-india/StatewiseTestingDetails.csv\n",
      "/kaggle/input/covid19-in-india/HospitalBedsIndia.csv\n",
      "/kaggle/input/covid19-in-india/covid_19_india.csv\n",
      "/kaggle/input/covid19-in-india/AgeGroupDetails.csv\n",
      "/kaggle/input/covid19-in-india/ICMRTestingLabs.csv\n",
      "/kaggle/input/covid19-in-india/population_india_census2011.csv\n",
      "/kaggle/input/lat-lon-indian-states/datasets_652259_1374178_Total_India_covid-19.csv\n"
     ]
    }
   ],
   "source": [
    "# This Python 3 environment comes with many helpful analytics libraries installed\n",
    "# It is defined by the kaggle/python Docker image: https://github.com/kaggle/docker-python\n",
    "# For example, here's several helpful packages to load\n",
    "\n",
    "import numpy as np # linear algebra\n",
    "import pandas as pd # data processing, CSV file I/O (e.g. pd.read_csv)\n",
    "\n",
    "# Input data files are available in the read-only \"../input/\" directory\n",
    "# For example, running this (by clicking run or pressing Shift+Enter) will list all files under the input directory\n",
    "\n",
    "import os\n",
    "for dirname, _, filenames in os.walk('/kaggle/input'):\n",
    "    for filename in filenames:\n",
    "        print(os.path.join(dirname, filename))\n",
    "\n",
    "# You can write up to 5GB to the current directory (/kaggle/working/) that gets preserved as output when you create a version using \"Save & Run All\" \n",
    "# You can also write temporary files to /kaggle/temp/, but they won't be saved outside of the current session"
   ]
  },
  {
   "cell_type": "markdown",
   "execution_count": null,
   "metadata": {
    "papermill": {
     "duration": 0.009186,
     "end_time": "2020-08-30T17:37:53.715543",
     "exception": false,
     "start_time": "2020-08-30T17:37:53.706357",
     "status": "completed"
    },
    "tags": []
   },
   "source": [
    "# Importing required libraries"
   ]
  },
  {
   "cell_type": "code",
   "execution_count": 2,
   "metadata": {
    "execution": {
     "iopub.execute_input": "2020-08-30T17:37:53.742703Z",
     "iopub.status.busy": "2020-08-30T17:37:53.741848Z",
     "iopub.status.idle": "2020-08-30T17:37:54.158958Z",
     "shell.execute_reply": "2020-08-30T17:37:54.158247Z"
    },
    "papermill": {
     "duration": 0.433859,
     "end_time": "2020-08-30T17:37:54.159110",
     "exception": false,
     "start_time": "2020-08-30T17:37:53.725251",
     "status": "completed"
    },
    "tags": []
   },
   "outputs": [],
   "source": [
    "import plotly.graph_objects as go\n",
    "import matplotlib.pyplot as plt\n",
    "import folium"
   ]
  },
  {
   "cell_type": "markdown",
   "execution_count": null,
   "metadata": {
    "papermill": {
     "duration": 0.01007,
     "end_time": "2020-08-30T17:37:54.179531",
     "exception": false,
     "start_time": "2020-08-30T17:37:54.169461",
     "status": "completed"
    },
    "tags": []
   },
   "source": [
    "# Reading required data for further analysis"
   ]
  },
  {
   "cell_type": "code",
   "execution_count": 3,
   "metadata": {
    "_cell_guid": "79c7e3d0-c299-4dcb-8224-4455121ee9b0",
    "_uuid": "d629ff2d2480ee46fbb7e2d37f6b5fab8052498a",
    "collapsed": true,
    "execution": {
     "iopub.execute_input": "2020-08-30T17:37:54.213380Z",
     "iopub.status.busy": "2020-08-30T17:37:54.212636Z",
     "iopub.status.idle": "2020-08-30T17:37:54.345249Z",
     "shell.execute_reply": "2020-08-30T17:37:54.345860Z"
    },
    "papermill": {
     "duration": 0.156696,
     "end_time": "2020-08-30T17:37:54.346039",
     "exception": false,
     "start_time": "2020-08-30T17:37:54.189343",
     "status": "completed"
    },
    "tags": []
   },
   "outputs": [
    {
     "data": {
      "text/html": [
       "<div>\n",
       "<style scoped>\n",
       "    .dataframe tbody tr th:only-of-type {\n",
       "        vertical-align: middle;\n",
       "    }\n",
       "\n",
       "    .dataframe tbody tr th {\n",
       "        vertical-align: top;\n",
       "    }\n",
       "\n",
       "    .dataframe thead th {\n",
       "        text-align: right;\n",
       "    }\n",
       "</style>\n",
       "<table border=\"1\" class=\"dataframe\">\n",
       "  <thead>\n",
       "    <tr style=\"text-align: right;\">\n",
       "      <th></th>\n",
       "      <th>Sno</th>\n",
       "      <th>State / Union Territory</th>\n",
       "      <th>Population</th>\n",
       "      <th>Rural population</th>\n",
       "      <th>Urban population</th>\n",
       "      <th>Area</th>\n",
       "      <th>Density</th>\n",
       "      <th>Gender Ratio</th>\n",
       "    </tr>\n",
       "  </thead>\n",
       "  <tbody>\n",
       "    <tr>\n",
       "      <th>0</th>\n",
       "      <td>1</td>\n",
       "      <td>Uttar Pradesh</td>\n",
       "      <td>199812341</td>\n",
       "      <td>155317278</td>\n",
       "      <td>44495063</td>\n",
       "      <td>240,928 km2 (93,023 sq mi)</td>\n",
       "      <td>828/km2 (2,140/sq mi)</td>\n",
       "      <td>912</td>\n",
       "    </tr>\n",
       "    <tr>\n",
       "      <th>1</th>\n",
       "      <td>2</td>\n",
       "      <td>Maharashtra</td>\n",
       "      <td>112374333</td>\n",
       "      <td>61556074</td>\n",
       "      <td>50818259</td>\n",
       "      <td>307,713 km2 (118,809 sq mi)</td>\n",
       "      <td>365/km2 (950/sq mi)</td>\n",
       "      <td>929</td>\n",
       "    </tr>\n",
       "    <tr>\n",
       "      <th>2</th>\n",
       "      <td>3</td>\n",
       "      <td>Bihar</td>\n",
       "      <td>104099452</td>\n",
       "      <td>92341436</td>\n",
       "      <td>11758016</td>\n",
       "      <td>94,163 km2 (36,357 sq mi)</td>\n",
       "      <td>1,102/km2 (2,850/sq mi)</td>\n",
       "      <td>918</td>\n",
       "    </tr>\n",
       "    <tr>\n",
       "      <th>3</th>\n",
       "      <td>4</td>\n",
       "      <td>West Bengal</td>\n",
       "      <td>91276115</td>\n",
       "      <td>62183113</td>\n",
       "      <td>29093002</td>\n",
       "      <td>88,752 km2 (34,267 sq mi)</td>\n",
       "      <td>1,029/km2 (2,670/sq mi)</td>\n",
       "      <td>953</td>\n",
       "    </tr>\n",
       "    <tr>\n",
       "      <th>4</th>\n",
       "      <td>5</td>\n",
       "      <td>Madhya Pradesh</td>\n",
       "      <td>72626809</td>\n",
       "      <td>52557404</td>\n",
       "      <td>20069405</td>\n",
       "      <td>308,245 km2 (119,014 sq mi)</td>\n",
       "      <td>236/km2 (610/sq mi)</td>\n",
       "      <td>931</td>\n",
       "    </tr>\n",
       "    <tr>\n",
       "      <th>5</th>\n",
       "      <td>6</td>\n",
       "      <td>Tamil Nadu</td>\n",
       "      <td>72147030</td>\n",
       "      <td>37229590</td>\n",
       "      <td>34917440</td>\n",
       "      <td>130,058 km2 (50,216 sq mi)</td>\n",
       "      <td>555/km2 (1,440/sq mi)</td>\n",
       "      <td>996</td>\n",
       "    </tr>\n",
       "    <tr>\n",
       "      <th>6</th>\n",
       "      <td>7</td>\n",
       "      <td>Rajasthan</td>\n",
       "      <td>68548437</td>\n",
       "      <td>51500352</td>\n",
       "      <td>17048085</td>\n",
       "      <td>342,239 km2 (132,139 sq mi)</td>\n",
       "      <td>201/km2 (520/sq mi)</td>\n",
       "      <td>928</td>\n",
       "    </tr>\n",
       "    <tr>\n",
       "      <th>7</th>\n",
       "      <td>8</td>\n",
       "      <td>Karnataka</td>\n",
       "      <td>61095297</td>\n",
       "      <td>37469335</td>\n",
       "      <td>23625962</td>\n",
       "      <td>191,791 km2 (74,051 sq mi)</td>\n",
       "      <td>319/km2 (830/sq mi)</td>\n",
       "      <td>973</td>\n",
       "    </tr>\n",
       "    <tr>\n",
       "      <th>8</th>\n",
       "      <td>9</td>\n",
       "      <td>Gujarat</td>\n",
       "      <td>60439692</td>\n",
       "      <td>34694609</td>\n",
       "      <td>25745083</td>\n",
       "      <td>196,024 km2 (75,685 sq mi)</td>\n",
       "      <td>308/km2 (800/sq mi)</td>\n",
       "      <td>919</td>\n",
       "    </tr>\n",
       "    <tr>\n",
       "      <th>9</th>\n",
       "      <td>10</td>\n",
       "      <td>Andhra Pradesh</td>\n",
       "      <td>49577103</td>\n",
       "      <td>34966693</td>\n",
       "      <td>14610410</td>\n",
       "      <td>162,968 km2 (62,922 sq mi)</td>\n",
       "      <td>303/km2 (780/sq mi)</td>\n",
       "      <td>993</td>\n",
       "    </tr>\n",
       "    <tr>\n",
       "      <th>10</th>\n",
       "      <td>11</td>\n",
       "      <td>Odisha</td>\n",
       "      <td>41974218</td>\n",
       "      <td>34970562</td>\n",
       "      <td>7003656</td>\n",
       "      <td>155,707 km2 (60,119 sq mi)</td>\n",
       "      <td>269/km2 (700/sq mi)</td>\n",
       "      <td>979</td>\n",
       "    </tr>\n",
       "    <tr>\n",
       "      <th>11</th>\n",
       "      <td>12</td>\n",
       "      <td>Telengana</td>\n",
       "      <td>35003674</td>\n",
       "      <td>21395009</td>\n",
       "      <td>13608665</td>\n",
       "      <td>112,077 km2 (43,273 sq mi)</td>\n",
       "      <td>312/km2 (810/sq mi)</td>\n",
       "      <td>988</td>\n",
       "    </tr>\n",
       "    <tr>\n",
       "      <th>12</th>\n",
       "      <td>13</td>\n",
       "      <td>Kerala</td>\n",
       "      <td>33406061</td>\n",
       "      <td>17471135</td>\n",
       "      <td>15934926</td>\n",
       "      <td>38,863 km2 (15,005 sq mi)</td>\n",
       "      <td>859/km2 (2,220/sq mi)</td>\n",
       "      <td>1084</td>\n",
       "    </tr>\n",
       "    <tr>\n",
       "      <th>13</th>\n",
       "      <td>14</td>\n",
       "      <td>Jharkhand</td>\n",
       "      <td>32988134</td>\n",
       "      <td>25055073</td>\n",
       "      <td>7933061</td>\n",
       "      <td>79,714 km2 (30,778 sq mi)</td>\n",
       "      <td>414/km2 (1,070/sq mi)</td>\n",
       "      <td>948</td>\n",
       "    </tr>\n",
       "    <tr>\n",
       "      <th>14</th>\n",
       "      <td>15</td>\n",
       "      <td>Assam</td>\n",
       "      <td>31205576</td>\n",
       "      <td>26807034</td>\n",
       "      <td>4398542</td>\n",
       "      <td>78,438 km2 (30,285 sq mi)</td>\n",
       "      <td>397/km2 (1,030/sq mi)</td>\n",
       "      <td>954</td>\n",
       "    </tr>\n",
       "    <tr>\n",
       "      <th>15</th>\n",
       "      <td>16</td>\n",
       "      <td>Punjab</td>\n",
       "      <td>27743338</td>\n",
       "      <td>17344192</td>\n",
       "      <td>10399146</td>\n",
       "      <td>50,362 km2 (19,445 sq mi)</td>\n",
       "      <td>550/km2 (1,400/sq mi)</td>\n",
       "      <td>895</td>\n",
       "    </tr>\n",
       "    <tr>\n",
       "      <th>16</th>\n",
       "      <td>17</td>\n",
       "      <td>Chhattisgarh</td>\n",
       "      <td>25545198</td>\n",
       "      <td>19607961</td>\n",
       "      <td>5937237</td>\n",
       "      <td>135,191 km2 (52,198 sq mi)</td>\n",
       "      <td>189/km2 (490/sq mi)</td>\n",
       "      <td>991</td>\n",
       "    </tr>\n",
       "    <tr>\n",
       "      <th>17</th>\n",
       "      <td>18</td>\n",
       "      <td>Haryana</td>\n",
       "      <td>25351462</td>\n",
       "      <td>16509359</td>\n",
       "      <td>8842103</td>\n",
       "      <td>44,212 km2 (17,070 sq mi)</td>\n",
       "      <td>573/km2 (1,480/sq mi)</td>\n",
       "      <td>879</td>\n",
       "    </tr>\n",
       "    <tr>\n",
       "      <th>18</th>\n",
       "      <td>19</td>\n",
       "      <td>Uttarakhand</td>\n",
       "      <td>10086292</td>\n",
       "      <td>7036954</td>\n",
       "      <td>3049338</td>\n",
       "      <td>53,483 km2 (20,650 sq mi)</td>\n",
       "      <td>189/km2 (490/sq mi)</td>\n",
       "      <td>963</td>\n",
       "    </tr>\n",
       "    <tr>\n",
       "      <th>19</th>\n",
       "      <td>20</td>\n",
       "      <td>Himachal Pradesh</td>\n",
       "      <td>6864602</td>\n",
       "      <td>6176050</td>\n",
       "      <td>688552</td>\n",
       "      <td>55,673 km2 (21,495 sq mi)</td>\n",
       "      <td>123/km2 (320/sq mi)</td>\n",
       "      <td>972</td>\n",
       "    </tr>\n",
       "    <tr>\n",
       "      <th>20</th>\n",
       "      <td>21</td>\n",
       "      <td>Tripura</td>\n",
       "      <td>3673917</td>\n",
       "      <td>2712464</td>\n",
       "      <td>961453</td>\n",
       "      <td>10,486 km2 (4,049 sq mi)</td>\n",
       "      <td>350/km2 (910/sq mi)</td>\n",
       "      <td>960</td>\n",
       "    </tr>\n",
       "    <tr>\n",
       "      <th>21</th>\n",
       "      <td>22</td>\n",
       "      <td>Meghalaya</td>\n",
       "      <td>2966889</td>\n",
       "      <td>2371439</td>\n",
       "      <td>595450</td>\n",
       "      <td>22,429 km2 (8,660 sq mi)</td>\n",
       "      <td>132/km2 (340/sq mi)</td>\n",
       "      <td>989</td>\n",
       "    </tr>\n",
       "    <tr>\n",
       "      <th>22</th>\n",
       "      <td>23</td>\n",
       "      <td>Manipur</td>\n",
       "      <td>2570390</td>\n",
       "      <td>1793875</td>\n",
       "      <td>776515</td>\n",
       "      <td>22,327 km2 (8,621 sq mi)</td>\n",
       "      <td>122/km2 (320/sq mi)</td>\n",
       "      <td>992</td>\n",
       "    </tr>\n",
       "    <tr>\n",
       "      <th>23</th>\n",
       "      <td>24</td>\n",
       "      <td>Nagaland</td>\n",
       "      <td>1978502</td>\n",
       "      <td>1407536</td>\n",
       "      <td>570966</td>\n",
       "      <td>16,579 km2 (6,401 sq mi)</td>\n",
       "      <td>119/km2 (310/sq mi)</td>\n",
       "      <td>931</td>\n",
       "    </tr>\n",
       "    <tr>\n",
       "      <th>24</th>\n",
       "      <td>25</td>\n",
       "      <td>Goa</td>\n",
       "      <td>1458545</td>\n",
       "      <td>551731</td>\n",
       "      <td>906814</td>\n",
       "      <td>3,702 km2 (1,429 sq mi)</td>\n",
       "      <td>394/km2 (1,020/sq mi)</td>\n",
       "      <td>973</td>\n",
       "    </tr>\n",
       "    <tr>\n",
       "      <th>25</th>\n",
       "      <td>26</td>\n",
       "      <td>Arunachal Pradesh</td>\n",
       "      <td>1383727</td>\n",
       "      <td>1066358</td>\n",
       "      <td>317369</td>\n",
       "      <td>83,743 km2 (32,333 sq mi)</td>\n",
       "      <td>17/km2 (44/sq mi)</td>\n",
       "      <td>938</td>\n",
       "    </tr>\n",
       "    <tr>\n",
       "      <th>26</th>\n",
       "      <td>27</td>\n",
       "      <td>Mizoram</td>\n",
       "      <td>1097206</td>\n",
       "      <td>525435</td>\n",
       "      <td>571771</td>\n",
       "      <td>21,081 km2 (8,139 sq mi)</td>\n",
       "      <td>52/km2 (130/sq mi)</td>\n",
       "      <td>976</td>\n",
       "    </tr>\n",
       "    <tr>\n",
       "      <th>27</th>\n",
       "      <td>28</td>\n",
       "      <td>Sikkim</td>\n",
       "      <td>610577</td>\n",
       "      <td>456999</td>\n",
       "      <td>153578</td>\n",
       "      <td>7,096 km2 (2,740 sq mi)</td>\n",
       "      <td>86/km2 (220/sq mi)</td>\n",
       "      <td>890</td>\n",
       "    </tr>\n",
       "    <tr>\n",
       "      <th>28</th>\n",
       "      <td>29</td>\n",
       "      <td>Delhi</td>\n",
       "      <td>16787941</td>\n",
       "      <td>419042</td>\n",
       "      <td>16368899</td>\n",
       "      <td>1,484 km2 (573 sq mi)</td>\n",
       "      <td>11,297/km2 (29,260/sq mi)</td>\n",
       "      <td>868</td>\n",
       "    </tr>\n",
       "    <tr>\n",
       "      <th>29</th>\n",
       "      <td>30</td>\n",
       "      <td>Jammu and Kashmir</td>\n",
       "      <td>12267032</td>\n",
       "      <td>9064220</td>\n",
       "      <td>3202812</td>\n",
       "      <td>125,535 km2 (48,469 sq mi)</td>\n",
       "      <td>98/km2 (250/sq mi)</td>\n",
       "      <td>890</td>\n",
       "    </tr>\n",
       "    <tr>\n",
       "      <th>30</th>\n",
       "      <td>31</td>\n",
       "      <td>Puducherry</td>\n",
       "      <td>1247953</td>\n",
       "      <td>395200</td>\n",
       "      <td>852753</td>\n",
       "      <td>479 km2 (185 sq mi)</td>\n",
       "      <td>2,598/km2 (6,730/sq mi)</td>\n",
       "      <td>1037</td>\n",
       "    </tr>\n",
       "    <tr>\n",
       "      <th>31</th>\n",
       "      <td>32</td>\n",
       "      <td>Chandigarh</td>\n",
       "      <td>1055450</td>\n",
       "      <td>28991</td>\n",
       "      <td>1026459</td>\n",
       "      <td>114 km2 (44 sq mi)</td>\n",
       "      <td>9,252/km2 (23,960/sq mi)</td>\n",
       "      <td>818</td>\n",
       "    </tr>\n",
       "    <tr>\n",
       "      <th>32</th>\n",
       "      <td>33</td>\n",
       "      <td>Dadra and Nagar Haveli and Daman and Diu</td>\n",
       "      <td>585764</td>\n",
       "      <td>243510</td>\n",
       "      <td>342254</td>\n",
       "      <td>603 km2 (233 sq mi)</td>\n",
       "      <td>970/km2 (2,500/sq mi)</td>\n",
       "      <td>711</td>\n",
       "    </tr>\n",
       "    <tr>\n",
       "      <th>33</th>\n",
       "      <td>34</td>\n",
       "      <td>Andaman and Nicobar Islands</td>\n",
       "      <td>380581</td>\n",
       "      <td>237093</td>\n",
       "      <td>143488</td>\n",
       "      <td>8,249 km2 (3,185 sq mi)</td>\n",
       "      <td>46/km2 (120/sq mi)</td>\n",
       "      <td>876</td>\n",
       "    </tr>\n",
       "    <tr>\n",
       "      <th>34</th>\n",
       "      <td>35</td>\n",
       "      <td>Ladakh</td>\n",
       "      <td>274000</td>\n",
       "      <td>43840</td>\n",
       "      <td>230160</td>\n",
       "      <td>96,701 km2 (37,336 sq mi)</td>\n",
       "      <td>2.8/km2 (7.3/sq mi)</td>\n",
       "      <td>853</td>\n",
       "    </tr>\n",
       "    <tr>\n",
       "      <th>35</th>\n",
       "      <td>36</td>\n",
       "      <td>Lakshadweep</td>\n",
       "      <td>64473</td>\n",
       "      <td>14141</td>\n",
       "      <td>50332</td>\n",
       "      <td>32 km2 (12 sq mi)</td>\n",
       "      <td>2,013/km2 (5,210/sq mi)</td>\n",
       "      <td>946</td>\n",
       "    </tr>\n",
       "  </tbody>\n",
       "</table>\n",
       "</div>"
      ],
      "text/plain": [
       "    Sno                   State / Union Territory  Population  \\\n",
       "0     1                             Uttar Pradesh   199812341   \n",
       "1     2                               Maharashtra   112374333   \n",
       "2     3                                     Bihar   104099452   \n",
       "3     4                               West Bengal    91276115   \n",
       "4     5                            Madhya Pradesh    72626809   \n",
       "5     6                                Tamil Nadu    72147030   \n",
       "6     7                                 Rajasthan    68548437   \n",
       "7     8                                 Karnataka    61095297   \n",
       "8     9                                   Gujarat    60439692   \n",
       "9    10                            Andhra Pradesh    49577103   \n",
       "10   11                                    Odisha    41974218   \n",
       "11   12                                 Telengana    35003674   \n",
       "12   13                                    Kerala    33406061   \n",
       "13   14                                 Jharkhand    32988134   \n",
       "14   15                                     Assam    31205576   \n",
       "15   16                                    Punjab    27743338   \n",
       "16   17                              Chhattisgarh    25545198   \n",
       "17   18                                   Haryana    25351462   \n",
       "18   19                               Uttarakhand    10086292   \n",
       "19   20                          Himachal Pradesh     6864602   \n",
       "20   21                                   Tripura     3673917   \n",
       "21   22                                 Meghalaya     2966889   \n",
       "22   23                                   Manipur     2570390   \n",
       "23   24                                  Nagaland     1978502   \n",
       "24   25                                       Goa     1458545   \n",
       "25   26                         Arunachal Pradesh     1383727   \n",
       "26   27                                   Mizoram     1097206   \n",
       "27   28                                    Sikkim      610577   \n",
       "28   29                                     Delhi    16787941   \n",
       "29   30                         Jammu and Kashmir    12267032   \n",
       "30   31                                Puducherry     1247953   \n",
       "31   32                                Chandigarh     1055450   \n",
       "32   33  Dadra and Nagar Haveli and Daman and Diu      585764   \n",
       "33   34               Andaman and Nicobar Islands      380581   \n",
       "34   35                                    Ladakh      274000   \n",
       "35   36                               Lakshadweep       64473   \n",
       "\n",
       "    Rural population  Urban population                         Area  \\\n",
       "0          155317278          44495063   240,928 km2 (93,023 sq mi)   \n",
       "1           61556074          50818259  307,713 km2 (118,809 sq mi)   \n",
       "2           92341436          11758016    94,163 km2 (36,357 sq mi)   \n",
       "3           62183113          29093002    88,752 km2 (34,267 sq mi)   \n",
       "4           52557404          20069405  308,245 km2 (119,014 sq mi)   \n",
       "5           37229590          34917440   130,058 km2 (50,216 sq mi)   \n",
       "6           51500352          17048085  342,239 km2 (132,139 sq mi)   \n",
       "7           37469335          23625962   191,791 km2 (74,051 sq mi)   \n",
       "8           34694609          25745083   196,024 km2 (75,685 sq mi)   \n",
       "9           34966693          14610410   162,968 km2 (62,922 sq mi)   \n",
       "10          34970562           7003656   155,707 km2 (60,119 sq mi)   \n",
       "11          21395009          13608665   112,077 km2 (43,273 sq mi)   \n",
       "12          17471135          15934926    38,863 km2 (15,005 sq mi)   \n",
       "13          25055073           7933061    79,714 km2 (30,778 sq mi)   \n",
       "14          26807034           4398542    78,438 km2 (30,285 sq mi)   \n",
       "15          17344192          10399146    50,362 km2 (19,445 sq mi)   \n",
       "16          19607961           5937237   135,191 km2 (52,198 sq mi)   \n",
       "17          16509359           8842103    44,212 km2 (17,070 sq mi)   \n",
       "18           7036954           3049338    53,483 km2 (20,650 sq mi)   \n",
       "19           6176050            688552    55,673 km2 (21,495 sq mi)   \n",
       "20           2712464            961453     10,486 km2 (4,049 sq mi)   \n",
       "21           2371439            595450     22,429 km2 (8,660 sq mi)   \n",
       "22           1793875            776515     22,327 km2 (8,621 sq mi)   \n",
       "23           1407536            570966     16,579 km2 (6,401 sq mi)   \n",
       "24            551731            906814      3,702 km2 (1,429 sq mi)   \n",
       "25           1066358            317369    83,743 km2 (32,333 sq mi)   \n",
       "26            525435            571771     21,081 km2 (8,139 sq mi)   \n",
       "27            456999            153578      7,096 km2 (2,740 sq mi)   \n",
       "28            419042          16368899        1,484 km2 (573 sq mi)   \n",
       "29           9064220           3202812   125,535 km2 (48,469 sq mi)   \n",
       "30            395200            852753          479 km2 (185 sq mi)   \n",
       "31             28991           1026459           114 km2 (44 sq mi)   \n",
       "32            243510            342254          603 km2 (233 sq mi)   \n",
       "33            237093            143488      8,249 km2 (3,185 sq mi)   \n",
       "34             43840            230160    96,701 km2 (37,336 sq mi)   \n",
       "35             14141             50332            32 km2 (12 sq mi)   \n",
       "\n",
       "                      Density  Gender Ratio  \n",
       "0       828/km2 (2,140/sq mi)           912  \n",
       "1         365/km2 (950/sq mi)           929  \n",
       "2     1,102/km2 (2,850/sq mi)           918  \n",
       "3     1,029/km2 (2,670/sq mi)           953  \n",
       "4         236/km2 (610/sq mi)           931  \n",
       "5       555/km2 (1,440/sq mi)           996  \n",
       "6         201/km2 (520/sq mi)           928  \n",
       "7         319/km2 (830/sq mi)           973  \n",
       "8         308/km2 (800/sq mi)           919  \n",
       "9         303/km2 (780/sq mi)           993  \n",
       "10        269/km2 (700/sq mi)           979  \n",
       "11        312/km2 (810/sq mi)           988  \n",
       "12      859/km2 (2,220/sq mi)          1084  \n",
       "13      414/km2 (1,070/sq mi)           948  \n",
       "14      397/km2 (1,030/sq mi)           954  \n",
       "15      550/km2 (1,400/sq mi)           895  \n",
       "16        189/km2 (490/sq mi)           991  \n",
       "17      573/km2 (1,480/sq mi)           879  \n",
       "18        189/km2 (490/sq mi)           963  \n",
       "19        123/km2 (320/sq mi)           972  \n",
       "20        350/km2 (910/sq mi)           960  \n",
       "21        132/km2 (340/sq mi)           989  \n",
       "22        122/km2 (320/sq mi)           992  \n",
       "23        119/km2 (310/sq mi)           931  \n",
       "24      394/km2 (1,020/sq mi)           973  \n",
       "25          17/km2 (44/sq mi)           938  \n",
       "26         52/km2 (130/sq mi)           976  \n",
       "27         86/km2 (220/sq mi)           890  \n",
       "28  11,297/km2 (29,260/sq mi)           868  \n",
       "29         98/km2 (250/sq mi)           890  \n",
       "30    2,598/km2 (6,730/sq mi)          1037  \n",
       "31   9,252/km2 (23,960/sq mi)           818  \n",
       "32      970/km2 (2,500/sq mi)           711  \n",
       "33         46/km2 (120/sq mi)           876  \n",
       "34        2.8/km2 (7.3/sq mi)           853  \n",
       "35    2,013/km2 (5,210/sq mi)           946  "
      ]
     },
     "execution_count": 3,
     "metadata": {},
     "output_type": "execute_result"
    }
   ],
   "source": [
    "# 'covid_19_india.csv' contains cured, deaths and confirmed cases on a day-to-day basis.\n",
    "cases = pd.read_csv(\"/kaggle/input/covid19-in-india/covid_19_india.csv\")\n",
    "cases.head()\n",
    "\n",
    "# It contains latitude and longitude coordinates of indian states.\n",
    "lat_long = pd.read_csv(\"/kaggle/input/lat-lon-indian-states/datasets_652259_1374178_Total_India_covid-19.csv\")\n",
    "lat_long.head()\n",
    "\n",
    "# It can provide us the ratio or rate or percentage of positive cases per population statewise.\n",
    "popul = pd.read_csv(\"/kaggle/input/covid19-in-india/population_india_census2011.csv\")\n",
    "popul"
   ]
  },
  {
   "cell_type": "markdown",
   "execution_count": null,
   "metadata": {
    "papermill": {
     "duration": 0.010738,
     "end_time": "2020-08-30T17:37:54.367479",
     "exception": false,
     "start_time": "2020-08-30T17:37:54.356741",
     "status": "completed"
    },
    "tags": []
   },
   "source": [
    "# Checking whether the data contains any null values"
   ]
  },
  {
   "cell_type": "code",
   "execution_count": 4,
   "metadata": {
    "collapsed": true,
    "execution": {
     "iopub.execute_input": "2020-08-30T17:37:54.412073Z",
     "iopub.status.busy": "2020-08-30T17:37:54.400745Z",
     "iopub.status.idle": "2020-08-30T17:37:54.416606Z",
     "shell.execute_reply": "2020-08-30T17:37:54.417135Z"
    },
    "papermill": {
     "duration": 0.038824,
     "end_time": "2020-08-30T17:37:54.417371",
     "exception": false,
     "start_time": "2020-08-30T17:37:54.378547",
     "status": "completed"
    },
    "tags": []
   },
   "outputs": [
    {
     "name": "stdout",
     "output_type": "stream",
     "text": [
      "<class 'pandas.core.frame.DataFrame'>\n",
      "RangeIndex: 5756 entries, 0 to 5755\n",
      "Data columns (total 9 columns):\n",
      " #   Column                    Non-Null Count  Dtype \n",
      "---  ------                    --------------  ----- \n",
      " 0   Sno                       5756 non-null   int64 \n",
      " 1   Date                      5756 non-null   object\n",
      " 2   Time                      5756 non-null   object\n",
      " 3   State/UnionTerritory      5756 non-null   object\n",
      " 4   ConfirmedIndianNational   5756 non-null   object\n",
      " 5   ConfirmedForeignNational  5756 non-null   object\n",
      " 6   Cured                     5756 non-null   int64 \n",
      " 7   Deaths                    5756 non-null   int64 \n",
      " 8   Confirmed                 5756 non-null   int64 \n",
      "dtypes: int64(4), object(5)\n",
      "memory usage: 404.8+ KB\n"
     ]
    }
   ],
   "source": [
    "# No null value or no null record is found.\n",
    "cases.info()"
   ]
  },
  {
   "cell_type": "markdown",
   "execution_count": null,
   "metadata": {
    "papermill": {
     "duration": 0.010536,
     "end_time": "2020-08-30T17:37:54.439171",
     "exception": false,
     "start_time": "2020-08-30T17:37:54.428635",
     "status": "completed"
    },
    "tags": []
   },
   "source": [
    "# Renaming state names that've different names for same state\n",
    "Since the given .csv file has different names for same state like \"Telangana\" -> \"Telangana***\" or \"Telengana\". So, replacing the name as \"Telangana\" only. We have entries in state names like \"Unassigned\" or \"Cases being reassigned to states\" so, for now we are going to ignore them and removing those rows from the data."
   ]
  },
  {
   "cell_type": "code",
   "execution_count": 5,
   "metadata": {
    "collapsed": true,
    "execution": {
     "iopub.execute_input": "2020-08-30T17:37:54.467405Z",
     "iopub.status.busy": "2020-08-30T17:37:54.466488Z",
     "iopub.status.idle": "2020-08-30T17:37:54.471939Z",
     "shell.execute_reply": "2020-08-30T17:37:54.472627Z"
    },
    "papermill": {
     "duration": 0.023055,
     "end_time": "2020-08-30T17:37:54.472793",
     "exception": false,
     "start_time": "2020-08-30T17:37:54.449738",
     "status": "completed"
    },
    "tags": []
   },
   "outputs": [
    {
     "data": {
      "text/plain": [
       "array(['Kerala', 'Telengana', 'Delhi', 'Rajasthan', 'Uttar Pradesh',\n",
       "       'Haryana', 'Ladakh', 'Tamil Nadu', 'Karnataka', 'Maharashtra',\n",
       "       'Punjab', 'Jammu and Kashmir', 'Andhra Pradesh', 'Uttarakhand',\n",
       "       'Odisha', 'Puducherry', 'West Bengal', 'Chhattisgarh',\n",
       "       'Chandigarh', 'Gujarat', 'Himachal Pradesh', 'Madhya Pradesh',\n",
       "       'Bihar', 'Manipur', 'Mizoram', 'Andaman and Nicobar Islands',\n",
       "       'Goa', 'Unassigned', 'Assam', 'Jharkhand', 'Arunachal Pradesh',\n",
       "       'Tripura', 'Nagaland', 'Meghalaya', 'Dadar Nagar Haveli',\n",
       "       'Cases being reassigned to states', 'Sikkim', 'Daman & Diu',\n",
       "       'Dadra and Nagar Haveli and Daman and Diu', 'Telangana',\n",
       "       'Telangana***', 'Telengana***'], dtype=object)"
      ]
     },
     "execution_count": 5,
     "metadata": {},
     "output_type": "execute_result"
    }
   ],
   "source": [
    "cases['State/UnionTerritory'].unique()"
   ]
  },
  {
   "cell_type": "code",
   "execution_count": 6,
   "metadata": {
    "collapsed": true,
    "execution": {
     "iopub.execute_input": "2020-08-30T17:37:54.511578Z",
     "iopub.status.busy": "2020-08-30T17:37:54.503713Z",
     "iopub.status.idle": "2020-08-30T17:37:54.522923Z",
     "shell.execute_reply": "2020-08-30T17:37:54.522159Z"
    },
    "papermill": {
     "duration": 0.039434,
     "end_time": "2020-08-30T17:37:54.523045",
     "exception": false,
     "start_time": "2020-08-30T17:37:54.483611",
     "status": "completed"
    },
    "tags": []
   },
   "outputs": [
    {
     "data": {
      "text/plain": [
       "array(['Kerala', 'Telangana', 'Delhi', 'Rajasthan', 'Uttar Pradesh',\n",
       "       'Haryana', 'Ladakh', 'Tamil Nadu', 'Karnataka', 'Maharashtra',\n",
       "       'Punjab', 'Jammu and Kashmir', 'Andhra Pradesh', 'Uttarakhand',\n",
       "       'Odisha', 'Puducherry', 'West Bengal', 'Chhattisgarh',\n",
       "       'Chandigarh', 'Gujarat', 'Himachal Pradesh', 'Madhya Pradesh',\n",
       "       'Bihar', 'Manipur', 'Mizoram', 'Andaman and Nicobar Islands',\n",
       "       'Goa', 'Assam', 'Jharkhand', 'Arunachal Pradesh', 'Tripura',\n",
       "       'Nagaland', 'Meghalaya',\n",
       "       'Dadra and Nagar Haveli and Daman and Diu', 'Sikkim'], dtype=object)"
      ]
     },
     "execution_count": 6,
     "metadata": {},
     "output_type": "execute_result"
    }
   ],
   "source": [
    "cases['State/UnionTerritory'].replace({\"Telengana\" : \"Telangana\", \"Telengana***\" : \"Telangana\",\n",
    "                                        \"Telangana***\" : \"Telangana\"}, inplace = True)\n",
    "\n",
    "cases['State/UnionTerritory'].replace({\"Daman & Diu\" : \"Dadra and Nagar Haveli and Daman and Diu\",\n",
    "                                          \"Dadar Nagar Haveli\" : \"Dadra and Nagar Haveli and Daman and Diu\"},\n",
    "                                         inplace = True)\n",
    "cases = cases[(cases['State/UnionTerritory'] != 'Unassigned') &\n",
    "                    (cases['State/UnionTerritory'] != 'Cases being reassigned to states')]\n",
    "cases['State/UnionTerritory'].unique()"
   ]
  },
  {
   "cell_type": "code",
   "execution_count": 7,
   "metadata": {
    "collapsed": true,
    "execution": {
     "iopub.execute_input": "2020-08-30T17:37:54.555881Z",
     "iopub.status.busy": "2020-08-30T17:37:54.555104Z",
     "iopub.status.idle": "2020-08-30T17:37:54.561018Z",
     "shell.execute_reply": "2020-08-30T17:37:54.560284Z"
    },
    "papermill": {
     "duration": 0.027274,
     "end_time": "2020-08-30T17:37:54.561168",
     "exception": false,
     "start_time": "2020-08-30T17:37:54.533894",
     "status": "completed"
    },
    "tags": []
   },
   "outputs": [
    {
     "data": {
      "text/plain": [
       "0                                Uttar Pradesh\n",
       "1                                  Maharashtra\n",
       "2                                        Bihar\n",
       "3                                  West Bengal\n",
       "4                               Madhya Pradesh\n",
       "5                                   Tamil Nadu\n",
       "6                                    Rajasthan\n",
       "7                                    Karnataka\n",
       "8                                      Gujarat\n",
       "9                               Andhra Pradesh\n",
       "10                                      Odisha\n",
       "11                                   Telangana\n",
       "12                                      Kerala\n",
       "13                                   Jharkhand\n",
       "14                                       Assam\n",
       "15                                      Punjab\n",
       "16                                Chhattisgarh\n",
       "17                                     Haryana\n",
       "18                                 Uttarakhand\n",
       "19                            Himachal Pradesh\n",
       "20                                     Tripura\n",
       "21                                   Meghalaya\n",
       "22                                     Manipur\n",
       "23                                    Nagaland\n",
       "24                                         Goa\n",
       "25                           Arunachal Pradesh\n",
       "26                                     Mizoram\n",
       "27                                      Sikkim\n",
       "28                                       Delhi\n",
       "29                           Jammu and Kashmir\n",
       "30                                  Puducherry\n",
       "31                                  Chandigarh\n",
       "32    Dadra and Nagar Haveli and Daman and Diu\n",
       "33                 Andaman and Nicobar Islands\n",
       "34                                      Ladakh\n",
       "35                                 Lakshadweep\n",
       "Name: State/UnionTerritory, dtype: object"
      ]
     },
     "execution_count": 7,
     "metadata": {},
     "output_type": "execute_result"
    }
   ],
   "source": [
    "popul.rename(columns={'State / Union Territory':'State/UnionTerritory'}, inplace=True)\n",
    "popul['State/UnionTerritory'].replace({\"Telengana\" : \"Telangana\"})"
   ]
  },
  {
   "cell_type": "markdown",
   "execution_count": null,
   "metadata": {
    "papermill": {
     "duration": 0.011538,
     "end_time": "2020-08-30T17:37:54.584466",
     "exception": false,
     "start_time": "2020-08-30T17:37:54.572928",
     "status": "completed"
    },
    "tags": []
   },
   "source": [
    "# Changing dates into datetime & removing unnecessary columns"
   ]
  },
  {
   "cell_type": "code",
   "execution_count": 8,
   "metadata": {
    "collapsed": true,
    "execution": {
     "iopub.execute_input": "2020-08-30T17:37:54.641245Z",
     "iopub.status.busy": "2020-08-30T17:37:54.625649Z",
     "iopub.status.idle": "2020-08-30T17:37:54.655906Z",
     "shell.execute_reply": "2020-08-30T17:37:54.655240Z"
    },
    "papermill": {
     "duration": 0.06013,
     "end_time": "2020-08-30T17:37:54.656040",
     "exception": false,
     "start_time": "2020-08-30T17:37:54.595910",
     "status": "completed"
    },
    "tags": []
   },
   "outputs": [
    {
     "data": {
      "text/html": [
       "<div>\n",
       "<style scoped>\n",
       "    .dataframe tbody tr th:only-of-type {\n",
       "        vertical-align: middle;\n",
       "    }\n",
       "\n",
       "    .dataframe tbody tr th {\n",
       "        vertical-align: top;\n",
       "    }\n",
       "\n",
       "    .dataframe thead th {\n",
       "        text-align: right;\n",
       "    }\n",
       "</style>\n",
       "<table border=\"1\" class=\"dataframe\">\n",
       "  <thead>\n",
       "    <tr style=\"text-align: right;\">\n",
       "      <th></th>\n",
       "      <th>Date</th>\n",
       "      <th>State/UnionTerritory</th>\n",
       "      <th>Cured</th>\n",
       "      <th>Deaths</th>\n",
       "      <th>Confirmed</th>\n",
       "    </tr>\n",
       "  </thead>\n",
       "  <tbody>\n",
       "    <tr>\n",
       "      <th>0</th>\n",
       "      <td>2020-01-30</td>\n",
       "      <td>Kerala</td>\n",
       "      <td>0</td>\n",
       "      <td>0</td>\n",
       "      <td>1</td>\n",
       "    </tr>\n",
       "    <tr>\n",
       "      <th>1</th>\n",
       "      <td>2020-01-31</td>\n",
       "      <td>Kerala</td>\n",
       "      <td>0</td>\n",
       "      <td>0</td>\n",
       "      <td>1</td>\n",
       "    </tr>\n",
       "    <tr>\n",
       "      <th>2</th>\n",
       "      <td>2020-02-01</td>\n",
       "      <td>Kerala</td>\n",
       "      <td>0</td>\n",
       "      <td>0</td>\n",
       "      <td>2</td>\n",
       "    </tr>\n",
       "    <tr>\n",
       "      <th>3</th>\n",
       "      <td>2020-02-02</td>\n",
       "      <td>Kerala</td>\n",
       "      <td>0</td>\n",
       "      <td>0</td>\n",
       "      <td>3</td>\n",
       "    </tr>\n",
       "    <tr>\n",
       "      <th>4</th>\n",
       "      <td>2020-02-03</td>\n",
       "      <td>Kerala</td>\n",
       "      <td>0</td>\n",
       "      <td>0</td>\n",
       "      <td>3</td>\n",
       "    </tr>\n",
       "  </tbody>\n",
       "</table>\n",
       "</div>"
      ],
      "text/plain": [
       "        Date State/UnionTerritory  Cured  Deaths  Confirmed\n",
       "0 2020-01-30               Kerala      0       0          1\n",
       "1 2020-01-31               Kerala      0       0          1\n",
       "2 2020-02-01               Kerala      0       0          2\n",
       "3 2020-02-02               Kerala      0       0          3\n",
       "4 2020-02-03               Kerala      0       0          3"
      ]
     },
     "execution_count": 8,
     "metadata": {},
     "output_type": "execute_result"
    }
   ],
   "source": [
    "cases.Date = pd.to_datetime(cases.Date, dayfirst=True)\n",
    "\n",
    "cases.drop(['Sno', 'Time', 'ConfirmedIndianNational', 'ConfirmedForeignNational'], axis = 1, inplace=True)\n",
    "cases.head()"
   ]
  },
  {
   "cell_type": "markdown",
   "execution_count": null,
   "metadata": {
    "papermill": {
     "duration": 0.012581,
     "end_time": "2020-08-30T17:37:54.680258",
     "exception": false,
     "start_time": "2020-08-30T17:37:54.667677",
     "status": "completed"
    },
    "tags": []
   },
   "source": [
    "# Getting the time-period of given data"
   ]
  },
  {
   "cell_type": "code",
   "execution_count": 9,
   "metadata": {
    "execution": {
     "iopub.execute_input": "2020-08-30T17:37:54.758016Z",
     "iopub.status.busy": "2020-08-30T17:37:54.756847Z",
     "iopub.status.idle": "2020-08-30T17:37:54.761606Z",
     "shell.execute_reply": "2020-08-30T17:37:54.760829Z"
    },
    "papermill": {
     "duration": 0.069608,
     "end_time": "2020-08-30T17:37:54.761744",
     "exception": false,
     "start_time": "2020-08-30T17:37:54.692136",
     "status": "completed"
    },
    "tags": []
   },
   "outputs": [
    {
     "name": "stdout",
     "output_type": "stream",
     "text": [
      "Starting date :  2020-01-30T00:00:00.000000000\n",
      "Ending date :  2020-08-30T00:00:00.000000000\n"
     ]
    }
   ],
   "source": [
    "print(\"Starting date : \", min(cases.Date.values))\n",
    "print(\"Ending date : \", max(cases.Date.values))"
   ]
  },
  {
   "cell_type": "markdown",
   "execution_count": null,
   "metadata": {
    "papermill": {
     "duration": 0.011915,
     "end_time": "2020-08-30T17:37:54.785822",
     "exception": false,
     "start_time": "2020-08-30T17:37:54.773907",
     "status": "completed"
    },
    "tags": []
   },
   "source": [
    "# Calculating total active cases per day across India"
   ]
  },
  {
   "cell_type": "code",
   "execution_count": 10,
   "metadata": {
    "collapsed": true,
    "execution": {
     "iopub.execute_input": "2020-08-30T17:37:54.821791Z",
     "iopub.status.busy": "2020-08-30T17:37:54.821034Z",
     "iopub.status.idle": "2020-08-30T17:37:54.898694Z",
     "shell.execute_reply": "2020-08-30T17:37:54.898000Z"
    },
    "papermill": {
     "duration": 0.100869,
     "end_time": "2020-08-30T17:37:54.898829",
     "exception": false,
     "start_time": "2020-08-30T17:37:54.797960",
     "status": "completed"
    },
    "tags": []
   },
   "outputs": [
    {
     "name": "stderr",
     "output_type": "stream",
     "text": [
      "/opt/conda/lib/python3.7/site-packages/pandas/core/indexing.py:670: SettingWithCopyWarning: \n",
      "A value is trying to be set on a copy of a slice from a DataFrame\n",
      "\n",
      "See the caveats in the documentation: https://pandas.pydata.org/pandas-docs/stable/user_guide/indexing.html#returning-a-view-versus-a-copy\n",
      "  iloc._setitem_with_indexer(indexer, value)\n"
     ]
    },
    {
     "data": {
      "text/html": [
       "<div>\n",
       "<style scoped>\n",
       "    .dataframe tbody tr th:only-of-type {\n",
       "        vertical-align: middle;\n",
       "    }\n",
       "\n",
       "    .dataframe tbody tr th {\n",
       "        vertical-align: top;\n",
       "    }\n",
       "\n",
       "    .dataframe thead th {\n",
       "        text-align: right;\n",
       "    }\n",
       "</style>\n",
       "<table border=\"1\" class=\"dataframe\">\n",
       "  <thead>\n",
       "    <tr style=\"text-align: right;\">\n",
       "      <th></th>\n",
       "      <th>Date</th>\n",
       "      <th>Cured</th>\n",
       "      <th>Deaths</th>\n",
       "      <th>Confirmed</th>\n",
       "      <th>Active</th>\n",
       "    </tr>\n",
       "  </thead>\n",
       "  <tbody>\n",
       "    <tr>\n",
       "      <th>0</th>\n",
       "      <td>2020-01-30</td>\n",
       "      <td>0</td>\n",
       "      <td>0</td>\n",
       "      <td>1</td>\n",
       "      <td>1</td>\n",
       "    </tr>\n",
       "    <tr>\n",
       "      <th>1</th>\n",
       "      <td>2020-01-31</td>\n",
       "      <td>0</td>\n",
       "      <td>0</td>\n",
       "      <td>1</td>\n",
       "      <td>1</td>\n",
       "    </tr>\n",
       "    <tr>\n",
       "      <th>2</th>\n",
       "      <td>2020-02-01</td>\n",
       "      <td>0</td>\n",
       "      <td>0</td>\n",
       "      <td>2</td>\n",
       "      <td>2</td>\n",
       "    </tr>\n",
       "    <tr>\n",
       "      <th>3</th>\n",
       "      <td>2020-02-02</td>\n",
       "      <td>0</td>\n",
       "      <td>0</td>\n",
       "      <td>3</td>\n",
       "      <td>3</td>\n",
       "    </tr>\n",
       "    <tr>\n",
       "      <th>4</th>\n",
       "      <td>2020-02-03</td>\n",
       "      <td>0</td>\n",
       "      <td>0</td>\n",
       "      <td>3</td>\n",
       "      <td>3</td>\n",
       "    </tr>\n",
       "    <tr>\n",
       "      <th>...</th>\n",
       "      <td>...</td>\n",
       "      <td>...</td>\n",
       "      <td>...</td>\n",
       "      <td>...</td>\n",
       "      <td>...</td>\n",
       "    </tr>\n",
       "    <tr>\n",
       "      <th>209</th>\n",
       "      <td>2020-08-26</td>\n",
       "      <td>2467758</td>\n",
       "      <td>59449</td>\n",
       "      <td>3234474</td>\n",
       "      <td>771499</td>\n",
       "    </tr>\n",
       "    <tr>\n",
       "      <th>210</th>\n",
       "      <td>2020-08-27</td>\n",
       "      <td>2523771</td>\n",
       "      <td>60472</td>\n",
       "      <td>3310234</td>\n",
       "      <td>783027</td>\n",
       "    </tr>\n",
       "    <tr>\n",
       "      <th>211</th>\n",
       "      <td>2020-08-28</td>\n",
       "      <td>2583948</td>\n",
       "      <td>61529</td>\n",
       "      <td>3387500</td>\n",
       "      <td>803257</td>\n",
       "    </tr>\n",
       "    <tr>\n",
       "      <th>212</th>\n",
       "      <td>2020-08-29</td>\n",
       "      <td>2648998</td>\n",
       "      <td>62550</td>\n",
       "      <td>3463972</td>\n",
       "      <td>818495</td>\n",
       "    </tr>\n",
       "    <tr>\n",
       "      <th>213</th>\n",
       "      <td>2020-08-30</td>\n",
       "      <td>2713933</td>\n",
       "      <td>63498</td>\n",
       "      <td>3542733</td>\n",
       "      <td>831185</td>\n",
       "    </tr>\n",
       "  </tbody>\n",
       "</table>\n",
       "<p>214 rows × 5 columns</p>\n",
       "</div>"
      ],
      "text/plain": [
       "          Date    Cured  Deaths  Confirmed  Active\n",
       "0   2020-01-30        0       0          1       1\n",
       "1   2020-01-31        0       0          1       1\n",
       "2   2020-02-01        0       0          2       2\n",
       "3   2020-02-02        0       0          3       3\n",
       "4   2020-02-03        0       0          3       3\n",
       "..         ...      ...     ...        ...     ...\n",
       "209 2020-08-26  2467758   59449    3234474  771499\n",
       "210 2020-08-27  2523771   60472    3310234  783027\n",
       "211 2020-08-28  2583948   61529    3387500  803257\n",
       "212 2020-08-29  2648998   62550    3463972  818495\n",
       "213 2020-08-30  2713933   63498    3542733  831185\n",
       "\n",
       "[214 rows x 5 columns]"
      ]
     },
     "execution_count": 10,
     "metadata": {},
     "output_type": "execute_result"
    }
   ],
   "source": [
    "daily_cases = cases.groupby('Date').sum().reset_index()\n",
    "daily_cases['Active'] = 1\n",
    "\n",
    "for val in daily_cases.index:\n",
    "    if val != 0:\n",
    "        daily_cases['Active'].loc[val] = daily_cases['Confirmed'].loc[val] - daily_cases['Cured'].loc[val-1] - daily_cases['Deaths'].loc[val-1]\n",
    "    \n",
    "daily_cases"
   ]
  },
  {
   "cell_type": "markdown",
   "execution_count": null,
   "metadata": {
    "papermill": {
     "duration": 0.011932,
     "end_time": "2020-08-30T17:37:54.922985",
     "exception": false,
     "start_time": "2020-08-30T17:37:54.911053",
     "status": "completed"
    },
    "tags": []
   },
   "source": [
    "# Visualization of Cured, Death, Confirmed & Active Cases by Date \n",
    "The following graph shows us how the cases are increasing day by day."
   ]
  },
  {
   "cell_type": "code",
   "execution_count": 11,
   "metadata": {
    "collapsed": true,
    "execution": {
     "iopub.execute_input": "2020-08-30T17:37:54.957664Z",
     "iopub.status.busy": "2020-08-30T17:37:54.956904Z",
     "iopub.status.idle": "2020-08-30T17:37:55.218839Z",
     "shell.execute_reply": "2020-08-30T17:37:55.219380Z"
    },
    "papermill": {
     "duration": 0.284619,
     "end_time": "2020-08-30T17:37:55.219571",
     "exception": false,
     "start_time": "2020-08-30T17:37:54.934952",
     "status": "completed"
    },
    "tags": []
   },
   "outputs": [
    {
     "data": {
      "text/html": [
       "        <script type=\"text/javascript\">\n",
       "        window.PlotlyConfig = {MathJaxConfig: 'local'};\n",
       "        if (window.MathJax) {MathJax.Hub.Config({SVG: {font: \"STIX-Web\"}});}\n",
       "        if (typeof require !== 'undefined') {\n",
       "        require.undef(\"plotly\");\n",
       "        requirejs.config({\n",
       "            paths: {\n",
       "                'plotly': ['https://cdn.plot.ly/plotly-latest.min']\n",
       "            }\n",
       "        });\n",
       "        require(['plotly'], function(Plotly) {\n",
       "            window._Plotly = Plotly;\n",
       "        });\n",
       "        }\n",
       "        </script>\n",
       "        "
      ]
     },
     "metadata": {},
     "output_type": "display_data"
    },
    {
     "data": {
      "text/html": [
       "<div>\n",
       "        \n",
       "        \n",
       "            <div id=\"23573821-9521-45b8-b796-4322ce874eb1\" class=\"plotly-graph-div\" style=\"height:525px; width:100%;\"></div>\n",
       "            <script type=\"text/javascript\">\n",
       "                require([\"plotly\"], function(Plotly) {\n",
       "                    window.PLOTLYENV=window.PLOTLYENV || {};\n",
       "                    \n",
       "                if (document.getElementById(\"23573821-9521-45b8-b796-4322ce874eb1\")) {\n",
       "                    Plotly.newPlot(\n",
       "                        '23573821-9521-45b8-b796-4322ce874eb1',\n",
       "                        [{\"name\": \"Confirmed\", \"type\": \"scatter\", \"x\": [\"2020-01-30T00:00:00\", \"2020-01-31T00:00:00\", \"2020-02-01T00:00:00\", \"2020-02-02T00:00:00\", \"2020-02-03T00:00:00\", \"2020-02-04T00:00:00\", \"2020-02-05T00:00:00\", \"2020-02-06T00:00:00\", \"2020-02-07T00:00:00\", \"2020-02-08T00:00:00\", \"2020-02-09T00:00:00\", \"2020-02-10T00:00:00\", \"2020-02-11T00:00:00\", \"2020-02-12T00:00:00\", \"2020-02-13T00:00:00\", \"2020-02-14T00:00:00\", \"2020-02-15T00:00:00\", \"2020-02-16T00:00:00\", \"2020-02-17T00:00:00\", \"2020-02-18T00:00:00\", \"2020-02-19T00:00:00\", \"2020-02-20T00:00:00\", \"2020-02-21T00:00:00\", \"2020-02-22T00:00:00\", \"2020-02-23T00:00:00\", \"2020-02-24T00:00:00\", \"2020-02-25T00:00:00\", \"2020-02-26T00:00:00\", \"2020-02-27T00:00:00\", \"2020-02-28T00:00:00\", \"2020-02-29T00:00:00\", \"2020-03-01T00:00:00\", \"2020-03-02T00:00:00\", \"2020-03-03T00:00:00\", \"2020-03-04T00:00:00\", \"2020-03-05T00:00:00\", \"2020-03-06T00:00:00\", \"2020-03-07T00:00:00\", \"2020-03-08T00:00:00\", \"2020-03-09T00:00:00\", \"2020-03-10T00:00:00\", \"2020-03-11T00:00:00\", \"2020-03-12T00:00:00\", \"2020-03-13T00:00:00\", \"2020-03-14T00:00:00\", \"2020-03-15T00:00:00\", \"2020-03-16T00:00:00\", \"2020-03-17T00:00:00\", \"2020-03-18T00:00:00\", \"2020-03-19T00:00:00\", \"2020-03-20T00:00:00\", \"2020-03-21T00:00:00\", \"2020-03-22T00:00:00\", \"2020-03-23T00:00:00\", \"2020-03-24T00:00:00\", \"2020-03-25T00:00:00\", \"2020-03-26T00:00:00\", \"2020-03-27T00:00:00\", \"2020-03-28T00:00:00\", \"2020-03-29T00:00:00\", \"2020-03-30T00:00:00\", \"2020-03-31T00:00:00\", \"2020-04-01T00:00:00\", \"2020-04-02T00:00:00\", \"2020-04-03T00:00:00\", \"2020-04-04T00:00:00\", \"2020-04-05T00:00:00\", \"2020-04-06T00:00:00\", \"2020-04-07T00:00:00\", \"2020-04-08T00:00:00\", \"2020-04-09T00:00:00\", \"2020-04-10T00:00:00\", \"2020-04-11T00:00:00\", \"2020-04-12T00:00:00\", \"2020-04-13T00:00:00\", \"2020-04-14T00:00:00\", \"2020-04-15T00:00:00\", \"2020-04-16T00:00:00\", \"2020-04-17T00:00:00\", \"2020-04-18T00:00:00\", \"2020-04-19T00:00:00\", \"2020-04-20T00:00:00\", \"2020-04-21T00:00:00\", \"2020-04-22T00:00:00\", \"2020-04-23T00:00:00\", \"2020-04-24T00:00:00\", \"2020-04-25T00:00:00\", \"2020-04-26T00:00:00\", \"2020-04-27T00:00:00\", \"2020-04-28T00:00:00\", \"2020-04-29T00:00:00\", \"2020-04-30T00:00:00\", \"2020-05-01T00:00:00\", \"2020-05-02T00:00:00\", \"2020-05-03T00:00:00\", \"2020-05-04T00:00:00\", \"2020-05-05T00:00:00\", \"2020-05-06T00:00:00\", \"2020-05-07T00:00:00\", \"2020-05-08T00:00:00\", \"2020-05-09T00:00:00\", \"2020-05-10T00:00:00\", \"2020-05-11T00:00:00\", \"2020-05-12T00:00:00\", \"2020-05-13T00:00:00\", \"2020-05-14T00:00:00\", \"2020-05-15T00:00:00\", \"2020-05-16T00:00:00\", \"2020-05-17T00:00:00\", \"2020-05-18T00:00:00\", \"2020-05-19T00:00:00\", \"2020-05-20T00:00:00\", \"2020-05-21T00:00:00\", \"2020-05-22T00:00:00\", \"2020-05-23T00:00:00\", \"2020-05-24T00:00:00\", \"2020-05-25T00:00:00\", \"2020-05-26T00:00:00\", \"2020-05-27T00:00:00\", \"2020-05-28T00:00:00\", \"2020-05-29T00:00:00\", \"2020-05-30T00:00:00\", \"2020-05-31T00:00:00\", \"2020-06-01T00:00:00\", \"2020-06-02T00:00:00\", \"2020-06-03T00:00:00\", \"2020-06-04T00:00:00\", \"2020-06-05T00:00:00\", \"2020-06-06T00:00:00\", \"2020-06-07T00:00:00\", \"2020-06-08T00:00:00\", \"2020-06-09T00:00:00\", \"2020-06-10T00:00:00\", \"2020-06-11T00:00:00\", \"2020-06-12T00:00:00\", \"2020-06-13T00:00:00\", \"2020-06-14T00:00:00\", \"2020-06-15T00:00:00\", \"2020-06-16T00:00:00\", \"2020-06-17T00:00:00\", \"2020-06-18T00:00:00\", \"2020-06-19T00:00:00\", \"2020-06-20T00:00:00\", \"2020-06-21T00:00:00\", \"2020-06-22T00:00:00\", \"2020-06-23T00:00:00\", \"2020-06-24T00:00:00\", \"2020-06-25T00:00:00\", \"2020-06-26T00:00:00\", \"2020-06-27T00:00:00\", \"2020-06-28T00:00:00\", \"2020-06-29T00:00:00\", \"2020-06-30T00:00:00\", \"2020-07-01T00:00:00\", \"2020-07-02T00:00:00\", \"2020-07-03T00:00:00\", \"2020-07-04T00:00:00\", \"2020-07-05T00:00:00\", \"2020-07-06T00:00:00\", \"2020-07-07T00:00:00\", \"2020-07-08T00:00:00\", \"2020-07-09T00:00:00\", \"2020-07-10T00:00:00\", \"2020-07-11T00:00:00\", \"2020-07-12T00:00:00\", \"2020-07-13T00:00:00\", \"2020-07-14T00:00:00\", \"2020-07-15T00:00:00\", \"2020-07-16T00:00:00\", \"2020-07-17T00:00:00\", \"2020-07-18T00:00:00\", \"2020-07-19T00:00:00\", \"2020-07-20T00:00:00\", \"2020-07-21T00:00:00\", \"2020-07-22T00:00:00\", \"2020-07-23T00:00:00\", \"2020-07-24T00:00:00\", \"2020-07-25T00:00:00\", \"2020-07-26T00:00:00\", \"2020-07-27T00:00:00\", \"2020-07-28T00:00:00\", \"2020-07-29T00:00:00\", \"2020-07-30T00:00:00\", \"2020-07-31T00:00:00\", \"2020-08-01T00:00:00\", \"2020-08-02T00:00:00\", \"2020-08-03T00:00:00\", \"2020-08-04T00:00:00\", \"2020-08-05T00:00:00\", \"2020-08-06T00:00:00\", \"2020-08-07T00:00:00\", \"2020-08-08T00:00:00\", \"2020-08-09T00:00:00\", \"2020-08-10T00:00:00\", \"2020-08-11T00:00:00\", \"2020-08-12T00:00:00\", \"2020-08-13T00:00:00\", \"2020-08-14T00:00:00\", \"2020-08-15T00:00:00\", \"2020-08-16T00:00:00\", \"2020-08-17T00:00:00\", \"2020-08-18T00:00:00\", \"2020-08-19T00:00:00\", \"2020-08-20T00:00:00\", \"2020-08-21T00:00:00\", \"2020-08-22T00:00:00\", \"2020-08-23T00:00:00\", \"2020-08-24T00:00:00\", \"2020-08-25T00:00:00\", \"2020-08-26T00:00:00\", \"2020-08-27T00:00:00\", \"2020-08-28T00:00:00\", \"2020-08-29T00:00:00\", \"2020-08-30T00:00:00\"], \"y\": [1, 1, 2, 3, 3, 3, 3, 3, 3, 3, 3, 3, 3, 3, 3, 3, 3, 3, 3, 3, 3, 3, 3, 3, 3, 3, 3, 3, 3, 3, 3, 3, 5, 6, 28, 30, 31, 34, 39, 46, 58, 60, 74, 81, 84, 110, 114, 137, 151, 173, 223, 283, 360, 433, 519, 606, 694, 724, 909, 1024, 1205, 1359, 1834, 2069, 2470, 3072, 3577, 4281, 4789, 5274, 5865, 6761, 7529, 8447, 9352, 10815, 11933, 12759, 13835, 14792, 16116, 17656, 18985, 20471, 21700, 23452, 24893, 26605, 28160, 29834, 31709, 33330, 34972, 37157, 40124, 42836, 46711, 49391, 52952, 56342, 59662, 62939, 67152, 70756, 74281, 78003, 81970, 85710, 90637, 95759, 100325, 105654, 110956, 116827, 123202, 129530, 136203, 142410, 147754, 154001, 161126, 168720, 176652, 184905, 192292, 200492, 209436, 219160, 228465, 238023, 247422, 257795, 267356, 277648, 289220, 301009, 313486, 325452, 335407, 345792, 358243, 371605, 385783, 401334, 417450, 432200, 448042, 464612, 482278, 500930, 521020, 541033, 559836, 578578, 597809, 619513, 643316, 668536, 692500, 714631, 737399, 762911, 789641, 817500, 846529, 875896, 904573, 934657, 967591, 1003301, 1038553, 1077618, 1118043, 1155191, 1192915, 1238635, 1287945, 1336861, 1385522, 1435453, 1483156, 1531669, 1583792, 1638870, 1695988, 1750723, 1803695, 1855745, 1908254, 1964536, 2027074, 2088611, 2153010, 2215074, 2268675, 2329638, 2396637, 2461190, 2526192, 2589682, 2647663, 2702742, 2767273, 2836925, 2905823, 2975701, 3044940, 3106348, 3167323, 3234474, 3310234, 3387500, 3463972, 3542733]}, {\"name\": \"Cured\", \"type\": \"scatter\", \"x\": [\"2020-01-30T00:00:00\", \"2020-01-31T00:00:00\", \"2020-02-01T00:00:00\", \"2020-02-02T00:00:00\", \"2020-02-03T00:00:00\", \"2020-02-04T00:00:00\", \"2020-02-05T00:00:00\", \"2020-02-06T00:00:00\", \"2020-02-07T00:00:00\", \"2020-02-08T00:00:00\", \"2020-02-09T00:00:00\", \"2020-02-10T00:00:00\", \"2020-02-11T00:00:00\", \"2020-02-12T00:00:00\", \"2020-02-13T00:00:00\", \"2020-02-14T00:00:00\", \"2020-02-15T00:00:00\", \"2020-02-16T00:00:00\", \"2020-02-17T00:00:00\", \"2020-02-18T00:00:00\", \"2020-02-19T00:00:00\", \"2020-02-20T00:00:00\", \"2020-02-21T00:00:00\", \"2020-02-22T00:00:00\", \"2020-02-23T00:00:00\", \"2020-02-24T00:00:00\", \"2020-02-25T00:00:00\", \"2020-02-26T00:00:00\", \"2020-02-27T00:00:00\", \"2020-02-28T00:00:00\", \"2020-02-29T00:00:00\", \"2020-03-01T00:00:00\", \"2020-03-02T00:00:00\", \"2020-03-03T00:00:00\", \"2020-03-04T00:00:00\", \"2020-03-05T00:00:00\", \"2020-03-06T00:00:00\", \"2020-03-07T00:00:00\", \"2020-03-08T00:00:00\", \"2020-03-09T00:00:00\", \"2020-03-10T00:00:00\", \"2020-03-11T00:00:00\", \"2020-03-12T00:00:00\", \"2020-03-13T00:00:00\", \"2020-03-14T00:00:00\", \"2020-03-15T00:00:00\", \"2020-03-16T00:00:00\", \"2020-03-17T00:00:00\", \"2020-03-18T00:00:00\", \"2020-03-19T00:00:00\", \"2020-03-20T00:00:00\", \"2020-03-21T00:00:00\", \"2020-03-22T00:00:00\", \"2020-03-23T00:00:00\", \"2020-03-24T00:00:00\", \"2020-03-25T00:00:00\", \"2020-03-26T00:00:00\", \"2020-03-27T00:00:00\", \"2020-03-28T00:00:00\", \"2020-03-29T00:00:00\", \"2020-03-30T00:00:00\", \"2020-03-31T00:00:00\", \"2020-04-01T00:00:00\", \"2020-04-02T00:00:00\", \"2020-04-03T00:00:00\", \"2020-04-04T00:00:00\", \"2020-04-05T00:00:00\", \"2020-04-06T00:00:00\", \"2020-04-07T00:00:00\", \"2020-04-08T00:00:00\", \"2020-04-09T00:00:00\", \"2020-04-10T00:00:00\", \"2020-04-11T00:00:00\", \"2020-04-12T00:00:00\", \"2020-04-13T00:00:00\", \"2020-04-14T00:00:00\", \"2020-04-15T00:00:00\", \"2020-04-16T00:00:00\", \"2020-04-17T00:00:00\", \"2020-04-18T00:00:00\", \"2020-04-19T00:00:00\", \"2020-04-20T00:00:00\", \"2020-04-21T00:00:00\", \"2020-04-22T00:00:00\", \"2020-04-23T00:00:00\", \"2020-04-24T00:00:00\", \"2020-04-25T00:00:00\", \"2020-04-26T00:00:00\", \"2020-04-27T00:00:00\", \"2020-04-28T00:00:00\", \"2020-04-29T00:00:00\", \"2020-04-30T00:00:00\", \"2020-05-01T00:00:00\", \"2020-05-02T00:00:00\", \"2020-05-03T00:00:00\", \"2020-05-04T00:00:00\", \"2020-05-05T00:00:00\", \"2020-05-06T00:00:00\", \"2020-05-07T00:00:00\", \"2020-05-08T00:00:00\", \"2020-05-09T00:00:00\", \"2020-05-10T00:00:00\", \"2020-05-11T00:00:00\", \"2020-05-12T00:00:00\", \"2020-05-13T00:00:00\", \"2020-05-14T00:00:00\", \"2020-05-15T00:00:00\", \"2020-05-16T00:00:00\", \"2020-05-17T00:00:00\", \"2020-05-18T00:00:00\", \"2020-05-19T00:00:00\", \"2020-05-20T00:00:00\", \"2020-05-21T00:00:00\", \"2020-05-22T00:00:00\", \"2020-05-23T00:00:00\", \"2020-05-24T00:00:00\", \"2020-05-25T00:00:00\", \"2020-05-26T00:00:00\", \"2020-05-27T00:00:00\", \"2020-05-28T00:00:00\", \"2020-05-29T00:00:00\", \"2020-05-30T00:00:00\", \"2020-05-31T00:00:00\", \"2020-06-01T00:00:00\", \"2020-06-02T00:00:00\", \"2020-06-03T00:00:00\", \"2020-06-04T00:00:00\", \"2020-06-05T00:00:00\", \"2020-06-06T00:00:00\", \"2020-06-07T00:00:00\", \"2020-06-08T00:00:00\", \"2020-06-09T00:00:00\", \"2020-06-10T00:00:00\", \"2020-06-11T00:00:00\", \"2020-06-12T00:00:00\", \"2020-06-13T00:00:00\", \"2020-06-14T00:00:00\", \"2020-06-15T00:00:00\", \"2020-06-16T00:00:00\", \"2020-06-17T00:00:00\", \"2020-06-18T00:00:00\", \"2020-06-19T00:00:00\", \"2020-06-20T00:00:00\", \"2020-06-21T00:00:00\", \"2020-06-22T00:00:00\", \"2020-06-23T00:00:00\", \"2020-06-24T00:00:00\", \"2020-06-25T00:00:00\", \"2020-06-26T00:00:00\", \"2020-06-27T00:00:00\", \"2020-06-28T00:00:00\", \"2020-06-29T00:00:00\", \"2020-06-30T00:00:00\", \"2020-07-01T00:00:00\", \"2020-07-02T00:00:00\", \"2020-07-03T00:00:00\", \"2020-07-04T00:00:00\", \"2020-07-05T00:00:00\", \"2020-07-06T00:00:00\", \"2020-07-07T00:00:00\", \"2020-07-08T00:00:00\", \"2020-07-09T00:00:00\", \"2020-07-10T00:00:00\", \"2020-07-11T00:00:00\", \"2020-07-12T00:00:00\", \"2020-07-13T00:00:00\", \"2020-07-14T00:00:00\", \"2020-07-15T00:00:00\", \"2020-07-16T00:00:00\", \"2020-07-17T00:00:00\", \"2020-07-18T00:00:00\", \"2020-07-19T00:00:00\", \"2020-07-20T00:00:00\", \"2020-07-21T00:00:00\", \"2020-07-22T00:00:00\", \"2020-07-23T00:00:00\", \"2020-07-24T00:00:00\", \"2020-07-25T00:00:00\", \"2020-07-26T00:00:00\", \"2020-07-27T00:00:00\", \"2020-07-28T00:00:00\", \"2020-07-29T00:00:00\", \"2020-07-30T00:00:00\", \"2020-07-31T00:00:00\", \"2020-08-01T00:00:00\", \"2020-08-02T00:00:00\", \"2020-08-03T00:00:00\", \"2020-08-04T00:00:00\", \"2020-08-05T00:00:00\", \"2020-08-06T00:00:00\", \"2020-08-07T00:00:00\", \"2020-08-08T00:00:00\", \"2020-08-09T00:00:00\", \"2020-08-10T00:00:00\", \"2020-08-11T00:00:00\", \"2020-08-12T00:00:00\", \"2020-08-13T00:00:00\", \"2020-08-14T00:00:00\", \"2020-08-15T00:00:00\", \"2020-08-16T00:00:00\", \"2020-08-17T00:00:00\", \"2020-08-18T00:00:00\", \"2020-08-19T00:00:00\", \"2020-08-20T00:00:00\", \"2020-08-21T00:00:00\", \"2020-08-22T00:00:00\", \"2020-08-23T00:00:00\", \"2020-08-24T00:00:00\", \"2020-08-25T00:00:00\", \"2020-08-26T00:00:00\", \"2020-08-27T00:00:00\", \"2020-08-28T00:00:00\", \"2020-08-29T00:00:00\", \"2020-08-30T00:00:00\"], \"y\": [0, 0, 0, 0, 0, 0, 0, 0, 0, 0, 0, 0, 0, 0, 0, 0, 0, 0, 0, 0, 0, 0, 0, 0, 0, 0, 0, 0, 0, 0, 0, 0, 0, 3, 3, 3, 3, 3, 3, 3, 3, 3, 3, 3, 10, 13, 13, 14, 14, 20, 23, 23, 24, 24, 40, 43, 45, 67, 80, 96, 102, 124, 144, 156, 163, 213, 275, 319, 353, 411, 478, 516, 653, 765, 980, 1190, 1344, 1515, 1767, 2015, 2302, 2842, 3260, 3960, 4325, 4814, 5210, 5914, 6362, 7027, 7797, 8373, 9065, 9951, 10887, 11762, 13161, 14183, 15267, 16540, 17847, 19358, 20917, 22455, 24386, 26235, 27920, 30153, 34109, 36824, 39174, 42298, 45300, 48534, 51784, 54441, 57721, 60491, 64426, 67692, 71106, 82370, 86984, 91819, 95527, 100303, 104107, 109462, 114073, 119293, 124095, 129215, 135206, 141029, 147195, 154330, 162379, 169798, 180013, 186935, 194325, 204711, 213831, 227756, 237196, 248190, 258685, 271697, 285637, 295881, 309713, 321723, 334822, 347979, 359860, 379892, 394227, 409083, 424433, 439948, 456831, 476378, 495516, 515386, 534621, 553471, 571460, 592032, 612815, 635757, 653751, 677423, 700087, 724578, 753050, 782607, 817209, 849432, 885577, 917568, 952743, 988029, 1020582, 1057805, 1094374, 1145629, 1186203, 1230509, 1282215, 1328336, 1378105, 1427005, 1480884, 1535743, 1583489, 1639599, 1695982, 1751555, 1808936, 1862258, 1919842, 1977779, 2037870, 2096664, 2158946, 2222577, 2280566, 2338035, 2404585, 2467758, 2523771, 2583948, 2648998, 2713933]}, {\"name\": \"Deaths\", \"type\": \"scatter\", \"x\": [\"2020-01-30T00:00:00\", \"2020-01-31T00:00:00\", \"2020-02-01T00:00:00\", \"2020-02-02T00:00:00\", \"2020-02-03T00:00:00\", \"2020-02-04T00:00:00\", \"2020-02-05T00:00:00\", \"2020-02-06T00:00:00\", \"2020-02-07T00:00:00\", \"2020-02-08T00:00:00\", \"2020-02-09T00:00:00\", \"2020-02-10T00:00:00\", \"2020-02-11T00:00:00\", \"2020-02-12T00:00:00\", \"2020-02-13T00:00:00\", \"2020-02-14T00:00:00\", \"2020-02-15T00:00:00\", \"2020-02-16T00:00:00\", \"2020-02-17T00:00:00\", \"2020-02-18T00:00:00\", \"2020-02-19T00:00:00\", \"2020-02-20T00:00:00\", \"2020-02-21T00:00:00\", \"2020-02-22T00:00:00\", \"2020-02-23T00:00:00\", \"2020-02-24T00:00:00\", \"2020-02-25T00:00:00\", \"2020-02-26T00:00:00\", \"2020-02-27T00:00:00\", \"2020-02-28T00:00:00\", \"2020-02-29T00:00:00\", \"2020-03-01T00:00:00\", \"2020-03-02T00:00:00\", \"2020-03-03T00:00:00\", \"2020-03-04T00:00:00\", \"2020-03-05T00:00:00\", \"2020-03-06T00:00:00\", \"2020-03-07T00:00:00\", \"2020-03-08T00:00:00\", \"2020-03-09T00:00:00\", \"2020-03-10T00:00:00\", \"2020-03-11T00:00:00\", \"2020-03-12T00:00:00\", \"2020-03-13T00:00:00\", \"2020-03-14T00:00:00\", \"2020-03-15T00:00:00\", \"2020-03-16T00:00:00\", \"2020-03-17T00:00:00\", \"2020-03-18T00:00:00\", \"2020-03-19T00:00:00\", \"2020-03-20T00:00:00\", \"2020-03-21T00:00:00\", \"2020-03-22T00:00:00\", \"2020-03-23T00:00:00\", \"2020-03-24T00:00:00\", \"2020-03-25T00:00:00\", \"2020-03-26T00:00:00\", \"2020-03-27T00:00:00\", \"2020-03-28T00:00:00\", \"2020-03-29T00:00:00\", \"2020-03-30T00:00:00\", \"2020-03-31T00:00:00\", \"2020-04-01T00:00:00\", \"2020-04-02T00:00:00\", \"2020-04-03T00:00:00\", \"2020-04-04T00:00:00\", \"2020-04-05T00:00:00\", \"2020-04-06T00:00:00\", \"2020-04-07T00:00:00\", \"2020-04-08T00:00:00\", \"2020-04-09T00:00:00\", \"2020-04-10T00:00:00\", \"2020-04-11T00:00:00\", \"2020-04-12T00:00:00\", \"2020-04-13T00:00:00\", \"2020-04-14T00:00:00\", \"2020-04-15T00:00:00\", \"2020-04-16T00:00:00\", \"2020-04-17T00:00:00\", \"2020-04-18T00:00:00\", \"2020-04-19T00:00:00\", \"2020-04-20T00:00:00\", \"2020-04-21T00:00:00\", \"2020-04-22T00:00:00\", \"2020-04-23T00:00:00\", \"2020-04-24T00:00:00\", \"2020-04-25T00:00:00\", \"2020-04-26T00:00:00\", \"2020-04-27T00:00:00\", \"2020-04-28T00:00:00\", \"2020-04-29T00:00:00\", \"2020-04-30T00:00:00\", \"2020-05-01T00:00:00\", \"2020-05-02T00:00:00\", \"2020-05-03T00:00:00\", \"2020-05-04T00:00:00\", \"2020-05-05T00:00:00\", \"2020-05-06T00:00:00\", \"2020-05-07T00:00:00\", \"2020-05-08T00:00:00\", \"2020-05-09T00:00:00\", \"2020-05-10T00:00:00\", \"2020-05-11T00:00:00\", \"2020-05-12T00:00:00\", \"2020-05-13T00:00:00\", \"2020-05-14T00:00:00\", \"2020-05-15T00:00:00\", \"2020-05-16T00:00:00\", \"2020-05-17T00:00:00\", \"2020-05-18T00:00:00\", \"2020-05-19T00:00:00\", \"2020-05-20T00:00:00\", \"2020-05-21T00:00:00\", \"2020-05-22T00:00:00\", \"2020-05-23T00:00:00\", \"2020-05-24T00:00:00\", \"2020-05-25T00:00:00\", \"2020-05-26T00:00:00\", \"2020-05-27T00:00:00\", \"2020-05-28T00:00:00\", \"2020-05-29T00:00:00\", \"2020-05-30T00:00:00\", \"2020-05-31T00:00:00\", \"2020-06-01T00:00:00\", \"2020-06-02T00:00:00\", \"2020-06-03T00:00:00\", \"2020-06-04T00:00:00\", \"2020-06-05T00:00:00\", \"2020-06-06T00:00:00\", \"2020-06-07T00:00:00\", \"2020-06-08T00:00:00\", \"2020-06-09T00:00:00\", \"2020-06-10T00:00:00\", \"2020-06-11T00:00:00\", \"2020-06-12T00:00:00\", \"2020-06-13T00:00:00\", \"2020-06-14T00:00:00\", \"2020-06-15T00:00:00\", \"2020-06-16T00:00:00\", \"2020-06-17T00:00:00\", \"2020-06-18T00:00:00\", \"2020-06-19T00:00:00\", \"2020-06-20T00:00:00\", \"2020-06-21T00:00:00\", \"2020-06-22T00:00:00\", \"2020-06-23T00:00:00\", \"2020-06-24T00:00:00\", \"2020-06-25T00:00:00\", \"2020-06-26T00:00:00\", \"2020-06-27T00:00:00\", \"2020-06-28T00:00:00\", \"2020-06-29T00:00:00\", \"2020-06-30T00:00:00\", \"2020-07-01T00:00:00\", \"2020-07-02T00:00:00\", \"2020-07-03T00:00:00\", \"2020-07-04T00:00:00\", \"2020-07-05T00:00:00\", \"2020-07-06T00:00:00\", \"2020-07-07T00:00:00\", \"2020-07-08T00:00:00\", \"2020-07-09T00:00:00\", \"2020-07-10T00:00:00\", \"2020-07-11T00:00:00\", \"2020-07-12T00:00:00\", \"2020-07-13T00:00:00\", \"2020-07-14T00:00:00\", \"2020-07-15T00:00:00\", \"2020-07-16T00:00:00\", \"2020-07-17T00:00:00\", \"2020-07-18T00:00:00\", \"2020-07-19T00:00:00\", \"2020-07-20T00:00:00\", \"2020-07-21T00:00:00\", \"2020-07-22T00:00:00\", \"2020-07-23T00:00:00\", \"2020-07-24T00:00:00\", \"2020-07-25T00:00:00\", \"2020-07-26T00:00:00\", \"2020-07-27T00:00:00\", \"2020-07-28T00:00:00\", \"2020-07-29T00:00:00\", \"2020-07-30T00:00:00\", \"2020-07-31T00:00:00\", \"2020-08-01T00:00:00\", \"2020-08-02T00:00:00\", \"2020-08-03T00:00:00\", \"2020-08-04T00:00:00\", \"2020-08-05T00:00:00\", \"2020-08-06T00:00:00\", \"2020-08-07T00:00:00\", \"2020-08-08T00:00:00\", \"2020-08-09T00:00:00\", \"2020-08-10T00:00:00\", \"2020-08-11T00:00:00\", \"2020-08-12T00:00:00\", \"2020-08-13T00:00:00\", \"2020-08-14T00:00:00\", \"2020-08-15T00:00:00\", \"2020-08-16T00:00:00\", \"2020-08-17T00:00:00\", \"2020-08-18T00:00:00\", \"2020-08-19T00:00:00\", \"2020-08-20T00:00:00\", \"2020-08-21T00:00:00\", \"2020-08-22T00:00:00\", \"2020-08-23T00:00:00\", \"2020-08-24T00:00:00\", \"2020-08-25T00:00:00\", \"2020-08-26T00:00:00\", \"2020-08-27T00:00:00\", \"2020-08-28T00:00:00\", \"2020-08-29T00:00:00\", \"2020-08-30T00:00:00\"], \"y\": [0, 0, 0, 0, 0, 0, 0, 0, 0, 0, 0, 0, 0, 0, 0, 0, 0, 0, 0, 0, 0, 0, 0, 0, 0, 0, 0, 0, 0, 0, 0, 0, 0, 0, 0, 0, 0, 0, 0, 0, 0, 0, 0, 1, 2, 2, 2, 3, 3, 4, 4, 4, 7, 7, 9, 10, 15, 17, 19, 27, 31, 35, 41, 53, 62, 75, 83, 111, 124, 149, 169, 206, 242, 273, 324, 353, 392, 420, 452, 488, 519, 559, 603, 652, 686, 723, 779, 826, 886, 937, 1008, 1075, 1152, 1218, 1306, 1389, 1583, 1694, 1783, 1886, 1981, 2109, 2206, 2293, 2415, 2549, 2649, 2752, 2872, 3029, 3163, 3303, 3435, 3583, 3720, 3867, 4021, 4167, 4337, 4531, 4706, 4971, 5164, 5394, 5598, 5815, 6075, 6348, 6642, 6929, 7135, 7466, 7745, 8102, 8498, 8884, 9195, 9520, 9900, 11903, 12237, 12573, 12948, 13254, 13699, 14011, 14476, 14894, 15301, 15685, 16095, 16475, 16893, 17400, 17834, 18213, 18655, 19268, 19693, 20160, 20642, 21129, 21604, 22123, 22674, 23174, 23727, 24309, 24915, 25602, 26273, 26816, 27497, 28084, 28732, 29861, 30601, 31358, 32063, 32771, 33425, 34193, 34968, 35747, 36511, 37364, 38135, 38938, 39795, 40699, 41585, 42518, 43379, 44386, 45257, 46091, 47033, 48040, 49036, 49980, 50921, 51797, 52889, 53866, 54849, 55794, 56706, 57542, 58390, 59449, 60472, 61529, 62550, 63498]}, {\"name\": \"Active Cases\", \"type\": \"scatter\", \"x\": [\"2020-01-30T00:00:00\", \"2020-01-31T00:00:00\", \"2020-02-01T00:00:00\", \"2020-02-02T00:00:00\", \"2020-02-03T00:00:00\", \"2020-02-04T00:00:00\", \"2020-02-05T00:00:00\", \"2020-02-06T00:00:00\", \"2020-02-07T00:00:00\", \"2020-02-08T00:00:00\", \"2020-02-09T00:00:00\", \"2020-02-10T00:00:00\", \"2020-02-11T00:00:00\", \"2020-02-12T00:00:00\", \"2020-02-13T00:00:00\", \"2020-02-14T00:00:00\", \"2020-02-15T00:00:00\", \"2020-02-16T00:00:00\", \"2020-02-17T00:00:00\", \"2020-02-18T00:00:00\", \"2020-02-19T00:00:00\", \"2020-02-20T00:00:00\", \"2020-02-21T00:00:00\", \"2020-02-22T00:00:00\", \"2020-02-23T00:00:00\", \"2020-02-24T00:00:00\", \"2020-02-25T00:00:00\", \"2020-02-26T00:00:00\", \"2020-02-27T00:00:00\", \"2020-02-28T00:00:00\", \"2020-02-29T00:00:00\", \"2020-03-01T00:00:00\", \"2020-03-02T00:00:00\", \"2020-03-03T00:00:00\", \"2020-03-04T00:00:00\", \"2020-03-05T00:00:00\", \"2020-03-06T00:00:00\", \"2020-03-07T00:00:00\", \"2020-03-08T00:00:00\", \"2020-03-09T00:00:00\", \"2020-03-10T00:00:00\", \"2020-03-11T00:00:00\", \"2020-03-12T00:00:00\", \"2020-03-13T00:00:00\", \"2020-03-14T00:00:00\", \"2020-03-15T00:00:00\", \"2020-03-16T00:00:00\", \"2020-03-17T00:00:00\", \"2020-03-18T00:00:00\", \"2020-03-19T00:00:00\", \"2020-03-20T00:00:00\", \"2020-03-21T00:00:00\", \"2020-03-22T00:00:00\", \"2020-03-23T00:00:00\", \"2020-03-24T00:00:00\", \"2020-03-25T00:00:00\", \"2020-03-26T00:00:00\", \"2020-03-27T00:00:00\", \"2020-03-28T00:00:00\", \"2020-03-29T00:00:00\", \"2020-03-30T00:00:00\", \"2020-03-31T00:00:00\", \"2020-04-01T00:00:00\", \"2020-04-02T00:00:00\", \"2020-04-03T00:00:00\", \"2020-04-04T00:00:00\", \"2020-04-05T00:00:00\", \"2020-04-06T00:00:00\", \"2020-04-07T00:00:00\", \"2020-04-08T00:00:00\", \"2020-04-09T00:00:00\", \"2020-04-10T00:00:00\", \"2020-04-11T00:00:00\", \"2020-04-12T00:00:00\", \"2020-04-13T00:00:00\", \"2020-04-14T00:00:00\", \"2020-04-15T00:00:00\", \"2020-04-16T00:00:00\", \"2020-04-17T00:00:00\", \"2020-04-18T00:00:00\", \"2020-04-19T00:00:00\", \"2020-04-20T00:00:00\", \"2020-04-21T00:00:00\", \"2020-04-22T00:00:00\", \"2020-04-23T00:00:00\", \"2020-04-24T00:00:00\", \"2020-04-25T00:00:00\", \"2020-04-26T00:00:00\", \"2020-04-27T00:00:00\", \"2020-04-28T00:00:00\", \"2020-04-29T00:00:00\", \"2020-04-30T00:00:00\", \"2020-05-01T00:00:00\", \"2020-05-02T00:00:00\", \"2020-05-03T00:00:00\", \"2020-05-04T00:00:00\", \"2020-05-05T00:00:00\", \"2020-05-06T00:00:00\", \"2020-05-07T00:00:00\", \"2020-05-08T00:00:00\", \"2020-05-09T00:00:00\", \"2020-05-10T00:00:00\", \"2020-05-11T00:00:00\", \"2020-05-12T00:00:00\", \"2020-05-13T00:00:00\", \"2020-05-14T00:00:00\", \"2020-05-15T00:00:00\", \"2020-05-16T00:00:00\", \"2020-05-17T00:00:00\", \"2020-05-18T00:00:00\", \"2020-05-19T00:00:00\", \"2020-05-20T00:00:00\", \"2020-05-21T00:00:00\", \"2020-05-22T00:00:00\", \"2020-05-23T00:00:00\", \"2020-05-24T00:00:00\", \"2020-05-25T00:00:00\", \"2020-05-26T00:00:00\", \"2020-05-27T00:00:00\", \"2020-05-28T00:00:00\", \"2020-05-29T00:00:00\", \"2020-05-30T00:00:00\", \"2020-05-31T00:00:00\", \"2020-06-01T00:00:00\", \"2020-06-02T00:00:00\", \"2020-06-03T00:00:00\", \"2020-06-04T00:00:00\", \"2020-06-05T00:00:00\", \"2020-06-06T00:00:00\", \"2020-06-07T00:00:00\", \"2020-06-08T00:00:00\", \"2020-06-09T00:00:00\", \"2020-06-10T00:00:00\", \"2020-06-11T00:00:00\", \"2020-06-12T00:00:00\", \"2020-06-13T00:00:00\", \"2020-06-14T00:00:00\", \"2020-06-15T00:00:00\", \"2020-06-16T00:00:00\", \"2020-06-17T00:00:00\", \"2020-06-18T00:00:00\", \"2020-06-19T00:00:00\", \"2020-06-20T00:00:00\", \"2020-06-21T00:00:00\", \"2020-06-22T00:00:00\", \"2020-06-23T00:00:00\", \"2020-06-24T00:00:00\", \"2020-06-25T00:00:00\", \"2020-06-26T00:00:00\", \"2020-06-27T00:00:00\", \"2020-06-28T00:00:00\", \"2020-06-29T00:00:00\", \"2020-06-30T00:00:00\", \"2020-07-01T00:00:00\", \"2020-07-02T00:00:00\", \"2020-07-03T00:00:00\", \"2020-07-04T00:00:00\", \"2020-07-05T00:00:00\", \"2020-07-06T00:00:00\", \"2020-07-07T00:00:00\", \"2020-07-08T00:00:00\", \"2020-07-09T00:00:00\", \"2020-07-10T00:00:00\", \"2020-07-11T00:00:00\", \"2020-07-12T00:00:00\", \"2020-07-13T00:00:00\", \"2020-07-14T00:00:00\", \"2020-07-15T00:00:00\", \"2020-07-16T00:00:00\", \"2020-07-17T00:00:00\", \"2020-07-18T00:00:00\", \"2020-07-19T00:00:00\", \"2020-07-20T00:00:00\", \"2020-07-21T00:00:00\", \"2020-07-22T00:00:00\", \"2020-07-23T00:00:00\", \"2020-07-24T00:00:00\", \"2020-07-25T00:00:00\", \"2020-07-26T00:00:00\", \"2020-07-27T00:00:00\", \"2020-07-28T00:00:00\", \"2020-07-29T00:00:00\", \"2020-07-30T00:00:00\", \"2020-07-31T00:00:00\", \"2020-08-01T00:00:00\", \"2020-08-02T00:00:00\", \"2020-08-03T00:00:00\", \"2020-08-04T00:00:00\", \"2020-08-05T00:00:00\", \"2020-08-06T00:00:00\", \"2020-08-07T00:00:00\", \"2020-08-08T00:00:00\", \"2020-08-09T00:00:00\", \"2020-08-10T00:00:00\", \"2020-08-11T00:00:00\", \"2020-08-12T00:00:00\", \"2020-08-13T00:00:00\", \"2020-08-14T00:00:00\", \"2020-08-15T00:00:00\", \"2020-08-16T00:00:00\", \"2020-08-17T00:00:00\", \"2020-08-18T00:00:00\", \"2020-08-19T00:00:00\", \"2020-08-20T00:00:00\", \"2020-08-21T00:00:00\", \"2020-08-22T00:00:00\", \"2020-08-23T00:00:00\", \"2020-08-24T00:00:00\", \"2020-08-25T00:00:00\", \"2020-08-26T00:00:00\", \"2020-08-27T00:00:00\", \"2020-08-28T00:00:00\", \"2020-08-29T00:00:00\", \"2020-08-30T00:00:00\"], \"y\": [1, 1, 2, 3, 3, 3, 3, 3, 3, 3, 3, 3, 3, 3, 3, 3, 3, 3, 3, 3, 3, 3, 3, 3, 3, 3, 3, 3, 3, 3, 3, 3, 5, 6, 25, 27, 28, 31, 36, 43, 55, 57, 71, 78, 80, 98, 99, 122, 134, 156, 199, 256, 333, 402, 488, 557, 641, 664, 825, 925, 1082, 1226, 1675, 1884, 2261, 2847, 3289, 3923, 4359, 4797, 5305, 6114, 6807, 7552, 8314, 9511, 10390, 11023, 11900, 12573, 13613, 14835, 15584, 16608, 17088, 18441, 19356, 20616, 21420, 22586, 23745, 24525, 25524, 26940, 28955, 30643, 33560, 34647, 37075, 39292, 41236, 43111, 45685, 47633, 49533, 51202, 53186, 55141, 57732, 58778, 60472, 63317, 65355, 68092, 71085, 74026, 77895, 80668, 83096, 85238, 88903, 92908, 89311, 92757, 95079, 99367, 103318, 108978, 112655, 117308, 121200, 126565, 130675, 134697, 140089, 145316, 150272, 153878, 156089, 155879, 159405, 165043, 168499, 174555, 176440, 181305, 185841, 191451, 195687, 199992, 209454, 215225, 221638, 226863, 232430, 241819, 245211, 255654, 264149, 270505, 277291, 285438, 292134, 300380, 309020, 318601, 327928, 339470, 351250, 365571, 377194, 397594, 413804, 427607, 440253, 456853, 475477, 489051, 504732, 517813, 532817, 545501, 561570, 583320, 602436, 619838, 620702, 631407, 638807, 642526, 658039, 668921, 683487, 690811, 688546, 700892, 710947, 718175, 726597, 731710, 735425, 731979, 737697, 746166, 755293, 761906, 766569, 769076, 771746, 771499, 783027, 803257, 818495, 831185]}],\n",
       "                        {\"template\": {\"data\": {\"bar\": [{\"error_x\": {\"color\": \"#2a3f5f\"}, \"error_y\": {\"color\": \"#2a3f5f\"}, \"marker\": {\"line\": {\"color\": \"#E5ECF6\", \"width\": 0.5}}, \"type\": \"bar\"}], \"barpolar\": [{\"marker\": {\"line\": {\"color\": \"#E5ECF6\", \"width\": 0.5}}, \"type\": \"barpolar\"}], \"carpet\": [{\"aaxis\": {\"endlinecolor\": \"#2a3f5f\", \"gridcolor\": \"white\", \"linecolor\": \"white\", \"minorgridcolor\": \"white\", \"startlinecolor\": \"#2a3f5f\"}, \"baxis\": {\"endlinecolor\": \"#2a3f5f\", \"gridcolor\": \"white\", \"linecolor\": \"white\", \"minorgridcolor\": \"white\", \"startlinecolor\": \"#2a3f5f\"}, \"type\": \"carpet\"}], \"choropleth\": [{\"colorbar\": {\"outlinewidth\": 0, \"ticks\": \"\"}, \"type\": \"choropleth\"}], \"contour\": [{\"colorbar\": {\"outlinewidth\": 0, \"ticks\": \"\"}, \"colorscale\": [[0.0, \"#0d0887\"], [0.1111111111111111, \"#46039f\"], [0.2222222222222222, \"#7201a8\"], [0.3333333333333333, \"#9c179e\"], [0.4444444444444444, \"#bd3786\"], [0.5555555555555556, \"#d8576b\"], [0.6666666666666666, \"#ed7953\"], [0.7777777777777778, \"#fb9f3a\"], [0.8888888888888888, \"#fdca26\"], [1.0, \"#f0f921\"]], \"type\": \"contour\"}], \"contourcarpet\": [{\"colorbar\": {\"outlinewidth\": 0, \"ticks\": \"\"}, \"type\": \"contourcarpet\"}], \"heatmap\": [{\"colorbar\": {\"outlinewidth\": 0, \"ticks\": \"\"}, \"colorscale\": [[0.0, \"#0d0887\"], [0.1111111111111111, \"#46039f\"], [0.2222222222222222, \"#7201a8\"], [0.3333333333333333, \"#9c179e\"], [0.4444444444444444, \"#bd3786\"], [0.5555555555555556, \"#d8576b\"], [0.6666666666666666, \"#ed7953\"], [0.7777777777777778, \"#fb9f3a\"], [0.8888888888888888, \"#fdca26\"], [1.0, \"#f0f921\"]], \"type\": \"heatmap\"}], \"heatmapgl\": [{\"colorbar\": {\"outlinewidth\": 0, \"ticks\": \"\"}, \"colorscale\": [[0.0, \"#0d0887\"], [0.1111111111111111, \"#46039f\"], [0.2222222222222222, \"#7201a8\"], [0.3333333333333333, \"#9c179e\"], [0.4444444444444444, \"#bd3786\"], [0.5555555555555556, \"#d8576b\"], [0.6666666666666666, \"#ed7953\"], [0.7777777777777778, \"#fb9f3a\"], [0.8888888888888888, \"#fdca26\"], [1.0, \"#f0f921\"]], \"type\": \"heatmapgl\"}], \"histogram\": [{\"marker\": {\"colorbar\": {\"outlinewidth\": 0, \"ticks\": \"\"}}, \"type\": \"histogram\"}], \"histogram2d\": [{\"colorbar\": {\"outlinewidth\": 0, \"ticks\": \"\"}, \"colorscale\": [[0.0, \"#0d0887\"], [0.1111111111111111, \"#46039f\"], [0.2222222222222222, \"#7201a8\"], [0.3333333333333333, \"#9c179e\"], [0.4444444444444444, \"#bd3786\"], [0.5555555555555556, \"#d8576b\"], [0.6666666666666666, \"#ed7953\"], [0.7777777777777778, \"#fb9f3a\"], [0.8888888888888888, \"#fdca26\"], [1.0, \"#f0f921\"]], \"type\": \"histogram2d\"}], \"histogram2dcontour\": [{\"colorbar\": {\"outlinewidth\": 0, \"ticks\": \"\"}, \"colorscale\": [[0.0, \"#0d0887\"], [0.1111111111111111, \"#46039f\"], [0.2222222222222222, \"#7201a8\"], [0.3333333333333333, \"#9c179e\"], [0.4444444444444444, \"#bd3786\"], [0.5555555555555556, \"#d8576b\"], [0.6666666666666666, \"#ed7953\"], [0.7777777777777778, \"#fb9f3a\"], [0.8888888888888888, \"#fdca26\"], [1.0, \"#f0f921\"]], \"type\": \"histogram2dcontour\"}], \"mesh3d\": [{\"colorbar\": {\"outlinewidth\": 0, \"ticks\": \"\"}, \"type\": \"mesh3d\"}], \"parcoords\": [{\"line\": {\"colorbar\": {\"outlinewidth\": 0, \"ticks\": \"\"}}, \"type\": \"parcoords\"}], \"pie\": [{\"automargin\": true, \"type\": \"pie\"}], \"scatter\": [{\"marker\": {\"colorbar\": {\"outlinewidth\": 0, \"ticks\": \"\"}}, \"type\": \"scatter\"}], \"scatter3d\": [{\"line\": {\"colorbar\": {\"outlinewidth\": 0, \"ticks\": \"\"}}, \"marker\": {\"colorbar\": {\"outlinewidth\": 0, \"ticks\": \"\"}}, \"type\": \"scatter3d\"}], \"scattercarpet\": [{\"marker\": {\"colorbar\": {\"outlinewidth\": 0, \"ticks\": \"\"}}, \"type\": \"scattercarpet\"}], \"scattergeo\": [{\"marker\": {\"colorbar\": {\"outlinewidth\": 0, \"ticks\": \"\"}}, \"type\": \"scattergeo\"}], \"scattergl\": [{\"marker\": {\"colorbar\": {\"outlinewidth\": 0, \"ticks\": \"\"}}, \"type\": \"scattergl\"}], \"scattermapbox\": [{\"marker\": {\"colorbar\": {\"outlinewidth\": 0, \"ticks\": \"\"}}, \"type\": \"scattermapbox\"}], \"scatterpolar\": [{\"marker\": {\"colorbar\": {\"outlinewidth\": 0, \"ticks\": \"\"}}, \"type\": \"scatterpolar\"}], \"scatterpolargl\": [{\"marker\": {\"colorbar\": {\"outlinewidth\": 0, \"ticks\": \"\"}}, \"type\": \"scatterpolargl\"}], \"scatterternary\": [{\"marker\": {\"colorbar\": {\"outlinewidth\": 0, \"ticks\": \"\"}}, \"type\": \"scatterternary\"}], \"surface\": [{\"colorbar\": {\"outlinewidth\": 0, \"ticks\": \"\"}, \"colorscale\": [[0.0, \"#0d0887\"], [0.1111111111111111, \"#46039f\"], [0.2222222222222222, \"#7201a8\"], [0.3333333333333333, \"#9c179e\"], [0.4444444444444444, \"#bd3786\"], [0.5555555555555556, \"#d8576b\"], [0.6666666666666666, \"#ed7953\"], [0.7777777777777778, \"#fb9f3a\"], [0.8888888888888888, \"#fdca26\"], [1.0, \"#f0f921\"]], \"type\": \"surface\"}], \"table\": [{\"cells\": {\"fill\": {\"color\": \"#EBF0F8\"}, \"line\": {\"color\": \"white\"}}, \"header\": {\"fill\": {\"color\": \"#C8D4E3\"}, \"line\": {\"color\": \"white\"}}, \"type\": \"table\"}]}, \"layout\": {\"annotationdefaults\": {\"arrowcolor\": \"#2a3f5f\", \"arrowhead\": 0, \"arrowwidth\": 1}, \"coloraxis\": {\"colorbar\": {\"outlinewidth\": 0, \"ticks\": \"\"}}, \"colorscale\": {\"diverging\": [[0, \"#8e0152\"], [0.1, \"#c51b7d\"], [0.2, \"#de77ae\"], [0.3, \"#f1b6da\"], [0.4, \"#fde0ef\"], [0.5, \"#f7f7f7\"], [0.6, \"#e6f5d0\"], [0.7, \"#b8e186\"], [0.8, \"#7fbc41\"], [0.9, \"#4d9221\"], [1, \"#276419\"]], \"sequential\": [[0.0, \"#0d0887\"], [0.1111111111111111, \"#46039f\"], [0.2222222222222222, \"#7201a8\"], [0.3333333333333333, \"#9c179e\"], [0.4444444444444444, \"#bd3786\"], [0.5555555555555556, \"#d8576b\"], [0.6666666666666666, \"#ed7953\"], [0.7777777777777778, \"#fb9f3a\"], [0.8888888888888888, \"#fdca26\"], [1.0, \"#f0f921\"]], \"sequentialminus\": [[0.0, \"#0d0887\"], [0.1111111111111111, \"#46039f\"], [0.2222222222222222, \"#7201a8\"], [0.3333333333333333, \"#9c179e\"], [0.4444444444444444, \"#bd3786\"], [0.5555555555555556, \"#d8576b\"], [0.6666666666666666, \"#ed7953\"], [0.7777777777777778, \"#fb9f3a\"], [0.8888888888888888, \"#fdca26\"], [1.0, \"#f0f921\"]]}, \"colorway\": [\"#636efa\", \"#EF553B\", \"#00cc96\", \"#ab63fa\", \"#FFA15A\", \"#19d3f3\", \"#FF6692\", \"#B6E880\", \"#FF97FF\", \"#FECB52\"], \"font\": {\"color\": \"#2a3f5f\"}, \"geo\": {\"bgcolor\": \"white\", \"lakecolor\": \"white\", \"landcolor\": \"#E5ECF6\", \"showlakes\": true, \"showland\": true, \"subunitcolor\": \"white\"}, \"hoverlabel\": {\"align\": \"left\"}, \"hovermode\": \"closest\", \"mapbox\": {\"style\": \"light\"}, \"paper_bgcolor\": \"white\", \"plot_bgcolor\": \"#E5ECF6\", \"polar\": {\"angularaxis\": {\"gridcolor\": \"white\", \"linecolor\": \"white\", \"ticks\": \"\"}, \"bgcolor\": \"#E5ECF6\", \"radialaxis\": {\"gridcolor\": \"white\", \"linecolor\": \"white\", \"ticks\": \"\"}}, \"scene\": {\"xaxis\": {\"backgroundcolor\": \"#E5ECF6\", \"gridcolor\": \"white\", \"gridwidth\": 2, \"linecolor\": \"white\", \"showbackground\": true, \"ticks\": \"\", \"zerolinecolor\": \"white\"}, \"yaxis\": {\"backgroundcolor\": \"#E5ECF6\", \"gridcolor\": \"white\", \"gridwidth\": 2, \"linecolor\": \"white\", \"showbackground\": true, \"ticks\": \"\", \"zerolinecolor\": \"white\"}, \"zaxis\": {\"backgroundcolor\": \"#E5ECF6\", \"gridcolor\": \"white\", \"gridwidth\": 2, \"linecolor\": \"white\", \"showbackground\": true, \"ticks\": \"\", \"zerolinecolor\": \"white\"}}, \"shapedefaults\": {\"line\": {\"color\": \"#2a3f5f\"}}, \"ternary\": {\"aaxis\": {\"gridcolor\": \"white\", \"linecolor\": \"white\", \"ticks\": \"\"}, \"baxis\": {\"gridcolor\": \"white\", \"linecolor\": \"white\", \"ticks\": \"\"}, \"bgcolor\": \"#E5ECF6\", \"caxis\": {\"gridcolor\": \"white\", \"linecolor\": \"white\", \"ticks\": \"\"}}, \"title\": {\"x\": 0.05}, \"xaxis\": {\"automargin\": true, \"gridcolor\": \"white\", \"linecolor\": \"white\", \"ticks\": \"\", \"title\": {\"standoff\": 15}, \"zerolinecolor\": \"white\", \"zerolinewidth\": 2}, \"yaxis\": {\"automargin\": true, \"gridcolor\": \"white\", \"linecolor\": \"white\", \"ticks\": \"\", \"title\": {\"standoff\": 15}, \"zerolinecolor\": \"white\", \"zerolinewidth\": 2}}}, \"title\": {\"text\": \"CORONA VIRUS CASES IN INDIA\"}, \"yaxis\": {\"title\": {\"text\": \"Cases Count (in lakhs)\"}}},\n",
       "                        {\"responsive\": true}\n",
       "                    ).then(function(){\n",
       "                            \n",
       "var gd = document.getElementById('23573821-9521-45b8-b796-4322ce874eb1');\n",
       "var x = new MutationObserver(function (mutations, observer) {{\n",
       "        var display = window.getComputedStyle(gd).display;\n",
       "        if (!display || display === 'none') {{\n",
       "            console.log([gd, 'removed!']);\n",
       "            Plotly.purge(gd);\n",
       "            observer.disconnect();\n",
       "        }}\n",
       "}});\n",
       "\n",
       "// Listen for the removal of the full notebook cells\n",
       "var notebookContainer = gd.closest('#notebook-container');\n",
       "if (notebookContainer) {{\n",
       "    x.observe(notebookContainer, {childList: true});\n",
       "}}\n",
       "\n",
       "// Listen for the clearing of the current output cell\n",
       "var outputEl = gd.closest('.output');\n",
       "if (outputEl) {{\n",
       "    x.observe(outputEl, {childList: true});\n",
       "}}\n",
       "\n",
       "                        })\n",
       "                };\n",
       "                });\n",
       "            </script>\n",
       "        </div>"
      ]
     },
     "metadata": {},
     "output_type": "display_data"
    }
   ],
   "source": [
    "fig = go.Figure()\n",
    "fig.add_trace(go.Scatter(x = daily_cases.Date, y = daily_cases.Confirmed, name = 'Confirmed'))\n",
    "fig.add_trace(go.Scatter(x = daily_cases.Date, y = daily_cases.Cured, name = 'Cured'))\n",
    "fig.add_trace(go.Scatter(x = daily_cases.Date, y = daily_cases.Deaths, name = 'Deaths'))\n",
    "fig.add_trace(go.Scatter(x = daily_cases.Date, y = daily_cases.Active, name = 'Active Cases'))\n",
    "\n",
    "fig.update_layout(title = 'CORONA VIRUS CASES IN INDIA', yaxis_title = 'Cases Count (in lakhs)')\n",
    "\n",
    "fig.show()"
   ]
  },
  {
   "cell_type": "markdown",
   "execution_count": null,
   "metadata": {
    "papermill": {
     "duration": 0.012361,
     "end_time": "2020-08-30T17:37:55.245318",
     "exception": false,
     "start_time": "2020-08-30T17:37:55.232957",
     "status": "completed"
    },
    "tags": []
   },
   "source": [
    "# Analyzing total cases uptill now \n",
    "Considering the total cases uptill now on a day-to-day basis to further visualize the increase in cases."
   ]
  },
  {
   "cell_type": "code",
   "execution_count": 12,
   "metadata": {
    "collapsed": true,
    "execution": {
     "iopub.execute_input": "2020-08-30T17:37:55.286994Z",
     "iopub.status.busy": "2020-08-30T17:37:55.286229Z",
     "iopub.status.idle": "2020-08-30T17:37:55.304859Z",
     "shell.execute_reply": "2020-08-30T17:37:55.304221Z"
    },
    "papermill": {
     "duration": 0.047136,
     "end_time": "2020-08-30T17:37:55.305000",
     "exception": false,
     "start_time": "2020-08-30T17:37:55.257864",
     "status": "completed"
    },
    "tags": []
   },
   "outputs": [
    {
     "name": "stdout",
     "output_type": "stream",
     "text": [
      "(35, 5)\n"
     ]
    },
    {
     "data": {
      "text/html": [
       "<div>\n",
       "<style scoped>\n",
       "    .dataframe tbody tr th:only-of-type {\n",
       "        vertical-align: middle;\n",
       "    }\n",
       "\n",
       "    .dataframe tbody tr th {\n",
       "        vertical-align: top;\n",
       "    }\n",
       "\n",
       "    .dataframe thead th {\n",
       "        text-align: right;\n",
       "    }\n",
       "</style>\n",
       "<table border=\"1\" class=\"dataframe\">\n",
       "  <thead>\n",
       "    <tr style=\"text-align: right;\">\n",
       "      <th></th>\n",
       "      <th>Date</th>\n",
       "      <th>State/UnionTerritory</th>\n",
       "      <th>Cured</th>\n",
       "      <th>Deaths</th>\n",
       "      <th>Confirmed</th>\n",
       "    </tr>\n",
       "  </thead>\n",
       "  <tbody>\n",
       "    <tr>\n",
       "      <th>5721</th>\n",
       "      <td>2020-08-30</td>\n",
       "      <td>Andaman and Nicobar Islands</td>\n",
       "      <td>2519</td>\n",
       "      <td>44</td>\n",
       "      <td>3081</td>\n",
       "    </tr>\n",
       "    <tr>\n",
       "      <th>5722</th>\n",
       "      <td>2020-08-30</td>\n",
       "      <td>Andhra Pradesh</td>\n",
       "      <td>312687</td>\n",
       "      <td>3796</td>\n",
       "      <td>414164</td>\n",
       "    </tr>\n",
       "    <tr>\n",
       "      <th>5723</th>\n",
       "      <td>2020-08-30</td>\n",
       "      <td>Arunachal Pradesh</td>\n",
       "      <td>2754</td>\n",
       "      <td>5</td>\n",
       "      <td>3877</td>\n",
       "    </tr>\n",
       "    <tr>\n",
       "      <th>5724</th>\n",
       "      <td>2020-08-30</td>\n",
       "      <td>Assam</td>\n",
       "      <td>82510</td>\n",
       "      <td>289</td>\n",
       "      <td>103794</td>\n",
       "    </tr>\n",
       "    <tr>\n",
       "      <th>5725</th>\n",
       "      <td>2020-08-30</td>\n",
       "      <td>Bihar</td>\n",
       "      <td>114772</td>\n",
       "      <td>561</td>\n",
       "      <td>133003</td>\n",
       "    </tr>\n",
       "  </tbody>\n",
       "</table>\n",
       "</div>"
      ],
      "text/plain": [
       "           Date         State/UnionTerritory   Cured  Deaths  Confirmed\n",
       "5721 2020-08-30  Andaman and Nicobar Islands    2519      44       3081\n",
       "5722 2020-08-30               Andhra Pradesh  312687    3796     414164\n",
       "5723 2020-08-30            Arunachal Pradesh    2754       5       3877\n",
       "5724 2020-08-30                        Assam   82510     289     103794\n",
       "5725 2020-08-30                        Bihar  114772     561     133003"
      ]
     },
     "execution_count": 12,
     "metadata": {},
     "output_type": "execute_result"
    }
   ],
   "source": [
    "country_cases = cases[cases.Date == max(cases.Date)]\n",
    "print(country_cases.shape)\n",
    "country_cases.head()"
   ]
  },
  {
   "cell_type": "markdown",
   "execution_count": null,
   "metadata": {
    "papermill": {
     "duration": 0.013036,
     "end_time": "2020-08-30T17:37:55.331635",
     "exception": false,
     "start_time": "2020-08-30T17:37:55.318599",
     "status": "completed"
    },
    "tags": []
   },
   "source": [
    "This '**lat_long**' dataframe contains the latitude & longitude coordinates which we use to locate the states on the map so to properly visualize the number of cases a state have till the date."
   ]
  },
  {
   "cell_type": "code",
   "execution_count": 13,
   "metadata": {
    "collapsed": true,
    "execution": {
     "iopub.execute_input": "2020-08-30T17:37:55.388467Z",
     "iopub.status.busy": "2020-08-30T17:37:55.387716Z",
     "iopub.status.idle": "2020-08-30T17:37:55.393139Z",
     "shell.execute_reply": "2020-08-30T17:37:55.392491Z"
    },
    "papermill": {
     "duration": 0.047024,
     "end_time": "2020-08-30T17:37:55.393273",
     "exception": false,
     "start_time": "2020-08-30T17:37:55.346249",
     "status": "completed"
    },
    "tags": []
   },
   "outputs": [
    {
     "data": {
      "text/html": [
       "<div>\n",
       "<style scoped>\n",
       "    .dataframe tbody tr th:only-of-type {\n",
       "        vertical-align: middle;\n",
       "    }\n",
       "\n",
       "    .dataframe tbody tr th {\n",
       "        vertical-align: top;\n",
       "    }\n",
       "\n",
       "    .dataframe thead th {\n",
       "        text-align: right;\n",
       "    }\n",
       "</style>\n",
       "<table border=\"1\" class=\"dataframe\">\n",
       "  <thead>\n",
       "    <tr style=\"text-align: right;\">\n",
       "      <th></th>\n",
       "      <th>Date</th>\n",
       "      <th>State/UnionTerritory</th>\n",
       "      <th>Cured</th>\n",
       "      <th>Deaths</th>\n",
       "      <th>Confirmed</th>\n",
       "      <th>Latitude</th>\n",
       "      <th>Longitude</th>\n",
       "    </tr>\n",
       "  </thead>\n",
       "  <tbody>\n",
       "    <tr>\n",
       "      <th>0</th>\n",
       "      <td>2020-08-30</td>\n",
       "      <td>Andaman and Nicobar Islands</td>\n",
       "      <td>2519</td>\n",
       "      <td>44</td>\n",
       "      <td>3081</td>\n",
       "      <td>11.7401</td>\n",
       "      <td>92.6586</td>\n",
       "    </tr>\n",
       "    <tr>\n",
       "      <th>1</th>\n",
       "      <td>2020-08-30</td>\n",
       "      <td>Andhra Pradesh</td>\n",
       "      <td>312687</td>\n",
       "      <td>3796</td>\n",
       "      <td>414164</td>\n",
       "      <td>15.9129</td>\n",
       "      <td>79.7400</td>\n",
       "    </tr>\n",
       "    <tr>\n",
       "      <th>2</th>\n",
       "      <td>2020-08-30</td>\n",
       "      <td>Arunachal Pradesh</td>\n",
       "      <td>2754</td>\n",
       "      <td>5</td>\n",
       "      <td>3877</td>\n",
       "      <td>28.2180</td>\n",
       "      <td>94.7278</td>\n",
       "    </tr>\n",
       "    <tr>\n",
       "      <th>3</th>\n",
       "      <td>2020-08-30</td>\n",
       "      <td>Assam</td>\n",
       "      <td>82510</td>\n",
       "      <td>289</td>\n",
       "      <td>103794</td>\n",
       "      <td>26.2006</td>\n",
       "      <td>92.9376</td>\n",
       "    </tr>\n",
       "    <tr>\n",
       "      <th>4</th>\n",
       "      <td>2020-08-30</td>\n",
       "      <td>Bihar</td>\n",
       "      <td>114772</td>\n",
       "      <td>561</td>\n",
       "      <td>133003</td>\n",
       "      <td>25.0961</td>\n",
       "      <td>85.3131</td>\n",
       "    </tr>\n",
       "  </tbody>\n",
       "</table>\n",
       "</div>"
      ],
      "text/plain": [
       "        Date         State/UnionTerritory   Cured  Deaths  Confirmed  \\\n",
       "0 2020-08-30  Andaman and Nicobar Islands    2519      44       3081   \n",
       "1 2020-08-30               Andhra Pradesh  312687    3796     414164   \n",
       "2 2020-08-30            Arunachal Pradesh    2754       5       3877   \n",
       "3 2020-08-30                        Assam   82510     289     103794   \n",
       "4 2020-08-30                        Bihar  114772     561     133003   \n",
       "\n",
       "   Latitude  Longitude  \n",
       "0   11.7401    92.6586  \n",
       "1   15.9129    79.7400  \n",
       "2   28.2180    94.7278  \n",
       "3   26.2006    92.9376  \n",
       "4   25.0961    85.3131  "
      ]
     },
     "execution_count": 13,
     "metadata": {},
     "output_type": "execute_result"
    }
   ],
   "source": [
    "lat_long.rename(columns={\"State\":\"State/UnionTerritory\"}, inplace=True)\n",
    "lat_long = lat_long[['State/UnionTerritory', 'Latitude', 'Longitude']]\n",
    "country_cases = pd.merge(country_cases, lat_long, on='State/UnionTerritory')\n",
    "country_cases.head()"
   ]
  },
  {
   "cell_type": "markdown",
   "execution_count": null,
   "metadata": {
    "papermill": {
     "duration": 0.013967,
     "end_time": "2020-08-30T17:37:55.420920",
     "exception": false,
     "start_time": "2020-08-30T17:37:55.406953",
     "status": "completed"
    },
    "tags": []
   },
   "source": [
    "# Visualization of Confirmed cases on Indian map using Folium"
   ]
  },
  {
   "cell_type": "code",
   "execution_count": 14,
   "metadata": {
    "collapsed": true,
    "execution": {
     "iopub.execute_input": "2020-08-30T17:37:55.458709Z",
     "iopub.status.busy": "2020-08-30T17:37:55.456840Z",
     "iopub.status.idle": "2020-08-30T17:37:55.594151Z",
     "shell.execute_reply": "2020-08-30T17:37:55.594742Z"
    },
    "papermill": {
     "duration": 0.160282,
     "end_time": "2020-08-30T17:37:55.594930",
     "exception": false,
     "start_time": "2020-08-30T17:37:55.434648",
     "status": "completed"
    },
    "tags": []
   },
   "outputs": [
    {
     "data": {
      "text/html": [
       "<div style=\"width:100%;\"><div style=\"position:relative;width:100%;height:0;padding-bottom:60%;\"><span style=\"color:#565656\">Make this Notebook Trusted to load map: File -> Trust Notebook</span><iframe src=\"about:blank\" style=\"position:absolute;width:100%;height:100%;left:0;top:0;border:none !important;\" data-html=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 onload=\"this.contentDocument.open();this.contentDocument.write(atob(this.getAttribute('data-html')));this.contentDocument.close();\" allowfullscreen webkitallowfullscreen mozallowfullscreen></iframe></div></div>"
      ],
      "text/plain": [
       "<folium.folium.Map at 0x7f5a141d46d0>"
      ]
     },
     "execution_count": 14,
     "metadata": {},
     "output_type": "execute_result"
    }
   ],
   "source": [
    "# Make an empty map\n",
    "m = folium.Map(location=[28,77], zoom_start=4)\n",
    "country_cases['Confirmed'] = country_cases['Confirmed'].astype(float)\n",
    "\n",
    "# I can add marker one by one on the map\n",
    "for i in range(0,len(country_cases)):\n",
    "    folium.Circle(location = [country_cases.iloc[i]['Latitude'], country_cases.iloc[i]['Longitude']],\n",
    "                popup = [country_cases.iloc[i]['State/UnionTerritory'],country_cases.iloc[i]['Confirmed']],\n",
    "                radius = country_cases.iloc[i]['Confirmed']/2,\n",
    "                color = 'crimson', fill = True, fill_color='crimson').add_to(m)\n",
    "    \n",
    "m"
   ]
  },
  {
   "cell_type": "markdown",
   "execution_count": null,
   "metadata": {
    "papermill": {
     "duration": 0.01416,
     "end_time": "2020-08-30T17:37:55.623987",
     "exception": false,
     "start_time": "2020-08-30T17:37:55.609827",
     "status": "completed"
    },
    "tags": []
   },
   "source": [
    "# Calculating how much percentage of population gets infected till the date"
   ]
  },
  {
   "cell_type": "code",
   "execution_count": 15,
   "metadata": {
    "execution": {
     "iopub.execute_input": "2020-08-30T17:37:55.665412Z",
     "iopub.status.busy": "2020-08-30T17:37:55.664631Z",
     "iopub.status.idle": "2020-08-30T17:37:55.693574Z",
     "shell.execute_reply": "2020-08-30T17:37:55.692612Z"
    },
    "papermill": {
     "duration": 0.055427,
     "end_time": "2020-08-30T17:37:55.693739",
     "exception": false,
     "start_time": "2020-08-30T17:37:55.638312",
     "status": "completed"
    },
    "tags": []
   },
   "outputs": [
    {
     "name": "stdout",
     "output_type": "stream",
     "text": [
      "The total population of India is :  1210568111\n"
     ]
    }
   ],
   "source": [
    "# We're saving it for further use\n",
    "total_pop = popul['Population'].sum()\n",
    "print(\"The total population of India is : \", total_pop)\n",
    "\n",
    "popul = cases.merge(popul[['State/UnionTerritory', 'Population']])\n",
    "popul['ConfirmPerc'] = 0\n",
    "popul['ConfirmPerc'] = (popul['Confirmed']/popul['Population'])*100"
   ]
  },
  {
   "cell_type": "markdown",
   "execution_count": null,
   "metadata": {
    "papermill": {
     "duration": 0.013864,
     "end_time": "2020-08-30T17:37:55.722510",
     "exception": false,
     "start_time": "2020-08-30T17:37:55.708646",
     "status": "completed"
    },
    "tags": []
   },
   "source": [
    "# Visualizing how different states have increament in positive cases by considering the percentage"
   ]
  },
  {
   "cell_type": "code",
   "execution_count": 16,
   "metadata": {
    "collapsed": true,
    "execution": {
     "iopub.execute_input": "2020-08-30T17:37:55.764681Z",
     "iopub.status.busy": "2020-08-30T17:37:55.763813Z",
     "iopub.status.idle": "2020-08-30T17:37:56.122383Z",
     "shell.execute_reply": "2020-08-30T17:37:56.122966Z"
    },
    "papermill": {
     "duration": 0.386139,
     "end_time": "2020-08-30T17:37:56.123127",
     "exception": false,
     "start_time": "2020-08-30T17:37:55.736988",
     "status": "completed"
    },
    "tags": []
   },
   "outputs": [
    {
     "data": {
      "text/html": [
       "<div>\n",
       "        \n",
       "        \n",
       "            <div id=\"f8713f53-fb12-40db-81bb-2b6a3ebcd683\" class=\"plotly-graph-div\" style=\"height:525px; width:100%;\"></div>\n",
       "            <script type=\"text/javascript\">\n",
       "                require([\"plotly\"], function(Plotly) {\n",
       "                    window.PLOTLYENV=window.PLOTLYENV || {};\n",
       "                    \n",
       "                if (document.getElementById(\"f8713f53-fb12-40db-81bb-2b6a3ebcd683\")) {\n",
       "                    Plotly.newPlot(\n",
       "                        'f8713f53-fb12-40db-81bb-2b6a3ebcd683',\n",
       "                        [{\"name\": \"Kerala\", \"type\": \"scatter\", \"x\": [\"2020-01-30T00:00:00\", \"2020-01-31T00:00:00\", \"2020-02-01T00:00:00\", \"2020-02-02T00:00:00\", \"2020-02-03T00:00:00\", \"2020-02-04T00:00:00\", \"2020-02-05T00:00:00\", \"2020-02-06T00:00:00\", \"2020-02-07T00:00:00\", \"2020-02-08T00:00:00\", \"2020-02-09T00:00:00\", \"2020-02-10T00:00:00\", \"2020-02-11T00:00:00\", \"2020-02-12T00:00:00\", \"2020-02-13T00:00:00\", \"2020-02-14T00:00:00\", \"2020-02-15T00:00:00\", \"2020-02-16T00:00:00\", \"2020-02-17T00:00:00\", \"2020-02-18T00:00:00\", \"2020-02-19T00:00:00\", \"2020-02-20T00:00:00\", \"2020-02-21T00:00:00\", \"2020-02-22T00:00:00\", \"2020-02-23T00:00:00\", \"2020-02-24T00:00:00\", \"2020-02-25T00:00:00\", \"2020-02-26T00:00:00\", \"2020-02-27T00:00:00\", \"2020-02-28T00:00:00\", \"2020-02-29T00:00:00\", \"2020-03-01T00:00:00\", \"2020-03-02T00:00:00\", \"2020-03-03T00:00:00\", \"2020-03-04T00:00:00\", \"2020-03-05T00:00:00\", \"2020-03-06T00:00:00\", \"2020-03-07T00:00:00\", \"2020-03-08T00:00:00\", \"2020-03-09T00:00:00\", \"2020-03-10T00:00:00\", \"2020-03-11T00:00:00\", \"2020-03-12T00:00:00\", \"2020-03-13T00:00:00\", \"2020-03-14T00:00:00\", \"2020-03-15T00:00:00\", \"2020-03-16T00:00:00\", \"2020-03-17T00:00:00\", \"2020-03-18T00:00:00\", \"2020-03-19T00:00:00\", \"2020-03-20T00:00:00\", \"2020-03-21T00:00:00\", \"2020-03-22T00:00:00\", \"2020-03-23T00:00:00\", \"2020-03-24T00:00:00\", \"2020-03-25T00:00:00\", \"2020-03-26T00:00:00\", \"2020-03-27T00:00:00\", \"2020-03-28T00:00:00\", \"2020-03-29T00:00:00\", \"2020-03-30T00:00:00\", \"2020-03-31T00:00:00\", \"2020-04-01T00:00:00\", \"2020-04-02T00:00:00\", \"2020-04-03T00:00:00\", \"2020-04-04T00:00:00\", \"2020-04-05T00:00:00\", \"2020-04-06T00:00:00\", \"2020-04-07T00:00:00\", \"2020-04-08T00:00:00\", \"2020-04-09T00:00:00\", \"2020-04-10T00:00:00\", \"2020-04-11T00:00:00\", \"2020-04-12T00:00:00\", \"2020-04-13T00:00:00\", \"2020-04-14T00:00:00\", \"2020-04-15T00:00:00\", \"2020-04-16T00:00:00\", \"2020-04-17T00:00:00\", \"2020-04-18T00:00:00\", \"2020-04-19T00:00:00\", \"2020-04-20T00:00:00\", \"2020-04-21T00:00:00\", \"2020-04-22T00:00:00\", \"2020-04-23T00:00:00\", \"2020-04-24T00:00:00\", \"2020-04-25T00:00:00\", \"2020-04-26T00:00:00\", \"2020-04-27T00:00:00\", \"2020-04-28T00:00:00\", \"2020-04-29T00:00:00\", \"2020-04-30T00:00:00\", \"2020-05-01T00:00:00\", \"2020-05-02T00:00:00\", \"2020-05-03T00:00:00\", \"2020-05-04T00:00:00\", \"2020-05-05T00:00:00\", \"2020-05-06T00:00:00\", \"2020-05-07T00:00:00\", \"2020-05-08T00:00:00\", \"2020-05-09T00:00:00\", \"2020-05-10T00:00:00\", \"2020-05-11T00:00:00\", \"2020-05-12T00:00:00\", \"2020-05-13T00:00:00\", \"2020-05-14T00:00:00\", \"2020-05-15T00:00:00\", \"2020-05-16T00:00:00\", \"2020-05-17T00:00:00\", \"2020-05-18T00:00:00\", \"2020-05-19T00:00:00\", \"2020-05-20T00:00:00\", \"2020-05-21T00:00:00\", \"2020-05-22T00:00:00\", \"2020-05-23T00:00:00\", \"2020-05-24T00:00:00\", \"2020-05-25T00:00:00\", \"2020-05-26T00:00:00\", \"2020-05-27T00:00:00\", \"2020-05-28T00:00:00\", \"2020-05-29T00:00:00\", \"2020-05-30T00:00:00\", \"2020-05-31T00:00:00\", \"2020-06-01T00:00:00\", \"2020-06-02T00:00:00\", \"2020-06-03T00:00:00\", \"2020-06-04T00:00:00\", \"2020-06-05T00:00:00\", \"2020-06-06T00:00:00\", \"2020-06-07T00:00:00\", \"2020-06-08T00:00:00\", \"2020-06-09T00:00:00\", \"2020-06-10T00:00:00\", \"2020-06-11T00:00:00\", \"2020-06-12T00:00:00\", \"2020-06-13T00:00:00\", \"2020-06-14T00:00:00\", \"2020-06-15T00:00:00\", \"2020-06-16T00:00:00\", \"2020-06-17T00:00:00\", \"2020-06-18T00:00:00\", \"2020-06-19T00:00:00\", \"2020-06-20T00:00:00\", \"2020-06-21T00:00:00\", \"2020-06-22T00:00:00\", \"2020-06-23T00:00:00\", \"2020-06-24T00:00:00\", \"2020-06-25T00:00:00\", \"2020-06-26T00:00:00\", \"2020-06-27T00:00:00\", \"2020-06-28T00:00:00\", \"2020-06-29T00:00:00\", \"2020-06-30T00:00:00\", \"2020-07-01T00:00:00\", \"2020-07-02T00:00:00\", \"2020-07-03T00:00:00\", \"2020-07-04T00:00:00\", \"2020-07-05T00:00:00\", \"2020-07-06T00:00:00\", \"2020-07-07T00:00:00\", \"2020-07-08T00:00:00\", \"2020-07-09T00:00:00\", \"2020-07-10T00:00:00\", \"2020-07-11T00:00:00\", \"2020-07-12T00:00:00\", \"2020-07-13T00:00:00\", \"2020-07-14T00:00:00\", \"2020-07-15T00:00:00\", \"2020-07-16T00:00:00\", \"2020-07-17T00:00:00\", \"2020-07-18T00:00:00\", \"2020-07-19T00:00:00\", \"2020-07-20T00:00:00\", \"2020-07-21T00:00:00\", \"2020-07-22T00:00:00\", \"2020-07-23T00:00:00\", \"2020-07-24T00:00:00\", \"2020-07-25T00:00:00\", \"2020-07-26T00:00:00\", \"2020-07-27T00:00:00\", \"2020-07-28T00:00:00\", \"2020-07-29T00:00:00\", \"2020-07-30T00:00:00\", \"2020-07-31T00:00:00\", \"2020-08-01T00:00:00\", \"2020-08-02T00:00:00\", \"2020-08-03T00:00:00\", \"2020-08-04T00:00:00\", \"2020-08-05T00:00:00\", \"2020-08-06T00:00:00\", \"2020-08-07T00:00:00\", \"2020-08-08T00:00:00\", \"2020-08-09T00:00:00\", \"2020-08-10T00:00:00\", \"2020-08-11T00:00:00\", \"2020-08-12T00:00:00\", \"2020-08-13T00:00:00\", \"2020-08-14T00:00:00\", \"2020-08-15T00:00:00\", \"2020-08-16T00:00:00\", \"2020-08-17T00:00:00\", \"2020-08-18T00:00:00\", \"2020-08-19T00:00:00\", \"2020-08-20T00:00:00\", \"2020-08-21T00:00:00\", \"2020-08-22T00:00:00\", \"2020-08-23T00:00:00\", \"2020-08-24T00:00:00\", \"2020-08-25T00:00:00\", \"2020-08-26T00:00:00\", \"2020-08-27T00:00:00\", \"2020-08-28T00:00:00\", \"2020-08-29T00:00:00\", \"2020-08-30T00:00:00\"], \"y\": [2.9934687600552485e-06, 2.9934687600552485e-06, 5.986937520110497e-06, 8.980406280165745e-06, 8.980406280165745e-06, 8.980406280165745e-06, 8.980406280165745e-06, 8.980406280165745e-06, 8.980406280165745e-06, 8.980406280165745e-06, 8.980406280165745e-06, 8.980406280165745e-06, 8.980406280165745e-06, 8.980406280165745e-06, 8.980406280165745e-06, 8.980406280165745e-06, 8.980406280165745e-06, 8.980406280165745e-06, 8.980406280165745e-06, 8.980406280165745e-06, 8.980406280165745e-06, 8.980406280165745e-06, 8.980406280165745e-06, 8.980406280165745e-06, 8.980406280165745e-06, 8.980406280165745e-06, 8.980406280165745e-06, 8.980406280165745e-06, 8.980406280165745e-06, 8.980406280165745e-06, 8.980406280165745e-06, 8.980406280165745e-06, 8.980406280165745e-06, 8.980406280165745e-06, 8.980406280165745e-06, 8.980406280165745e-06, 8.980406280165745e-06, 8.980406280165745e-06, 2.394775008044199e-05, 2.694121884049724e-05, 4.490203140082873e-05, 5.088896892093923e-05, 5.088896892093923e-05, 5.687590644104973e-05, 5.687590644104973e-05, 6.585631272121547e-05, 6.884978148127072e-05, 7.783018776143648e-05, 8.082365652149172e-05, 8.082365652149172e-05, 8.381712528154696e-05, 0.00011973875040220995, 0.00015566037552287295, 0.00020056240692370165, 0.00028437953220524864, 0.0003262880948460221, 0.00035322931368651935, 0.0004101052201275691, 0.0005268505017697238, 0.0005448113143300552, 0.0006046806895311603, 0.0007004716898529282, 0.0007214259711733149, 0.0007932692214146408, 0.0008561320653758011, 0.0008830732842162983, 0.0009160014405769061, 0.000939949190657348, 0.0009788642845380664, 0.0010058055033785635, 0.0010327467222190608, 0.0010686683473397239, 0.0010896226286601105, 0.001119557316260663, 0.0011255442537807733, 0.0011345246600609393, 0.0011584724101413812, 0.0011614658789014364, 0.0011824201602218232, 0.0011854136289818785, 0.0011973875040220995, 0.00120337444154221, 0.0012213352541025416, 0.0012782111605435912, 0.0013111393169041989, 0.0013410740045047514, 0.001350054410784917, 0.0013710086921053038, 0.0014039368484659116, 0.0014428519423466298, 0.0014548258173868508, 0.0014847605049874034, 0.0014877539737474586, 0.0014877539737474586, 0.0014967343800276244, 0.0014967343800276244, 0.0014967343800276244, 0.001502721317547735, 0.0015057147863077902, 0.0015057147863077902, 0.0015057147863077902, 0.0015117017238279005, 0.0015326560051482873, 0.001553610286468674, 0.0015685776302689503, 0.0015985123178695027, 0.0016763425056309394, 0.0017242380057918233, 0.001757166162152431, 0.0017990747247932045, 0.0018858853188348068, 0.0019218069439554696, 0.001993650194196796, 0.0020654934444381216, 0.002191219132360442, 0.0023798076642439227, 0.0025354680397667957, 0.002682148009009503, 0.0028827104159332047, 0.00300544263509547, 0.0032568940109401106, 0.003442489074063536, 0.00361611026214674, 0.0037987118565101104, 0.00396933957583326, 0.0042267778891980105, 0.004472242327522542, 0.004753628390967735, 0.005085903423333867, 0.005409198049419835, 0.005729499206745745, 0.006001904863910773, 0.006274310521075801, 0.006468885990479393, 0.006717343897563978, 0.006950834460848288, 0.007205279305452983, 0.007366926618495967, 0.0076123910568204976, 0.007848875088864862, 0.008073385245869005, 0.008363751715594366, 0.008716981029280884, 0.0090971515618079, 0.009495282906895249, 0.009908381595782874, 0.010330460690950663, 0.010785467942479062, 0.011153664599965855, 0.011602684913974143, 0.012186411322184917, 0.012539640635871437, 0.012539640635871437, 0.013296988232165415, 0.013749002014933755, 0.014227957016542598, 0.014859578924914253, 0.015578011427327515, 0.016251541898339945, 0.01682928136903061, 0.017643504871765636, 0.018544538968542267, 0.019559324878200994, 0.020804607882383978, 0.02226542063729094, 0.023567579547914972, 0.02491164702117978, 0.026731676027293372, 0.02859660706480779, 0.03075789150956768, 0.033125725298771384, 0.03490085227348415, 0.0373584901254895, 0.03973530432097337, 0.04189060182821315, 0.0449978224011505, 0.04822478172449005, 0.05087400157713896, 0.05417579761947988, 0.05695074316005111, 0.059052158229609894, 0.06254553627259438, 0.06524863856292426, 0.06676333375551222, 0.07068477783118458, 0.07406440406128696, 0.07756376904179155, 0.0804434859889647, 0.08368541265610453, 0.08726260782437055, 0.09114813027492226, 0.09489295969375137, 0.09914368533302984, 0.10276877600145673, 0.10631304301336217, 0.11055478824636045, 0.1141828723835474, 0.11886465752427382, 0.1235614100088005, 0.12837490777496935, 0.13295491497785386, 0.13811864858894918, 0.14338116666912631, 0.15036492928633519, 0.1562560758061239, 0.16219212435731348, 0.16869393850415348, 0.1744054768983389, 0.17812336509832752, 0.1852328534034587, 0.19264468205335553, 0.19984696789004847, 0.20745935894686895, 0.21463470356472136]}, {\"name\": \"Delhi\", \"type\": \"scatter\", \"x\": [\"2020-03-02T00:00:00\", \"2020-03-03T00:00:00\", \"2020-03-04T00:00:00\", \"2020-03-05T00:00:00\", \"2020-03-06T00:00:00\", \"2020-03-07T00:00:00\", \"2020-03-08T00:00:00\", \"2020-03-09T00:00:00\", \"2020-03-10T00:00:00\", \"2020-03-11T00:00:00\", \"2020-03-12T00:00:00\", \"2020-03-13T00:00:00\", \"2020-03-14T00:00:00\", \"2020-03-15T00:00:00\", \"2020-03-16T00:00:00\", \"2020-03-17T00:00:00\", \"2020-03-18T00:00:00\", \"2020-03-19T00:00:00\", \"2020-03-20T00:00:00\", \"2020-03-21T00:00:00\", \"2020-03-22T00:00:00\", \"2020-03-23T00:00:00\", \"2020-03-24T00:00:00\", \"2020-03-25T00:00:00\", \"2020-03-26T00:00:00\", \"2020-03-27T00:00:00\", \"2020-03-28T00:00:00\", \"2020-03-29T00:00:00\", \"2020-03-30T00:00:00\", \"2020-03-31T00:00:00\", \"2020-04-01T00:00:00\", \"2020-04-02T00:00:00\", \"2020-04-03T00:00:00\", \"2020-04-04T00:00:00\", \"2020-04-05T00:00:00\", \"2020-04-06T00:00:00\", \"2020-04-07T00:00:00\", \"2020-04-08T00:00:00\", \"2020-04-09T00:00:00\", \"2020-04-10T00:00:00\", \"2020-04-11T00:00:00\", \"2020-04-12T00:00:00\", \"2020-04-13T00:00:00\", \"2020-04-14T00:00:00\", \"2020-04-15T00:00:00\", \"2020-04-16T00:00:00\", \"2020-04-17T00:00:00\", \"2020-04-18T00:00:00\", \"2020-04-19T00:00:00\", \"2020-04-20T00:00:00\", \"2020-04-21T00:00:00\", \"2020-04-22T00:00:00\", \"2020-04-23T00:00:00\", \"2020-04-24T00:00:00\", \"2020-04-25T00:00:00\", \"2020-04-26T00:00:00\", \"2020-04-27T00:00:00\", \"2020-04-28T00:00:00\", \"2020-04-29T00:00:00\", \"2020-04-30T00:00:00\", \"2020-05-01T00:00:00\", \"2020-05-02T00:00:00\", \"2020-05-03T00:00:00\", \"2020-05-04T00:00:00\", \"2020-05-05T00:00:00\", \"2020-05-06T00:00:00\", \"2020-05-07T00:00:00\", \"2020-05-08T00:00:00\", \"2020-05-09T00:00:00\", \"2020-05-10T00:00:00\", \"2020-05-11T00:00:00\", \"2020-05-12T00:00:00\", \"2020-05-13T00:00:00\", \"2020-05-14T00:00:00\", \"2020-05-15T00:00:00\", \"2020-05-16T00:00:00\", \"2020-05-17T00:00:00\", \"2020-05-18T00:00:00\", \"2020-05-19T00:00:00\", \"2020-05-20T00:00:00\", \"2020-05-21T00:00:00\", \"2020-05-22T00:00:00\", \"2020-05-23T00:00:00\", \"2020-05-24T00:00:00\", \"2020-05-25T00:00:00\", \"2020-05-26T00:00:00\", \"2020-05-27T00:00:00\", \"2020-05-28T00:00:00\", \"2020-05-29T00:00:00\", \"2020-05-30T00:00:00\", \"2020-05-31T00:00:00\", \"2020-06-01T00:00:00\", \"2020-06-02T00:00:00\", \"2020-06-03T00:00:00\", \"2020-06-04T00:00:00\", \"2020-06-05T00:00:00\", \"2020-06-06T00:00:00\", \"2020-06-07T00:00:00\", \"2020-06-08T00:00:00\", \"2020-06-09T00:00:00\", \"2020-06-10T00:00:00\", \"2020-06-11T00:00:00\", \"2020-06-12T00:00:00\", \"2020-06-13T00:00:00\", \"2020-06-14T00:00:00\", \"2020-06-15T00:00:00\", \"2020-06-16T00:00:00\", \"2020-06-17T00:00:00\", \"2020-06-18T00:00:00\", \"2020-06-19T00:00:00\", \"2020-06-20T00:00:00\", \"2020-06-21T00:00:00\", \"2020-06-22T00:00:00\", \"2020-06-23T00:00:00\", \"2020-06-24T00:00:00\", \"2020-06-25T00:00:00\", \"2020-06-26T00:00:00\", \"2020-06-27T00:00:00\", \"2020-06-28T00:00:00\", \"2020-06-29T00:00:00\", \"2020-06-30T00:00:00\", \"2020-07-01T00:00:00\", \"2020-07-02T00:00:00\", \"2020-07-03T00:00:00\", \"2020-07-04T00:00:00\", \"2020-07-05T00:00:00\", \"2020-07-06T00:00:00\", \"2020-07-07T00:00:00\", \"2020-07-08T00:00:00\", \"2020-07-09T00:00:00\", \"2020-07-10T00:00:00\", \"2020-07-11T00:00:00\", \"2020-07-12T00:00:00\", \"2020-07-13T00:00:00\", \"2020-07-14T00:00:00\", \"2020-07-15T00:00:00\", \"2020-07-16T00:00:00\", \"2020-07-17T00:00:00\", \"2020-07-18T00:00:00\", \"2020-07-19T00:00:00\", \"2020-07-20T00:00:00\", \"2020-07-21T00:00:00\", \"2020-07-22T00:00:00\", \"2020-07-23T00:00:00\", \"2020-07-24T00:00:00\", \"2020-07-25T00:00:00\", \"2020-07-26T00:00:00\", \"2020-07-27T00:00:00\", \"2020-07-28T00:00:00\", \"2020-07-29T00:00:00\", \"2020-07-30T00:00:00\", \"2020-07-31T00:00:00\", \"2020-08-01T00:00:00\", \"2020-08-02T00:00:00\", \"2020-08-03T00:00:00\", \"2020-08-04T00:00:00\", \"2020-08-05T00:00:00\", \"2020-08-06T00:00:00\", \"2020-08-07T00:00:00\", \"2020-08-08T00:00:00\", \"2020-08-09T00:00:00\", \"2020-08-10T00:00:00\", \"2020-08-11T00:00:00\", \"2020-08-12T00:00:00\", \"2020-08-13T00:00:00\", \"2020-08-14T00:00:00\", \"2020-08-15T00:00:00\", \"2020-08-16T00:00:00\", \"2020-08-17T00:00:00\", \"2020-08-18T00:00:00\", \"2020-08-19T00:00:00\", \"2020-08-20T00:00:00\", \"2020-08-21T00:00:00\", \"2020-08-22T00:00:00\", \"2020-08-23T00:00:00\", \"2020-08-24T00:00:00\", \"2020-08-25T00:00:00\", \"2020-08-26T00:00:00\", \"2020-08-27T00:00:00\", \"2020-08-28T00:00:00\", \"2020-08-29T00:00:00\", \"2020-08-30T00:00:00\"], \"y\": [5.956656626324813e-06, 5.956656626324813e-06, 5.956656626324813e-06, 1.1913313252649625e-05, 1.7869969878974436e-05, 1.7869969878974436e-05, 1.7869969878974436e-05, 2.382662650529925e-05, 2.382662650529925e-05, 2.978328313162406e-05, 3.573993975794887e-05, 3.573993975794887e-05, 4.169659638427369e-05, 4.169659638427369e-05, 4.169659638427369e-05, 4.76532530105985e-05, 5.956656626324812e-05, 7.147987951589774e-05, 0.00010126316264752182, 0.00015487307228444515, 0.00017274304216341956, 0.00017274304216341956, 0.00017869969878974438, 0.0001846563554160692, 0.00021443963854769326, 0.00021443963854769326, 0.0002323096084266677, 0.00029187617468991585, 0.0005182291264902587, 0.0005777956927535068, 0.0009054118072013716, 0.001304507801165134, 0.001304507801165134, 0.0026507121987145417, 0.002996198283041381, 0.0031153314155678772, 0.003431034216763092, 0.003431034216763092, 0.003985003283011299, 0.005349077650439682, 0.005378860933571306, 0.006367665933541224, 0.006873981746778834, 0.008994551505750467, 0.009298340993693033, 0.009399604156340554, 0.009768916867172692, 0.010168012861136454, 0.01127595099363287, 0.0119311832225286, 0.012395802439381935, 0.012842551686356295, 0.013390564095978177, 0.014153016144147754, 0.01497503475858058, 0.015636223644102634, 0.017381524035615804, 0.018513288794617517, 0.01974036005964043, 0.02048494213793103, 0.02093764804153172, 0.02226598246920215, 0.024553338613710875, 0.027096830993151574, 0.029175704155738932, 0.030402775420761845, 0.03295222445682886, 0.03562080662542238, 0.03763415656512016, 0.03896844764941692, 0.041237933824046676, 0.04308449737820737, 0.04550289996849524, 0.04764133969734585, 0.05045288162497116, 0.05298446069115921, 0.05559347629348947, 0.059888225721069666, 0.059888225721069666, 0.06286655403423207, 0.06604740867268952, 0.06944865960632099, 0.07338005297969537, 0.07690043704585334, 0.07992641861202633, 0.08370889556974259, 0.08616303809978841, 0.09088071014783766, 0.09698032653319427, 0.10356243210528318, 0.11049002376169895, 0.11820389409278957, 0.12410098415285116, 0.13183272445382077, 0.1408451459294502, 0.14894024228462563, 0.1568625955976376, 0.16472538234438636, 0.16472538234438636, 0.17836016936204385, 0.18649696231360355, 0.19543790390971708, 0.20661854839732877, 0.2193479236077849, 0.23205942884836203, 0.24530703318530844, 0.25511764664886544, 0.2661910713172032, 0.2805704404131513, 0.2977077415270878, 0.31639377336386876, 0.33801643691742783, 0.35588640679640227, 0.3732143209223811, 0.3967252446264852, 0.4192890599270036, 0.43948212589024466, 0.46009215781732854, 0.47765238155173406, 0.4948611625451864, 0.5072748349544474, 0.5203735228757356, 0.5349196783572209, 0.5490548245314896, 0.5640655992298281, 0.5789870240787718, 0.5923537615482447, 0.6005679910359466, 0.6125289575416069, 0.6246388404629252, 0.6376660485046975, 0.6501095041970901, 0.6607183096485746, 0.6700881305217835, 0.6775101246781842, 0.6870765152200619, 0.6968871286836188, 0.7067275254303074, 0.7154361574179943, 0.7242222259418234, 0.7314357371163027, 0.7371183875378166, 0.7451539173267288, 0.7524627350072293, 0.7586636145552333, 0.7647691875972163, 0.7715716894644793, 0.7779750953377785, 0.7816265258497155, 0.7879167552471147, 0.7940818948553607, 0.8005925205479337, 0.807710725216392, 0.814370267324623, 0.8200946143425212, 0.8248897229267128, 0.8289045094928557, 0.8353138720227811, 0.8430515689803771, 0.8501519036789562, 0.8585150495823162, 0.8662587031965384, 0.8704700594313503, 0.8779575768106405, 0.8845873356357399, 0.8902818993705064, 0.8973822340690857, 0.9049829279242761, 0.9088666680446399, 0.9135545568095575, 0.9217390030141279, 0.9300664089777299, 0.9373037467787145, 0.9447495675616205, 0.9531603667179912, 0.9617975188261623, 0.9681175315066928, 0.9773146093377384, 0.9873992290061062, 0.9983594771985439, 1.009129112378939, 1.0207684194267779]}, {\"name\": \"Rajasthan\", \"type\": \"scatter\", \"x\": [\"2020-03-03T00:00:00\", \"2020-03-04T00:00:00\", \"2020-03-05T00:00:00\", \"2020-03-06T00:00:00\", \"2020-03-07T00:00:00\", \"2020-03-08T00:00:00\", \"2020-03-09T00:00:00\", \"2020-03-10T00:00:00\", \"2020-03-11T00:00:00\", \"2020-03-12T00:00:00\", \"2020-03-13T00:00:00\", \"2020-03-14T00:00:00\", \"2020-03-15T00:00:00\", \"2020-03-16T00:00:00\", \"2020-03-17T00:00:00\", \"2020-03-18T00:00:00\", \"2020-03-19T00:00:00\", \"2020-03-20T00:00:00\", \"2020-03-21T00:00:00\", \"2020-03-22T00:00:00\", \"2020-03-23T00:00:00\", \"2020-03-24T00:00:00\", \"2020-03-25T00:00:00\", \"2020-03-26T00:00:00\", \"2020-03-27T00:00:00\", \"2020-03-28T00:00:00\", \"2020-03-29T00:00:00\", \"2020-03-30T00:00:00\", \"2020-03-31T00:00:00\", \"2020-04-01T00:00:00\", \"2020-04-02T00:00:00\", \"2020-04-03T00:00:00\", \"2020-04-04T00:00:00\", \"2020-04-05T00:00:00\", \"2020-04-06T00:00:00\", \"2020-04-07T00:00:00\", \"2020-04-08T00:00:00\", \"2020-04-09T00:00:00\", \"2020-04-10T00:00:00\", \"2020-04-11T00:00:00\", \"2020-04-12T00:00:00\", \"2020-04-13T00:00:00\", \"2020-04-14T00:00:00\", \"2020-04-15T00:00:00\", \"2020-04-16T00:00:00\", \"2020-04-17T00:00:00\", \"2020-04-18T00:00:00\", \"2020-04-19T00:00:00\", \"2020-04-20T00:00:00\", \"2020-04-21T00:00:00\", \"2020-04-22T00:00:00\", \"2020-04-23T00:00:00\", \"2020-04-24T00:00:00\", \"2020-04-25T00:00:00\", \"2020-04-26T00:00:00\", \"2020-04-27T00:00:00\", \"2020-04-28T00:00:00\", \"2020-04-29T00:00:00\", \"2020-04-30T00:00:00\", \"2020-05-01T00:00:00\", \"2020-05-02T00:00:00\", \"2020-05-03T00:00:00\", \"2020-05-04T00:00:00\", \"2020-05-05T00:00:00\", \"2020-05-06T00:00:00\", \"2020-05-07T00:00:00\", \"2020-05-08T00:00:00\", \"2020-05-09T00:00:00\", \"2020-05-10T00:00:00\", \"2020-05-11T00:00:00\", \"2020-05-12T00:00:00\", \"2020-05-13T00:00:00\", \"2020-05-14T00:00:00\", \"2020-05-15T00:00:00\", \"2020-05-16T00:00:00\", \"2020-05-17T00:00:00\", \"2020-05-18T00:00:00\", \"2020-05-19T00:00:00\", \"2020-05-20T00:00:00\", \"2020-05-21T00:00:00\", \"2020-05-22T00:00:00\", \"2020-05-23T00:00:00\", \"2020-05-24T00:00:00\", \"2020-05-25T00:00:00\", \"2020-05-26T00:00:00\", \"2020-05-27T00:00:00\", \"2020-05-28T00:00:00\", \"2020-05-29T00:00:00\", \"2020-05-30T00:00:00\", \"2020-05-31T00:00:00\", \"2020-06-01T00:00:00\", \"2020-06-02T00:00:00\", \"2020-06-03T00:00:00\", \"2020-06-04T00:00:00\", \"2020-06-05T00:00:00\", \"2020-06-06T00:00:00\", \"2020-06-07T00:00:00\", \"2020-06-08T00:00:00\", \"2020-06-09T00:00:00\", \"2020-06-10T00:00:00\", \"2020-06-11T00:00:00\", \"2020-06-12T00:00:00\", \"2020-06-13T00:00:00\", \"2020-06-14T00:00:00\", \"2020-06-15T00:00:00\", \"2020-06-16T00:00:00\", \"2020-06-17T00:00:00\", \"2020-06-18T00:00:00\", \"2020-06-19T00:00:00\", \"2020-06-20T00:00:00\", \"2020-06-21T00:00:00\", \"2020-06-22T00:00:00\", \"2020-06-23T00:00:00\", \"2020-06-24T00:00:00\", \"2020-06-25T00:00:00\", \"2020-06-26T00:00:00\", \"2020-06-27T00:00:00\", \"2020-06-28T00:00:00\", \"2020-06-29T00:00:00\", \"2020-06-30T00:00:00\", \"2020-07-01T00:00:00\", \"2020-07-02T00:00:00\", \"2020-07-03T00:00:00\", \"2020-07-04T00:00:00\", \"2020-07-05T00:00:00\", \"2020-07-06T00:00:00\", \"2020-07-07T00:00:00\", \"2020-07-08T00:00:00\", \"2020-07-09T00:00:00\", \"2020-07-10T00:00:00\", \"2020-07-11T00:00:00\", \"2020-07-12T00:00:00\", \"2020-07-13T00:00:00\", \"2020-07-14T00:00:00\", \"2020-07-15T00:00:00\", \"2020-07-16T00:00:00\", \"2020-07-17T00:00:00\", \"2020-07-18T00:00:00\", \"2020-07-19T00:00:00\", \"2020-07-20T00:00:00\", \"2020-07-21T00:00:00\", \"2020-07-22T00:00:00\", \"2020-07-23T00:00:00\", \"2020-07-24T00:00:00\", \"2020-07-25T00:00:00\", \"2020-07-26T00:00:00\", \"2020-07-27T00:00:00\", \"2020-07-28T00:00:00\", \"2020-07-29T00:00:00\", \"2020-07-30T00:00:00\", \"2020-07-31T00:00:00\", \"2020-08-01T00:00:00\", \"2020-08-02T00:00:00\", \"2020-08-03T00:00:00\", \"2020-08-04T00:00:00\", \"2020-08-05T00:00:00\", \"2020-08-06T00:00:00\", \"2020-08-07T00:00:00\", \"2020-08-08T00:00:00\", \"2020-08-09T00:00:00\", \"2020-08-10T00:00:00\", \"2020-08-11T00:00:00\", \"2020-08-12T00:00:00\", \"2020-08-13T00:00:00\", \"2020-08-14T00:00:00\", \"2020-08-15T00:00:00\", \"2020-08-16T00:00:00\", \"2020-08-17T00:00:00\", \"2020-08-18T00:00:00\", \"2020-08-19T00:00:00\", \"2020-08-20T00:00:00\", \"2020-08-21T00:00:00\", \"2020-08-22T00:00:00\", \"2020-08-23T00:00:00\", \"2020-08-24T00:00:00\", \"2020-08-25T00:00:00\", \"2020-08-26T00:00:00\", \"2020-08-27T00:00:00\", \"2020-08-28T00:00:00\", \"2020-08-29T00:00:00\", \"2020-08-30T00:00:00\"], \"y\": [1.4588224673890083e-06, 2.1882337010835127e-05, 2.1882337010835127e-05, 2.1882337010835127e-05, 2.1882337010835127e-05, 2.1882337010835127e-05, 2.1882337010835127e-05, 2.1882337010835127e-05, 4.376467402167026e-06, 4.376467402167026e-06, 4.376467402167026e-06, 4.376467402167026e-06, 5.835289869556033e-06, 5.835289869556033e-06, 5.835289869556033e-06, 5.835289869556033e-06, 1.0211757271723059e-05, 2.4799981945613147e-05, 2.4799981945613147e-05, 3.501173921733621e-05, 4.0847029086892234e-05, 4.668231895644827e-05, 5.2517608826004306e-05, 5.981172116294935e-05, 5.981172116294935e-05, 7.877641323900646e-05, 8.023523570639546e-05, 8.607052557595149e-05, 0.00010795286258678664, 0.0001356704894671778, 0.0001575528264780129, 0.0002436233520539644, 0.0002917644934778017, 0.0002917644934778017, 0.0003997173560645883, 0.00042014087060803445, 0.0004784937693035948, 0.0005587290050099902, 0.000675434802401111, 0.0008067288244661217, 0.001021175727172306, 0.0011845638435198748, 0.0012823049488349385, 0.0014661165797259534, 0.0014923753841389557, 0.0016499282106169685, 0.0017928928124210915, 0.0019708691534425504, 0.0021561396068009546, 0.0022991042086050774, 0.0026273392637676043, 0.002757174463365226, 0.0028651273259520126, 0.002967244898669243, 0.0030387271995713045, 0.0031875270912449837, 0.003299856421233937, 0.003448656312907616, 0.0035566091754944025, 0.0037695972557331976, 0.0038892206980590963, 0.004043855879602332, 0.004210161640884678, 0.004465455572677754, 0.0046069613520144884, 0.004838914124329341, 0.004999384595742132, 0.005221125610785261, 0.005409313709078443, 0.005563948890621678, 0.005817783999947365, 0.006019101500447048, 0.006313783638859628, 0.006614301067141764, 0.0068958538033478435, 0.0072357594382494814, 0.0075887944753576225, 0.00803373532791127, 0.008526817321888754, 0.008774817141344884, 0.009084087504431355, 0.009473593103224221, 0.009835381075136694, 0.010252604300809952, 0.010649404011939761, 0.010993686114243569, 0.011237309466297533, 0.011768320844427131, 0.012203049939709056, 0.012570673201491085, 0.012882861209512333, 0.013100225757153297, 0.013673542986837177, 0.01408055445523871, 0.0143869071733904, 0.014710765761150761, 0.015071094910595845, 0.015462059331856102, 0.015701306216507897, 0.0164044586457894, 0.0169223406217125, 0.01726954036895108, 0.01760506953645055, 0.01809085741809109, 0.01851829240103607, 0.01893697444917672, 0.019279797729013136, 0.01975537385338195, 0.02021490293060949, 0.020651090848358804, 0.021205443385966628, 0.021780219438117896, 0.022220783823269377, 0.022797018697888034, 0.023354288880430635, 0.023772970928571283, 0.024303982306700878, 0.02471828788743936, 0.025195322834275564, 0.02576280477408989, 0.026279227927545598, 0.026713957022827525, 0.02722454488641367, 0.027793485648695385, 0.028493720433042116, 0.029415696232431968, 0.030180119205343806, 0.031224636091994336, 0.032186000098003695, 0.032915411331698195, 0.033806751859272885, 0.034644115955554174, 0.035583597624552696, 0.03637719704681232, 0.037303549313604335, 0.038566889570363215, 0.03964204172882891, 0.040539217546273154, 0.04157644032058674, 0.04293898050512807, 0.044333614783951966, 0.04576763726939536, 0.0471695656605562, 0.04846208236666286, 0.049859634290421534, 0.05149351545389722, 0.052384855981471905, 0.05379845495237186, 0.05618508850902028, 0.056841558619345325, 0.05856442795333175, 0.06024645025823127, 0.062212942944271654, 0.06390225936150813, 0.06561054047082066, 0.06809637395525153, 0.0689614556784132, 0.07147646561219187, 0.07317015849683049, 0.07487843960614303, 0.07658380307052078, 0.07829500182476809, 0.0800703887675805, 0.08183994042052338, 0.08375683314267253, 0.08562120825599569, 0.08749871277152534, 0.08941998196107667, 0.09136605113257361, 0.09333108499614659, 0.09524506007336098, 0.09718529395498836, 0.09913282194895269, 0.10104387938123227, 0.10300599559987049, 0.1049695706409761, 0.10696815742129903, 0.10893027363993726, 0.11089238985857548, 0.11286909430188757, 0.11492165751350392]}, {\"name\": \"Uttar Pradesh\", \"type\": \"scatter\", \"x\": [\"2020-03-04T00:00:00\", \"2020-03-05T00:00:00\", \"2020-03-06T00:00:00\", \"2020-03-07T00:00:00\", \"2020-03-08T00:00:00\", \"2020-03-09T00:00:00\", \"2020-03-10T00:00:00\", \"2020-03-11T00:00:00\", \"2020-03-12T00:00:00\", \"2020-03-13T00:00:00\", \"2020-03-14T00:00:00\", \"2020-03-15T00:00:00\", \"2020-03-16T00:00:00\", \"2020-03-17T00:00:00\", \"2020-03-18T00:00:00\", \"2020-03-19T00:00:00\", \"2020-03-20T00:00:00\", \"2020-03-21T00:00:00\", \"2020-03-22T00:00:00\", \"2020-03-23T00:00:00\", \"2020-03-24T00:00:00\", \"2020-03-25T00:00:00\", \"2020-03-26T00:00:00\", \"2020-03-27T00:00:00\", \"2020-03-28T00:00:00\", \"2020-03-29T00:00:00\", \"2020-03-30T00:00:00\", \"2020-03-31T00:00:00\", \"2020-04-01T00:00:00\", \"2020-04-02T00:00:00\", \"2020-04-03T00:00:00\", \"2020-04-04T00:00:00\", \"2020-04-05T00:00:00\", \"2020-04-06T00:00:00\", \"2020-04-07T00:00:00\", \"2020-04-08T00:00:00\", \"2020-04-09T00:00:00\", \"2020-04-10T00:00:00\", \"2020-04-11T00:00:00\", \"2020-04-12T00:00:00\", \"2020-04-13T00:00:00\", \"2020-04-14T00:00:00\", \"2020-04-15T00:00:00\", \"2020-04-16T00:00:00\", \"2020-04-17T00:00:00\", \"2020-04-18T00:00:00\", \"2020-04-19T00:00:00\", \"2020-04-20T00:00:00\", \"2020-04-21T00:00:00\", \"2020-04-22T00:00:00\", \"2020-04-23T00:00:00\", \"2020-04-24T00:00:00\", \"2020-04-25T00:00:00\", \"2020-04-26T00:00:00\", \"2020-04-27T00:00:00\", \"2020-04-28T00:00:00\", \"2020-04-29T00:00:00\", \"2020-04-30T00:00:00\", \"2020-05-01T00:00:00\", \"2020-05-02T00:00:00\", \"2020-05-03T00:00:00\", \"2020-05-04T00:00:00\", \"2020-05-05T00:00:00\", \"2020-05-06T00:00:00\", \"2020-05-07T00:00:00\", \"2020-05-08T00:00:00\", \"2020-05-09T00:00:00\", \"2020-05-10T00:00:00\", \"2020-05-11T00:00:00\", \"2020-05-12T00:00:00\", \"2020-05-13T00:00:00\", \"2020-05-14T00:00:00\", \"2020-05-15T00:00:00\", \"2020-05-16T00:00:00\", \"2020-05-17T00:00:00\", \"2020-05-18T00:00:00\", \"2020-05-19T00:00:00\", \"2020-05-20T00:00:00\", \"2020-05-21T00:00:00\", \"2020-05-22T00:00:00\", \"2020-05-23T00:00:00\", \"2020-05-24T00:00:00\", \"2020-05-25T00:00:00\", \"2020-05-26T00:00:00\", \"2020-05-27T00:00:00\", \"2020-05-28T00:00:00\", \"2020-05-29T00:00:00\", \"2020-05-30T00:00:00\", \"2020-05-31T00:00:00\", \"2020-06-01T00:00:00\", \"2020-06-02T00:00:00\", \"2020-06-03T00:00:00\", \"2020-06-04T00:00:00\", \"2020-06-05T00:00:00\", \"2020-06-06T00:00:00\", \"2020-06-07T00:00:00\", \"2020-06-08T00:00:00\", \"2020-06-09T00:00:00\", \"2020-06-10T00:00:00\", \"2020-06-11T00:00:00\", \"2020-06-12T00:00:00\", \"2020-06-13T00:00:00\", \"2020-06-14T00:00:00\", \"2020-06-15T00:00:00\", \"2020-06-16T00:00:00\", \"2020-06-17T00:00:00\", \"2020-06-18T00:00:00\", \"2020-06-19T00:00:00\", \"2020-06-20T00:00:00\", \"2020-06-21T00:00:00\", \"2020-06-22T00:00:00\", \"2020-06-23T00:00:00\", \"2020-06-24T00:00:00\", \"2020-06-25T00:00:00\", \"2020-06-26T00:00:00\", \"2020-06-27T00:00:00\", \"2020-06-28T00:00:00\", \"2020-06-29T00:00:00\", \"2020-06-30T00:00:00\", \"2020-07-01T00:00:00\", \"2020-07-02T00:00:00\", \"2020-07-03T00:00:00\", \"2020-07-04T00:00:00\", \"2020-07-05T00:00:00\", \"2020-07-06T00:00:00\", \"2020-07-07T00:00:00\", \"2020-07-08T00:00:00\", \"2020-07-09T00:00:00\", \"2020-07-10T00:00:00\", \"2020-07-11T00:00:00\", \"2020-07-12T00:00:00\", \"2020-07-13T00:00:00\", \"2020-07-14T00:00:00\", \"2020-07-15T00:00:00\", \"2020-07-16T00:00:00\", \"2020-07-17T00:00:00\", \"2020-07-18T00:00:00\", \"2020-07-19T00:00:00\", \"2020-07-20T00:00:00\", \"2020-07-21T00:00:00\", \"2020-07-22T00:00:00\", \"2020-07-23T00:00:00\", \"2020-07-24T00:00:00\", \"2020-07-25T00:00:00\", \"2020-07-26T00:00:00\", \"2020-07-27T00:00:00\", \"2020-07-28T00:00:00\", \"2020-07-29T00:00:00\", \"2020-07-30T00:00:00\", \"2020-07-31T00:00:00\", \"2020-08-01T00:00:00\", \"2020-08-02T00:00:00\", \"2020-08-03T00:00:00\", \"2020-08-04T00:00:00\", \"2020-08-05T00:00:00\", \"2020-08-06T00:00:00\", \"2020-08-07T00:00:00\", \"2020-08-08T00:00:00\", \"2020-08-09T00:00:00\", \"2020-08-10T00:00:00\", \"2020-08-11T00:00:00\", \"2020-08-12T00:00:00\", \"2020-08-13T00:00:00\", \"2020-08-14T00:00:00\", \"2020-08-15T00:00:00\", \"2020-08-16T00:00:00\", \"2020-08-17T00:00:00\", \"2020-08-18T00:00:00\", \"2020-08-19T00:00:00\", \"2020-08-20T00:00:00\", \"2020-08-21T00:00:00\", \"2020-08-22T00:00:00\", \"2020-08-23T00:00:00\", \"2020-08-24T00:00:00\", \"2020-08-25T00:00:00\", \"2020-08-26T00:00:00\", \"2020-08-27T00:00:00\", \"2020-08-28T00:00:00\", \"2020-08-29T00:00:00\", \"2020-08-30T00:00:00\"], \"y\": [3.002817528673066e-06, 3.503287116785244e-06, 3.503287116785244e-06, 3.503287116785244e-06, 3.503287116785244e-06, 3.503287116785244e-06, 3.503287116785244e-06, 4.504226293009599e-06, 5.505165469233955e-06, 5.505165469233955e-06, 6.005635057346132e-06, 6.50610464545831e-06, 6.50610464545831e-06, 7.507043821682665e-06, 8.007513409794843e-06, 9.508922174131376e-06, 1.1510800526580088e-05, 1.2011270114692263e-05, 1.3512678879028797e-05, 1.5514557231477507e-05, 1.6515496407701864e-05, 1.8517374760150574e-05, 2.0519253112599288e-05, 2.0519253112599288e-05, 2.7525827346169772e-05, 3.253052322729155e-05, 4.1038506225198576e-05, 5.054742839932995e-05, 5.1548367575554306e-05, 5.655306345667608e-05, 8.608076915529457e-05, 8.708170833151893e-05, 0.00011360659650146433, 0.0001526432243742142, 0.0001526432243742142, 0.00017166106872247696, 0.0002051925311259929, 0.0002157023924763486, 0.00021670333165257295, 0.00022621225382670433, 0.00024172681105818182, 0.0003288085193897008, 0.0003678451472624506, 0.0003868629916107134, 0.00042339727154290237, 0.0004849550308807002, 0.0005425090335136007, 0.000588552235619921, 0.000647607647017158, 0.0007066630584143949, 0.0007552086084612761, 0.0008027532193319331, 0.000889834927663452, 0.0009223654508907435, 0.0009784180447593074, 0.001022459368513179, 0.0010584931788572558, 0.0011025345026111275, 0.0011415711304838775, 0.0011650932011251498, 0.0013142331383825786, 0.0013722876106035912, 0.0014308425524127161, 0.001441352413763072, 0.0015004078251603088, 0.001536942105092498, 0.0016085092561925391, 0.0016880839207023756, 0.00173512806198492, 0.001788177838324811, 0.0018337205708430194, 0.0018662510940703105, 0.0019528323328137176, 0.002030405118971105, 0.0021309995061816528, 0.0021314999757697647, 0.0023046624532565784, 0.0024653131910405872, 0.00258993011848052, 0.00276008977843866, 0.002870193087823339, 0.0030113255116709734, 0.00313694337828713, 0.0032690673495487446, 0.0032770748629585397, 0.0034987828904922344, 0.003588366946764314, 0.003645420479809102, 0.003725996083495163, 0.003915173587801566, 0.004041291924005835, 0.0041844262262059175, 0.004368599034631199, 0.0046228375853921855, 0.004871070501095825, 0.004871070501095825, 0.0052729475803499045, 0.005478640581064009, 0.005672822781251534, 0.005810451917982383, 0.006049676381100004, 0.0063139243236232335, 0.006565160056855547, 0.006813893442147299, 0.006813893442147299, 0.007052116966088697, 0.007305855047261571, 0.00759762881713097, 0.007899912448350725, 0.008304792345133477, 0.008873826266817023, 0.00916960379339132, 0.009455371928203374, 0.009787683734709859, 0.010105982392749206, 0.010481334583833338, 0.010784619154229317, 0.0110838999679204, 0.011424719757424793, 0.011757031563931278, 0.012039296411626547, 0.012424157524884813, 0.012910613964529848, 0.013289469442730767, 0.013866510877824109, 0.014331447125180322, 0.014998072616545741, 0.015592630487223008, 0.016196196810486296, 0.01686582511938039, 0.01756247878603254, 0.018255128695979794, 0.019082905394717336, 0.019880653918168147, 0.02071093296484625, 0.02174089937718111, 0.022602708007910283, 0.02354008754644439, 0.02464662580576042, 0.025604024127819012, 0.026669023411321723, 0.027820103463979732, 0.029079284947669978, 0.030414037339165152, 0.03190093248544643, 0.033525456768458556, 0.035279602674791743, 0.037010226510483656, 0.03870331512706715, 0.04055755495102277, 0.04277063146965482, 0.0445658158822132, 0.04650413459697167, 0.04872672003777785, 0.05020210438353255, 0.052243019363854004, 0.054538172894936454, 0.05674224096098248, 0.05907442924158523, 0.061362075728846, 0.06342050714475138, 0.06594337433842487, 0.06818297574522687, 0.07045360626649182, 0.07271172504805397, 0.0751009668617015, 0.07728151285710626, 0.07918229635275631, 0.08129327707541348, 0.08383366070467088, 0.08624792599772403, 0.08870272932741427, 0.09131217775983116, 0.09397867972529285, 0.09628134030019697, 0.09878669105828654, 0.10160933953523921, 0.10430737108475195, 0.10701240920849829, 0.10983155439833417]}, {\"name\": \"Haryana\", \"type\": \"scatter\", \"x\": [\"2020-03-04T00:00:00\", \"2020-03-05T00:00:00\", \"2020-03-06T00:00:00\", \"2020-03-07T00:00:00\", \"2020-03-08T00:00:00\", \"2020-03-09T00:00:00\", \"2020-03-10T00:00:00\", \"2020-03-11T00:00:00\", \"2020-03-12T00:00:00\", \"2020-03-13T00:00:00\", \"2020-03-14T00:00:00\", \"2020-03-15T00:00:00\", \"2020-03-16T00:00:00\", \"2020-03-17T00:00:00\", \"2020-03-18T00:00:00\", \"2020-03-19T00:00:00\", \"2020-03-20T00:00:00\", \"2020-03-21T00:00:00\", \"2020-03-22T00:00:00\", \"2020-03-23T00:00:00\", \"2020-03-24T00:00:00\", \"2020-03-25T00:00:00\", \"2020-03-26T00:00:00\", \"2020-03-27T00:00:00\", \"2020-03-28T00:00:00\", \"2020-03-29T00:00:00\", \"2020-03-30T00:00:00\", \"2020-03-31T00:00:00\", \"2020-04-01T00:00:00\", \"2020-04-02T00:00:00\", \"2020-04-03T00:00:00\", \"2020-04-04T00:00:00\", \"2020-04-05T00:00:00\", \"2020-04-06T00:00:00\", \"2020-04-07T00:00:00\", \"2020-04-08T00:00:00\", \"2020-04-09T00:00:00\", \"2020-04-10T00:00:00\", \"2020-04-11T00:00:00\", \"2020-04-12T00:00:00\", \"2020-04-13T00:00:00\", \"2020-04-14T00:00:00\", \"2020-04-15T00:00:00\", \"2020-04-16T00:00:00\", \"2020-04-17T00:00:00\", \"2020-04-18T00:00:00\", \"2020-04-19T00:00:00\", \"2020-04-20T00:00:00\", \"2020-04-21T00:00:00\", \"2020-04-22T00:00:00\", \"2020-04-23T00:00:00\", \"2020-04-24T00:00:00\", \"2020-04-25T00:00:00\", \"2020-04-26T00:00:00\", \"2020-04-27T00:00:00\", \"2020-04-28T00:00:00\", \"2020-04-29T00:00:00\", \"2020-04-30T00:00:00\", \"2020-05-01T00:00:00\", \"2020-05-02T00:00:00\", \"2020-05-03T00:00:00\", \"2020-05-04T00:00:00\", \"2020-05-05T00:00:00\", \"2020-05-06T00:00:00\", \"2020-05-07T00:00:00\", \"2020-05-08T00:00:00\", \"2020-05-09T00:00:00\", \"2020-05-10T00:00:00\", \"2020-05-11T00:00:00\", \"2020-05-12T00:00:00\", \"2020-05-13T00:00:00\", \"2020-05-14T00:00:00\", \"2020-05-15T00:00:00\", \"2020-05-16T00:00:00\", \"2020-05-17T00:00:00\", \"2020-05-18T00:00:00\", \"2020-05-19T00:00:00\", \"2020-05-20T00:00:00\", \"2020-05-21T00:00:00\", \"2020-05-22T00:00:00\", \"2020-05-23T00:00:00\", \"2020-05-24T00:00:00\", \"2020-05-25T00:00:00\", \"2020-05-26T00:00:00\", \"2020-05-27T00:00:00\", \"2020-05-28T00:00:00\", \"2020-05-29T00:00:00\", \"2020-05-30T00:00:00\", \"2020-05-31T00:00:00\", \"2020-06-01T00:00:00\", \"2020-06-02T00:00:00\", \"2020-06-03T00:00:00\", \"2020-06-04T00:00:00\", \"2020-06-05T00:00:00\", \"2020-06-06T00:00:00\", \"2020-06-07T00:00:00\", \"2020-06-08T00:00:00\", \"2020-06-09T00:00:00\", \"2020-06-10T00:00:00\", \"2020-06-11T00:00:00\", \"2020-06-12T00:00:00\", \"2020-06-13T00:00:00\", \"2020-06-14T00:00:00\", \"2020-06-15T00:00:00\", \"2020-06-16T00:00:00\", \"2020-06-17T00:00:00\", \"2020-06-18T00:00:00\", \"2020-06-19T00:00:00\", \"2020-06-20T00:00:00\", \"2020-06-21T00:00:00\", \"2020-06-22T00:00:00\", \"2020-06-23T00:00:00\", \"2020-06-24T00:00:00\", \"2020-06-25T00:00:00\", \"2020-06-26T00:00:00\", \"2020-06-27T00:00:00\", \"2020-06-28T00:00:00\", \"2020-06-29T00:00:00\", \"2020-06-30T00:00:00\", \"2020-07-01T00:00:00\", \"2020-07-02T00:00:00\", \"2020-07-03T00:00:00\", \"2020-07-04T00:00:00\", \"2020-07-05T00:00:00\", \"2020-07-06T00:00:00\", \"2020-07-07T00:00:00\", \"2020-07-08T00:00:00\", \"2020-07-09T00:00:00\", \"2020-07-10T00:00:00\", \"2020-07-11T00:00:00\", \"2020-07-12T00:00:00\", \"2020-07-13T00:00:00\", \"2020-07-14T00:00:00\", \"2020-07-15T00:00:00\", \"2020-07-16T00:00:00\", \"2020-07-17T00:00:00\", \"2020-07-18T00:00:00\", \"2020-07-19T00:00:00\", \"2020-07-20T00:00:00\", \"2020-07-21T00:00:00\", \"2020-07-22T00:00:00\", \"2020-07-23T00:00:00\", \"2020-07-24T00:00:00\", \"2020-07-25T00:00:00\", \"2020-07-26T00:00:00\", \"2020-07-27T00:00:00\", \"2020-07-28T00:00:00\", \"2020-07-29T00:00:00\", \"2020-07-30T00:00:00\", \"2020-07-31T00:00:00\", \"2020-08-01T00:00:00\", \"2020-08-02T00:00:00\", \"2020-08-03T00:00:00\", \"2020-08-04T00:00:00\", \"2020-08-05T00:00:00\", \"2020-08-06T00:00:00\", \"2020-08-07T00:00:00\", \"2020-08-08T00:00:00\", \"2020-08-09T00:00:00\", \"2020-08-10T00:00:00\", \"2020-08-11T00:00:00\", \"2020-08-12T00:00:00\", \"2020-08-13T00:00:00\", \"2020-08-14T00:00:00\", \"2020-08-15T00:00:00\", \"2020-08-16T00:00:00\", \"2020-08-17T00:00:00\", \"2020-08-18T00:00:00\", \"2020-08-19T00:00:00\", \"2020-08-20T00:00:00\", \"2020-08-21T00:00:00\", \"2020-08-22T00:00:00\", \"2020-08-23T00:00:00\", \"2020-08-24T00:00:00\", \"2020-08-25T00:00:00\", \"2020-08-26T00:00:00\", \"2020-08-27T00:00:00\", \"2020-08-28T00:00:00\", \"2020-08-29T00:00:00\", \"2020-08-30T00:00:00\"], \"y\": [7.889091366801647e-06, 7.889091366801647e-06, 7.889091366801647e-06, 7.889091366801647e-06, 7.889091366801647e-06, 7.889091366801647e-06, 7.889091366801647e-06, 5.522363956761152e-05, 5.522363956761152e-05, 5.522363956761152e-05, 5.522363956761152e-05, 5.522363956761152e-05, 5.522363956761152e-05, 5.916818525101235e-05, 6.705727661781399e-05, 6.705727661781399e-05, 6.705727661781399e-05, 6.705727661781399e-05, 8.283545935141728e-05, 0.00010255818776842139, 0.00011044727913522304, 0.00011044727913522304, 0.0001183363705020247, 0.0001183363705020247, 0.00013017000755222716, 0.00013017000755222716, 0.00014200364460242962, 0.00015778182733603295, 0.00016961546438623538, 0.00016961546438623538, 0.00019328273848664035, 0.00019328273848664035, 0.00023272819532064857, 0.00033134183740566914, 0.0003550091115060741, 0.0005798482154599211, 0.0006666282204947392, 0.0006666282204947392, 0.0006981845859619458, 0.0007297409514291522, 0.0007297409514291522, 0.0007849645909967638, 0.0007849645909967638, 0.0008086318650971688, 0.0008086318650971688, 0.0008875227787651851, 0.0009190791442323917, 0.0009190791442323917, 0.001001914603583809, 0.001001914603583809, 0.0010334709690510157, 0.0010729164258850238, 0.0010729164258850238, 0.0011399737025028379, 0.0011399737025028379, 0.0011675855222866437, 0.001222809161854255, 0.001222809161854255, 0.0012346427989044578, 0.0014200364460242964, 0.0015541509992599244, 0.001743489192063164, 0.0020393301183182257, 0.002161611034503651, 0.0023430601359400887, 0.0024653410521255146, 0.0025521210571603325, 0.0026625683362955558, 0.0027730156154307786, 0.002879518348882601, 0.0030767456330526416, 0.003128024726936853, 0.0032266383690218734, 0.0032266383690218734, 0.0034988120211765306, 0.003589536571894749, 0.0036605383941959637, 0.0038025420387983932, 0.003916933863617017, 0.004066826599586249, 0.004208830244188678, 0.004461281167926331, 0.004670342089146575, 0.004670342089146575, 0.005147632116838074, 0.005447417588776537, 0.0059325967078348385, 0.0067885631211328165, 0.007585361349179783, 0.00824804502399112, 0.00929334963009234, 0.010460935152378982, 0.011652187948766032, 0.0129420543872381, 0.01418853082319276, 0.015588844540800055, 0.017545339199766863, 0.019146824747227596, 0.02054713846483489, 0.022006620367693193, 0.02354104863853611, 0.024984752358660812, 0.02662173881727216, 0.028432285285953138, 0.030459781767221156, 0.03262928189309161, 0.03483822747579607, 0.03636082210958879, 0.03843170859337422, 0.04032509052140661, 0.04195024334296776, 0.04348861615949408, 0.045441166272777486, 0.04737399365764389, 0.049160872852224466, 0.05082152658493621, 0.05296341489102285, 0.05454912225574998, 0.0560519941611257, 0.057385250602115176, 0.0589354570556917, 0.06117595900386336, 0.06312456457146338, 0.06527434196891682, 0.067076999346231, 0.06904532764224801, 0.07099787775553142, 0.0737235588227614, 0.07640190534179055, 0.07863057365291201, 0.08118663925575574, 0.08378215031543348, 0.08636188319237761, 0.08925717972399383, 0.09193158169733959, 0.09467698549298656, 0.09781289931129022, 0.10077130857384083, 0.10320509326049913, 0.10594260796477932, 0.1083251135575534, 0.1111809646323356, 0.11429321117653886, 0.1173699568095915, 0.12045853607969433, 0.1235905053523146, 0.12672641917061825, 0.12968088388748544, 0.13265901587845308, 0.1351164678392118, 0.13792103982010978, 0.14104906454704663, 0.14405086381211468, 0.1466305966890588, 0.1490880486498175, 0.15205434700373494, 0.15503247899470257, 0.15799483280293658, 0.16110707934713983, 0.16423115952839326, 0.16736312880101353, 0.17051087625636738, 0.17365467916603783, 0.1767827038929747, 0.17992650680264513, 0.1830663651666322, 0.18599716260939902, 0.18949597463057555, 0.1930302875629027, 0.1969511659722031, 0.20087993347287034, 0.2056252219300015, 0.21020483946842988, 0.21452806153743714, 0.21876450360140964, 0.22329284204595382, 0.22880337236566478, 0.233903669934302, 0.23902369023135628, 0.2445105532769668]}, {\"name\": \"Ladakh\", \"type\": \"scatter\", \"x\": [\"2020-03-07T00:00:00\", \"2020-03-08T00:00:00\", \"2020-03-09T00:00:00\", \"2020-03-10T00:00:00\", \"2020-03-11T00:00:00\", \"2020-03-12T00:00:00\", \"2020-03-13T00:00:00\", \"2020-03-14T00:00:00\", \"2020-03-15T00:00:00\", \"2020-03-16T00:00:00\", \"2020-03-17T00:00:00\", \"2020-03-18T00:00:00\", \"2020-03-19T00:00:00\", \"2020-03-20T00:00:00\", \"2020-03-21T00:00:00\", \"2020-03-22T00:00:00\", \"2020-03-23T00:00:00\", \"2020-03-24T00:00:00\", \"2020-03-25T00:00:00\", \"2020-03-26T00:00:00\", \"2020-03-27T00:00:00\", \"2020-03-28T00:00:00\", \"2020-03-29T00:00:00\", \"2020-03-30T00:00:00\", \"2020-03-31T00:00:00\", \"2020-04-01T00:00:00\", \"2020-04-02T00:00:00\", \"2020-04-03T00:00:00\", \"2020-04-04T00:00:00\", \"2020-04-05T00:00:00\", \"2020-04-06T00:00:00\", \"2020-04-07T00:00:00\", \"2020-04-08T00:00:00\", \"2020-04-09T00:00:00\", \"2020-04-10T00:00:00\", \"2020-04-11T00:00:00\", \"2020-04-12T00:00:00\", \"2020-04-13T00:00:00\", \"2020-04-14T00:00:00\", \"2020-04-15T00:00:00\", \"2020-04-16T00:00:00\", \"2020-04-17T00:00:00\", \"2020-04-18T00:00:00\", \"2020-04-19T00:00:00\", \"2020-04-20T00:00:00\", \"2020-04-21T00:00:00\", \"2020-04-22T00:00:00\", \"2020-04-23T00:00:00\", \"2020-04-24T00:00:00\", \"2020-04-25T00:00:00\", \"2020-04-26T00:00:00\", \"2020-04-27T00:00:00\", \"2020-04-28T00:00:00\", \"2020-04-29T00:00:00\", \"2020-04-30T00:00:00\", \"2020-05-01T00:00:00\", \"2020-05-02T00:00:00\", \"2020-05-03T00:00:00\", \"2020-05-04T00:00:00\", \"2020-05-05T00:00:00\", \"2020-05-06T00:00:00\", \"2020-05-07T00:00:00\", \"2020-05-08T00:00:00\", \"2020-05-09T00:00:00\", \"2020-05-10T00:00:00\", \"2020-05-11T00:00:00\", \"2020-05-12T00:00:00\", \"2020-05-13T00:00:00\", \"2020-05-14T00:00:00\", \"2020-05-15T00:00:00\", \"2020-05-16T00:00:00\", \"2020-05-17T00:00:00\", \"2020-05-18T00:00:00\", \"2020-05-19T00:00:00\", \"2020-05-20T00:00:00\", \"2020-05-21T00:00:00\", \"2020-05-22T00:00:00\", \"2020-05-23T00:00:00\", \"2020-05-24T00:00:00\", \"2020-05-25T00:00:00\", \"2020-05-26T00:00:00\", \"2020-05-27T00:00:00\", \"2020-05-28T00:00:00\", \"2020-05-29T00:00:00\", \"2020-05-30T00:00:00\", \"2020-05-31T00:00:00\", \"2020-06-01T00:00:00\", \"2020-06-02T00:00:00\", \"2020-06-03T00:00:00\", \"2020-06-04T00:00:00\", \"2020-06-05T00:00:00\", \"2020-06-06T00:00:00\", \"2020-06-07T00:00:00\", \"2020-06-08T00:00:00\", \"2020-06-09T00:00:00\", \"2020-06-10T00:00:00\", \"2020-06-11T00:00:00\", \"2020-06-12T00:00:00\", \"2020-06-13T00:00:00\", \"2020-06-14T00:00:00\", \"2020-06-15T00:00:00\", \"2020-06-16T00:00:00\", \"2020-06-17T00:00:00\", \"2020-06-18T00:00:00\", \"2020-06-19T00:00:00\", \"2020-06-20T00:00:00\", \"2020-06-21T00:00:00\", \"2020-06-22T00:00:00\", \"2020-06-23T00:00:00\", \"2020-06-24T00:00:00\", \"2020-06-25T00:00:00\", \"2020-06-26T00:00:00\", \"2020-06-27T00:00:00\", \"2020-06-28T00:00:00\", \"2020-06-29T00:00:00\", \"2020-06-30T00:00:00\", \"2020-07-01T00:00:00\", \"2020-07-02T00:00:00\", \"2020-07-03T00:00:00\", \"2020-07-04T00:00:00\", \"2020-07-05T00:00:00\", \"2020-07-06T00:00:00\", \"2020-07-07T00:00:00\", \"2020-07-08T00:00:00\", \"2020-07-09T00:00:00\", \"2020-07-10T00:00:00\", \"2020-07-11T00:00:00\", \"2020-07-12T00:00:00\", \"2020-07-13T00:00:00\", \"2020-07-14T00:00:00\", \"2020-07-15T00:00:00\", \"2020-07-16T00:00:00\", \"2020-07-17T00:00:00\", \"2020-07-18T00:00:00\", \"2020-07-19T00:00:00\", \"2020-07-20T00:00:00\", \"2020-07-21T00:00:00\", \"2020-07-22T00:00:00\", \"2020-07-23T00:00:00\", \"2020-07-24T00:00:00\", \"2020-07-25T00:00:00\", \"2020-07-26T00:00:00\", \"2020-07-27T00:00:00\", \"2020-07-28T00:00:00\", \"2020-07-29T00:00:00\", \"2020-07-30T00:00:00\", \"2020-07-31T00:00:00\", \"2020-08-01T00:00:00\", \"2020-08-02T00:00:00\", \"2020-08-03T00:00:00\", \"2020-08-04T00:00:00\", \"2020-08-05T00:00:00\", \"2020-08-06T00:00:00\", \"2020-08-07T00:00:00\", \"2020-08-08T00:00:00\", \"2020-08-09T00:00:00\", \"2020-08-10T00:00:00\", \"2020-08-11T00:00:00\", \"2020-08-12T00:00:00\", \"2020-08-13T00:00:00\", \"2020-08-14T00:00:00\", \"2020-08-15T00:00:00\", \"2020-08-16T00:00:00\", \"2020-08-17T00:00:00\", \"2020-08-18T00:00:00\", \"2020-08-19T00:00:00\", \"2020-08-20T00:00:00\", \"2020-08-21T00:00:00\", \"2020-08-22T00:00:00\", \"2020-08-23T00:00:00\", \"2020-08-24T00:00:00\", \"2020-08-25T00:00:00\", \"2020-08-26T00:00:00\", \"2020-08-27T00:00:00\", \"2020-08-28T00:00:00\", \"2020-08-29T00:00:00\", \"2020-08-30T00:00:00\"], \"y\": [0.0007299270072992701, 0.0007299270072992701, 0.0007299270072992701, 0.0007299270072992701, 0.0007299270072992701, 0.001094890510948905, 0.001094890510948905, 0.001094890510948905, 0.001094890510948905, 0.0014598540145985403, 0.00218978102189781, 0.0029197080291970805, 0.0029197080291970805, 0.0036496350364963507, 0.004744525547445256, 0.004744525547445256, 0.004744525547445256, 0.004744525547445256, 0.004744525547445256, 0.004744525547445256, 0.004744525547445256, 0.004744525547445256, 0.004744525547445256, 0.004744525547445256, 0.004744525547445256, 0.004744525547445256, 0.004744525547445256, 0.0051094890510948905, 0.0051094890510948905, 0.0051094890510948905, 0.0051094890510948905, 0.0051094890510948905, 0.0051094890510948905, 0.0051094890510948905, 0.005474452554744525, 0.005474452554744525, 0.005474452554744525, 0.005474452554744525, 0.005474452554744525, 0.0062043795620437955, 0.0062043795620437955, 0.006569343065693431, 0.006569343065693431, 0.006569343065693431, 0.006569343065693431, 0.006569343065693431, 0.006569343065693431, 0.006569343065693431, 0.006569343065693431, 0.007299270072992701, 0.007299270072992701, 0.007299270072992701, 0.008029197080291971, 0.008029197080291971, 0.008029197080291971, 0.008029197080291971, 0.008029197080291971, 0.014598540145985403, 0.014963503649635036, 0.014963503649635036, 0.014963503649635036, 0.014963503649635036, 0.015328467153284672, 0.015328467153284672, 0.015328467153284672, 0.015328467153284672, 0.015328467153284672, 0.015328467153284672, 0.015693430656934307, 0.015693430656934307, 0.015693430656934307, 0.015693430656934307, 0.015693430656934307, 0.015693430656934307, 0.015693430656934307, 0.016058394160583942, 0.016058394160583942, 0.016058394160583942, 0.01788321167883212, 0.018978102189781024, 0.018978102189781024, 0.019343065693430656, 0.019343065693430656, 0.02664233576642336, 0.027007299270072994, 0.027007299270072994, 0.027007299270072994, 0.028102189781021896, 0.029562043795620437, 0.03284671532846715, 0.03284671532846715, 0.0354014598540146, 0.03613138686131387, 0.03759124087591241, 0.03759124087591241, 0.03941605839416058, 0.041970802919708027, 0.049270072992700725, 0.08722627737226277, 0.15948905109489053, 0.20036496350364963, 0.20255474452554745, 0.23686131386861314, 0.2507299270072993, 0.2507299270072993, 0.27153284671532846, 0.30510948905109486, 0.30547445255474454, 0.3091240875912409, 0.34014598540145985, 0.3434306569343066, 0.3434306569343066, 0.3452554744525548, 0.3503649635036496, 0.35145985401459856, 0.3518248175182482, 0.35510948905109485, 0.3613138686131387, 0.3613138686131387, 0.3653284671532847, 0.36678832116788324, 0.36678832116788324, 0.36678832116788324, 0.3799270072992701, 0.3799270072992701, 0.38503649635036497, 0.3883211678832117, 0.3930656934306569, 0.3963503649635037, 0.39890510948905106, 0.39890510948905106, 0.4167883211678832, 0.41861313868613137, 0.42007299270072995, 0.422992700729927, 0.42992700729927, 0.4361313868613138, 0.4372262773722628, 0.4401459854014599, 0.4416058394160584, 0.4547445255474452, 0.46569343065693436, 0.46897810218978103, 0.4766423357664234, 0.4843065693430657, 0.49160583941605834, 0.502919708029197, 0.5124087591240876, 0.5335766423357664, 0.535036496350365, 0.541970802919708, 0.5598540145985401, 0.5810218978102191, 0.5821167883211679, 0.589051094890511, 0.5981751824817518, 0.6160583941605839, 0.6266423357664234, 0.6459854014598541, 0.660948905109489, 0.6748175182481752, 0.6857664233576642, 0.6967153284671533, 0.710948905109489, 0.7175182481751825, 0.7335766423357665, 0.7474452554744526, 0.758029197080292, 0.7784671532846715, 0.8065693430656934, 0.8317518248175183, 0.8503649635036495, 0.8832116788321168, 0.8945255474452555, 0.9094890510948904, 0.927007299270073, 0.95]}, {\"name\": \"Tamil Nadu\", \"type\": \"scatter\", \"x\": [\"2020-03-07T00:00:00\", \"2020-03-08T00:00:00\", \"2020-03-09T00:00:00\", \"2020-03-10T00:00:00\", \"2020-03-11T00:00:00\", \"2020-03-12T00:00:00\", \"2020-03-13T00:00:00\", \"2020-03-14T00:00:00\", \"2020-03-15T00:00:00\", \"2020-03-16T00:00:00\", \"2020-03-17T00:00:00\", \"2020-03-18T00:00:00\", \"2020-03-19T00:00:00\", \"2020-03-20T00:00:00\", \"2020-03-21T00:00:00\", \"2020-03-22T00:00:00\", \"2020-03-23T00:00:00\", \"2020-03-24T00:00:00\", \"2020-03-25T00:00:00\", \"2020-03-26T00:00:00\", \"2020-03-27T00:00:00\", \"2020-03-28T00:00:00\", \"2020-03-29T00:00:00\", \"2020-03-30T00:00:00\", \"2020-03-31T00:00:00\", \"2020-04-01T00:00:00\", \"2020-04-02T00:00:00\", \"2020-04-03T00:00:00\", \"2020-04-04T00:00:00\", \"2020-04-05T00:00:00\", \"2020-04-06T00:00:00\", \"2020-04-07T00:00:00\", \"2020-04-08T00:00:00\", \"2020-04-09T00:00:00\", \"2020-04-10T00:00:00\", \"2020-04-11T00:00:00\", \"2020-04-12T00:00:00\", \"2020-04-13T00:00:00\", \"2020-04-14T00:00:00\", \"2020-04-15T00:00:00\", \"2020-04-16T00:00:00\", \"2020-04-17T00:00:00\", \"2020-04-18T00:00:00\", \"2020-04-19T00:00:00\", \"2020-04-20T00:00:00\", \"2020-04-21T00:00:00\", \"2020-04-22T00:00:00\", \"2020-04-23T00:00:00\", \"2020-04-24T00:00:00\", \"2020-04-25T00:00:00\", \"2020-04-26T00:00:00\", \"2020-04-27T00:00:00\", \"2020-04-28T00:00:00\", \"2020-04-29T00:00:00\", \"2020-04-30T00:00:00\", \"2020-05-01T00:00:00\", \"2020-05-02T00:00:00\", \"2020-05-03T00:00:00\", \"2020-05-04T00:00:00\", \"2020-05-05T00:00:00\", \"2020-05-06T00:00:00\", \"2020-05-07T00:00:00\", \"2020-05-08T00:00:00\", \"2020-05-09T00:00:00\", \"2020-05-10T00:00:00\", \"2020-05-11T00:00:00\", \"2020-05-12T00:00:00\", \"2020-05-13T00:00:00\", \"2020-05-14T00:00:00\", \"2020-05-15T00:00:00\", \"2020-05-16T00:00:00\", \"2020-05-17T00:00:00\", \"2020-05-18T00:00:00\", \"2020-05-19T00:00:00\", \"2020-05-20T00:00:00\", \"2020-05-21T00:00:00\", \"2020-05-22T00:00:00\", \"2020-05-23T00:00:00\", \"2020-05-24T00:00:00\", \"2020-05-25T00:00:00\", \"2020-05-26T00:00:00\", \"2020-05-27T00:00:00\", \"2020-05-28T00:00:00\", \"2020-05-29T00:00:00\", \"2020-05-30T00:00:00\", \"2020-05-31T00:00:00\", \"2020-06-01T00:00:00\", \"2020-06-02T00:00:00\", \"2020-06-03T00:00:00\", \"2020-06-04T00:00:00\", \"2020-06-05T00:00:00\", \"2020-06-06T00:00:00\", \"2020-06-07T00:00:00\", \"2020-06-08T00:00:00\", \"2020-06-09T00:00:00\", \"2020-06-10T00:00:00\", \"2020-06-11T00:00:00\", \"2020-06-12T00:00:00\", \"2020-06-13T00:00:00\", \"2020-06-14T00:00:00\", \"2020-06-15T00:00:00\", \"2020-06-16T00:00:00\", \"2020-06-17T00:00:00\", \"2020-06-18T00:00:00\", \"2020-06-19T00:00:00\", \"2020-06-20T00:00:00\", \"2020-06-21T00:00:00\", \"2020-06-22T00:00:00\", \"2020-06-23T00:00:00\", \"2020-06-24T00:00:00\", \"2020-06-25T00:00:00\", \"2020-06-26T00:00:00\", \"2020-06-27T00:00:00\", \"2020-06-28T00:00:00\", \"2020-06-29T00:00:00\", \"2020-06-30T00:00:00\", \"2020-07-01T00:00:00\", \"2020-07-02T00:00:00\", \"2020-07-03T00:00:00\", \"2020-07-04T00:00:00\", \"2020-07-05T00:00:00\", \"2020-07-06T00:00:00\", \"2020-07-07T00:00:00\", \"2020-07-08T00:00:00\", \"2020-07-09T00:00:00\", \"2020-07-10T00:00:00\", \"2020-07-11T00:00:00\", \"2020-07-12T00:00:00\", \"2020-07-13T00:00:00\", \"2020-07-14T00:00:00\", \"2020-07-15T00:00:00\", \"2020-07-16T00:00:00\", \"2020-07-17T00:00:00\", \"2020-07-18T00:00:00\", \"2020-07-19T00:00:00\", \"2020-07-20T00:00:00\", \"2020-07-21T00:00:00\", \"2020-07-22T00:00:00\", \"2020-07-23T00:00:00\", \"2020-07-24T00:00:00\", \"2020-07-25T00:00:00\", \"2020-07-26T00:00:00\", \"2020-07-27T00:00:00\", \"2020-07-28T00:00:00\", \"2020-07-29T00:00:00\", \"2020-07-30T00:00:00\", \"2020-07-31T00:00:00\", \"2020-08-01T00:00:00\", \"2020-08-02T00:00:00\", \"2020-08-03T00:00:00\", \"2020-08-04T00:00:00\", \"2020-08-05T00:00:00\", \"2020-08-06T00:00:00\", \"2020-08-07T00:00:00\", \"2020-08-08T00:00:00\", \"2020-08-09T00:00:00\", \"2020-08-10T00:00:00\", \"2020-08-11T00:00:00\", \"2020-08-12T00:00:00\", \"2020-08-13T00:00:00\", \"2020-08-14T00:00:00\", \"2020-08-15T00:00:00\", \"2020-08-16T00:00:00\", \"2020-08-17T00:00:00\", \"2020-08-18T00:00:00\", \"2020-08-19T00:00:00\", \"2020-08-20T00:00:00\", \"2020-08-21T00:00:00\", \"2020-08-22T00:00:00\", \"2020-08-23T00:00:00\", \"2020-08-24T00:00:00\", \"2020-08-25T00:00:00\", \"2020-08-26T00:00:00\", \"2020-08-27T00:00:00\", \"2020-08-28T00:00:00\", \"2020-08-29T00:00:00\", \"2020-08-30T00:00:00\"], \"y\": [1.3860584420453622e-06, 1.3860584420453622e-06, 1.3860584420453622e-06, 1.3860584420453622e-06, 1.3860584420453622e-06, 1.3860584420453622e-06, 1.3860584420453622e-06, 1.3860584420453622e-06, 1.3860584420453622e-06, 1.3860584420453622e-06, 1.3860584420453622e-06, 1.3860584420453622e-06, 2.7721168840907244e-06, 4.158175326136086e-06, 4.158175326136086e-06, 9.702409094317536e-06, 1.2474525978408258e-05, 2.0790876630680433e-05, 2.4949051956816516e-05, 3.603751949317941e-05, 4.01956948193155e-05, 5.544233768181448e-05, 6.791686366022274e-05, 9.286591561703926e-05, 0.0001025683247113568, 0.0003243376754386147, 0.0003243376754386147, 0.0004282920585920169, 0.0005696700196806438, 0.0006722383443920006, 0.0007914393704079018, 0.0008607422925101699, 0.0009563803250112998, 0.0010229111302294772, 0.001155972740665832, 0.0012626992407033248, 0.0013430906303419558, 0.0014900128251987643, 0.0016258465525192097, 0.0016688143642226158, 0.0017214845850203398, 0.0017561360460714736, 0.001833755318826014, 0.001901672182486237, 0.002047208318901, 0.0021068088319089505, 0.002212149273504398, 0.0022578892020918948, 0.0023327363579623444, 0.0024325325657896103, 0.0025240124229646043, 0.0026127201632555074, 0.0026847952022418663, 0.002852508273729355, 0.0029966583517020725, 0.0032198137608713765, 0.0035011836246065845, 0.0038213631247190636, 0.004190054670303129, 0.004920507469261036, 0.005624625157820079, 0.0066932762166370535, 0.007497190113023363, 0.00832882517825058, 0.009057891918766442, 0.009985165016494789, 0.011091239653246987, 0.012083657497751466, 0.012789161244752557, 0.013408729368346832, 0.014010278732194521, 0.014671428609050156, 0.015557119953517145, 0.01630004727845346, 0.017253655486580668, 0.018283496909020373, 0.019359078260047572, 0.020448520195495225, 0.021500538553007657, 0.02256087326117236, 0.023676650307018873, 0.024572044060580178, 0.02570445380773124, 0.026850724139302756, 0.0280621392176504, 0.029362262036288948, 0.03095484318619907, 0.03256544309585578, 0.03407763285612728, 0.03586010401259761, 0.03777840889638839, 0.03977156093604962, 0.04179243414455176, 0.04389231268425048, 0.04605733597072534, 0.04839284444557177, 0.05106377906339319, 0.05366263864222824, 0.05640980647436215, 0.05916667671559037, 0.061902756080187915, 0.0644572617888775, 0.06655714032857624, 0.06957043138158286, 0.07253798250600198, 0.07546949611092792, 0.07879049213806862, 0.08229999211332746, 0.08605621049127041, 0.08954353353145653, 0.09351459096791649, 0.09837827004105368, 0.10343045306230901, 0.10857688805762343, 0.11403795831928216, 0.11951150310691931, 0.12497673154390415, 0.13035741041592427, 0.13637706222972726, 0.14237730922534164, 0.14830963935729577, 0.15406178189178404, 0.15936622754949165, 0.16437821487592766, 0.16958425038425004, 0.17544866365254397, 0.1805493587192709, 0.18604508044198076, 0.1919275124700213, 0.19792637340719363, 0.20419967391589094, 0.21043139267132688, 0.2167365725241912, 0.22302650573419305, 0.22968928866510513, 0.23659047364804897, 0.24349997498164513, 0.2503817551464004, 0.2584888109739237, 0.26745938121084123, 0.27686378774011905, 0.286549564133132, 0.29623256840926093, 0.30592527509448414, 0.3155888745524244, 0.3244956861010079, 0.33262353280516194, 0.3407749425028307, 0.34892358008361535, 0.35706667343063186, 0.36484107523206427, 0.37185868912413994, 0.3790315415617247, 0.38690989774631057, 0.39505992138553725, 0.40321410320009016, 0.41152213750171, 0.41971928712796636, 0.42780555207885895, 0.43594310119210733, 0.44403075220144195, 0.4521946364250891, 0.46031693889547504, 0.46856398662564486, 0.476727870849292, 0.48464087849492904, 0.4926730871665819, 0.5009700330006654, 0.5092794533607274, 0.5175680828441587, 0.5258497820353797, 0.5341203927590644, 0.5423688265476764, 0.5506269627453826, 0.558916978287256, 0.56722778470576, 0.576032027929632]}, {\"name\": \"Karnataka\", \"type\": \"scatter\", \"x\": [\"2020-03-09T00:00:00\", \"2020-03-10T00:00:00\", \"2020-03-11T00:00:00\", \"2020-03-12T00:00:00\", \"2020-03-13T00:00:00\", \"2020-03-14T00:00:00\", \"2020-03-15T00:00:00\", \"2020-03-16T00:00:00\", \"2020-03-17T00:00:00\", \"2020-03-18T00:00:00\", \"2020-03-19T00:00:00\", \"2020-03-20T00:00:00\", \"2020-03-21T00:00:00\", \"2020-03-22T00:00:00\", \"2020-03-23T00:00:00\", \"2020-03-24T00:00:00\", \"2020-03-25T00:00:00\", \"2020-03-26T00:00:00\", \"2020-03-27T00:00:00\", \"2020-03-28T00:00:00\", \"2020-03-29T00:00:00\", \"2020-03-30T00:00:00\", \"2020-03-31T00:00:00\", \"2020-04-01T00:00:00\", \"2020-04-02T00:00:00\", \"2020-04-03T00:00:00\", \"2020-04-04T00:00:00\", \"2020-04-05T00:00:00\", \"2020-04-06T00:00:00\", \"2020-04-07T00:00:00\", \"2020-04-08T00:00:00\", \"2020-04-09T00:00:00\", \"2020-04-10T00:00:00\", \"2020-04-11T00:00:00\", \"2020-04-12T00:00:00\", \"2020-04-13T00:00:00\", \"2020-04-14T00:00:00\", \"2020-04-15T00:00:00\", \"2020-04-16T00:00:00\", \"2020-04-17T00:00:00\", \"2020-04-18T00:00:00\", \"2020-04-19T00:00:00\", \"2020-04-20T00:00:00\", \"2020-04-21T00:00:00\", \"2020-04-22T00:00:00\", \"2020-04-23T00:00:00\", \"2020-04-24T00:00:00\", \"2020-04-25T00:00:00\", \"2020-04-26T00:00:00\", \"2020-04-27T00:00:00\", \"2020-04-28T00:00:00\", \"2020-04-29T00:00:00\", \"2020-04-30T00:00:00\", \"2020-05-01T00:00:00\", \"2020-05-02T00:00:00\", \"2020-05-03T00:00:00\", \"2020-05-04T00:00:00\", \"2020-05-05T00:00:00\", \"2020-05-06T00:00:00\", \"2020-05-07T00:00:00\", \"2020-05-08T00:00:00\", \"2020-05-09T00:00:00\", \"2020-05-10T00:00:00\", \"2020-05-11T00:00:00\", \"2020-05-12T00:00:00\", \"2020-05-13T00:00:00\", \"2020-05-14T00:00:00\", \"2020-05-15T00:00:00\", \"2020-05-16T00:00:00\", \"2020-05-17T00:00:00\", \"2020-05-18T00:00:00\", \"2020-05-19T00:00:00\", \"2020-05-20T00:00:00\", \"2020-05-21T00:00:00\", \"2020-05-22T00:00:00\", \"2020-05-23T00:00:00\", \"2020-05-24T00:00:00\", \"2020-05-25T00:00:00\", \"2020-05-26T00:00:00\", \"2020-05-27T00:00:00\", \"2020-05-28T00:00:00\", \"2020-05-29T00:00:00\", \"2020-05-30T00:00:00\", \"2020-05-31T00:00:00\", \"2020-06-01T00:00:00\", \"2020-06-02T00:00:00\", \"2020-06-03T00:00:00\", \"2020-06-04T00:00:00\", \"2020-06-05T00:00:00\", \"2020-06-06T00:00:00\", \"2020-06-07T00:00:00\", \"2020-06-08T00:00:00\", \"2020-06-09T00:00:00\", \"2020-06-10T00:00:00\", \"2020-06-11T00:00:00\", \"2020-06-12T00:00:00\", \"2020-06-13T00:00:00\", \"2020-06-14T00:00:00\", \"2020-06-15T00:00:00\", \"2020-06-16T00:00:00\", \"2020-06-17T00:00:00\", \"2020-06-18T00:00:00\", \"2020-06-19T00:00:00\", \"2020-06-20T00:00:00\", \"2020-06-21T00:00:00\", \"2020-06-22T00:00:00\", \"2020-06-23T00:00:00\", \"2020-06-24T00:00:00\", \"2020-06-25T00:00:00\", \"2020-06-26T00:00:00\", \"2020-06-27T00:00:00\", \"2020-06-28T00:00:00\", \"2020-06-29T00:00:00\", \"2020-06-30T00:00:00\", \"2020-07-01T00:00:00\", \"2020-07-02T00:00:00\", \"2020-07-03T00:00:00\", \"2020-07-04T00:00:00\", \"2020-07-05T00:00:00\", \"2020-07-06T00:00:00\", \"2020-07-07T00:00:00\", \"2020-07-08T00:00:00\", \"2020-07-09T00:00:00\", \"2020-07-10T00:00:00\", \"2020-07-11T00:00:00\", \"2020-07-12T00:00:00\", \"2020-07-13T00:00:00\", \"2020-07-14T00:00:00\", \"2020-07-15T00:00:00\", \"2020-07-16T00:00:00\", \"2020-07-17T00:00:00\", \"2020-07-18T00:00:00\", \"2020-07-19T00:00:00\", \"2020-07-20T00:00:00\", \"2020-07-21T00:00:00\", \"2020-07-22T00:00:00\", \"2020-07-23T00:00:00\", \"2020-07-24T00:00:00\", \"2020-07-25T00:00:00\", \"2020-07-26T00:00:00\", \"2020-07-27T00:00:00\", \"2020-07-28T00:00:00\", \"2020-07-29T00:00:00\", \"2020-07-30T00:00:00\", \"2020-07-31T00:00:00\", \"2020-08-01T00:00:00\", \"2020-08-02T00:00:00\", \"2020-08-03T00:00:00\", \"2020-08-04T00:00:00\", \"2020-08-05T00:00:00\", \"2020-08-06T00:00:00\", \"2020-08-07T00:00:00\", \"2020-08-08T00:00:00\", \"2020-08-09T00:00:00\", \"2020-08-10T00:00:00\", \"2020-08-11T00:00:00\", \"2020-08-12T00:00:00\", \"2020-08-13T00:00:00\", \"2020-08-14T00:00:00\", \"2020-08-15T00:00:00\", \"2020-08-16T00:00:00\", \"2020-08-17T00:00:00\", \"2020-08-18T00:00:00\", \"2020-08-19T00:00:00\", \"2020-08-20T00:00:00\", \"2020-08-21T00:00:00\", \"2020-08-22T00:00:00\", \"2020-08-23T00:00:00\", \"2020-08-24T00:00:00\", \"2020-08-25T00:00:00\", \"2020-08-26T00:00:00\", \"2020-08-27T00:00:00\", \"2020-08-28T00:00:00\", \"2020-08-29T00:00:00\", \"2020-08-30T00:00:00\"], \"y\": [1.6367871982028338e-06, 6.547148792811335e-06, 6.547148792811335e-06, 6.547148792811335e-06, 9.820723189217003e-06, 9.820723189217003e-06, 9.820723189217003e-06, 9.820723189217003e-06, 1.800465918023117e-05, 1.800465918023117e-05, 2.2915020774839673e-05, 2.4551807973042505e-05, 2.4551807973042505e-05, 4.2556467153273676e-05, 5.401397754069352e-05, 6.056112633350485e-05, 6.710827512631619e-05, 9.002329590115586e-05, 9.002329590115586e-05, 9.002329590115586e-05, 0.00012439582706341538, 0.0001358533374508352, 0.0001358533374508352, 0.00016531550701848622, 0.00018004659180231172, 0.0002029616125771514, 0.00020950876136996272, 0.0002356973565412081, 0.0002471548669286279, 0.0002864377596854959, 0.0002864377596854959, 0.0002962584828747129, 0.00032244707804595827, 0.0003502724604154064, 0.0003699139067938404, 0.00040428643795609995, 0.0004222910971363311, 0.00045339005390218493, 0.0005155879674338926, 0.0005777858809656003, 0.0006072480505332513, 0.0006285262841098882, 0.0006465309432901194, 0.000679266687254176, 0.0006956345592362044, 0.0007250967288038554, 0.0007578324727679121, 0.0008003889399211858, 0.0008200303862996198, 0.0008363982582816482, 0.0008511293430654735, 0.0008707707894439076, 0.0009116904693989784, 0.0009427894261648323, 0.0009640676597414691, 0.0009918930421109174, 0.0010508173812462194, 0.0010786427636156675, 0.0010982842099941015, 0.0011342935283545639, 0.0011539349747329978, 0.001232500760246734, 0.0012996090353730502, 0.0013879955440760032, 0.0014109105648508428, 0.0015140281583376214, 0.0015696789230765177, 0.0016155089646261972, 0.0017284472813021926, 0.0017873716204374946, 0.0018773949163386503, 0.0020394368489607306, 0.002286591715889359, 0.002392982883772543, 0.0026270434531155485, 0.0028529200864675394, 0.0032064661212793514, 0.00341924845704572, 0.0035714696664785836, 0.0037367851734970694, 0.003957751445254452, 0.004145981973047779, 0.004551905198202081, 0.004782692193148681, 0.005272091565411328, 0.005578170771475258, 0.006213244204377957, 0.006650266386298114, 0.007070920696236243, 0.007913866103310702, 0.008532571664231372, 0.00892376380460185, 0.009427894261648324, 0.009691417000558979, 0.009887831464343319, 0.010221736052776697, 0.010665305383489665, 0.011169435840536139, 0.011457510387419836, 0.01180614606063704, 0.012325007602467339, 0.012658912190900717, 0.01300263750252331, 0.013554234788317666, 0.014235138262770047, 0.01497660286355593, 0.015384162875908434, 0.01591120835372975, 0.016561012871416272, 0.017284472813021926, 0.018012843116222185, 0.019515413764172387, 0.02158922314429538, 0.02339787299830951, 0.024947910475007596, 0.0270299037911216, 0.029488358162822255, 0.032261075676577856, 0.035271127334072866, 0.038421942690613324, 0.04143854149690114, 0.04389044871980899, 0.047265503922503234, 0.050912265800099145, 0.0546981545895423, 0.05927788517011383, 0.06357772513979268, 0.06805924848847203, 0.0721446693351863, 0.07734310547667851, 0.08416687130598612, 0.09021152642894918, 0.09763762994719545, 0.10438119320379112, 0.11035219290283507, 0.11632482938907719, 0.12412248360131549, 0.13235552320827573, 0.14055091670967734, 0.14885270137896212, 0.15736235802241866, 0.16607661306565052, 0.17513786699490141, 0.18414510694661163, 0.19417533889719857, 0.20314984310494472, 0.21161530649404978, 0.22067001327450786, 0.2284480260403677, 0.23869267711391925, 0.24788978438062098, 0.2590281212643913, 0.2699454918764042, 0.2816943503851041, 0.2914905217663481, 0.2984746927410796, 0.30871607024023473, 0.3216188637236676, 0.33259515867481587, 0.34553887183820386, 0.3599720613519564, 0.3714950432273044, 0.38183462795835166, 0.3943806018325764, 0.40852571679944527, 0.42061339025817324, 0.43300550613576694, 0.44500315629859366, 0.4547223986815221, 0.4642992405782069, 0.47765706090274024, 0.4917006950633205, 0.5070635797056523, 0.5217291930015496, 0.5353538096393902]}, {\"name\": \"Maharashtra\", \"type\": \"scatter\", \"x\": [\"2020-03-09T00:00:00\", \"2020-03-10T00:00:00\", \"2020-03-11T00:00:00\", \"2020-03-12T00:00:00\", \"2020-03-13T00:00:00\", \"2020-03-14T00:00:00\", \"2020-03-15T00:00:00\", \"2020-03-16T00:00:00\", \"2020-03-17T00:00:00\", \"2020-03-18T00:00:00\", \"2020-03-19T00:00:00\", \"2020-03-20T00:00:00\", \"2020-03-21T00:00:00\", \"2020-03-22T00:00:00\", \"2020-03-23T00:00:00\", \"2020-03-24T00:00:00\", \"2020-03-25T00:00:00\", \"2020-03-26T00:00:00\", \"2020-03-27T00:00:00\", \"2020-03-28T00:00:00\", \"2020-03-29T00:00:00\", \"2020-03-30T00:00:00\", \"2020-03-31T00:00:00\", \"2020-04-01T00:00:00\", \"2020-04-02T00:00:00\", \"2020-04-03T00:00:00\", \"2020-04-04T00:00:00\", \"2020-04-05T00:00:00\", \"2020-04-06T00:00:00\", \"2020-04-07T00:00:00\", \"2020-04-08T00:00:00\", \"2020-04-09T00:00:00\", \"2020-04-10T00:00:00\", \"2020-04-11T00:00:00\", \"2020-04-12T00:00:00\", \"2020-04-13T00:00:00\", \"2020-04-14T00:00:00\", \"2020-04-15T00:00:00\", \"2020-04-16T00:00:00\", \"2020-04-17T00:00:00\", \"2020-04-18T00:00:00\", \"2020-04-19T00:00:00\", \"2020-04-20T00:00:00\", \"2020-04-21T00:00:00\", \"2020-04-22T00:00:00\", \"2020-04-23T00:00:00\", \"2020-04-24T00:00:00\", \"2020-04-25T00:00:00\", \"2020-04-26T00:00:00\", \"2020-04-27T00:00:00\", \"2020-04-28T00:00:00\", \"2020-04-29T00:00:00\", \"2020-04-30T00:00:00\", \"2020-05-01T00:00:00\", \"2020-05-02T00:00:00\", \"2020-05-03T00:00:00\", \"2020-05-04T00:00:00\", \"2020-05-05T00:00:00\", \"2020-05-06T00:00:00\", \"2020-05-07T00:00:00\", \"2020-05-08T00:00:00\", \"2020-05-09T00:00:00\", \"2020-05-10T00:00:00\", \"2020-05-11T00:00:00\", \"2020-05-12T00:00:00\", \"2020-05-13T00:00:00\", \"2020-05-14T00:00:00\", \"2020-05-15T00:00:00\", \"2020-05-16T00:00:00\", \"2020-05-17T00:00:00\", \"2020-05-18T00:00:00\", \"2020-05-19T00:00:00\", \"2020-05-20T00:00:00\", \"2020-05-21T00:00:00\", \"2020-05-22T00:00:00\", \"2020-05-23T00:00:00\", \"2020-05-24T00:00:00\", \"2020-05-25T00:00:00\", \"2020-05-26T00:00:00\", \"2020-05-27T00:00:00\", \"2020-05-28T00:00:00\", \"2020-05-29T00:00:00\", \"2020-05-30T00:00:00\", \"2020-05-31T00:00:00\", \"2020-06-01T00:00:00\", \"2020-06-02T00:00:00\", \"2020-06-03T00:00:00\", \"2020-06-04T00:00:00\", \"2020-06-05T00:00:00\", \"2020-06-06T00:00:00\", \"2020-06-07T00:00:00\", \"2020-06-08T00:00:00\", \"2020-06-09T00:00:00\", \"2020-06-10T00:00:00\", \"2020-06-11T00:00:00\", \"2020-06-12T00:00:00\", \"2020-06-13T00:00:00\", \"2020-06-14T00:00:00\", \"2020-06-15T00:00:00\", \"2020-06-16T00:00:00\", \"2020-06-17T00:00:00\", \"2020-06-18T00:00:00\", \"2020-06-19T00:00:00\", \"2020-06-20T00:00:00\", \"2020-06-21T00:00:00\", \"2020-06-22T00:00:00\", \"2020-06-23T00:00:00\", \"2020-06-24T00:00:00\", \"2020-06-25T00:00:00\", \"2020-06-26T00:00:00\", \"2020-06-27T00:00:00\", \"2020-06-28T00:00:00\", \"2020-06-29T00:00:00\", \"2020-06-30T00:00:00\", \"2020-07-01T00:00:00\", \"2020-07-02T00:00:00\", \"2020-07-03T00:00:00\", \"2020-07-04T00:00:00\", \"2020-07-05T00:00:00\", \"2020-07-06T00:00:00\", \"2020-07-07T00:00:00\", \"2020-07-08T00:00:00\", \"2020-07-09T00:00:00\", \"2020-07-10T00:00:00\", \"2020-07-11T00:00:00\", \"2020-07-12T00:00:00\", \"2020-07-13T00:00:00\", \"2020-07-14T00:00:00\", \"2020-07-15T00:00:00\", \"2020-07-16T00:00:00\", \"2020-07-17T00:00:00\", \"2020-07-18T00:00:00\", \"2020-07-19T00:00:00\", \"2020-07-20T00:00:00\", \"2020-07-21T00:00:00\", \"2020-07-22T00:00:00\", \"2020-07-23T00:00:00\", \"2020-07-24T00:00:00\", \"2020-07-25T00:00:00\", \"2020-07-26T00:00:00\", \"2020-07-27T00:00:00\", \"2020-07-28T00:00:00\", \"2020-07-29T00:00:00\", \"2020-07-30T00:00:00\", \"2020-07-31T00:00:00\", \"2020-08-01T00:00:00\", \"2020-08-02T00:00:00\", \"2020-08-03T00:00:00\", \"2020-08-04T00:00:00\", \"2020-08-05T00:00:00\", \"2020-08-06T00:00:00\", \"2020-08-07T00:00:00\", \"2020-08-08T00:00:00\", \"2020-08-09T00:00:00\", \"2020-08-10T00:00:00\", \"2020-08-11T00:00:00\", \"2020-08-12T00:00:00\", \"2020-08-13T00:00:00\", \"2020-08-14T00:00:00\", \"2020-08-15T00:00:00\", \"2020-08-16T00:00:00\", \"2020-08-17T00:00:00\", \"2020-08-18T00:00:00\", \"2020-08-19T00:00:00\", \"2020-08-20T00:00:00\", \"2020-08-21T00:00:00\", \"2020-08-22T00:00:00\", \"2020-08-23T00:00:00\", \"2020-08-24T00:00:00\", \"2020-08-25T00:00:00\", \"2020-08-26T00:00:00\", \"2020-08-27T00:00:00\", \"2020-08-28T00:00:00\", \"2020-08-29T00:00:00\", \"2020-08-30T00:00:00\"], \"y\": [1.7797658474199797e-06, 4.449414618549949e-06, 1.7797658474199797e-06, 9.788712160809889e-06, 1.2458360931939858e-05, 1.2458360931939858e-05, 2.8476253558719675e-05, 2.8476253558719675e-05, 3.470543402468961e-05, 3.737508279581958e-05, 4.1824497414369525e-05, 4.627391203291948e-05, 5.606262419372936e-05, 5.962215588856932e-05, 6.585133635453925e-05, 7.91995802101891e-05, 0.0001139050142348787, 0.00011034548254003874, 0.00011568478008229868, 0.00016017892626779816, 0.0001655182238100581, 0.000176196818894578, 0.00019221471152135782, 0.00026874464296041696, 0.0002981107794428466, 0.0002981107794428466, 0.00043604263261789506, 0.00043604263261789506, 0.0006656324269350725, 0.0007724183777802711, 0.0009059008163367698, 0.0010100171184108386, 0.0012138003079404263, 0.001400675721919524, 0.0015670838286532922, 0.00176641760356433, 0.0020796563927102463, 0.0023911154160087427, 0.0025975682543094604, 0.0028520747704905178, 0.0029570809554882965, 0.0032489625544651728, 0.0037401779283530875, 0.004154863370801943, 0.004646078744689857, 0.005029618284808863, 0.005721947199455235, 0.006066331890931001, 0.006788026942059803, 0.007179575428492198, 0.007644094314668812, 0.008291929083129685, 0.00882318918858455, 0.009341990933107473, 0.010238992920207144, 0.010942000429938035, 0.01154534105221341, 0.012939787593666964, 0.013815432390597593, 0.014912658035532012, 0.01599475567076336, 0.016963838174683537, 0.018000551780805674, 0.019729594301574185, 0.020824150297737473, 0.021737170177463926, 0.02306754514841036, 0.02449313759219376, 0.025895593079960706, 0.02732474505543895, 0.029413300277386298, 0.03119751553942483, 0.033046692254894185, 0.034969729253031476, 0.037056504709131396, 0.03967276050483877, 0.041993575169874425, 0.0446997091408765, 0.04686746394303404, 0.04872820913651163, 0.050677052739436505, 0.05298896857523506, 0.055375634576625254, 0.05799189037233262, 0.06020502920359936, 0.06230337313770753, 0.06433853538423227, 0.06661663566892985, 0.06922666228417124, 0.07139441708632878, 0.07383180641437044, 0.07650768436596637, 0.07877955547019799, 0.08078980099485886, 0.08368548002861116, 0.0868952877344331, 0.09000364878695209, 0.09305327756650622, 0.09606998067788308, 0.09854919450333911, 0.10095276828027981, 0.10389561110898875, 0.10723445183874862, 0.11064003378778677, 0.11408744023423925, 0.11753128714899691, 0.12084254150812178, 0.12370262522492569, 0.12716426979815756, 0.13147219303183763, 0.13594296484055662, 0.14160973929874182, 0.1464978661986808, 0.1511759807286242, 0.15551682963048155, 0.16044411137906375, 0.16607529052030057, 0.17173850544679095, 0.17803353724911541, 0.1838667198140344, 0.18864361134850963, 0.1932122702788367, 0.19908816722409378, 0.20520611232459998, 0.2122023718708079, 0.2194451289868835, 0.2264102426307616, 0.2321918119861054, 0.23819051277483447, 0.24528732909142162, 0.2529768074351996, 0.2603699547653822, 0.2677986974125132, 0.27626860308038487, 0.2836012383717552, 0.2910193024238017, 0.30043070422495854, 0.3092360957550689, 0.31779232006654046, 0.32602462699378154, 0.3344171128472905, 0.3414685451347685, 0.34833577165703844, 0.35653248326733117, 0.36645200821792645, 0.3756355999906135, 0.38417936594115315, 0.39264126266271143, 0.4006217327225426, 0.40752722421053217, 0.4167010272710584, 0.4269471392546552, 0.43627578194390704, 0.44768586079171657, 0.4585851468413165, 0.466755161963898, 0.47662218382199434, 0.4879343755481957, 0.49844656252598185, 0.5096662064281173, 0.5203625991711114, 0.5302500883364532, 0.5378078640075221, 0.5477024722362535, 0.5594177809268954, 0.5724518961104758, 0.5850535281931328, 0.597949711523538, 0.6072409791299941, 0.6170430395346596, 0.6263200690143362, 0.6395686459825306, 0.6527896365800898, 0.6656279775204539, 0.6801206108159947]}, {\"name\": \"Punjab\", \"type\": \"scatter\", \"x\": [\"2020-03-09T00:00:00\", \"2020-03-10T00:00:00\", \"2020-03-11T00:00:00\", \"2020-03-12T00:00:00\", \"2020-03-13T00:00:00\", \"2020-03-14T00:00:00\", \"2020-03-15T00:00:00\", \"2020-03-16T00:00:00\", \"2020-03-17T00:00:00\", \"2020-03-18T00:00:00\", \"2020-03-19T00:00:00\", \"2020-03-20T00:00:00\", \"2020-03-21T00:00:00\", \"2020-03-22T00:00:00\", \"2020-03-23T00:00:00\", \"2020-03-24T00:00:00\", \"2020-03-25T00:00:00\", \"2020-03-26T00:00:00\", \"2020-03-27T00:00:00\", \"2020-03-28T00:00:00\", \"2020-03-29T00:00:00\", \"2020-03-30T00:00:00\", \"2020-03-31T00:00:00\", \"2020-04-01T00:00:00\", \"2020-04-02T00:00:00\", \"2020-04-03T00:00:00\", \"2020-04-04T00:00:00\", \"2020-04-05T00:00:00\", \"2020-04-06T00:00:00\", \"2020-04-07T00:00:00\", \"2020-04-08T00:00:00\", \"2020-04-09T00:00:00\", \"2020-04-10T00:00:00\", \"2020-04-11T00:00:00\", \"2020-04-12T00:00:00\", \"2020-04-13T00:00:00\", \"2020-04-14T00:00:00\", \"2020-04-15T00:00:00\", \"2020-04-16T00:00:00\", \"2020-04-17T00:00:00\", \"2020-04-18T00:00:00\", \"2020-04-19T00:00:00\", \"2020-04-20T00:00:00\", \"2020-04-21T00:00:00\", \"2020-04-22T00:00:00\", \"2020-04-23T00:00:00\", \"2020-04-24T00:00:00\", \"2020-04-25T00:00:00\", \"2020-04-26T00:00:00\", \"2020-04-27T00:00:00\", \"2020-04-28T00:00:00\", \"2020-04-29T00:00:00\", \"2020-04-30T00:00:00\", \"2020-05-01T00:00:00\", \"2020-05-02T00:00:00\", \"2020-05-03T00:00:00\", \"2020-05-04T00:00:00\", \"2020-05-05T00:00:00\", \"2020-05-06T00:00:00\", \"2020-05-07T00:00:00\", \"2020-05-08T00:00:00\", \"2020-05-09T00:00:00\", \"2020-05-10T00:00:00\", \"2020-05-11T00:00:00\", \"2020-05-12T00:00:00\", \"2020-05-13T00:00:00\", \"2020-05-14T00:00:00\", \"2020-05-15T00:00:00\", \"2020-05-16T00:00:00\", \"2020-05-17T00:00:00\", \"2020-05-18T00:00:00\", \"2020-05-19T00:00:00\", \"2020-05-20T00:00:00\", \"2020-05-21T00:00:00\", \"2020-05-22T00:00:00\", \"2020-05-23T00:00:00\", \"2020-05-24T00:00:00\", \"2020-05-25T00:00:00\", \"2020-05-26T00:00:00\", \"2020-05-27T00:00:00\", \"2020-05-28T00:00:00\", \"2020-05-29T00:00:00\", \"2020-05-30T00:00:00\", \"2020-05-31T00:00:00\", \"2020-06-01T00:00:00\", \"2020-06-02T00:00:00\", \"2020-06-03T00:00:00\", \"2020-06-04T00:00:00\", \"2020-06-05T00:00:00\", \"2020-06-06T00:00:00\", \"2020-06-07T00:00:00\", \"2020-06-08T00:00:00\", \"2020-06-09T00:00:00\", \"2020-06-10T00:00:00\", \"2020-06-11T00:00:00\", \"2020-06-12T00:00:00\", \"2020-06-13T00:00:00\", \"2020-06-14T00:00:00\", \"2020-06-15T00:00:00\", \"2020-06-16T00:00:00\", \"2020-06-17T00:00:00\", \"2020-06-18T00:00:00\", \"2020-06-19T00:00:00\", \"2020-06-20T00:00:00\", \"2020-06-21T00:00:00\", \"2020-06-22T00:00:00\", \"2020-06-23T00:00:00\", \"2020-06-24T00:00:00\", \"2020-06-25T00:00:00\", \"2020-06-26T00:00:00\", \"2020-06-27T00:00:00\", \"2020-06-28T00:00:00\", \"2020-06-29T00:00:00\", \"2020-06-30T00:00:00\", \"2020-07-01T00:00:00\", \"2020-07-02T00:00:00\", \"2020-07-03T00:00:00\", \"2020-07-04T00:00:00\", \"2020-07-05T00:00:00\", \"2020-07-06T00:00:00\", \"2020-07-07T00:00:00\", \"2020-07-08T00:00:00\", \"2020-07-09T00:00:00\", \"2020-07-10T00:00:00\", \"2020-07-11T00:00:00\", \"2020-07-12T00:00:00\", \"2020-07-13T00:00:00\", \"2020-07-14T00:00:00\", \"2020-07-15T00:00:00\", \"2020-07-16T00:00:00\", \"2020-07-17T00:00:00\", \"2020-07-18T00:00:00\", \"2020-07-19T00:00:00\", \"2020-07-20T00:00:00\", \"2020-07-21T00:00:00\", \"2020-07-22T00:00:00\", \"2020-07-23T00:00:00\", \"2020-07-24T00:00:00\", \"2020-07-25T00:00:00\", \"2020-07-26T00:00:00\", \"2020-07-27T00:00:00\", \"2020-07-28T00:00:00\", \"2020-07-29T00:00:00\", \"2020-07-30T00:00:00\", \"2020-07-31T00:00:00\", \"2020-08-01T00:00:00\", \"2020-08-02T00:00:00\", \"2020-08-03T00:00:00\", \"2020-08-04T00:00:00\", \"2020-08-05T00:00:00\", \"2020-08-06T00:00:00\", \"2020-08-07T00:00:00\", \"2020-08-08T00:00:00\", \"2020-08-09T00:00:00\", \"2020-08-10T00:00:00\", \"2020-08-11T00:00:00\", \"2020-08-12T00:00:00\", \"2020-08-13T00:00:00\", \"2020-08-14T00:00:00\", \"2020-08-15T00:00:00\", \"2020-08-16T00:00:00\", \"2020-08-17T00:00:00\", \"2020-08-18T00:00:00\", \"2020-08-19T00:00:00\", \"2020-08-20T00:00:00\", \"2020-08-21T00:00:00\", \"2020-08-22T00:00:00\", \"2020-08-23T00:00:00\", \"2020-08-24T00:00:00\", \"2020-08-25T00:00:00\", \"2020-08-26T00:00:00\", \"2020-08-27T00:00:00\", \"2020-08-28T00:00:00\", \"2020-08-29T00:00:00\", \"2020-08-30T00:00:00\"], \"y\": [3.6044689359297716e-06, 3.6044689359297716e-06, 3.6044689359297716e-06, 3.6044689359297716e-06, 3.6044689359297716e-06, 3.6044689359297716e-06, 3.6044689359297716e-06, 3.6044689359297716e-06, 3.6044689359297716e-06, 3.6044689359297716e-06, 7.208937871859543e-06, 7.208937871859543e-06, 4.6858096167087034e-05, 7.56938476545252e-05, 7.56938476545252e-05, 0.00010452959914196338, 0.00010452959914196338, 0.00011894747488568248, 0.00011894747488568248, 0.0001369698195653313, 0.0001369698195653313, 0.0001369698195653313, 0.00014778322637312062, 0.0001513876953090504, 0.00016580557105276949, 0.00017301450892462904, 0.000205454729347997, 0.000205454729347997, 0.0002739396391306626, 0.00032800667316960924, 0.00032800667316960924, 0.00036405136252890696, 0.0004757898995427299, 0.0004757898995427299, 0.0005442748093253955, 0.0006019463123002719, 0.0006343865327236399, 0.0006704312220829375, 0.0006704312220829375, 0.0006704312220829375, 0.0007281027250578139, 0.0007893786969686201, 0.0007893786969686201, 0.0008830948893027941, 0.0009047217029183727, 0.0009984378952525468, 0.0009984378952525468, 0.0010741317429070719, 0.0010741317429070719, 0.0011281987769460186, 0.0011281987769460186, 0.0011606389973693864, 0.0012867954101269284, 0.0012867954101269284, 0.0017301450892462905, 0.002782650018537784, 0.003972124767394608, 0.004444310198001409, 0.005230084426034099, 0.0054643749068695345, 0.005925746930668545, 0.006239335728094434, 0.006351074265108258, 0.006570946870199974, 0.006765588192740181, 0.006898953543369583, 0.006934998232728881, 0.006974647391024108, 0.006974647391024108, 0.007014296549319336, 0.007079176990166072, 0.007136848493140948, 0.007216146809731403, 0.007226960216539193, 0.0073098630020655775, 0.007313467471001507, 0.007371138973976383, 0.00742520600801533, 0.00742520600801533, 0.0075910115790681, 0.007709959053953782, 0.007778443963736448, 0.007919018252237708, 0.008048779133931181, 0.008156913202009073, 0.008293883021574406, 0.008441666247947524, 0.008564218191769137, 0.0087047924802704, 0.008870598051323168, 0.009065239373863377, 0.009400454984904844, 0.009598700776380982, 0.009800551036793049, 0.010110535365283009, 0.010406101818029251, 0.010762944242686298, 0.011040488350752891, 0.011318032458819483, 0.011775800013682565, 0.01215066478301926, 0.01260482786894641, 0.013030155203386124, 0.013812324962482884, 0.01424486123479446, 0.01468460644497789, 0.015264925943662584, 0.015848849911283207, 0.016677877766547052, 0.017189712355449083, 0.01786735251540388, 0.018224194940060928, 0.01880090996980969, 0.019529012694867502, 0.02006968303525697, 0.020430129928849947, 0.020848248325417797, 0.021399732072615057, 0.022019700729594974, 0.022646878324446756, 0.023396607863120148, 0.02432656084859003, 0.024896066940466935, 0.02573590820253857, 0.02651807796163533, 0.027347105816899177, 0.028190551547906745, 0.02947734695803367, 0.030677635113698285, 0.03171572216724606, 0.03277904050334535, 0.034033395693048904, 0.035294959820624326, 0.0364051362528907, 0.0378829685166219, 0.03924906224333929, 0.04073410344494235, 0.042312860838879585, 0.04403219252131809, 0.04571908398333322, 0.04764387039511972, 0.049629932778817026, 0.051825054360798255, 0.05387239271640637, 0.05571067187373055, 0.05810043477825199, 0.06150305345376969, 0.06435058391315422, 0.06677999597597088, 0.06853897681670461, 0.07157033519182154, 0.07530096054050886, 0.07904600376493989, 0.0826432637629978, 0.08615762097552933, 0.0897116273463561, 0.09331609628228586, 0.09699265459693424, 0.1006944441941341, 0.10457645723813047, 0.10828185130426628, 0.11248105761462446, 0.11785171632915982, 0.12399373139598414, 0.13006365708408987, 0.13633543303260767, 0.14175294984331013, 0.14649643096299372, 0.15059110767420994, 0.15601583342278424, 0.16067641175694145, 0.16612997325700318, 0.17242337601913654, 0.17798146711834026, 0.18328003645415702]}, {\"name\": \"Jammu and Kashmir\", \"type\": \"scatter\", \"x\": [\"2020-03-09T00:00:00\", \"2020-03-10T00:00:00\", \"2020-03-11T00:00:00\", \"2020-03-12T00:00:00\", \"2020-03-13T00:00:00\", \"2020-03-14T00:00:00\", \"2020-03-15T00:00:00\", \"2020-03-16T00:00:00\", \"2020-03-17T00:00:00\", \"2020-03-18T00:00:00\", \"2020-03-19T00:00:00\", \"2020-03-20T00:00:00\", \"2020-03-21T00:00:00\", \"2020-03-22T00:00:00\", \"2020-03-23T00:00:00\", \"2020-03-24T00:00:00\", \"2020-03-25T00:00:00\", \"2020-03-26T00:00:00\", \"2020-03-27T00:00:00\", \"2020-03-28T00:00:00\", \"2020-03-29T00:00:00\", \"2020-03-30T00:00:00\", \"2020-03-31T00:00:00\", \"2020-04-01T00:00:00\", \"2020-04-02T00:00:00\", \"2020-04-03T00:00:00\", \"2020-04-04T00:00:00\", \"2020-04-05T00:00:00\", \"2020-04-06T00:00:00\", \"2020-04-07T00:00:00\", \"2020-04-08T00:00:00\", \"2020-04-09T00:00:00\", \"2020-04-10T00:00:00\", \"2020-04-11T00:00:00\", \"2020-04-12T00:00:00\", \"2020-04-13T00:00:00\", \"2020-04-14T00:00:00\", \"2020-04-15T00:00:00\", \"2020-04-16T00:00:00\", \"2020-04-17T00:00:00\", \"2020-04-18T00:00:00\", \"2020-04-19T00:00:00\", \"2020-04-20T00:00:00\", \"2020-04-21T00:00:00\", \"2020-04-22T00:00:00\", \"2020-04-23T00:00:00\", \"2020-04-24T00:00:00\", \"2020-04-25T00:00:00\", \"2020-04-26T00:00:00\", \"2020-04-27T00:00:00\", \"2020-04-28T00:00:00\", \"2020-04-29T00:00:00\", \"2020-04-30T00:00:00\", \"2020-05-01T00:00:00\", \"2020-05-02T00:00:00\", \"2020-05-03T00:00:00\", \"2020-05-04T00:00:00\", \"2020-05-05T00:00:00\", \"2020-05-06T00:00:00\", \"2020-05-07T00:00:00\", \"2020-05-08T00:00:00\", \"2020-05-09T00:00:00\", \"2020-05-10T00:00:00\", \"2020-05-11T00:00:00\", \"2020-05-12T00:00:00\", \"2020-05-13T00:00:00\", \"2020-05-14T00:00:00\", \"2020-05-15T00:00:00\", \"2020-05-16T00:00:00\", \"2020-05-17T00:00:00\", \"2020-05-18T00:00:00\", \"2020-05-19T00:00:00\", \"2020-05-20T00:00:00\", \"2020-05-21T00:00:00\", \"2020-05-22T00:00:00\", \"2020-05-23T00:00:00\", \"2020-05-24T00:00:00\", \"2020-05-25T00:00:00\", \"2020-05-26T00:00:00\", \"2020-05-27T00:00:00\", \"2020-05-28T00:00:00\", \"2020-05-29T00:00:00\", \"2020-05-30T00:00:00\", \"2020-05-31T00:00:00\", \"2020-06-01T00:00:00\", \"2020-06-02T00:00:00\", \"2020-06-03T00:00:00\", \"2020-06-04T00:00:00\", \"2020-06-05T00:00:00\", \"2020-06-06T00:00:00\", \"2020-06-07T00:00:00\", \"2020-06-08T00:00:00\", \"2020-06-09T00:00:00\", \"2020-06-10T00:00:00\", \"2020-06-11T00:00:00\", \"2020-06-12T00:00:00\", \"2020-06-13T00:00:00\", \"2020-06-14T00:00:00\", \"2020-06-15T00:00:00\", \"2020-06-16T00:00:00\", \"2020-06-17T00:00:00\", \"2020-06-18T00:00:00\", \"2020-06-19T00:00:00\", \"2020-06-20T00:00:00\", \"2020-06-21T00:00:00\", \"2020-06-22T00:00:00\", \"2020-06-23T00:00:00\", \"2020-06-24T00:00:00\", \"2020-06-25T00:00:00\", \"2020-06-26T00:00:00\", \"2020-06-27T00:00:00\", \"2020-06-28T00:00:00\", \"2020-06-29T00:00:00\", \"2020-06-30T00:00:00\", \"2020-07-01T00:00:00\", \"2020-07-02T00:00:00\", \"2020-07-03T00:00:00\", \"2020-07-04T00:00:00\", \"2020-07-05T00:00:00\", \"2020-07-06T00:00:00\", \"2020-07-07T00:00:00\", \"2020-07-08T00:00:00\", \"2020-07-09T00:00:00\", \"2020-07-10T00:00:00\", \"2020-07-11T00:00:00\", \"2020-07-12T00:00:00\", \"2020-07-13T00:00:00\", \"2020-07-14T00:00:00\", \"2020-07-15T00:00:00\", \"2020-07-16T00:00:00\", \"2020-07-17T00:00:00\", \"2020-07-18T00:00:00\", \"2020-07-19T00:00:00\", \"2020-07-20T00:00:00\", \"2020-07-21T00:00:00\", \"2020-07-22T00:00:00\", \"2020-07-23T00:00:00\", \"2020-07-24T00:00:00\", \"2020-07-25T00:00:00\", \"2020-07-26T00:00:00\", \"2020-07-27T00:00:00\", \"2020-07-28T00:00:00\", \"2020-07-29T00:00:00\", \"2020-07-30T00:00:00\", \"2020-07-31T00:00:00\", \"2020-08-01T00:00:00\", \"2020-08-02T00:00:00\", \"2020-08-03T00:00:00\", \"2020-08-04T00:00:00\", \"2020-08-05T00:00:00\", \"2020-08-06T00:00:00\", \"2020-08-07T00:00:00\", \"2020-08-08T00:00:00\", \"2020-08-09T00:00:00\", \"2020-08-10T00:00:00\", \"2020-08-11T00:00:00\", \"2020-08-12T00:00:00\", \"2020-08-13T00:00:00\", \"2020-08-14T00:00:00\", \"2020-08-15T00:00:00\", \"2020-08-16T00:00:00\", \"2020-08-17T00:00:00\", \"2020-08-18T00:00:00\", \"2020-08-19T00:00:00\", \"2020-08-20T00:00:00\", \"2020-08-21T00:00:00\", \"2020-08-22T00:00:00\", \"2020-08-23T00:00:00\", \"2020-08-24T00:00:00\", \"2020-08-25T00:00:00\", \"2020-08-26T00:00:00\", \"2020-08-27T00:00:00\", \"2020-08-28T00:00:00\", \"2020-08-29T00:00:00\", \"2020-08-30T00:00:00\"], \"y\": [8.151931127268602e-06, 8.151931127268602e-06, 8.151931127268602e-06, 8.151931127268602e-06, 8.151931127268602e-06, 1.6303862254537203e-05, 1.6303862254537203e-05, 2.4455793381805805e-05, 2.4455793381805805e-05, 2.4455793381805805e-05, 3.2607724509074406e-05, 3.2607724509074406e-05, 3.2607724509074406e-05, 3.2607724509074406e-05, 3.2607724509074406e-05, 3.2607724509074406e-05, 5.706351789088021e-05, 0.00010597510465449182, 0.00010597510465449182, 0.00016303862254537203, 0.0002527098649453266, 0.0003912926941088929, 0.0004402042808725045, 0.0005054197298906532, 0.0005054197298906532, 0.000611394834545145, 0.000611394834545145, 0.0008641046994904717, 0.0008885604928722774, 0.0009456240107631578, 0.0009456240107631578, 0.0012880051181084389, 0.0014999553274174225, 0.0016874497433446004, 0.0018260325725081667, 0.0019972231261808073, 0.0022010214043625223, 0.002266236853380671, 0.00244557933818058, 0.002559706373962341, 0.002673833409744101, 0.0027798085143985927, 0.0028531758945440104, 0.002999910654834845, 0.0030977338283620683, 0.003317835968798321, 0.0034808745913436925, 0.0037009767317799447, 0.0040270539768706886, 0.004263459979561479, 0.004450954395488657, 0.00460584108690676, 0.004736271984943057, 0.005005285712142921, 0.005209083990324636, 0.005429186130760888, 0.0057145037202152894, 0.005918301998397005, 0.006040580965306033, 0.006317746623633166, 0.0064644813839240005, 0.006709039317742059, 0.006815014422396551, 0.007018812700578266, 0.0071655474608691, 0.0076139036728688735, 0.007915525124577811, 0.008013348298105035, 0.008257906231923092, 0.009138314793668102, 0.009643734523558755, 0.010507839223049226, 0.010736093294612748, 0.011331184266903355, 0.011812148203412202, 0.012138225448502947, 0.012790379938684435, 0.013214280357302401, 0.013597421120284026, 0.014339246852865471, 0.015659859695482982, 0.016597331775118872, 0.017640778959409253, 0.019083670768935794, 0.019939623537298997, 0.02120317286202563, 0.022156948803916058, 0.023290067230606393, 0.025613367601877945, 0.027097019067040828, 0.02826274521824024, 0.03331694251714677, 0.034931024880345954, 0.03542829267910934, 0.036740753590599584, 0.037286932976126584, 0.038558634231980485, 0.039765120038816236, 0.041093884812561016, 0.042553080484342094, 0.04318893111226905, 0.04406933967401405, 0.04528397741197708, 0.046302968802885654, 0.04755836619648502, 0.04855290179401179, 0.04962895670281124, 0.050835442509647, 0.05235170169931896, 0.053386996952482065, 0.05512335828259028, 0.05678635223255307, 0.057821647485716186, 0.05899552556804286, 0.0611150276611327, 0.06272911002433189, 0.06398450741793126, 0.0653703357095669, 0.06722082407545689, 0.06871262747174704, 0.07071800252905511, 0.07280489689763588, 0.07549503416963452, 0.07745149764017897, 0.08060629498643192, 0.0827910125285399, 0.0857012519409748, 0.08826095831493713, 0.09108152648497207, 0.0951004285307155, 0.09909487478307712, 0.10399418539056554, 0.10758918701769099, 0.11330369073790628, 0.11942579101448501, 0.12438216513986432, 0.128074989940517, 0.13392807648989585, 0.13680570817782164, 0.14106916815738313, 0.14608260580065333, 0.1499140134304696, 0.1539003077517039, 0.15830235056042896, 0.16197071956769982, 0.16596516582006146, 0.17096229960107712, 0.17458175702158435, 0.1793913963866728, 0.18257064952630758, 0.18712757902645075, 0.19119539265895777, 0.19505125608215582, 0.1988256001940812, 0.20295862927560637, 0.2067900369054226, 0.21138772606120207, 0.21531695686454558, 0.21968639194876152, 0.22408843475748658, 0.22842526211719347, 0.23208547919333708, 0.23552559412904442, 0.239063532238279, 0.24483509947638518, 0.25040286843630966, 0.2557342313935433, 0.26070690938117713, 0.266136095511938, 0.26962512203440897, 0.27533962575462423, 0.2810785852682214, 0.2864181001565823, 0.29209184422116125, 0.2965427986166499]}, {\"name\": \"Andhra Pradesh\", \"type\": \"scatter\", \"x\": [\"2020-03-12T00:00:00\", \"2020-03-13T00:00:00\", \"2020-03-14T00:00:00\", \"2020-03-15T00:00:00\", \"2020-03-16T00:00:00\", \"2020-03-17T00:00:00\", \"2020-03-18T00:00:00\", \"2020-03-19T00:00:00\", \"2020-03-20T00:00:00\", \"2020-03-21T00:00:00\", \"2020-03-22T00:00:00\", \"2020-03-23T00:00:00\", \"2020-03-24T00:00:00\", \"2020-03-25T00:00:00\", \"2020-03-26T00:00:00\", \"2020-03-27T00:00:00\", \"2020-03-28T00:00:00\", \"2020-03-29T00:00:00\", \"2020-03-30T00:00:00\", \"2020-03-31T00:00:00\", \"2020-04-01T00:00:00\", \"2020-04-02T00:00:00\", \"2020-04-03T00:00:00\", \"2020-04-04T00:00:00\", \"2020-04-05T00:00:00\", \"2020-04-06T00:00:00\", \"2020-04-07T00:00:00\", \"2020-04-08T00:00:00\", \"2020-04-09T00:00:00\", \"2020-04-10T00:00:00\", \"2020-04-11T00:00:00\", \"2020-04-12T00:00:00\", \"2020-04-13T00:00:00\", \"2020-04-14T00:00:00\", \"2020-04-15T00:00:00\", \"2020-04-16T00:00:00\", \"2020-04-17T00:00:00\", \"2020-04-18T00:00:00\", \"2020-04-19T00:00:00\", \"2020-04-20T00:00:00\", \"2020-04-21T00:00:00\", \"2020-04-22T00:00:00\", \"2020-04-23T00:00:00\", \"2020-04-24T00:00:00\", \"2020-04-25T00:00:00\", \"2020-04-26T00:00:00\", \"2020-04-27T00:00:00\", \"2020-04-28T00:00:00\", \"2020-04-29T00:00:00\", \"2020-04-30T00:00:00\", \"2020-05-01T00:00:00\", \"2020-05-02T00:00:00\", \"2020-05-03T00:00:00\", \"2020-05-04T00:00:00\", \"2020-05-05T00:00:00\", \"2020-05-06T00:00:00\", \"2020-05-07T00:00:00\", \"2020-05-08T00:00:00\", \"2020-05-09T00:00:00\", \"2020-05-10T00:00:00\", \"2020-05-11T00:00:00\", \"2020-05-12T00:00:00\", \"2020-05-13T00:00:00\", \"2020-05-14T00:00:00\", \"2020-05-15T00:00:00\", \"2020-05-16T00:00:00\", \"2020-05-17T00:00:00\", \"2020-05-18T00:00:00\", \"2020-05-19T00:00:00\", \"2020-05-20T00:00:00\", \"2020-05-21T00:00:00\", \"2020-05-22T00:00:00\", \"2020-05-23T00:00:00\", \"2020-05-24T00:00:00\", \"2020-05-25T00:00:00\", \"2020-05-26T00:00:00\", \"2020-05-27T00:00:00\", \"2020-05-28T00:00:00\", \"2020-05-29T00:00:00\", \"2020-05-30T00:00:00\", \"2020-05-31T00:00:00\", \"2020-06-01T00:00:00\", \"2020-06-02T00:00:00\", \"2020-06-03T00:00:00\", \"2020-06-04T00:00:00\", \"2020-06-05T00:00:00\", \"2020-06-06T00:00:00\", \"2020-06-07T00:00:00\", \"2020-06-08T00:00:00\", \"2020-06-09T00:00:00\", \"2020-06-10T00:00:00\", \"2020-06-11T00:00:00\", \"2020-06-12T00:00:00\", \"2020-06-13T00:00:00\", \"2020-06-14T00:00:00\", \"2020-06-15T00:00:00\", \"2020-06-16T00:00:00\", \"2020-06-17T00:00:00\", \"2020-06-18T00:00:00\", \"2020-06-19T00:00:00\", \"2020-06-20T00:00:00\", \"2020-06-21T00:00:00\", \"2020-06-22T00:00:00\", \"2020-06-23T00:00:00\", \"2020-06-24T00:00:00\", \"2020-06-25T00:00:00\", \"2020-06-26T00:00:00\", \"2020-06-27T00:00:00\", \"2020-06-28T00:00:00\", \"2020-06-29T00:00:00\", \"2020-06-30T00:00:00\", \"2020-07-01T00:00:00\", \"2020-07-02T00:00:00\", \"2020-07-03T00:00:00\", \"2020-07-04T00:00:00\", \"2020-07-05T00:00:00\", \"2020-07-06T00:00:00\", \"2020-07-07T00:00:00\", \"2020-07-08T00:00:00\", \"2020-07-09T00:00:00\", \"2020-07-10T00:00:00\", \"2020-07-11T00:00:00\", \"2020-07-12T00:00:00\", \"2020-07-13T00:00:00\", \"2020-07-14T00:00:00\", \"2020-07-15T00:00:00\", \"2020-07-16T00:00:00\", \"2020-07-17T00:00:00\", \"2020-07-18T00:00:00\", \"2020-07-19T00:00:00\", \"2020-07-20T00:00:00\", \"2020-07-21T00:00:00\", \"2020-07-22T00:00:00\", \"2020-07-23T00:00:00\", \"2020-07-24T00:00:00\", \"2020-07-25T00:00:00\", \"2020-07-26T00:00:00\", \"2020-07-27T00:00:00\", \"2020-07-28T00:00:00\", \"2020-07-29T00:00:00\", \"2020-07-30T00:00:00\", \"2020-07-31T00:00:00\", \"2020-08-01T00:00:00\", \"2020-08-02T00:00:00\", \"2020-08-03T00:00:00\", \"2020-08-04T00:00:00\", \"2020-08-05T00:00:00\", \"2020-08-06T00:00:00\", \"2020-08-07T00:00:00\", \"2020-08-08T00:00:00\", \"2020-08-09T00:00:00\", \"2020-08-10T00:00:00\", \"2020-08-11T00:00:00\", \"2020-08-12T00:00:00\", \"2020-08-13T00:00:00\", \"2020-08-14T00:00:00\", \"2020-08-15T00:00:00\", \"2020-08-16T00:00:00\", \"2020-08-17T00:00:00\", \"2020-08-18T00:00:00\", \"2020-08-19T00:00:00\", \"2020-08-20T00:00:00\", \"2020-08-21T00:00:00\", \"2020-08-22T00:00:00\", \"2020-08-23T00:00:00\", \"2020-08-24T00:00:00\", \"2020-08-25T00:00:00\", \"2020-08-26T00:00:00\", \"2020-08-27T00:00:00\", \"2020-08-28T00:00:00\", \"2020-08-29T00:00:00\", \"2020-08-30T00:00:00\"], \"y\": [2.017060173927468e-06, 2.017060173927468e-06, 2.017060173927468e-06, 2.017060173927468e-06, 2.017060173927468e-06, 2.017060173927468e-06, 2.017060173927468e-06, 4.034120347854936e-06, 6.051180521782404e-06, 6.051180521782404e-06, 1.0085300869637341e-05, 1.4119421217492277e-05, 1.6136481391419744e-05, 1.815354156534721e-05, 2.218766191320215e-05, 2.4204722087129616e-05, 2.8238842434984554e-05, 3.832414330462189e-05, 4.639238400033177e-05, 8.068240695709873e-05, 0.00016741599443597985, 0.00017346717495776224, 0.0002662519429584258, 0.0003247466880023224, 0.00038324143304621893, 0.0004558555993076078, 0.0005365380062647065, 0.0006152033530478778, 0.0007019369405267589, 0.0007321928431356709, 0.0007684999262663654, 0.0007684999262663654, 0.0008713699951366662, 0.0009540694622676923, 0.0010145812674855165, 0.0010771101328772678, 0.0011537584194865117, 0.0012162872848782633, 0.0012162872848782633, 0.0014563174455756319, 0.0015269145516630933, 0.0016398699214030315, 0.001805268855665084, 0.001926292466100732, 0.002140100844537044, 0.0022127150107984325, 0.00237407982471263, 0.002539478758974682, 0.0026867241516713874, 0.0028299354240202378, 0.002950959034455886, 0.002950959034455886, 0.003193006255327182, 0.003328149286980322, 0.0034632923186334627, 0.0034632923186334627, 0.0035843159290691105, 0.003725510141244034, 0.003806192548201133, 0.0038929261356800133, 0.003993779144376387, 0.004070427430985631, 0.004215655763508409, 0.004310457591683, 0.004447617683510067, 0.0046533578212506685, 0.004750176709599188, 0.004855063838643416, 0.004990206870296556, 0.00510719636038435, 0.005248390572559272, 0.005339158280386008, 0.0054642160111695115, 0.005561034899518029, 0.005694160870997242, 0.006273057140914426, 0.006396097811524001, 0.006396097811524001, 0.006557462625438199, 0.00693061875761478, 0.007198887760747133, 0.007420764379879156, 0.007630538637967612, 0.00786250055796927, 0.00822960550962407, 0.008518045114495698, 0.008679409928409895, 0.00909694138441288, 0.00949631929885052, 0.009784758903722149, 0.010226495081812264, 0.01062789005642383, 0.010950619684252224, 0.011456901787908019, 0.012031763937477347, 0.012431141851914986, 0.013022140482875734, 0.01379870864983781, 0.014262632489841127, 0.015164258387586704, 0.01605781604463657, 0.017048192590034962, 0.018151524505173284, 0.01890388795004823, 0.020174635859622536, 0.020838248656844673, 0.02195368293302656, 0.02317400433825268, 0.024779584236698945, 0.026707893762973604, 0.02801898287602646, 0.029438993238471396, 0.03076420177274174, 0.032468617619710455, 0.034156896985287746, 0.03569994801834226, 0.03771297407192187, 0.04037952762185398, 0.04275562450674054, 0.044897742411451516, 0.048034270981908725, 0.05127770374158409, 0.05493463383691459, 0.058833611153116395, 0.06273662258966604, 0.06660130988291108, 0.07150680022590268, 0.0767370372568966, 0.08198542782945586, 0.08997903729873043, 0.10014703763549879, 0.10836454078407928, 0.1183368862839767, 0.13053001503536824, 0.14666246230644014, 0.1630954515434272, 0.17885474268232252, 0.19423886062886733, 0.20644409174130243, 0.22247568600367798, 0.2428338743391279, 0.26334132512744846, 0.2842703414921199, 0.30298059166547103, 0.32023654145342056, 0.3360139861338812, 0.3556742716491522, 0.37610305709068964, 0.3969352545670125, 0.4174507735960288, 0.4377827401492177, 0.4596073312311129, 0.47506809746426687, 0.4932700484737884, 0.5126277749629703, 0.5327903084615493, 0.5508288775969826, 0.5684418470357172, 0.5846025331492242, 0.5982782011284523, 0.6177468659272003, 0.6373970661416017, 0.6563433123553024, 0.6755941346552661, 0.6963214450025448, 0.7122461350757021, 0.7295948696316523, 0.7496182259782302, 0.7714629876618648, 0.7928861837691484, 0.814117759159909, 0.8353937098744959]}, {\"name\": \"Uttarakhand\", \"type\": \"scatter\", \"x\": [\"2020-03-15T00:00:00\", \"2020-03-16T00:00:00\", \"2020-03-17T00:00:00\", \"2020-03-18T00:00:00\", \"2020-03-19T00:00:00\", \"2020-03-20T00:00:00\", \"2020-03-21T00:00:00\", \"2020-03-22T00:00:00\", \"2020-03-23T00:00:00\", \"2020-03-24T00:00:00\", \"2020-03-25T00:00:00\", \"2020-03-26T00:00:00\", \"2020-03-27T00:00:00\", \"2020-03-28T00:00:00\", \"2020-03-29T00:00:00\", \"2020-03-30T00:00:00\", \"2020-03-31T00:00:00\", \"2020-04-01T00:00:00\", \"2020-04-02T00:00:00\", \"2020-04-03T00:00:00\", \"2020-04-04T00:00:00\", \"2020-04-05T00:00:00\", \"2020-04-06T00:00:00\", \"2020-04-07T00:00:00\", \"2020-04-08T00:00:00\", \"2020-04-09T00:00:00\", \"2020-04-10T00:00:00\", \"2020-04-11T00:00:00\", \"2020-04-12T00:00:00\", \"2020-04-13T00:00:00\", \"2020-04-14T00:00:00\", \"2020-04-15T00:00:00\", \"2020-04-16T00:00:00\", \"2020-04-17T00:00:00\", \"2020-04-18T00:00:00\", \"2020-04-19T00:00:00\", \"2020-04-20T00:00:00\", \"2020-04-21T00:00:00\", \"2020-04-22T00:00:00\", \"2020-04-23T00:00:00\", \"2020-04-24T00:00:00\", \"2020-04-25T00:00:00\", \"2020-04-26T00:00:00\", \"2020-04-27T00:00:00\", \"2020-04-28T00:00:00\", \"2020-04-29T00:00:00\", \"2020-04-30T00:00:00\", \"2020-05-01T00:00:00\", \"2020-05-02T00:00:00\", \"2020-05-03T00:00:00\", \"2020-05-04T00:00:00\", \"2020-05-05T00:00:00\", \"2020-05-06T00:00:00\", \"2020-05-07T00:00:00\", \"2020-05-08T00:00:00\", \"2020-05-09T00:00:00\", \"2020-05-10T00:00:00\", \"2020-05-11T00:00:00\", \"2020-05-12T00:00:00\", \"2020-05-13T00:00:00\", \"2020-05-14T00:00:00\", \"2020-05-15T00:00:00\", \"2020-05-16T00:00:00\", \"2020-05-17T00:00:00\", \"2020-05-18T00:00:00\", \"2020-05-19T00:00:00\", \"2020-05-20T00:00:00\", \"2020-05-21T00:00:00\", \"2020-05-22T00:00:00\", \"2020-05-23T00:00:00\", \"2020-05-24T00:00:00\", \"2020-05-25T00:00:00\", \"2020-05-26T00:00:00\", \"2020-05-27T00:00:00\", \"2020-05-28T00:00:00\", \"2020-05-29T00:00:00\", \"2020-05-30T00:00:00\", \"2020-05-31T00:00:00\", \"2020-06-01T00:00:00\", \"2020-06-02T00:00:00\", \"2020-06-03T00:00:00\", \"2020-06-04T00:00:00\", \"2020-06-05T00:00:00\", \"2020-06-06T00:00:00\", \"2020-06-07T00:00:00\", \"2020-06-08T00:00:00\", \"2020-06-09T00:00:00\", \"2020-06-10T00:00:00\", \"2020-06-11T00:00:00\", \"2020-06-12T00:00:00\", \"2020-06-13T00:00:00\", \"2020-06-14T00:00:00\", \"2020-06-15T00:00:00\", \"2020-06-16T00:00:00\", \"2020-06-17T00:00:00\", \"2020-06-18T00:00:00\", \"2020-06-19T00:00:00\", \"2020-06-20T00:00:00\", \"2020-06-21T00:00:00\", \"2020-06-22T00:00:00\", \"2020-06-23T00:00:00\", \"2020-06-24T00:00:00\", \"2020-06-25T00:00:00\", \"2020-06-26T00:00:00\", \"2020-06-27T00:00:00\", \"2020-06-28T00:00:00\", \"2020-06-29T00:00:00\", \"2020-06-30T00:00:00\", \"2020-07-01T00:00:00\", \"2020-07-02T00:00:00\", \"2020-07-03T00:00:00\", \"2020-07-04T00:00:00\", \"2020-07-05T00:00:00\", \"2020-07-06T00:00:00\", \"2020-07-07T00:00:00\", \"2020-07-08T00:00:00\", \"2020-07-09T00:00:00\", \"2020-07-10T00:00:00\", \"2020-07-11T00:00:00\", \"2020-07-12T00:00:00\", \"2020-07-13T00:00:00\", \"2020-07-14T00:00:00\", \"2020-07-15T00:00:00\", \"2020-07-16T00:00:00\", \"2020-07-17T00:00:00\", \"2020-07-18T00:00:00\", \"2020-07-19T00:00:00\", \"2020-07-20T00:00:00\", \"2020-07-21T00:00:00\", \"2020-07-22T00:00:00\", \"2020-07-23T00:00:00\", \"2020-07-24T00:00:00\", \"2020-07-25T00:00:00\", \"2020-07-26T00:00:00\", \"2020-07-27T00:00:00\", \"2020-07-28T00:00:00\", \"2020-07-29T00:00:00\", \"2020-07-30T00:00:00\", \"2020-07-31T00:00:00\", \"2020-08-01T00:00:00\", \"2020-08-02T00:00:00\", \"2020-08-03T00:00:00\", \"2020-08-04T00:00:00\", \"2020-08-05T00:00:00\", \"2020-08-06T00:00:00\", \"2020-08-07T00:00:00\", \"2020-08-08T00:00:00\", \"2020-08-09T00:00:00\", \"2020-08-10T00:00:00\", \"2020-08-11T00:00:00\", \"2020-08-12T00:00:00\", \"2020-08-13T00:00:00\", \"2020-08-14T00:00:00\", \"2020-08-15T00:00:00\", \"2020-08-16T00:00:00\", \"2020-08-17T00:00:00\", \"2020-08-18T00:00:00\", \"2020-08-19T00:00:00\", \"2020-08-20T00:00:00\", \"2020-08-21T00:00:00\", \"2020-08-22T00:00:00\", \"2020-08-23T00:00:00\", \"2020-08-24T00:00:00\", \"2020-08-25T00:00:00\", \"2020-08-26T00:00:00\", \"2020-08-27T00:00:00\", \"2020-08-28T00:00:00\", \"2020-08-29T00:00:00\", \"2020-08-30T00:00:00\"], \"y\": [9.914446260330357e-06, 9.914446260330357e-06, 9.914446260330357e-06, 9.914446260330357e-06, 9.914446260330357e-06, 2.974333878099107e-05, 2.974333878099107e-05, 2.974333878099107e-05, 2.974333878099107e-05, 3.965778504132143e-05, 3.965778504132143e-05, 4.957223130165179e-05, 4.957223130165179e-05, 4.957223130165179e-05, 6.94011238223125e-05, 6.94011238223125e-05, 6.94011238223125e-05, 6.94011238223125e-05, 6.94011238223125e-05, 9.914446260330358e-05, 0.00015863114016528572, 0.00021811781772726786, 0.0002577756027685893, 0.00030734783407024107, 0.00030734783407024107, 0.00034700561911156253, 0.00034700561911156253, 0.00034700561911156253, 0.00034700561911156253, 0.00034700561911156253, 0.00034700561911156253, 0.00036683451163222326, 0.00036683451163222326, 0.00036683451163222326, 0.00041640674293387503, 0.00041640674293387503, 0.0004362356354545357, 0.0004560645279751964, 0.0004560645279751964, 0.0004560645279751964, 0.00046597897423552675, 0.0004758934204958571, 0.0004957223130165179, 0.0005056367592768483, 0.0005056367592768483, 0.0005353800980578393, 0.0005452945443181696, 0.0005651234368388304, 0.0005750378830991608, 0.0005849523293594911, 0.0005948667756198214, 0.0005948667756198214, 0.0006047812218801517, 0.0006047812218801517, 0.0006047812218801517, 0.0006246101144008124, 0.0006642678994421339, 0.0006741823457024643, 0.0006741823457024643, 0.0006840967919627946, 0.0007138401307437858, 0.0007733268083057679, 0.0008129845933470893, 0.0008724712709090714, 0.0009121290559503928, 0.0009220435022107233, 0.0011005035348966696, 0.0012095624437603034, 0.0014475091540082322, 0.0015169102778305446, 0.002419124887520607, 0.0031428794645247233, 0.003460141744855295, 0.003975692950392473, 0.004649875296094938, 0.004957223130165179, 0.007098743522396536, 0.007425920248987437, 0.008992402758119633, 0.009498039517396483, 0.010340767449524562, 0.010757174192458438, 0.011431356538160901, 0.012046052206301384, 0.012918523477210456, 0.013434074682747635, 0.013989283673326134, 0.015238503902127758, 0.015486365058636018, 0.016289435205722777, 0.017092505352809536, 0.017697286574689688, 0.018034377747540922, 0.01829215335030951, 0.019253854637561553, 0.020056924784648312, 0.02084016603921441, 0.02158374950873919, 0.022813140845020154, 0.023239462034214356, 0.02381449991731352, 0.025133121269937452, 0.02600559254084653, 0.02667977488654899, 0.027016866059400225, 0.027671219512582026, 0.0279884817929126, 0.028067797362995243, 0.02856351967601176, 0.029217873129193564, 0.02958470764082579, 0.03021923220148693, 0.030665382283201797, 0.030972730117272036, 0.031339564628904255, 0.03202366142086705, 0.0323012659161563, 0.03276724489039183, 0.03344142723609429, 0.03387766287154883, 0.03506739642278847, 0.03577132210727193, 0.036544648915577696, 0.0375261790953504, 0.039479325008635484, 0.040669058559875126, 0.04239417220917261, 0.04476372486539156, 0.046022859540453515, 0.0480751499163419, 0.05254656517975089, 0.05398415988749879, 0.05398415988749879, 0.059100014157829256, 0.060517779973056504, 0.0627386159353705, 0.06530645751679606, 0.06807258802342823, 0.07004556282923396, 0.07121546748795296, 0.07383288130068018, 0.0752803904546884, 0.07733268083057679, 0.0793948856527255, 0.08183383943276677, 0.08478834441834522, 0.08824848616320051, 0.09321562373962601, 0.095495946379502, 0.09935266597477051, 0.1034275033877663, 0.10792866198995626, 0.1120530716342537, 0.1151562933137371, 0.11837848834834447, 0.1207083832195221, 0.12386117713030714, 0.12850113798014176, 0.131118551792869, 0.13519338920586474, 0.13962514668423243, 0.144413824227972, 0.14994608524123634, 0.1539614359766701, 0.15876994241293035, 0.16407417116220707, 0.17129188803972759, 0.1771215824408018, 0.18412118150059506]}, {\"name\": \"Odisha\", \"type\": \"scatter\", \"x\": [\"2020-03-16T00:00:00\", \"2020-03-17T00:00:00\", \"2020-03-18T00:00:00\", \"2020-03-19T00:00:00\", \"2020-03-20T00:00:00\", \"2020-03-21T00:00:00\", \"2020-03-22T00:00:00\", \"2020-03-23T00:00:00\", \"2020-03-24T00:00:00\", \"2020-03-25T00:00:00\", \"2020-03-26T00:00:00\", \"2020-03-27T00:00:00\", \"2020-03-28T00:00:00\", \"2020-03-29T00:00:00\", \"2020-03-30T00:00:00\", \"2020-03-31T00:00:00\", \"2020-04-01T00:00:00\", \"2020-04-02T00:00:00\", \"2020-04-03T00:00:00\", \"2020-04-04T00:00:00\", \"2020-04-05T00:00:00\", \"2020-04-06T00:00:00\", \"2020-04-07T00:00:00\", \"2020-04-08T00:00:00\", \"2020-04-09T00:00:00\", \"2020-04-10T00:00:00\", \"2020-04-11T00:00:00\", \"2020-04-12T00:00:00\", \"2020-04-13T00:00:00\", \"2020-04-14T00:00:00\", \"2020-04-15T00:00:00\", \"2020-04-16T00:00:00\", \"2020-04-17T00:00:00\", \"2020-04-18T00:00:00\", \"2020-04-19T00:00:00\", \"2020-04-20T00:00:00\", \"2020-04-21T00:00:00\", \"2020-04-22T00:00:00\", \"2020-04-23T00:00:00\", \"2020-04-24T00:00:00\", \"2020-04-25T00:00:00\", \"2020-04-26T00:00:00\", \"2020-04-27T00:00:00\", \"2020-04-28T00:00:00\", \"2020-04-29T00:00:00\", \"2020-04-30T00:00:00\", \"2020-05-01T00:00:00\", \"2020-05-02T00:00:00\", \"2020-05-03T00:00:00\", \"2020-05-04T00:00:00\", \"2020-05-05T00:00:00\", \"2020-05-06T00:00:00\", \"2020-05-07T00:00:00\", \"2020-05-08T00:00:00\", \"2020-05-09T00:00:00\", \"2020-05-10T00:00:00\", \"2020-05-11T00:00:00\", \"2020-05-12T00:00:00\", \"2020-05-13T00:00:00\", \"2020-05-14T00:00:00\", \"2020-05-15T00:00:00\", \"2020-05-16T00:00:00\", \"2020-05-17T00:00:00\", \"2020-05-18T00:00:00\", \"2020-05-19T00:00:00\", \"2020-05-20T00:00:00\", \"2020-05-21T00:00:00\", \"2020-05-22T00:00:00\", \"2020-05-23T00:00:00\", \"2020-05-24T00:00:00\", \"2020-05-25T00:00:00\", \"2020-05-26T00:00:00\", \"2020-05-27T00:00:00\", \"2020-05-28T00:00:00\", \"2020-05-29T00:00:00\", \"2020-05-30T00:00:00\", \"2020-05-31T00:00:00\", \"2020-06-01T00:00:00\", \"2020-06-02T00:00:00\", \"2020-06-03T00:00:00\", \"2020-06-04T00:00:00\", \"2020-06-05T00:00:00\", \"2020-06-06T00:00:00\", \"2020-06-07T00:00:00\", \"2020-06-08T00:00:00\", \"2020-06-09T00:00:00\", \"2020-06-10T00:00:00\", \"2020-06-11T00:00:00\", \"2020-06-12T00:00:00\", \"2020-06-13T00:00:00\", \"2020-06-14T00:00:00\", \"2020-06-15T00:00:00\", \"2020-06-16T00:00:00\", \"2020-06-17T00:00:00\", \"2020-06-18T00:00:00\", \"2020-06-19T00:00:00\", \"2020-06-20T00:00:00\", \"2020-06-21T00:00:00\", \"2020-06-22T00:00:00\", \"2020-06-23T00:00:00\", \"2020-06-24T00:00:00\", \"2020-06-25T00:00:00\", \"2020-06-26T00:00:00\", \"2020-06-27T00:00:00\", \"2020-06-28T00:00:00\", \"2020-06-29T00:00:00\", \"2020-06-30T00:00:00\", \"2020-07-01T00:00:00\", \"2020-07-02T00:00:00\", \"2020-07-03T00:00:00\", \"2020-07-04T00:00:00\", \"2020-07-05T00:00:00\", \"2020-07-06T00:00:00\", \"2020-07-07T00:00:00\", \"2020-07-08T00:00:00\", \"2020-07-09T00:00:00\", \"2020-07-10T00:00:00\", \"2020-07-11T00:00:00\", \"2020-07-12T00:00:00\", \"2020-07-13T00:00:00\", \"2020-07-14T00:00:00\", \"2020-07-15T00:00:00\", \"2020-07-16T00:00:00\", \"2020-07-17T00:00:00\", \"2020-07-18T00:00:00\", \"2020-07-19T00:00:00\", \"2020-07-20T00:00:00\", \"2020-07-21T00:00:00\", \"2020-07-22T00:00:00\", \"2020-07-23T00:00:00\", \"2020-07-24T00:00:00\", \"2020-07-25T00:00:00\", \"2020-07-26T00:00:00\", \"2020-07-27T00:00:00\", \"2020-07-28T00:00:00\", \"2020-07-29T00:00:00\", \"2020-07-30T00:00:00\", \"2020-07-31T00:00:00\", \"2020-08-01T00:00:00\", \"2020-08-02T00:00:00\", \"2020-08-03T00:00:00\", \"2020-08-04T00:00:00\", \"2020-08-05T00:00:00\", \"2020-08-06T00:00:00\", \"2020-08-07T00:00:00\", \"2020-08-08T00:00:00\", \"2020-08-09T00:00:00\", \"2020-08-10T00:00:00\", \"2020-08-11T00:00:00\", \"2020-08-12T00:00:00\", \"2020-08-13T00:00:00\", \"2020-08-14T00:00:00\", \"2020-08-15T00:00:00\", \"2020-08-16T00:00:00\", \"2020-08-17T00:00:00\", \"2020-08-18T00:00:00\", \"2020-08-19T00:00:00\", \"2020-08-20T00:00:00\", \"2020-08-21T00:00:00\", \"2020-08-22T00:00:00\", \"2020-08-23T00:00:00\", \"2020-08-24T00:00:00\", \"2020-08-25T00:00:00\", \"2020-08-26T00:00:00\", \"2020-08-27T00:00:00\", \"2020-08-28T00:00:00\", \"2020-08-29T00:00:00\", \"2020-08-30T00:00:00\"], \"y\": [2.3824148433212025e-06, 2.3824148433212025e-06, 2.3824148433212025e-06, 2.3824148433212025e-06, 4.764829686642405e-06, 4.764829686642405e-06, 4.764829686642405e-06, 4.764829686642405e-06, 4.764829686642405e-06, 4.764829686642405e-06, 4.764829686642405e-06, 4.764829686642405e-06, 7.1472445299636076e-06, 7.1472445299636076e-06, 7.1472445299636076e-06, 7.1472445299636076e-06, 9.52965937328481e-06, 9.52965937328481e-06, 1.1912074216606013e-05, 1.1912074216606013e-05, 4.764829686642405e-05, 5.003071170974525e-05, 0.0001000614234194905, 0.0001000614234194905, 0.0001000614234194905, 0.00010482625310613291, 0.00011435591247941772, 0.00012865040153934492, 0.00012865040153934492, 0.00013103281638266614, 0.00014294489059927214, 0.00014294489059927214, 0.00014294489059927214, 0.00014294489059927214, 0.00014532730544259334, 0.00016200420934584176, 0.00017629869840576898, 0.00019535801715233863, 0.0001977404319956598, 0.00021441733589890825, 0.00022394699527219307, 0.0002453887288620839, 0.00025730080307868983, 0.00028112495151190193, 0.00028350736635522313, 0.0003049490999451139, 0.00034068532259493196, 0.00035497981165485916, 0.0003811863749313924, 0.00038833361946135605, 0.0004050105233646044, 0.00041692259758121044, 0.0004407467460144225, 0.0005217488506873433, 0.0006456344225400459, 0.0007004299639364335, 0.0008981703959320934, 0.0009863197451349778, 0.0010411152865313655, 0.001281739185706807, 0.0014556554692692547, 0.001600982774711848, 0.0017558397395277263, 0.0019726394902699557, 0.0020869954027493733, 0.002330001716768136, 0.002506300415173905, 0.0026278035721832866, 0.00283269124870891, 0.003023284436174606, 0.0031829062306771264, 0.003425912544695889, 0.0036141233173182644, 0.0037951868454106754, 0.003954808639913196, 0.004104900775042432, 0.004333612600001268, 0.004640944114789702, 0.00501260083034781, 0.0053485213232561, 0.005689206645851032, 0.005903623981749939, 0.006213337911381697, 0.006625495679276265, 0.006804176792525355, 0.0071329500409036805, 0.007480782608028576, 0.007742848240793908, 0.008066856659485592, 0.008333687121937567, 0.008869730461684837, 0.009312859622542581, 0.009660692189667476, 0.009917992992746167, 0.010334915590327377, 0.010749455773065266, 0.011142554222213264, 0.011569006479167759, 0.012293260591537404, 0.012633945914132338, 0.013031809192966978, 0.013703650178783555, 0.014203957295881009, 0.014723323731725033, 0.015128334255089635, 0.015757291773726433, 0.016340983410340126, 0.016831760868064295, 0.017429746993737918, 0.017975319992858473, 0.01931185471996167, 0.020491150067405664, 0.021608502628923307, 0.022694883797477777, 0.024055242673014184, 0.025310775295444454, 0.026685428660040793, 0.028484151866748297, 0.029842128327441386, 0.0312596651592175, 0.032727232702703356, 0.03402088396262677, 0.03549321633579927, 0.036670129268399944, 0.038380703125904574, 0.039788710298307405, 0.04154216762299181, 0.04314553281254698, 0.04468695521617579, 0.04725519841727605, 0.05026657077923405, 0.05406414003948805, 0.05720892763267204, 0.06048713045708202, 0.06406789996659377, 0.06696253400122905, 0.06950695305389608, 0.0723729981104115, 0.07594423796054997, 0.07976086653955054, 0.08317724942487315, 0.0864745115680297, 0.08977177371118623, 0.09295706235670669, 0.0970047851755094, 0.10137175158331717, 0.10528605917089391, 0.10941716650921286, 0.11305749638980767, 0.1162523146947014, 0.12072172494077198, 0.1254412887453913, 0.1301513228906373, 0.13609783033956702, 0.14306401134143823, 0.148410150249851, 0.15374437708404717, 0.15991244911340577, 0.16681668732935062, 0.1732444425766312, 0.1799604700199537, 0.18709103764601404, 0.19411677901896826, 0.20067318466778822, 0.20870430510462398, 0.21676639693442293, 0.22553844838753162, 0.23328606145801214]}, {\"name\": \"Puducherry\", \"type\": \"scatter\", \"x\": [\"2020-03-18T00:00:00\", \"2020-03-19T00:00:00\", \"2020-03-20T00:00:00\", \"2020-03-21T00:00:00\", \"2020-03-22T00:00:00\", \"2020-03-23T00:00:00\", \"2020-03-24T00:00:00\", \"2020-03-25T00:00:00\", \"2020-03-26T00:00:00\", \"2020-03-27T00:00:00\", \"2020-03-28T00:00:00\", \"2020-03-29T00:00:00\", \"2020-03-30T00:00:00\", \"2020-03-31T00:00:00\", \"2020-04-01T00:00:00\", \"2020-04-02T00:00:00\", \"2020-04-03T00:00:00\", \"2020-04-04T00:00:00\", \"2020-04-05T00:00:00\", \"2020-04-06T00:00:00\", \"2020-04-07T00:00:00\", \"2020-04-08T00:00:00\", \"2020-04-09T00:00:00\", \"2020-04-10T00:00:00\", \"2020-04-11T00:00:00\", \"2020-04-12T00:00:00\", \"2020-04-13T00:00:00\", \"2020-04-14T00:00:00\", \"2020-04-15T00:00:00\", \"2020-04-16T00:00:00\", \"2020-04-17T00:00:00\", \"2020-04-18T00:00:00\", \"2020-04-19T00:00:00\", \"2020-04-20T00:00:00\", \"2020-04-21T00:00:00\", \"2020-04-22T00:00:00\", \"2020-04-23T00:00:00\", \"2020-04-24T00:00:00\", \"2020-04-25T00:00:00\", \"2020-04-26T00:00:00\", \"2020-04-27T00:00:00\", \"2020-04-28T00:00:00\", \"2020-04-29T00:00:00\", \"2020-04-30T00:00:00\", \"2020-05-01T00:00:00\", \"2020-05-02T00:00:00\", \"2020-05-03T00:00:00\", \"2020-05-04T00:00:00\", \"2020-05-05T00:00:00\", \"2020-05-06T00:00:00\", \"2020-05-07T00:00:00\", \"2020-05-08T00:00:00\", \"2020-05-09T00:00:00\", \"2020-05-10T00:00:00\", \"2020-05-11T00:00:00\", \"2020-05-12T00:00:00\", \"2020-05-13T00:00:00\", \"2020-05-14T00:00:00\", \"2020-05-15T00:00:00\", \"2020-05-16T00:00:00\", \"2020-05-17T00:00:00\", \"2020-05-18T00:00:00\", \"2020-05-19T00:00:00\", \"2020-05-20T00:00:00\", \"2020-05-21T00:00:00\", \"2020-05-22T00:00:00\", \"2020-05-23T00:00:00\", \"2020-05-24T00:00:00\", \"2020-05-25T00:00:00\", \"2020-05-26T00:00:00\", \"2020-05-27T00:00:00\", \"2020-05-28T00:00:00\", \"2020-05-29T00:00:00\", \"2020-05-30T00:00:00\", \"2020-05-31T00:00:00\", \"2020-06-01T00:00:00\", \"2020-06-02T00:00:00\", \"2020-06-03T00:00:00\", \"2020-06-04T00:00:00\", \"2020-06-05T00:00:00\", \"2020-06-06T00:00:00\", \"2020-06-07T00:00:00\", \"2020-06-08T00:00:00\", \"2020-06-09T00:00:00\", \"2020-06-10T00:00:00\", \"2020-06-11T00:00:00\", \"2020-06-12T00:00:00\", \"2020-06-13T00:00:00\", \"2020-06-14T00:00:00\", \"2020-06-15T00:00:00\", \"2020-06-16T00:00:00\", \"2020-06-17T00:00:00\", \"2020-06-18T00:00:00\", \"2020-06-19T00:00:00\", \"2020-06-20T00:00:00\", \"2020-06-21T00:00:00\", \"2020-06-22T00:00:00\", \"2020-06-23T00:00:00\", \"2020-06-24T00:00:00\", \"2020-06-25T00:00:00\", \"2020-06-26T00:00:00\", \"2020-06-27T00:00:00\", \"2020-06-28T00:00:00\", \"2020-06-29T00:00:00\", \"2020-06-30T00:00:00\", \"2020-07-01T00:00:00\", \"2020-07-02T00:00:00\", \"2020-07-03T00:00:00\", \"2020-07-04T00:00:00\", \"2020-07-05T00:00:00\", \"2020-07-06T00:00:00\", \"2020-07-07T00:00:00\", \"2020-07-08T00:00:00\", \"2020-07-09T00:00:00\", \"2020-07-10T00:00:00\", \"2020-07-11T00:00:00\", \"2020-07-12T00:00:00\", \"2020-07-13T00:00:00\", \"2020-07-14T00:00:00\", \"2020-07-15T00:00:00\", \"2020-07-16T00:00:00\", \"2020-07-17T00:00:00\", \"2020-07-18T00:00:00\", \"2020-07-19T00:00:00\", \"2020-07-20T00:00:00\", \"2020-07-21T00:00:00\", \"2020-07-22T00:00:00\", \"2020-07-23T00:00:00\", \"2020-07-24T00:00:00\", \"2020-07-25T00:00:00\", \"2020-07-26T00:00:00\", \"2020-07-27T00:00:00\", \"2020-07-28T00:00:00\", \"2020-07-29T00:00:00\", \"2020-07-30T00:00:00\", \"2020-07-31T00:00:00\", \"2020-08-01T00:00:00\", \"2020-08-02T00:00:00\", \"2020-08-03T00:00:00\", \"2020-08-04T00:00:00\", \"2020-08-05T00:00:00\", \"2020-08-06T00:00:00\", \"2020-08-07T00:00:00\", \"2020-08-08T00:00:00\", \"2020-08-09T00:00:00\", \"2020-08-10T00:00:00\", \"2020-08-11T00:00:00\", \"2020-08-12T00:00:00\", \"2020-08-13T00:00:00\", \"2020-08-14T00:00:00\", \"2020-08-15T00:00:00\", \"2020-08-16T00:00:00\", \"2020-08-17T00:00:00\", \"2020-08-18T00:00:00\", \"2020-08-19T00:00:00\", \"2020-08-20T00:00:00\", \"2020-08-21T00:00:00\", \"2020-08-22T00:00:00\", \"2020-08-23T00:00:00\", \"2020-08-24T00:00:00\", \"2020-08-25T00:00:00\", \"2020-08-26T00:00:00\", \"2020-08-27T00:00:00\", \"2020-08-28T00:00:00\", \"2020-08-29T00:00:00\", \"2020-08-30T00:00:00\"], \"y\": [8.013122289060565e-05, 8.013122289060565e-05, 8.013122289060565e-05, 8.013122289060565e-05, 8.013122289060565e-05, 8.013122289060565e-05, 8.013122289060565e-05, 8.013122289060565e-05, 8.013122289060565e-05, 8.013122289060565e-05, 8.013122289060565e-05, 8.013122289060565e-05, 8.013122289060565e-05, 8.013122289060565e-05, 0.000240393668671817, 0.000240393668671817, 0.00040065611445302827, 0.00040065611445302827, 0.00040065611445302827, 0.00040065611445302827, 0.00040065611445302827, 0.00040065611445302827, 0.00040065611445302827, 0.00040065611445302827, 0.0005609185602342396, 0.0005609185602342396, 0.0005609185602342396, 0.0005609185602342396, 0.0005609185602342396, 0.0005609185602342396, 0.0005609185602342396, 0.0005609185602342396, 0.0005609185602342396, 0.0005609185602342396, 0.0005609185602342396, 0.0005609185602342396, 0.0005609185602342396, 0.0005609185602342396, 0.0005609185602342396, 0.0005609185602342396, 0.0006410497831248452, 0.0006410497831248452, 0.0006410497831248452, 0.0006410497831248452, 0.0006410497831248452, 0.0006410497831248452, 0.0006410497831248452, 0.0006410497831248452, 0.0007211810060154508, 0.0007211810060154508, 0.0007211810060154508, 0.0007211810060154508, 0.0007211810060154508, 0.0007211810060154508, 0.0007211810060154508, 0.000961574674687268, 0.0010417058975778735, 0.0010417058975778735, 0.0010417058975778735, 0.0010417058975778735, 0.0010417058975778735, 0.0010417058975778735, 0.0014423620120309016, 0.0014423620120309016, 0.0014423620120309016, 0.001602624457812113, 0.002083411795155747, 0.002083411795155747, 0.0032853801385148316, 0.0032853801385148316, 0.0036860362529678604, 0.0036860362529678604, 0.004086692367420889, 0.004086692367420889, 0.004086692367420889, 0.0056091856023423965, 0.0059297104939048184, 0.006570760277029663, 0.006570760277029663, 0.006570760277029663, 0.00793299106616996, 0.00793299106616996, 0.00793299106616996, 0.01017666530710692, 0.01017666530710692, 0.01017666530710692, 0.012580601993825087, 0.012580601993825087, 0.014103095228746594, 0.015545457240777497, 0.01618650702390234, 0.01730834414437082, 0.019632149608198386, 0.021715561403354133, 0.022917529746713218, 0.022917529746713218, 0.029328027577961668, 0.03069025836710197, 0.03221275160202348, 0.036940493752569206, 0.04022587389108404, 0.04022587389108404, 0.0496012269692849, 0.0496012269692849, 0.0496012269692849, 0.057213693143892436, 0.057213693143892436, 0.06426524075826573, 0.06426524075826573, 0.06426524075826573, 0.06426524075826573, 0.06426524075826573, 0.07452203728826326, 0.0807722726737305, 0.0922310375470871, 0.10192691551685039, 0.10713544500473976, 0.11362607405887883, 0.1176326352034091, 0.12268090224551727, 0.1278894317334066, 0.13966872149832565, 0.14680040033558955, 0.15176853615480712, 0.1601823145583207, 0.167634518287147, 0.17460593467862973, 0.18430181264839302, 0.19391755939526567, 0.20153002556987323, 0.2126682655516674, 0.22324558697322736, 0.23013687214181947, 0.24127511212361363, 0.25457689512345416, 0.26427277309321745, 0.2782156058761828, 0.288953189743524, 0.3049794343216451, 0.31908252955039174, 0.3323041813273417, 0.35522171107405487, 0.3702863809774887, 0.3895980056941247, 0.4105122548685728, 0.43126624159723964, 0.45065799753676616, 0.4727742150545734, 0.5113173332649548, 0.5352765689092458, 0.5605179041197865, 0.589285013137514, 0.6195746153901629, 0.6433735885886728, 0.6727817473895251, 0.7011482002927995, 0.7445793230995077, 0.7687789524124706, 0.8102869258698044, 0.8431407272549527, 0.8701449493690868, 0.9155793527480601, 0.9559654890849254, 0.9963516254217908, 1.043629046927248, 1.0862588575050502]}, {\"name\": \"West Bengal\", \"type\": \"scatter\", \"x\": [\"2020-03-18T00:00:00\", \"2020-03-19T00:00:00\", \"2020-03-20T00:00:00\", \"2020-03-21T00:00:00\", \"2020-03-22T00:00:00\", \"2020-03-23T00:00:00\", \"2020-03-24T00:00:00\", \"2020-03-25T00:00:00\", \"2020-03-26T00:00:00\", \"2020-03-27T00:00:00\", \"2020-03-28T00:00:00\", \"2020-03-29T00:00:00\", \"2020-03-30T00:00:00\", \"2020-03-31T00:00:00\", \"2020-04-01T00:00:00\", \"2020-04-02T00:00:00\", \"2020-04-03T00:00:00\", \"2020-04-04T00:00:00\", \"2020-04-05T00:00:00\", \"2020-04-06T00:00:00\", \"2020-04-07T00:00:00\", \"2020-04-08T00:00:00\", \"2020-04-09T00:00:00\", \"2020-04-10T00:00:00\", \"2020-04-11T00:00:00\", \"2020-04-12T00:00:00\", \"2020-04-13T00:00:00\", \"2020-04-14T00:00:00\", \"2020-04-15T00:00:00\", \"2020-04-16T00:00:00\", \"2020-04-17T00:00:00\", \"2020-04-18T00:00:00\", \"2020-04-19T00:00:00\", \"2020-04-20T00:00:00\", \"2020-04-21T00:00:00\", \"2020-04-22T00:00:00\", \"2020-04-23T00:00:00\", \"2020-04-24T00:00:00\", \"2020-04-25T00:00:00\", \"2020-04-26T00:00:00\", \"2020-04-27T00:00:00\", \"2020-04-28T00:00:00\", \"2020-04-29T00:00:00\", \"2020-04-30T00:00:00\", \"2020-05-01T00:00:00\", \"2020-05-02T00:00:00\", \"2020-05-03T00:00:00\", \"2020-05-04T00:00:00\", \"2020-05-05T00:00:00\", \"2020-05-06T00:00:00\", \"2020-05-07T00:00:00\", \"2020-05-08T00:00:00\", \"2020-05-09T00:00:00\", \"2020-05-10T00:00:00\", \"2020-05-11T00:00:00\", \"2020-05-12T00:00:00\", \"2020-05-13T00:00:00\", \"2020-05-14T00:00:00\", \"2020-05-15T00:00:00\", \"2020-05-16T00:00:00\", \"2020-05-17T00:00:00\", \"2020-05-18T00:00:00\", \"2020-05-19T00:00:00\", \"2020-05-20T00:00:00\", \"2020-05-21T00:00:00\", \"2020-05-22T00:00:00\", \"2020-05-23T00:00:00\", \"2020-05-24T00:00:00\", \"2020-05-25T00:00:00\", \"2020-05-26T00:00:00\", \"2020-05-27T00:00:00\", \"2020-05-28T00:00:00\", \"2020-05-29T00:00:00\", \"2020-05-30T00:00:00\", \"2020-05-31T00:00:00\", \"2020-06-01T00:00:00\", \"2020-06-02T00:00:00\", \"2020-06-03T00:00:00\", \"2020-06-04T00:00:00\", \"2020-06-05T00:00:00\", \"2020-06-06T00:00:00\", \"2020-06-07T00:00:00\", \"2020-06-08T00:00:00\", \"2020-06-09T00:00:00\", \"2020-06-10T00:00:00\", \"2020-06-11T00:00:00\", \"2020-06-12T00:00:00\", \"2020-06-13T00:00:00\", \"2020-06-14T00:00:00\", \"2020-06-15T00:00:00\", \"2020-06-16T00:00:00\", \"2020-06-17T00:00:00\", \"2020-06-18T00:00:00\", \"2020-06-19T00:00:00\", \"2020-06-20T00:00:00\", \"2020-06-21T00:00:00\", \"2020-06-22T00:00:00\", \"2020-06-23T00:00:00\", \"2020-06-24T00:00:00\", \"2020-06-25T00:00:00\", \"2020-06-26T00:00:00\", \"2020-06-27T00:00:00\", \"2020-06-28T00:00:00\", \"2020-06-29T00:00:00\", \"2020-06-30T00:00:00\", \"2020-07-01T00:00:00\", \"2020-07-02T00:00:00\", \"2020-07-03T00:00:00\", \"2020-07-04T00:00:00\", \"2020-07-05T00:00:00\", \"2020-07-06T00:00:00\", \"2020-07-07T00:00:00\", \"2020-07-08T00:00:00\", \"2020-07-09T00:00:00\", \"2020-07-10T00:00:00\", \"2020-07-11T00:00:00\", \"2020-07-12T00:00:00\", \"2020-07-13T00:00:00\", \"2020-07-14T00:00:00\", \"2020-07-15T00:00:00\", \"2020-07-16T00:00:00\", \"2020-07-17T00:00:00\", \"2020-07-18T00:00:00\", \"2020-07-19T00:00:00\", \"2020-07-20T00:00:00\", \"2020-07-21T00:00:00\", \"2020-07-22T00:00:00\", \"2020-07-23T00:00:00\", \"2020-07-24T00:00:00\", \"2020-07-25T00:00:00\", \"2020-07-26T00:00:00\", \"2020-07-27T00:00:00\", \"2020-07-28T00:00:00\", \"2020-07-29T00:00:00\", \"2020-07-30T00:00:00\", \"2020-07-31T00:00:00\", \"2020-08-01T00:00:00\", \"2020-08-02T00:00:00\", \"2020-08-03T00:00:00\", \"2020-08-04T00:00:00\", \"2020-08-05T00:00:00\", \"2020-08-06T00:00:00\", \"2020-08-07T00:00:00\", \"2020-08-08T00:00:00\", \"2020-08-09T00:00:00\", \"2020-08-10T00:00:00\", \"2020-08-11T00:00:00\", \"2020-08-12T00:00:00\", \"2020-08-13T00:00:00\", \"2020-08-14T00:00:00\", \"2020-08-15T00:00:00\", \"2020-08-16T00:00:00\", \"2020-08-17T00:00:00\", \"2020-08-18T00:00:00\", \"2020-08-19T00:00:00\", \"2020-08-20T00:00:00\", \"2020-08-21T00:00:00\", \"2020-08-22T00:00:00\", \"2020-08-23T00:00:00\", \"2020-08-24T00:00:00\", \"2020-08-25T00:00:00\", \"2020-08-26T00:00:00\", \"2020-08-27T00:00:00\", \"2020-08-28T00:00:00\", \"2020-08-29T00:00:00\", \"2020-08-30T00:00:00\"], \"y\": [1.0955768658646351e-06, 1.0955768658646351e-06, 2.1911537317292702e-06, 3.286730597593905e-06, 4.3823074634585405e-06, 7.669038061052445e-06, 9.860191792781715e-06, 9.860191792781715e-06, 1.095576865864635e-05, 1.095576865864635e-05, 1.6433652987969526e-05, 1.972038358556343e-05, 2.410269104902197e-05, 2.8484998512480514e-05, 4.0536344036991495e-05, 5.8065573890825657e-05, 6.9021342549472e-05, 7.559480374465981e-05, 8.76461492691708e-05, 8.76461492691708e-05, 9.969749479368178e-05, 0.00010846210972059886, 0.0001128444171840574, 0.00012708691644029767, 0.000138042685098944, 0.00014680730002586108, 0.00016652768361142452, 0.00020815960451428064, 0.00023335787242916728, 0.0002530782560147307, 0.00027937210079548194, 0.0003144305605031502, 0.0003396288284180369, 0.00037140055752811127, 0.0004294661314189369, 0.00046342901426074066, 0.0004995830508342736, 0.0005631265090544224, 0.0006255743904087066, 0.000669397465043292, 0.0007110293859461482, 0.0007636170755076506, 0.0007942932277518604, 0.0008304472643253934, 0.0008709836083623849, 0.0008709836083623849, 0.0010101218703271935, 0.0010550405218276435, 0.0013793312741235755, 0.0014724553077220695, 0.0015951599166989085, 0.001695952988358455, 0.0018383779809208578, 0.001956700282434238, 0.0021243235429115274, 0.002260175074278742, 0.0023806885295238516, 0.002508871022830014, 0.0026041862101602374, 0.0026962146668928666, 0.0028222060064672996, 0.0029328592699196278, 0.0030950046460675937, 0.0032440030998251847, 0.0033995750147779624, 0.0035025592401692384, 0.003650462117060964, 0.0037896003790257723, 0.004017480367125617, 0.004180721320139447, 0.004392167655251322, 0.00459265822170455, 0.004969536663561984, 0.005273011455406488, 0.005620309321885578, 0.006026768339121357, 0.0063236696697706735, 0.006757518108653069, 0.007130014243047045, 0.0075331865296852304, 0.00800099785140943, 0.008477573788060546, 0.008969487800833766, 0.009436203545692102, 0.009843758139793745, 0.010219541004785315, 0.010701594825765756, 0.011223089413917321, 0.011720481311019866, 0.012146660711841208, 0.012592560496248113, 0.013047224895581938, 0.01347559545013501, 0.013952171386786127, 0.014341101174168074, 0.014824250572014377, 0.015277819394482334, 0.01573029264008443, 0.016135656080454343, 0.016623187785764108, 0.017143586797049807, 0.017737389458348442, 0.018308185005463915, 0.018934854972738484, 0.019618494937038017, 0.02033281105358176, 0.021002208518625054, 0.0217132379045712, 0.022446178827834642, 0.023260192439172066, 0.024240733734120914, 0.025184025415630366, 0.026115265751615303, 0.027195504541357832, 0.02838749217141856, 0.02969999325672439, 0.031172448564446464, 0.03288154847519529, 0.034453701277711045, 0.03597655312126288, 0.03771742476112179, 0.03956894966443302, 0.04164397224838064, 0.04405205019955111, 0.04654777429999075, 0.04904788070789384, 0.051524980001613783, 0.05403494660130967, 0.056703771846555916, 0.059131570181311946, 0.06176533696685053, 0.06433008240983963, 0.06664394075054575, 0.06898190178230088, 0.07149515511259436, 0.07416178920410887, 0.076896349061307, 0.07973279756703054, 0.08273358260263378, 0.08570916937032214, 0.0887241969051816, 0.09180934135945641, 0.09504567542122054, 0.09823599525461836, 0.10146685143205317, 0.10468675184082935, 0.1078694026361661, 0.11108053843001534, 0.11429715210819391, 0.11758059597519023, 0.12090567176308939, 0.12427347504875728, 0.12763251371949824, 0.13100689046636133, 0.13448534701548154, 0.13795723010340658, 0.1414597893435758, 0.14501493627330656, 0.14855584070378106, 0.15214275936262187, 0.15539333592364224, 0.158640625754065, 0.16189887135314643, 0.16518231522014273, 0.1684493254341511, 0.17174920295413537]}, {\"name\": \"Chhattisgarh\", \"type\": \"scatter\", \"x\": [\"2020-03-19T00:00:00\", \"2020-03-20T00:00:00\", \"2020-03-21T00:00:00\", \"2020-03-22T00:00:00\", \"2020-03-23T00:00:00\", \"2020-03-24T00:00:00\", \"2020-03-25T00:00:00\", \"2020-03-26T00:00:00\", \"2020-03-27T00:00:00\", \"2020-03-28T00:00:00\", \"2020-03-29T00:00:00\", \"2020-03-30T00:00:00\", \"2020-03-31T00:00:00\", \"2020-04-01T00:00:00\", \"2020-04-02T00:00:00\", \"2020-04-03T00:00:00\", \"2020-04-04T00:00:00\", \"2020-04-05T00:00:00\", \"2020-04-06T00:00:00\", \"2020-04-07T00:00:00\", \"2020-04-08T00:00:00\", \"2020-04-09T00:00:00\", \"2020-04-10T00:00:00\", \"2020-04-11T00:00:00\", \"2020-04-12T00:00:00\", \"2020-04-13T00:00:00\", \"2020-04-14T00:00:00\", \"2020-04-15T00:00:00\", \"2020-04-16T00:00:00\", \"2020-04-17T00:00:00\", \"2020-04-18T00:00:00\", \"2020-04-19T00:00:00\", \"2020-04-20T00:00:00\", \"2020-04-21T00:00:00\", \"2020-04-22T00:00:00\", \"2020-04-23T00:00:00\", \"2020-04-24T00:00:00\", \"2020-04-25T00:00:00\", \"2020-04-26T00:00:00\", \"2020-04-27T00:00:00\", \"2020-04-28T00:00:00\", \"2020-04-29T00:00:00\", \"2020-04-30T00:00:00\", \"2020-05-01T00:00:00\", \"2020-05-02T00:00:00\", \"2020-05-03T00:00:00\", \"2020-05-04T00:00:00\", \"2020-05-05T00:00:00\", \"2020-05-06T00:00:00\", \"2020-05-07T00:00:00\", \"2020-05-08T00:00:00\", \"2020-05-09T00:00:00\", \"2020-05-10T00:00:00\", \"2020-05-11T00:00:00\", \"2020-05-12T00:00:00\", \"2020-05-13T00:00:00\", \"2020-05-14T00:00:00\", \"2020-05-15T00:00:00\", \"2020-05-16T00:00:00\", \"2020-05-17T00:00:00\", \"2020-05-18T00:00:00\", \"2020-05-19T00:00:00\", \"2020-05-20T00:00:00\", \"2020-05-21T00:00:00\", \"2020-05-22T00:00:00\", \"2020-05-23T00:00:00\", \"2020-05-24T00:00:00\", \"2020-05-25T00:00:00\", \"2020-05-26T00:00:00\", \"2020-05-27T00:00:00\", \"2020-05-28T00:00:00\", \"2020-05-29T00:00:00\", \"2020-05-30T00:00:00\", \"2020-05-31T00:00:00\", \"2020-06-01T00:00:00\", \"2020-06-02T00:00:00\", \"2020-06-03T00:00:00\", \"2020-06-04T00:00:00\", \"2020-06-05T00:00:00\", \"2020-06-06T00:00:00\", \"2020-06-07T00:00:00\", \"2020-06-08T00:00:00\", \"2020-06-09T00:00:00\", \"2020-06-10T00:00:00\", \"2020-06-11T00:00:00\", \"2020-06-12T00:00:00\", \"2020-06-13T00:00:00\", \"2020-06-14T00:00:00\", \"2020-06-15T00:00:00\", \"2020-06-16T00:00:00\", \"2020-06-17T00:00:00\", \"2020-06-18T00:00:00\", \"2020-06-19T00:00:00\", \"2020-06-20T00:00:00\", \"2020-06-21T00:00:00\", \"2020-06-22T00:00:00\", \"2020-06-23T00:00:00\", \"2020-06-24T00:00:00\", \"2020-06-25T00:00:00\", \"2020-06-26T00:00:00\", \"2020-06-27T00:00:00\", \"2020-06-28T00:00:00\", \"2020-06-29T00:00:00\", \"2020-06-30T00:00:00\", \"2020-07-01T00:00:00\", \"2020-07-02T00:00:00\", \"2020-07-03T00:00:00\", \"2020-07-04T00:00:00\", \"2020-07-05T00:00:00\", \"2020-07-06T00:00:00\", \"2020-07-07T00:00:00\", \"2020-07-08T00:00:00\", \"2020-07-09T00:00:00\", \"2020-07-10T00:00:00\", \"2020-07-11T00:00:00\", \"2020-07-12T00:00:00\", \"2020-07-13T00:00:00\", \"2020-07-14T00:00:00\", \"2020-07-15T00:00:00\", \"2020-07-16T00:00:00\", \"2020-07-17T00:00:00\", \"2020-07-18T00:00:00\", \"2020-07-19T00:00:00\", \"2020-07-20T00:00:00\", \"2020-07-21T00:00:00\", \"2020-07-22T00:00:00\", \"2020-07-23T00:00:00\", \"2020-07-24T00:00:00\", \"2020-07-25T00:00:00\", \"2020-07-26T00:00:00\", \"2020-07-27T00:00:00\", \"2020-07-28T00:00:00\", \"2020-07-29T00:00:00\", \"2020-07-30T00:00:00\", \"2020-07-31T00:00:00\", \"2020-08-01T00:00:00\", \"2020-08-02T00:00:00\", \"2020-08-03T00:00:00\", \"2020-08-04T00:00:00\", \"2020-08-05T00:00:00\", \"2020-08-06T00:00:00\", \"2020-08-07T00:00:00\", \"2020-08-08T00:00:00\", \"2020-08-09T00:00:00\", \"2020-08-10T00:00:00\", \"2020-08-11T00:00:00\", \"2020-08-12T00:00:00\", \"2020-08-13T00:00:00\", \"2020-08-14T00:00:00\", \"2020-08-15T00:00:00\", \"2020-08-16T00:00:00\", \"2020-08-17T00:00:00\", \"2020-08-18T00:00:00\", \"2020-08-19T00:00:00\", \"2020-08-20T00:00:00\", \"2020-08-21T00:00:00\", \"2020-08-22T00:00:00\", \"2020-08-23T00:00:00\", \"2020-08-24T00:00:00\", \"2020-08-25T00:00:00\", \"2020-08-26T00:00:00\", \"2020-08-27T00:00:00\", \"2020-08-28T00:00:00\", \"2020-08-29T00:00:00\", \"2020-08-30T00:00:00\"], \"y\": [3.914630060804383e-06, 3.914630060804383e-06, 3.914630060804383e-06, 3.914630060804383e-06, 3.914630060804383e-06, 3.914630060804383e-06, 3.914630060804383e-06, 2.3487780364826297e-05, 2.3487780364826297e-05, 2.3487780364826297e-05, 2.740241042563068e-05, 2.740241042563068e-05, 3.1317040486435065e-05, 3.523167054723944e-05, 3.523167054723944e-05, 3.523167054723944e-05, 3.523167054723944e-05, 3.523167054723944e-05, 3.914630060804383e-05, 3.914630060804383e-05, 3.914630060804383e-05, 3.914630060804383e-05, 3.914630060804383e-05, 7.046334109447888e-05, 9.786575152010958e-05, 0.00012135353188493586, 0.00012135353188493586, 0.00012918279200654464, 0.00012918279200654464, 0.00014092668218895776, 0.00014092668218895776, 0.00014092668218895776, 0.00014092668218895776, 0.00014092668218895776, 0.00014092668218895776, 0.00014092668218895776, 0.00014092668218895776, 0.00014092668218895776, 0.00014484131224976217, 0.00014484131224976217, 0.00014484131224976217, 0.00014875594231056655, 0.00014875594231056655, 0.00015658520243217532, 0.00016832909261458846, 0.00016832909261458846, 0.00022313391346584982, 0.00022704854352665422, 0.0002309631735874586, 0.0002309631735874586, 0.0002309631735874586, 0.0002309631735874586, 0.0002309631735874586, 0.0002309631735874586, 0.0002309631735874586, 0.0002309631735874586, 0.0002309631735874586, 0.000234877803648263, 0.0002583655840130893, 0.00026228021407389364, 0.00033665818522917693, 0.0003640605956548076, 0.00039537763614124263, 0.000450182456992504, 0.000501072647782961, 0.0006733163704583539, 0.000837730833012138, 0.0009864867753227044, 0.0011391573476940756, 0.0014131814519503822, 0.0014444984924368172, 0.0015619373942609485, 0.0016245714752338189, 0.0017498396371795593, 0.0019494857702805825, 0.0021413026432599977, 0.002207851354293672, 0.002614972880617328, 0.0029594603259681137, 0.0034409598234470527, 0.003613203546122445, 0.004200398055243103, 0.004540970870533084, 0.004854141275397434, 0.004940263136735131, 0.005472652825004527, 0.005594006356889463, 0.0059189206519362275, 0.006506115161056885, 0.006874090386772496, 0.006971956138292605, 0.00729687043333937, 0.007617870098325329, 0.007938869763311289, 0.007989759954101746, 0.008905783388329971, 0.009015393030032494, 0.009246356203619951, 0.009469490117085803, 0.009598672909092347, 0.009962733504747153, 0.009962733504747153, 0.010420745221861268, 0.010808293597880901, 0.011195841973900535, 0.011509012378764887, 0.011794780373203606, 0.011998341136365434, 0.012374145622202654, 0.012554218604999657, 0.012937852350958486, 0.013368461657646966, 0.01379907096433545, 0.014386265473456108, 0.01474641143905011, 0.01525531334695468, 0.01588948341680499, 0.016507994966412084, 0.01714216503626239, 0.017768505845991094, 0.01852402944772634, 0.019432223621832955, 0.020485259108189335, 0.021166404738769296, 0.021769257768133175, 0.02242691561834831, 0.023362512202880558, 0.02448209640027061, 0.026349374939274302, 0.02774298324092066, 0.029163993952992653, 0.030318809820929944, 0.03232310041206179, 0.033427026089208625, 0.0342960739627072, 0.035568328732468624, 0.03673880312064914, 0.03731033910952657, 0.03828116736460606, 0.03993705588032631, 0.04073955504279121, 0.04279473582471351, 0.0446580997336564, 0.04596950080402587, 0.047554925978651644, 0.04872931499689296, 0.05061225205613987, 0.052839676560737556, 0.05455819915743069, 0.05668775791050827, 0.058668560721275284, 0.06056324167070461, 0.06273194672439023, 0.06589496781352018, 0.06844730661316464, 0.0724245707549419, 0.07637443248629351, 0.0785979423608304, 0.08188623161190609, 0.08633325136097987, 0.0913713802492351, 0.0961041679927476, 0.1017334060201843, 0.10660712044588576, 0.11252995572788278]}, {\"name\": \"Chandigarh\", \"type\": \"scatter\", \"x\": [\"2020-03-19T00:00:00\", \"2020-03-20T00:00:00\", \"2020-03-21T00:00:00\", \"2020-03-22T00:00:00\", \"2020-03-23T00:00:00\", \"2020-03-24T00:00:00\", \"2020-03-25T00:00:00\", \"2020-03-26T00:00:00\", \"2020-03-27T00:00:00\", \"2020-03-28T00:00:00\", \"2020-03-29T00:00:00\", \"2020-03-30T00:00:00\", \"2020-03-31T00:00:00\", \"2020-04-01T00:00:00\", \"2020-04-02T00:00:00\", \"2020-04-03T00:00:00\", \"2020-04-04T00:00:00\", \"2020-04-05T00:00:00\", \"2020-04-06T00:00:00\", \"2020-04-07T00:00:00\", \"2020-04-08T00:00:00\", \"2020-04-09T00:00:00\", \"2020-04-10T00:00:00\", \"2020-04-11T00:00:00\", \"2020-04-12T00:00:00\", \"2020-04-13T00:00:00\", \"2020-04-14T00:00:00\", \"2020-04-15T00:00:00\", \"2020-04-16T00:00:00\", \"2020-04-17T00:00:00\", \"2020-04-18T00:00:00\", \"2020-04-19T00:00:00\", \"2020-04-20T00:00:00\", \"2020-04-21T00:00:00\", \"2020-04-22T00:00:00\", \"2020-04-23T00:00:00\", \"2020-04-24T00:00:00\", \"2020-04-25T00:00:00\", \"2020-04-26T00:00:00\", \"2020-04-27T00:00:00\", \"2020-04-28T00:00:00\", \"2020-04-29T00:00:00\", \"2020-04-30T00:00:00\", \"2020-05-01T00:00:00\", \"2020-05-02T00:00:00\", \"2020-05-03T00:00:00\", \"2020-05-04T00:00:00\", \"2020-05-05T00:00:00\", \"2020-05-06T00:00:00\", \"2020-05-07T00:00:00\", \"2020-05-08T00:00:00\", \"2020-05-09T00:00:00\", \"2020-05-10T00:00:00\", \"2020-05-11T00:00:00\", \"2020-05-12T00:00:00\", \"2020-05-13T00:00:00\", \"2020-05-14T00:00:00\", \"2020-05-15T00:00:00\", \"2020-05-16T00:00:00\", \"2020-05-17T00:00:00\", \"2020-05-18T00:00:00\", \"2020-05-19T00:00:00\", \"2020-05-20T00:00:00\", \"2020-05-21T00:00:00\", \"2020-05-22T00:00:00\", \"2020-05-23T00:00:00\", \"2020-05-24T00:00:00\", \"2020-05-25T00:00:00\", \"2020-05-26T00:00:00\", \"2020-05-27T00:00:00\", \"2020-05-28T00:00:00\", \"2020-05-29T00:00:00\", \"2020-05-30T00:00:00\", \"2020-05-31T00:00:00\", \"2020-06-01T00:00:00\", \"2020-06-02T00:00:00\", \"2020-06-03T00:00:00\", \"2020-06-04T00:00:00\", \"2020-06-05T00:00:00\", \"2020-06-06T00:00:00\", \"2020-06-07T00:00:00\", \"2020-06-08T00:00:00\", \"2020-06-09T00:00:00\", \"2020-06-10T00:00:00\", \"2020-06-11T00:00:00\", \"2020-06-12T00:00:00\", \"2020-06-13T00:00:00\", \"2020-06-14T00:00:00\", \"2020-06-15T00:00:00\", \"2020-06-16T00:00:00\", \"2020-06-17T00:00:00\", \"2020-06-18T00:00:00\", \"2020-06-19T00:00:00\", \"2020-06-20T00:00:00\", \"2020-06-21T00:00:00\", \"2020-06-22T00:00:00\", \"2020-06-23T00:00:00\", \"2020-06-24T00:00:00\", \"2020-06-25T00:00:00\", \"2020-06-26T00:00:00\", \"2020-06-27T00:00:00\", \"2020-06-28T00:00:00\", \"2020-06-29T00:00:00\", \"2020-06-30T00:00:00\", \"2020-07-01T00:00:00\", \"2020-07-02T00:00:00\", \"2020-07-03T00:00:00\", \"2020-07-04T00:00:00\", \"2020-07-05T00:00:00\", \"2020-07-06T00:00:00\", \"2020-07-07T00:00:00\", \"2020-07-08T00:00:00\", \"2020-07-09T00:00:00\", \"2020-07-10T00:00:00\", \"2020-07-11T00:00:00\", \"2020-07-12T00:00:00\", \"2020-07-13T00:00:00\", \"2020-07-14T00:00:00\", \"2020-07-15T00:00:00\", \"2020-07-16T00:00:00\", \"2020-07-17T00:00:00\", \"2020-07-18T00:00:00\", \"2020-07-19T00:00:00\", \"2020-07-20T00:00:00\", \"2020-07-21T00:00:00\", \"2020-07-22T00:00:00\", \"2020-07-23T00:00:00\", \"2020-07-24T00:00:00\", \"2020-07-25T00:00:00\", \"2020-07-26T00:00:00\", \"2020-07-27T00:00:00\", \"2020-07-28T00:00:00\", \"2020-07-29T00:00:00\", \"2020-07-30T00:00:00\", \"2020-07-31T00:00:00\", \"2020-08-01T00:00:00\", \"2020-08-02T00:00:00\", \"2020-08-03T00:00:00\", \"2020-08-04T00:00:00\", \"2020-08-05T00:00:00\", \"2020-08-06T00:00:00\", \"2020-08-07T00:00:00\", \"2020-08-08T00:00:00\", \"2020-08-09T00:00:00\", \"2020-08-10T00:00:00\", \"2020-08-11T00:00:00\", \"2020-08-12T00:00:00\", \"2020-08-13T00:00:00\", \"2020-08-14T00:00:00\", \"2020-08-15T00:00:00\", \"2020-08-16T00:00:00\", \"2020-08-17T00:00:00\", \"2020-08-18T00:00:00\", \"2020-08-19T00:00:00\", \"2020-08-20T00:00:00\", \"2020-08-21T00:00:00\", \"2020-08-22T00:00:00\", \"2020-08-23T00:00:00\", \"2020-08-24T00:00:00\", \"2020-08-25T00:00:00\", \"2020-08-26T00:00:00\", \"2020-08-27T00:00:00\", \"2020-08-28T00:00:00\", \"2020-08-29T00:00:00\", \"2020-08-30T00:00:00\"], \"y\": [9.474631673693685e-05, 9.474631673693685e-05, 9.474631673693685e-05, 0.0004737315836846843, 0.0005684779004216211, 0.000663224217158558, 0.000663224217158558, 0.000663224217158558, 0.000663224217158558, 0.0007579705338954948, 0.0007579705338954948, 0.0007579705338954948, 0.0012317021175801792, 0.0015159410677909897, 0.0015159410677909897, 0.0017054337012648634, 0.0017054337012648634, 0.0017054337012648634, 0.0017054337012648634, 0.0017054337012648634, 0.0017054337012648634, 0.0017054337012648634, 0.0017054337012648634, 0.0017054337012648634, 0.0018001800180018003, 0.001989672651475674, 0.001989672651475674, 0.001989672651475674, 0.001989672651475674, 0.001989672651475674, 0.001989672651475674, 0.0021791652849495477, 0.0024634042351603584, 0.0024634042351603584, 0.0025581505518972947, 0.0025581505518972947, 0.0025581505518972947, 0.002652896868634232, 0.0028423895021081054, 0.0028423895021081054, 0.0037898526694774746, 0.005305793737268464, 0.005305793737268464, 0.005305793737268464, 0.008337675872850444, 0.008906153773272064, 0.008906153773272064, 0.009664124307167558, 0.01051684115779999, 0.011369558008432422, 0.012790752759486476, 0.014211947510540527, 0.01601212752854233, 0.01601212752854233, 0.01648585911222701, 0.01771756122980719, 0.01771756122980719, 0.018096546496754937, 0.018096546496754937, 0.018096546496754937, 0.018096546496754937, 0.018570278080439623, 0.01894926334738737, 0.019138755980861243, 0.020559950731915296, 0.020654697048652235, 0.021317921265810794, 0.02254962338339097, 0.02254962338339097, 0.025202520252025205, 0.02643422236960538, 0.027286939220237814, 0.02738168553697475, 0.02738168553697475, 0.027760670803922496, 0.027855417120659434, 0.028518641337817993, 0.028518641337817993, 0.028518641337817993, 0.028802880288028805, 0.029276611871713487, 0.029750343455398173, 0.030034582405608985, 0.0306030603060306, 0.03098204557297835, 0.031455777156663034, 0.031645269790136904, 0.03268747927424322, 0.033350703491401776, 0.033540196124875646, 0.03391918139182339, 0.034866644559192764, 0.03543512245961438, 0.03609834667677294, 0.03827751196172249, 0.038467004595196364, 0.038940736178881045, 0.039603960396039604, 0.039793453029513474, 0.040077691979724286, 0.040267184613198156, 0.04055142356340897, 0.04064616988014591, 0.04121464778056753, 0.041688379364252216, 0.04225685726467383, 0.04263584253162159, 0.043299066748780146, 0.04358330569899095, 0.044151783599412575, 0.04633094888436212, 0.046804680468046804, 0.048604860486048604, 0.04955232365341797, 0.05106826472120896, 0.05258420578899996, 0.052963191055947705, 0.05571083424131887, 0.05684779004216211, 0.05921644796058553, 0.06167985219574589, 0.06253256904637831, 0.0663224217158558, 0.06793310910038372, 0.06982803543512246, 0.07115448386943958, 0.07513382917239092, 0.07579705338954948, 0.07797621867449903, 0.0807238618598702, 0.08403998294566298, 0.08621914823061254, 0.08849305983229902, 0.09266189776872424, 0.09626225780472784, 0.09957837889052062, 0.10223127575915486, 0.10583163579515847, 0.10981098109810981, 0.11426405798474583, 0.1203278222559098, 0.12572836230991521, 0.13018143919655126, 0.13510824766687193, 0.14354066985645933, 0.1511203751954143, 0.15822634895068455, 0.16590080060637644, 0.17452271542943767, 0.18267089866881425, 0.19034535032450614, 0.19915675778104125, 0.20995783788905203, 0.21839026007863943, 0.22701217490170067, 0.23828698659339617, 0.24927755933488085, 0.2630157752617367, 0.2764697522383817, 0.28755507129660335, 0.30404093040883035, 0.3198635653038988, 0.3376758728504429, 0.3528352835283528, 0.37756407219669336]}, {\"name\": \"Gujarat\", \"type\": \"scatter\", \"x\": [\"2020-03-20T00:00:00\", \"2020-03-21T00:00:00\", \"2020-03-22T00:00:00\", \"2020-03-23T00:00:00\", \"2020-03-24T00:00:00\", \"2020-03-25T00:00:00\", \"2020-03-26T00:00:00\", \"2020-03-27T00:00:00\", \"2020-03-28T00:00:00\", \"2020-03-29T00:00:00\", \"2020-03-30T00:00:00\", \"2020-03-31T00:00:00\", \"2020-04-01T00:00:00\", \"2020-04-02T00:00:00\", \"2020-04-03T00:00:00\", \"2020-04-04T00:00:00\", \"2020-04-05T00:00:00\", \"2020-04-06T00:00:00\", \"2020-04-07T00:00:00\", \"2020-04-08T00:00:00\", \"2020-04-09T00:00:00\", \"2020-04-10T00:00:00\", \"2020-04-11T00:00:00\", \"2020-04-12T00:00:00\", \"2020-04-13T00:00:00\", \"2020-04-14T00:00:00\", \"2020-04-15T00:00:00\", \"2020-04-16T00:00:00\", \"2020-04-17T00:00:00\", \"2020-04-18T00:00:00\", \"2020-04-19T00:00:00\", \"2020-04-20T00:00:00\", \"2020-04-21T00:00:00\", \"2020-04-22T00:00:00\", \"2020-04-23T00:00:00\", \"2020-04-24T00:00:00\", \"2020-04-25T00:00:00\", \"2020-04-26T00:00:00\", \"2020-04-27T00:00:00\", \"2020-04-28T00:00:00\", \"2020-04-29T00:00:00\", \"2020-04-30T00:00:00\", \"2020-05-01T00:00:00\", \"2020-05-02T00:00:00\", \"2020-05-03T00:00:00\", \"2020-05-04T00:00:00\", \"2020-05-05T00:00:00\", \"2020-05-06T00:00:00\", \"2020-05-07T00:00:00\", \"2020-05-08T00:00:00\", \"2020-05-09T00:00:00\", \"2020-05-10T00:00:00\", \"2020-05-11T00:00:00\", \"2020-05-12T00:00:00\", \"2020-05-13T00:00:00\", \"2020-05-14T00:00:00\", \"2020-05-15T00:00:00\", \"2020-05-16T00:00:00\", \"2020-05-17T00:00:00\", \"2020-05-18T00:00:00\", \"2020-05-19T00:00:00\", \"2020-05-20T00:00:00\", \"2020-05-21T00:00:00\", \"2020-05-22T00:00:00\", \"2020-05-23T00:00:00\", \"2020-05-24T00:00:00\", \"2020-05-25T00:00:00\", \"2020-05-26T00:00:00\", \"2020-05-27T00:00:00\", \"2020-05-28T00:00:00\", \"2020-05-29T00:00:00\", \"2020-05-30T00:00:00\", \"2020-05-31T00:00:00\", \"2020-06-01T00:00:00\", \"2020-06-02T00:00:00\", \"2020-06-03T00:00:00\", \"2020-06-04T00:00:00\", \"2020-06-05T00:00:00\", \"2020-06-06T00:00:00\", \"2020-06-07T00:00:00\", \"2020-06-08T00:00:00\", \"2020-06-09T00:00:00\", \"2020-06-10T00:00:00\", \"2020-06-11T00:00:00\", \"2020-06-12T00:00:00\", \"2020-06-13T00:00:00\", \"2020-06-14T00:00:00\", \"2020-06-15T00:00:00\", \"2020-06-16T00:00:00\", \"2020-06-17T00:00:00\", \"2020-06-18T00:00:00\", \"2020-06-19T00:00:00\", \"2020-06-20T00:00:00\", \"2020-06-21T00:00:00\", \"2020-06-22T00:00:00\", \"2020-06-23T00:00:00\", \"2020-06-24T00:00:00\", \"2020-06-25T00:00:00\", \"2020-06-26T00:00:00\", \"2020-06-27T00:00:00\", \"2020-06-28T00:00:00\", \"2020-06-29T00:00:00\", \"2020-06-30T00:00:00\", \"2020-07-01T00:00:00\", \"2020-07-02T00:00:00\", \"2020-07-03T00:00:00\", \"2020-07-04T00:00:00\", \"2020-07-05T00:00:00\", \"2020-07-06T00:00:00\", \"2020-07-07T00:00:00\", \"2020-07-08T00:00:00\", \"2020-07-09T00:00:00\", \"2020-07-10T00:00:00\", \"2020-07-11T00:00:00\", \"2020-07-12T00:00:00\", \"2020-07-13T00:00:00\", \"2020-07-14T00:00:00\", \"2020-07-15T00:00:00\", \"2020-07-16T00:00:00\", \"2020-07-17T00:00:00\", \"2020-07-18T00:00:00\", \"2020-07-19T00:00:00\", \"2020-07-20T00:00:00\", \"2020-07-21T00:00:00\", \"2020-07-22T00:00:00\", \"2020-07-23T00:00:00\", \"2020-07-24T00:00:00\", \"2020-07-25T00:00:00\", \"2020-07-26T00:00:00\", \"2020-07-27T00:00:00\", \"2020-07-28T00:00:00\", \"2020-07-29T00:00:00\", \"2020-07-30T00:00:00\", \"2020-07-31T00:00:00\", \"2020-08-01T00:00:00\", \"2020-08-02T00:00:00\", \"2020-08-03T00:00:00\", \"2020-08-04T00:00:00\", \"2020-08-05T00:00:00\", \"2020-08-06T00:00:00\", \"2020-08-07T00:00:00\", \"2020-08-08T00:00:00\", \"2020-08-09T00:00:00\", \"2020-08-10T00:00:00\", \"2020-08-11T00:00:00\", \"2020-08-12T00:00:00\", \"2020-08-13T00:00:00\", \"2020-08-14T00:00:00\", \"2020-08-15T00:00:00\", \"2020-08-16T00:00:00\", \"2020-08-17T00:00:00\", \"2020-08-18T00:00:00\", \"2020-08-19T00:00:00\", \"2020-08-20T00:00:00\", \"2020-08-21T00:00:00\", \"2020-08-22T00:00:00\", \"2020-08-23T00:00:00\", \"2020-08-24T00:00:00\", \"2020-08-25T00:00:00\", \"2020-08-26T00:00:00\", \"2020-08-27T00:00:00\", \"2020-08-28T00:00:00\", \"2020-08-29T00:00:00\", \"2020-08-30T00:00:00\"], \"y\": [8.272709265295396e-06, 1.1581792971413553e-05, 2.9781753355063426e-05, 4.79817137387133e-05, 5.459988115094961e-05, 6.2872590416245e-05, 7.11452996815404e-05, 7.11452996815404e-05, 7.445438338765856e-05, 9.59634274774266e-05, 0.00011416338786107647, 0.00012078155527331277, 0.0001356724319508445, 0.0001439451412161399, 0.0001571814760406125, 0.0001737268945712033, 0.00020185410607320768, 0.0002382540268405074, 0.00027299940575474806, 0.00027299940575474806, 0.0002961629916975752, 0.000398744586587238, 0.0005095988907421964, 0.0007147620805215221, 0.0008917980587988436, 0.0010208523233374517, 0.00114990658787606, 0.001441105954014458, 0.0016892872319733197, 0.0021045772370911486, 0.002653885132306763, 0.0030625569700123553, 0.0034182834684200573, 0.0037591190901502276, 0.003982482240313203, 0.004341517822427024, 0.004657535316361308, 0.005081098030744432, 0.0054616426569480195, 0.005870314494653613, 0.006244240953444964, 0.0067538398441871605, 0.0072717114441946526, 0.007811092088291912, 0.008363709067213645, 0.008980853178404682, 0.009602960915154895, 0.010332613872353949, 0.0109613397765164, 0.011601647473650263, 0.012246918796343303, 0.01289880828644858, 0.013557315943966093, 0.014131441966977595, 0.014730386117784981, 0.015332639352298486, 0.01586871091268963, 0.016431255142729716, 0.01818010588141316, 0.01882703174595926, 0.019432594064178885, 0.020086138096137223, 0.020742991211801676, 0.021351862613727415, 0.021952461306387862, 0.02260765988019926, 0.023256240286598416, 0.023924675195234283, 0.024521964804188612, 0.025140763457232707, 0.02574798031730539, 0.02636346988664337, 0.027040177504544526, 0.027761557752478287, 0.02845811987261616, 0.0291480638253418, 0.029947207540369333, 0.030748005797249924, 0.03159182214231006, 0.03241578398513348, 0.03320665499089572, 0.03399256237109878, 0.034768542500183484, 0.035607395219684444, 0.03645286610659763, 0.03727186432386188, 0.03811733521077506, 0.03895453338842296, 0.03980000427533615, 0.04066367512263299, 0.04151741871881147, 0.04235792598016548, 0.04325137858081739, 0.04414317663961623, 0.0451028109143905, 0.04603762706136888, 0.046941006913139134, 0.04788740485308893, 0.04884207550230401, 0.04979343706781299, 0.05080932576559126, 0.051820250837810354, 0.05284275770300087, 0.05386691911004444, 0.054983734860859314, 0.056110477862792545, 0.05724714811584414, 0.0584251819152222, 0.05962472475869004, 0.06084081302068846, 0.06212804658236842, 0.06342355285331368, 0.06484811338879755, 0.06629583751022423, 0.06773859800609176, 0.0691929402949307, 0.07068533704638998, 0.07219924284193903, 0.0737131486374881, 0.07525021801897998, 0.07682037823753304, 0.07840873841646975, 0.08000537130467177, 0.08165660407402474, 0.08335416401526335, 0.08504179670538362, 0.0868253928229813, 0.0885924435220484, 0.09038100326520525, 0.09235983532146391, 0.09410041335088207, 0.09593364572407152, 0.09782644160397111, 0.09974405561166658, 0.1016517423682437, 0.10334764776762925, 0.10516598926414118, 0.10685858557982063, 0.10853629101882252, 0.11030665080159574, 0.11201082891024661, 0.11377953415116675, 0.1156011847313848, 0.11741456260233754, 0.11917830421769852, 0.1210512455953614, 0.12296224143564463, 0.12476569205547904, 0.12653936092195836, 0.12832461158140912, 0.13017935299868835, 0.13188353110733922, 0.13369029081087971, 0.13557646852336705, 0.13750400978218089, 0.139496078173264, 0.14150138289917163, 0.14332303347938968, 0.1450884296366037, 0.14693158926091152, 0.14889883952419877, 0.1508594716200738, 0.152965703399018, 0.15508682605463972]}, {\"name\": \"Himachal Pradesh\", \"type\": \"scatter\", \"x\": [\"2020-03-21T00:00:00\", \"2020-03-22T00:00:00\", \"2020-03-23T00:00:00\", \"2020-03-24T00:00:00\", \"2020-03-25T00:00:00\", \"2020-03-26T00:00:00\", \"2020-03-27T00:00:00\", \"2020-03-28T00:00:00\", \"2020-03-29T00:00:00\", \"2020-03-30T00:00:00\", \"2020-03-31T00:00:00\", \"2020-04-01T00:00:00\", \"2020-04-02T00:00:00\", \"2020-04-03T00:00:00\", \"2020-04-04T00:00:00\", \"2020-04-05T00:00:00\", \"2020-04-06T00:00:00\", \"2020-04-07T00:00:00\", \"2020-04-08T00:00:00\", \"2020-04-09T00:00:00\", \"2020-04-10T00:00:00\", \"2020-04-11T00:00:00\", \"2020-04-12T00:00:00\", \"2020-04-13T00:00:00\", \"2020-04-14T00:00:00\", \"2020-04-15T00:00:00\", \"2020-04-16T00:00:00\", \"2020-04-17T00:00:00\", \"2020-04-18T00:00:00\", \"2020-04-19T00:00:00\", \"2020-04-20T00:00:00\", \"2020-04-21T00:00:00\", \"2020-04-22T00:00:00\", \"2020-04-23T00:00:00\", \"2020-04-24T00:00:00\", \"2020-04-25T00:00:00\", \"2020-04-26T00:00:00\", \"2020-04-27T00:00:00\", \"2020-04-28T00:00:00\", \"2020-04-29T00:00:00\", \"2020-04-30T00:00:00\", \"2020-05-01T00:00:00\", \"2020-05-02T00:00:00\", \"2020-05-03T00:00:00\", \"2020-05-04T00:00:00\", \"2020-05-05T00:00:00\", \"2020-05-06T00:00:00\", \"2020-05-07T00:00:00\", \"2020-05-08T00:00:00\", \"2020-05-09T00:00:00\", \"2020-05-10T00:00:00\", \"2020-05-11T00:00:00\", \"2020-05-12T00:00:00\", \"2020-05-13T00:00:00\", \"2020-05-14T00:00:00\", \"2020-05-15T00:00:00\", \"2020-05-16T00:00:00\", \"2020-05-17T00:00:00\", \"2020-05-18T00:00:00\", \"2020-05-19T00:00:00\", \"2020-05-20T00:00:00\", \"2020-05-21T00:00:00\", \"2020-05-22T00:00:00\", \"2020-05-23T00:00:00\", \"2020-05-24T00:00:00\", \"2020-05-25T00:00:00\", \"2020-05-26T00:00:00\", \"2020-05-27T00:00:00\", \"2020-05-28T00:00:00\", \"2020-05-29T00:00:00\", \"2020-05-30T00:00:00\", \"2020-05-31T00:00:00\", \"2020-06-01T00:00:00\", \"2020-06-02T00:00:00\", \"2020-06-03T00:00:00\", \"2020-06-04T00:00:00\", \"2020-06-05T00:00:00\", \"2020-06-06T00:00:00\", \"2020-06-07T00:00:00\", \"2020-06-08T00:00:00\", \"2020-06-09T00:00:00\", \"2020-06-10T00:00:00\", \"2020-06-11T00:00:00\", \"2020-06-12T00:00:00\", \"2020-06-13T00:00:00\", \"2020-06-14T00:00:00\", \"2020-06-15T00:00:00\", \"2020-06-16T00:00:00\", \"2020-06-17T00:00:00\", \"2020-06-18T00:00:00\", \"2020-06-19T00:00:00\", \"2020-06-20T00:00:00\", \"2020-06-21T00:00:00\", \"2020-06-22T00:00:00\", \"2020-06-23T00:00:00\", \"2020-06-24T00:00:00\", \"2020-06-25T00:00:00\", \"2020-06-26T00:00:00\", \"2020-06-27T00:00:00\", \"2020-06-28T00:00:00\", \"2020-06-29T00:00:00\", \"2020-06-30T00:00:00\", \"2020-07-01T00:00:00\", \"2020-07-02T00:00:00\", \"2020-07-03T00:00:00\", \"2020-07-04T00:00:00\", \"2020-07-05T00:00:00\", \"2020-07-06T00:00:00\", \"2020-07-07T00:00:00\", \"2020-07-08T00:00:00\", \"2020-07-09T00:00:00\", \"2020-07-10T00:00:00\", \"2020-07-11T00:00:00\", \"2020-07-12T00:00:00\", \"2020-07-13T00:00:00\", \"2020-07-14T00:00:00\", \"2020-07-15T00:00:00\", \"2020-07-16T00:00:00\", \"2020-07-17T00:00:00\", \"2020-07-18T00:00:00\", \"2020-07-19T00:00:00\", \"2020-07-20T00:00:00\", \"2020-07-21T00:00:00\", \"2020-07-22T00:00:00\", \"2020-07-23T00:00:00\", \"2020-07-24T00:00:00\", \"2020-07-25T00:00:00\", \"2020-07-26T00:00:00\", \"2020-07-27T00:00:00\", \"2020-07-28T00:00:00\", \"2020-07-29T00:00:00\", \"2020-07-30T00:00:00\", \"2020-07-31T00:00:00\", \"2020-08-01T00:00:00\", \"2020-08-02T00:00:00\", \"2020-08-03T00:00:00\", \"2020-08-04T00:00:00\", \"2020-08-05T00:00:00\", \"2020-08-06T00:00:00\", \"2020-08-07T00:00:00\", \"2020-08-08T00:00:00\", \"2020-08-09T00:00:00\", \"2020-08-10T00:00:00\", \"2020-08-11T00:00:00\", \"2020-08-12T00:00:00\", \"2020-08-13T00:00:00\", \"2020-08-14T00:00:00\", \"2020-08-15T00:00:00\", \"2020-08-16T00:00:00\", \"2020-08-17T00:00:00\", \"2020-08-18T00:00:00\", \"2020-08-19T00:00:00\", \"2020-08-20T00:00:00\", \"2020-08-21T00:00:00\", \"2020-08-22T00:00:00\", \"2020-08-23T00:00:00\", \"2020-08-24T00:00:00\", \"2020-08-25T00:00:00\", \"2020-08-26T00:00:00\", \"2020-08-27T00:00:00\", \"2020-08-28T00:00:00\", \"2020-08-29T00:00:00\", \"2020-08-30T00:00:00\"], \"y\": [2.913497388486616e-05, 2.913497388486616e-05, 2.913497388486616e-05, 4.3702460827299235e-05, 4.3702460827299235e-05, 4.3702460827299235e-05, 4.3702460827299235e-05, 4.3702460827299235e-05, 4.3702460827299235e-05, 4.3702460827299235e-05, 4.3702460827299235e-05, 4.3702460827299235e-05, 4.3702460827299235e-05, 8.740492165459847e-05, 8.740492165459847e-05, 8.740492165459847e-05, 0.00018937733025163004, 0.00018937733025163004, 0.0002622147649637954, 0.0002622147649637954, 0.0004078896343881262, 0.0004078896343881262, 0.00046615958215785855, 0.00046615958215785855, 0.00046615958215785855, 0.0004807270691002916, 0.0005098620429851578, 0.0005098620429851578, 0.000553564503812457, 0.0005681319907548901, 0.0005681319907548901, 0.0005681319907548901, 0.0005681319907548901, 0.0005826994776973231, 0.0005826994776973231, 0.0005826994776973231, 0.0005826994776973231, 0.0005826994776973231, 0.0005826994776973231, 0.0005826994776973231, 0.0005826994776973231, 0.0005826994776973231, 0.0005826994776973231, 0.0005826994776973231, 0.0005826994776973231, 0.0005972669646397563, 0.0006118344515821893, 0.0006555369124094885, 0.0006701043993519217, 0.000728374347121654, 0.000728374347121654, 0.0008012117818338194, 0.0008594817296035518, 0.0009468866512581502, 0.0009614541382005832, 0.0010779940337400477, 0.001107129007624914, 0.0011362639815097801, 0.0011653989553946462, 0.001311073824818977, 0.0013402087987038434, 0.0016024235636676388, 0.002214258015249828, 0.002447337806328757, 0.0026949850843501198, 0.002957199849313915, 0.0032485495881625767, 0.0035981692747809706, 0.0039769239352842305, 0.004020626396111529, 0.004297408648017758, 0.004559623412981554, 0.00482183817794535, 0.0049529455604272465, 0.005025782995139413, 0.005229727812333475, 0.0055793474989518695, 0.0057250223683762, 0.005826994776973232, 0.006016372107224862, 0.006132912002764327, 0.00648253168938272, 0.006569936611037319, 0.006846718862943547, 0.007079798654022476, 0.0073128784451014055, 0.007545958236180335, 0.00809952273999279, 0.008157792687762525, 0.008288900070244421, 0.008667654730747683, 0.009017274417366074, 0.0095562714342361, 0.009803918712257463, 0.010590563007148848, 0.011289802380385636, 0.01174139447560106, 0.012222121544701352, 0.012586308718262182, 0.013023333326535172, 0.0133438180392687, 0.013722572699771961, 0.013882815056138724, 0.014261569716641985, 0.014771431759627142, 0.01504821401153337, 0.015237591341785001, 0.015485238619806363, 0.015689183437000424, 0.015776588358655027, 0.01603880312361882, 0.01660693511437371, 0.017058527209589135, 0.017218769565955902, 0.017670361661171325, 0.018107386269444317, 0.0190688404076449, 0.019534999989802758, 0.02005942951973035, 0.02064212899742767, 0.021224828475124996, 0.021603583135628258, 0.02375957120310835, 0.024240298272208645, 0.025128914975697064, 0.026716771052422268, 0.028464869485514237, 0.029848780745045378, 0.031698851586734376, 0.03306819535932309, 0.03394224457586907, 0.035005671122666684, 0.03650612227773729, 0.037351036520398416, 0.03837076060636873, 0.03937591720539661, 0.04105117820377641, 0.041939794907264835, 0.04247879192413486, 0.0443871327135936, 0.0458875838686642, 0.047548277380101575, 0.04910699848294191, 0.050447207281645756, 0.050942501837688475, 0.05296738252268668, 0.055589530172324625, 0.05643444441498575, 0.058167975361135285, 0.06054247573275188, 0.06080469049771567, 0.06169330720120409, 0.0642571849030723, 0.06610725574476131, 0.06887507826382361, 0.07130784858320992, 0.07285200219910783, 0.07430875089335114, 0.07508082770130009, 0.07751359802068641, 0.08013574567032437, 0.08211692389449526, 0.08421464201420563]}, {\"name\": \"Madhya Pradesh\", \"type\": \"scatter\", \"x\": [\"2020-03-21T00:00:00\", \"2020-03-22T00:00:00\", \"2020-03-23T00:00:00\", \"2020-03-24T00:00:00\", \"2020-03-25T00:00:00\", \"2020-03-26T00:00:00\", \"2020-03-27T00:00:00\", \"2020-03-28T00:00:00\", \"2020-03-29T00:00:00\", \"2020-03-30T00:00:00\", \"2020-03-31T00:00:00\", \"2020-04-01T00:00:00\", \"2020-04-02T00:00:00\", \"2020-04-03T00:00:00\", \"2020-04-04T00:00:00\", \"2020-04-05T00:00:00\", \"2020-04-06T00:00:00\", \"2020-04-07T00:00:00\", \"2020-04-08T00:00:00\", \"2020-04-09T00:00:00\", \"2020-04-10T00:00:00\", \"2020-04-11T00:00:00\", \"2020-04-12T00:00:00\", \"2020-04-13T00:00:00\", \"2020-04-14T00:00:00\", \"2020-04-15T00:00:00\", \"2020-04-16T00:00:00\", \"2020-04-17T00:00:00\", \"2020-04-18T00:00:00\", \"2020-04-19T00:00:00\", \"2020-04-20T00:00:00\", \"2020-04-21T00:00:00\", \"2020-04-22T00:00:00\", \"2020-04-23T00:00:00\", \"2020-04-24T00:00:00\", \"2020-04-25T00:00:00\", \"2020-04-26T00:00:00\", \"2020-04-27T00:00:00\", \"2020-04-28T00:00:00\", \"2020-04-29T00:00:00\", \"2020-04-30T00:00:00\", \"2020-05-01T00:00:00\", \"2020-05-02T00:00:00\", \"2020-05-03T00:00:00\", \"2020-05-04T00:00:00\", \"2020-05-05T00:00:00\", \"2020-05-06T00:00:00\", \"2020-05-07T00:00:00\", \"2020-05-08T00:00:00\", \"2020-05-09T00:00:00\", \"2020-05-10T00:00:00\", \"2020-05-11T00:00:00\", \"2020-05-12T00:00:00\", \"2020-05-13T00:00:00\", \"2020-05-14T00:00:00\", \"2020-05-15T00:00:00\", \"2020-05-16T00:00:00\", \"2020-05-17T00:00:00\", \"2020-05-18T00:00:00\", \"2020-05-19T00:00:00\", \"2020-05-20T00:00:00\", \"2020-05-21T00:00:00\", \"2020-05-22T00:00:00\", \"2020-05-23T00:00:00\", \"2020-05-24T00:00:00\", \"2020-05-25T00:00:00\", \"2020-05-26T00:00:00\", \"2020-05-27T00:00:00\", \"2020-05-28T00:00:00\", \"2020-05-29T00:00:00\", \"2020-05-30T00:00:00\", \"2020-05-31T00:00:00\", \"2020-06-01T00:00:00\", \"2020-06-02T00:00:00\", \"2020-06-03T00:00:00\", \"2020-06-04T00:00:00\", \"2020-06-05T00:00:00\", \"2020-06-06T00:00:00\", \"2020-06-07T00:00:00\", \"2020-06-08T00:00:00\", \"2020-06-09T00:00:00\", \"2020-06-10T00:00:00\", \"2020-06-11T00:00:00\", \"2020-06-12T00:00:00\", \"2020-06-13T00:00:00\", \"2020-06-14T00:00:00\", \"2020-06-15T00:00:00\", \"2020-06-16T00:00:00\", \"2020-06-17T00:00:00\", \"2020-06-18T00:00:00\", \"2020-06-19T00:00:00\", \"2020-06-20T00:00:00\", \"2020-06-21T00:00:00\", \"2020-06-22T00:00:00\", \"2020-06-23T00:00:00\", \"2020-06-24T00:00:00\", \"2020-06-25T00:00:00\", \"2020-06-26T00:00:00\", \"2020-06-27T00:00:00\", \"2020-06-28T00:00:00\", \"2020-06-29T00:00:00\", \"2020-06-30T00:00:00\", \"2020-07-01T00:00:00\", \"2020-07-02T00:00:00\", \"2020-07-03T00:00:00\", \"2020-07-04T00:00:00\", \"2020-07-05T00:00:00\", \"2020-07-06T00:00:00\", \"2020-07-07T00:00:00\", \"2020-07-08T00:00:00\", \"2020-07-09T00:00:00\", \"2020-07-10T00:00:00\", \"2020-07-11T00:00:00\", \"2020-07-12T00:00:00\", \"2020-07-13T00:00:00\", \"2020-07-14T00:00:00\", \"2020-07-15T00:00:00\", \"2020-07-16T00:00:00\", \"2020-07-17T00:00:00\", \"2020-07-18T00:00:00\", \"2020-07-19T00:00:00\", \"2020-07-20T00:00:00\", \"2020-07-21T00:00:00\", \"2020-07-22T00:00:00\", \"2020-07-23T00:00:00\", \"2020-07-24T00:00:00\", \"2020-07-25T00:00:00\", \"2020-07-26T00:00:00\", \"2020-07-27T00:00:00\", \"2020-07-28T00:00:00\", \"2020-07-29T00:00:00\", \"2020-07-30T00:00:00\", \"2020-07-31T00:00:00\", \"2020-08-01T00:00:00\", \"2020-08-02T00:00:00\", \"2020-08-03T00:00:00\", \"2020-08-04T00:00:00\", \"2020-08-05T00:00:00\", \"2020-08-06T00:00:00\", \"2020-08-07T00:00:00\", \"2020-08-08T00:00:00\", \"2020-08-09T00:00:00\", \"2020-08-10T00:00:00\", \"2020-08-11T00:00:00\", \"2020-08-12T00:00:00\", \"2020-08-13T00:00:00\", \"2020-08-14T00:00:00\", \"2020-08-15T00:00:00\", \"2020-08-16T00:00:00\", \"2020-08-17T00:00:00\", \"2020-08-18T00:00:00\", \"2020-08-19T00:00:00\", \"2020-08-20T00:00:00\", \"2020-08-21T00:00:00\", \"2020-08-22T00:00:00\", \"2020-08-23T00:00:00\", \"2020-08-24T00:00:00\", \"2020-08-25T00:00:00\", \"2020-08-26T00:00:00\", \"2020-08-27T00:00:00\", \"2020-08-28T00:00:00\", \"2020-08-29T00:00:00\", \"2020-08-30T00:00:00\"], \"y\": [5.507608078994631e-06, 5.507608078994631e-06, 8.261412118491947e-06, 9.638314138240606e-06, 1.927662827648121e-05, 2.7538040394973156e-05, 2.7538040394973156e-05, 4.1307060592459736e-05, 4.1307060592459736e-05, 6.471439492818692e-05, 6.471439492818692e-05, 9.087553330341141e-05, 0.0001363132999551171, 0.0001431978100538604, 0.0001431978100538604, 0.00022718883325852855, 0.00022718883325852855, 0.00031531056252244265, 0.00031531056252244265, 0.0003566176231149024, 0.0003566176231149024, 0.0006099675947486554, 0.000776572739138243, 0.0008316488199281893, 0.0010051384744165202, 0.0013590022934919254, 0.0015421302621184967, 0.0018009878418312445, 0.0018657022367594312, 0.0019373011417863615, 0.0020446994993267567, 0.0021204291104129328, 0.0021920280154398633, 0.0023338489234739747, 0.0025500225405745143, 0.00268771274254938, 0.002885986633393187, 0.00298512357881509, 0.0032605039827648214, 0.0035262460725763124, 0.00366255937253143, 0.0037437965916966008, 0.0037437965916966008, 0.0039186631482046805, 0.004050845742100551, 0.004198174258213658, 0.004198174258213658, 0.0043207185379712885, 0.004477685368222635, 0.004600229647980266, 0.004976123899371649, 0.004976123899371649, 0.00521157414474867, 0.00548833145071815, 0.005745812128411149, 0.006094168339407559, 0.006326864780745082, 0.006593983772576323, 0.00685284135228907, 0.007209458975403973, 0.007524769537926415, 0.007896533083258554, 0.008235250980116722, 0.008495485461849219, 0.008772242767818699, 0.009177051961624804, 0.009444170953456045, 0.009671359786714573, 0.009997685565395004, 0.010262050753186746, 0.010526415940978489, 0.010865133837836658, 0.011137760437746893, 0.011404879429578133, 0.011593515006283698, 0.011824834545601473, 0.01206441549703774, 0.012386610569658927, 0.012706051838240614, 0.012944255887657134, 0.013270581666337565, 0.013561107992504531, 0.013836488396454263, 0.014100853584246006, 0.014378987792235235, 0.01465161439214547, 0.014873295617325, 0.015056423585951573, 0.015260205084874376, 0.01548188631005391, 0.015732482477648167, 0.015947279192728956, 0.016142799279533264, 0.016389264741068273, 0.016630222594524287, 0.016882195664138292, 0.017139676341831292, 0.017343457840754094, 0.017621592048743324, 0.017851534686041347, 0.018155830032405805, 0.018409180004039554, 0.018716229154443504, 0.019085238895736146, 0.019422579890574568, 0.01968556817634656, 0.0201082770964094, 0.020557147154847463, 0.021044570469838486, 0.021516847862612275, 0.022080000788689477, 0.022499955904712817, 0.02293505694295339, 0.023684091641696662, 0.024277536412208336, 0.025069255073563813, 0.02616802288532324, 0.027046486373922884, 0.02805850935843815, 0.029026471478321453, 0.029965518655790037, 0.031117985646319665, 0.032095586080341215, 0.03317645416584391, 0.034204999974596154, 0.03507520205107731, 0.03608860193761232, 0.037074463783752364, 0.038277876149012686, 0.03936425184259438, 0.040228946310996536, 0.041491565463106055, 0.04263990174757644, 0.04379374564012581, 0.044906282472082726, 0.04617440923227124, 0.04720708574708274, 0.048304476656822415, 0.049202216773698536, 0.05034504545008993, 0.051355691532585436, 0.05253845036754953, 0.05373360132069137, 0.05492599846979371, 0.05608672687244183, 0.05728463162962316, 0.05868081027764831, 0.05977682428536823, 0.06117988744349211, 0.06258708130767525, 0.0638676001860415, 0.06523073318559267, 0.06657458955686735, 0.06814701166342033, 0.06972631828007203, 0.07141440015628388, 0.07315342740722644, 0.0749323848167417, 0.0768311327019751, 0.07829615645098767, 0.08010953641099666, 0.08183341773972198, 0.08381891045219955]}, {\"name\": \"Bihar\", \"type\": \"scatter\", \"x\": [\"2020-03-22T00:00:00\", \"2020-03-23T00:00:00\", \"2020-03-24T00:00:00\", \"2020-03-25T00:00:00\", \"2020-03-26T00:00:00\", \"2020-03-27T00:00:00\", \"2020-03-28T00:00:00\", \"2020-03-29T00:00:00\", \"2020-03-30T00:00:00\", \"2020-03-31T00:00:00\", \"2020-04-01T00:00:00\", \"2020-04-02T00:00:00\", \"2020-04-03T00:00:00\", \"2020-04-04T00:00:00\", \"2020-04-05T00:00:00\", \"2020-04-06T00:00:00\", \"2020-04-07T00:00:00\", \"2020-04-08T00:00:00\", \"2020-04-09T00:00:00\", \"2020-04-10T00:00:00\", \"2020-04-11T00:00:00\", \"2020-04-12T00:00:00\", \"2020-04-13T00:00:00\", \"2020-04-14T00:00:00\", \"2020-04-15T00:00:00\", \"2020-04-16T00:00:00\", \"2020-04-17T00:00:00\", \"2020-04-18T00:00:00\", \"2020-04-19T00:00:00\", \"2020-04-20T00:00:00\", \"2020-04-21T00:00:00\", \"2020-04-22T00:00:00\", \"2020-04-23T00:00:00\", \"2020-04-24T00:00:00\", \"2020-04-25T00:00:00\", \"2020-04-26T00:00:00\", \"2020-04-27T00:00:00\", \"2020-04-28T00:00:00\", \"2020-04-29T00:00:00\", \"2020-04-30T00:00:00\", \"2020-05-01T00:00:00\", \"2020-05-02T00:00:00\", \"2020-05-03T00:00:00\", \"2020-05-04T00:00:00\", \"2020-05-05T00:00:00\", \"2020-05-06T00:00:00\", \"2020-05-07T00:00:00\", \"2020-05-08T00:00:00\", \"2020-05-09T00:00:00\", \"2020-05-10T00:00:00\", \"2020-05-11T00:00:00\", \"2020-05-12T00:00:00\", \"2020-05-13T00:00:00\", \"2020-05-14T00:00:00\", \"2020-05-15T00:00:00\", \"2020-05-16T00:00:00\", \"2020-05-17T00:00:00\", \"2020-05-18T00:00:00\", \"2020-05-19T00:00:00\", \"2020-05-20T00:00:00\", \"2020-05-21T00:00:00\", \"2020-05-22T00:00:00\", \"2020-05-23T00:00:00\", \"2020-05-24T00:00:00\", \"2020-05-25T00:00:00\", \"2020-05-26T00:00:00\", \"2020-05-27T00:00:00\", \"2020-05-28T00:00:00\", \"2020-05-29T00:00:00\", \"2020-05-30T00:00:00\", \"2020-05-31T00:00:00\", \"2020-06-01T00:00:00\", \"2020-06-02T00:00:00\", \"2020-06-03T00:00:00\", \"2020-06-04T00:00:00\", \"2020-06-05T00:00:00\", \"2020-06-06T00:00:00\", \"2020-06-07T00:00:00\", \"2020-06-08T00:00:00\", \"2020-06-09T00:00:00\", \"2020-06-10T00:00:00\", \"2020-06-11T00:00:00\", \"2020-06-12T00:00:00\", \"2020-06-13T00:00:00\", \"2020-06-14T00:00:00\", \"2020-06-15T00:00:00\", \"2020-06-16T00:00:00\", \"2020-06-17T00:00:00\", \"2020-06-18T00:00:00\", \"2020-06-19T00:00:00\", \"2020-06-20T00:00:00\", \"2020-06-21T00:00:00\", \"2020-06-22T00:00:00\", \"2020-06-23T00:00:00\", \"2020-06-24T00:00:00\", \"2020-06-25T00:00:00\", \"2020-06-26T00:00:00\", \"2020-06-27T00:00:00\", \"2020-06-28T00:00:00\", \"2020-06-29T00:00:00\", \"2020-06-30T00:00:00\", \"2020-07-01T00:00:00\", \"2020-07-02T00:00:00\", \"2020-07-03T00:00:00\", \"2020-07-04T00:00:00\", \"2020-07-05T00:00:00\", \"2020-07-06T00:00:00\", \"2020-07-07T00:00:00\", \"2020-07-08T00:00:00\", \"2020-07-09T00:00:00\", \"2020-07-10T00:00:00\", \"2020-07-11T00:00:00\", \"2020-07-12T00:00:00\", \"2020-07-13T00:00:00\", \"2020-07-14T00:00:00\", \"2020-07-15T00:00:00\", \"2020-07-16T00:00:00\", \"2020-07-17T00:00:00\", \"2020-07-18T00:00:00\", \"2020-07-19T00:00:00\", \"2020-07-20T00:00:00\", \"2020-07-21T00:00:00\", \"2020-07-22T00:00:00\", \"2020-07-23T00:00:00\", \"2020-07-24T00:00:00\", \"2020-07-25T00:00:00\", \"2020-07-26T00:00:00\", \"2020-07-27T00:00:00\", \"2020-07-28T00:00:00\", \"2020-07-29T00:00:00\", \"2020-07-30T00:00:00\", \"2020-07-31T00:00:00\", \"2020-08-01T00:00:00\", \"2020-08-02T00:00:00\", \"2020-08-03T00:00:00\", \"2020-08-04T00:00:00\", \"2020-08-05T00:00:00\", \"2020-08-06T00:00:00\", \"2020-08-07T00:00:00\", \"2020-08-08T00:00:00\", \"2020-08-09T00:00:00\", \"2020-08-10T00:00:00\", \"2020-08-11T00:00:00\", \"2020-08-12T00:00:00\", \"2020-08-13T00:00:00\", \"2020-08-14T00:00:00\", \"2020-08-15T00:00:00\", \"2020-08-16T00:00:00\", \"2020-08-17T00:00:00\", \"2020-08-18T00:00:00\", \"2020-08-19T00:00:00\", \"2020-08-20T00:00:00\", \"2020-08-21T00:00:00\", \"2020-08-22T00:00:00\", \"2020-08-23T00:00:00\", \"2020-08-24T00:00:00\", \"2020-08-25T00:00:00\", \"2020-08-26T00:00:00\", \"2020-08-27T00:00:00\", \"2020-08-28T00:00:00\", \"2020-08-29T00:00:00\", \"2020-08-30T00:00:00\"], \"y\": [1.921239700666244e-06, 1.921239700666244e-06, 2.8818595509993654e-06, 3.842479401332488e-06, 5.763719101998731e-06, 5.763719101998731e-06, 8.645578652998096e-06, 1.056681835366434e-05, 1.4409297754996827e-05, 1.4409297754996827e-05, 2.2094256557661802e-05, 2.3054876407994923e-05, 2.7857975659660533e-05, 2.8818595509993654e-05, 2.8818595509993654e-05, 3.07398352106599e-05, 3.07398352106599e-05, 3.6503554312658626e-05, 3.746417416299175e-05, 5.763719101998731e-05, 5.763719101998731e-05, 6.14796704213198e-05, 6.14796704213198e-05, 6.340091012198604e-05, 6.724338952331853e-05, 7.108586892465101e-05, 7.973144757764911e-05, 8.165268727831535e-05, 8.261330712864847e-05, 9.221950563197969e-05, 0.00010951066293797589, 0.00012103810114197335, 0.00014217173784930202, 0.00016906909365862945, 0.00021902132587595178, 0.0002411155824336136, 0.00026609169854227473, 0.00033237446821526016, 0.00036791740267758566, 0.0003871297996842481, 0.0004092240562419099, 0.0004524519495069004, 0.0004630187678605647, 0.000496640462622224, 0.0005081679008262215, 0.0005148922397785533, 0.0005206559588805521, 0.000528340917683217, 0.0005485139345402126, 0.0005677263315468751, 0.0006685914158318528, 0.000717583028198842, 0.0007982750956268243, 0.0009029826593131346, 0.0009548561312311231, 0.000977911007639118, 0.0011325708035427506, 0.0012123022511203996, 0.0013362222118133724, 0.0014390085357990163, 0.001608077629457646, 0.0019039485433602476, 0.002091269414175206, 0.0022862752437928296, 0.002485123552811786, 0.0026224921914094227, 0.0028655290135437025, 0.0029404573618696857, 0.0031662030266979696, 0.0032430526147246195, 0.0034928137758112312, 0.0036647647290208598, 0.003771393532407836, 0.003991375478134121, 0.004217121142962405, 0.004316064987546716, 0.004415008832131028, 0.004721446564387294, 0.0048876337984949236, 0.0049971444614329, 0.005244023762968512, 0.005485139345402125, 0.005747388564543068, 0.005862662946583042, 0.006042298858595337, 0.006215210431655298, 0.00638812200471526, 0.0065110813455579, 0.0066686230010125315, 0.0067483544485901804, 0.006898211145242148, 0.007236349332559407, 0.007312238300735723, 0.007516850328856678, 0.007831933639765943, 0.007885728351384597, 0.00813933199187254, 0.008372762615503489, 0.008579295883325112, 0.008849230061268719, 0.009260375357211295, 0.009647505156895542, 0.009845392846064166, 0.01005865045283812, 0.010522629840549016, 0.011239252248897526, 0.011408321342556154, 0.011647515685289102, 0.012074991518687342, 0.012669615206043544, 0.01339488319304505, 0.01400103431860525, 0.014767608959171083, 0.015986635549243813, 0.017251771892132534, 0.01852459319382392, 0.019800296355066308, 0.020906930422650065, 0.022660061649508012, 0.02414614055797335, 0.025522708803500715, 0.026557296382309484, 0.027811865906844542, 0.029173064234766576, 0.030720622813653238, 0.03258998904240149, 0.03516252900159359, 0.037633243256650385, 0.03961980510713928, 0.042116456098155064, 0.044265362703350256, 0.046567968484598744, 0.04921543679211683, 0.052104020682068534, 0.05477838634539594, 0.056991654480563446, 0.059354779312382935, 0.0622193477060763, 0.06511849841438166, 0.06849603780815292, 0.07232891101098207, 0.07632220772881686, 0.07929916864499921, 0.08301004312683606, 0.0867641455019379, 0.09048366556242775, 0.0941484302914486, 0.09755190642117885, 0.0997546077379927, 0.1021206144293632, 0.10518595237177616, 0.10800921411190521, 0.11041460621713936, 0.11278925848716283, 0.11482193009046773, 0.1171447088885732, 0.11834644432133995, 0.11963175368108565, 0.1217239837151112, 0.12370862432589942, 0.12589595572510795, 0.1277653219538562]}, {\"name\": \"Manipur\", \"type\": \"scatter\", \"x\": [\"2020-03-24T00:00:00\", \"2020-03-25T00:00:00\", \"2020-03-26T00:00:00\", \"2020-03-27T00:00:00\", \"2020-03-28T00:00:00\", \"2020-03-29T00:00:00\", \"2020-03-30T00:00:00\", \"2020-03-31T00:00:00\", \"2020-04-01T00:00:00\", \"2020-04-02T00:00:00\", \"2020-04-03T00:00:00\", \"2020-04-04T00:00:00\", \"2020-04-05T00:00:00\", \"2020-04-06T00:00:00\", \"2020-04-07T00:00:00\", \"2020-04-08T00:00:00\", \"2020-04-09T00:00:00\", \"2020-04-10T00:00:00\", \"2020-04-11T00:00:00\", \"2020-04-12T00:00:00\", \"2020-04-13T00:00:00\", \"2020-04-14T00:00:00\", \"2020-04-15T00:00:00\", \"2020-04-16T00:00:00\", \"2020-04-17T00:00:00\", \"2020-04-18T00:00:00\", \"2020-04-19T00:00:00\", \"2020-04-20T00:00:00\", \"2020-04-21T00:00:00\", \"2020-04-22T00:00:00\", \"2020-04-23T00:00:00\", \"2020-04-24T00:00:00\", \"2020-04-25T00:00:00\", \"2020-04-26T00:00:00\", \"2020-04-27T00:00:00\", \"2020-04-28T00:00:00\", \"2020-04-29T00:00:00\", \"2020-04-30T00:00:00\", \"2020-05-01T00:00:00\", \"2020-05-02T00:00:00\", \"2020-05-03T00:00:00\", \"2020-05-04T00:00:00\", \"2020-05-05T00:00:00\", \"2020-05-06T00:00:00\", \"2020-05-07T00:00:00\", \"2020-05-08T00:00:00\", \"2020-05-09T00:00:00\", \"2020-05-10T00:00:00\", \"2020-05-11T00:00:00\", \"2020-05-12T00:00:00\", \"2020-05-13T00:00:00\", \"2020-05-14T00:00:00\", \"2020-05-15T00:00:00\", \"2020-05-16T00:00:00\", \"2020-05-17T00:00:00\", \"2020-05-18T00:00:00\", \"2020-05-19T00:00:00\", \"2020-05-20T00:00:00\", \"2020-05-21T00:00:00\", \"2020-05-22T00:00:00\", \"2020-05-23T00:00:00\", \"2020-05-24T00:00:00\", \"2020-05-25T00:00:00\", \"2020-05-26T00:00:00\", \"2020-05-27T00:00:00\", \"2020-05-28T00:00:00\", \"2020-05-29T00:00:00\", \"2020-05-30T00:00:00\", \"2020-05-31T00:00:00\", \"2020-06-01T00:00:00\", \"2020-06-02T00:00:00\", \"2020-06-03T00:00:00\", \"2020-06-04T00:00:00\", \"2020-06-05T00:00:00\", \"2020-06-06T00:00:00\", \"2020-06-07T00:00:00\", \"2020-06-08T00:00:00\", \"2020-06-09T00:00:00\", \"2020-06-10T00:00:00\", \"2020-06-11T00:00:00\", \"2020-06-12T00:00:00\", \"2020-06-13T00:00:00\", \"2020-06-14T00:00:00\", \"2020-06-15T00:00:00\", \"2020-06-16T00:00:00\", \"2020-06-17T00:00:00\", \"2020-06-18T00:00:00\", \"2020-06-19T00:00:00\", \"2020-06-20T00:00:00\", \"2020-06-21T00:00:00\", \"2020-06-22T00:00:00\", \"2020-06-23T00:00:00\", \"2020-06-24T00:00:00\", \"2020-06-25T00:00:00\", \"2020-06-26T00:00:00\", \"2020-06-27T00:00:00\", \"2020-06-28T00:00:00\", \"2020-06-29T00:00:00\", \"2020-06-30T00:00:00\", \"2020-07-01T00:00:00\", \"2020-07-02T00:00:00\", \"2020-07-03T00:00:00\", \"2020-07-04T00:00:00\", \"2020-07-05T00:00:00\", \"2020-07-06T00:00:00\", \"2020-07-07T00:00:00\", \"2020-07-08T00:00:00\", \"2020-07-09T00:00:00\", \"2020-07-10T00:00:00\", \"2020-07-11T00:00:00\", \"2020-07-12T00:00:00\", \"2020-07-13T00:00:00\", \"2020-07-14T00:00:00\", \"2020-07-15T00:00:00\", \"2020-07-16T00:00:00\", \"2020-07-17T00:00:00\", \"2020-07-18T00:00:00\", \"2020-07-19T00:00:00\", \"2020-07-20T00:00:00\", \"2020-07-21T00:00:00\", \"2020-07-22T00:00:00\", \"2020-07-23T00:00:00\", \"2020-07-24T00:00:00\", \"2020-07-25T00:00:00\", \"2020-07-26T00:00:00\", \"2020-07-27T00:00:00\", \"2020-07-28T00:00:00\", \"2020-07-29T00:00:00\", \"2020-07-30T00:00:00\", \"2020-07-31T00:00:00\", \"2020-08-01T00:00:00\", \"2020-08-02T00:00:00\", \"2020-08-03T00:00:00\", \"2020-08-04T00:00:00\", \"2020-08-05T00:00:00\", \"2020-08-06T00:00:00\", \"2020-08-07T00:00:00\", \"2020-08-08T00:00:00\", \"2020-08-09T00:00:00\", \"2020-08-10T00:00:00\", \"2020-08-11T00:00:00\", \"2020-08-12T00:00:00\", \"2020-08-13T00:00:00\", \"2020-08-14T00:00:00\", \"2020-08-15T00:00:00\", \"2020-08-16T00:00:00\", \"2020-08-17T00:00:00\", \"2020-08-18T00:00:00\", \"2020-08-19T00:00:00\", \"2020-08-20T00:00:00\", \"2020-08-21T00:00:00\", \"2020-08-22T00:00:00\", \"2020-08-23T00:00:00\", \"2020-08-24T00:00:00\", \"2020-08-25T00:00:00\", \"2020-08-26T00:00:00\", \"2020-08-27T00:00:00\", \"2020-08-28T00:00:00\", \"2020-08-29T00:00:00\", \"2020-08-30T00:00:00\"], \"y\": [3.890460202537358e-05, 3.890460202537358e-05, 3.890460202537358e-05, 3.890460202537358e-05, 3.890460202537358e-05, 3.890460202537358e-05, 3.890460202537358e-05, 3.890460202537358e-05, 3.890460202537358e-05, 3.890460202537358e-05, 7.780920405074716e-05, 7.780920405074716e-05, 7.780920405074716e-05, 7.780920405074716e-05, 7.780920405074716e-05, 7.780920405074716e-05, 7.780920405074716e-05, 7.780920405074716e-05, 7.780920405074716e-05, 7.780920405074716e-05, 7.780920405074716e-05, 7.780920405074716e-05, 7.780920405074716e-05, 7.780920405074716e-05, 7.780920405074716e-05, 7.780920405074716e-05, 7.780920405074716e-05, 7.780920405074716e-05, 7.780920405074716e-05, 7.780920405074716e-05, 7.780920405074716e-05, 7.780920405074716e-05, 7.780920405074716e-05, 7.780920405074716e-05, 7.780920405074716e-05, 7.780920405074716e-05, 7.780920405074716e-05, 7.780920405074716e-05, 7.780920405074716e-05, 7.780920405074716e-05, 7.780920405074716e-05, 7.780920405074716e-05, 7.780920405074716e-05, 7.780920405074716e-05, 7.780920405074716e-05, 7.780920405074716e-05, 7.780920405074716e-05, 7.780920405074716e-05, 7.780920405074716e-05, 7.780920405074716e-05, 7.780920405074716e-05, 7.780920405074716e-05, 0.00011671380607612073, 0.00011671380607612073, 0.00027233221417761506, 0.00027233221417761506, 0.00027233221417761506, 0.0003501414182283622, 0.0009726150506343395, 0.0009726150506343395, 0.0010115196526597132, 0.0011282334587358338, 0.0012449472648119546, 0.0015172794789895696, 0.0015172794789895696, 0.0017118024891164378, 0.002139753111395547, 0.0022953715194970413, 0.0024120853255731618, 0.0027622267438015243, 0.0032290819681060072, 0.003462509580258249, 0.004590743038994083, 0.0048241706511463235, 0.005135407467349313, 0.006108022517983652, 0.006691591548364255, 0.010582051750901614, 0.011826999015713569, 0.012099331229891184, 0.014239084341286732, 0.014978271779768829, 0.017468166309392737, 0.0178183077276211, 0.019063254992433058, 0.01945230101268679, 0.021475340318006218, 0.023576188827376388, 0.026494033979279408, 0.03022887577371527, 0.03271877030333918, 0.034936332618785475, 0.03583113846536907, 0.037737463964612375, 0.0410832597387945, 0.0418224471772766, 0.04248382541170795, 0.04610195340006769, 0.04773594668513339, 0.048008278899311, 0.049019798551970716, 0.04975898599045281, 0.051198456265391636, 0.05154859768361999, 0.05314368636666031, 0.05407739681526928, 0.055633580896284215, 0.05582810390641109, 0.05641167293679169, 0.06154708040414101, 0.061975031026420116, 0.06259750465882609, 0.06325888289325744, 0.06504849458642463, 0.06613782344313508, 0.068627717972759, 0.07002828364567246, 0.07356860242998144, 0.07434669447048892, 0.07489135889884414, 0.07839277308112776, 0.08014348017226958, 0.08228323328366513, 0.08348927594645171, 0.08465641400721291, 0.08695178552670996, 0.088935920230004, 0.09014196289279058, 0.09562751177836827, 0.09745602807356082, 0.10196896190850416, 0.10722108318192958, 0.1101389283338326, 0.11360143791409086, 0.11741408891257747, 0.12033193406448049, 0.1251561047156268, 0.13484335061994482, 0.14141822836223297, 0.14600897140122704, 0.1498994316037644, 0.15332303658199728, 0.1549181252650376, 0.15997572352833617, 0.16332151930251831, 0.17079120289139002, 0.1777551266539319, 0.182345869692926, 0.18538042865090512, 0.18969883947572158, 0.19160516497496488, 0.1964293356261112, 0.19965841759421724, 0.2040935422251098, 0.20860647606005311, 0.21179665342613377, 0.21728220231171147, 0.22272884659526376, 0.22731958963425783, 0.23187142807122654]}, {\"name\": \"Mizoram\", \"type\": \"scatter\", \"x\": [\"2020-03-25T00:00:00\", \"2020-03-26T00:00:00\", \"2020-03-27T00:00:00\", \"2020-03-28T00:00:00\", \"2020-03-29T00:00:00\", \"2020-03-30T00:00:00\", \"2020-03-31T00:00:00\", \"2020-04-01T00:00:00\", \"2020-04-02T00:00:00\", \"2020-04-03T00:00:00\", \"2020-04-04T00:00:00\", \"2020-04-05T00:00:00\", \"2020-04-06T00:00:00\", \"2020-04-07T00:00:00\", \"2020-04-08T00:00:00\", \"2020-04-09T00:00:00\", \"2020-04-10T00:00:00\", \"2020-04-11T00:00:00\", \"2020-04-12T00:00:00\", \"2020-04-13T00:00:00\", \"2020-04-14T00:00:00\", \"2020-04-15T00:00:00\", \"2020-04-16T00:00:00\", \"2020-04-17T00:00:00\", \"2020-04-18T00:00:00\", \"2020-04-19T00:00:00\", \"2020-04-20T00:00:00\", \"2020-04-21T00:00:00\", \"2020-04-22T00:00:00\", \"2020-04-23T00:00:00\", \"2020-04-24T00:00:00\", \"2020-04-25T00:00:00\", \"2020-04-26T00:00:00\", \"2020-04-27T00:00:00\", \"2020-04-28T00:00:00\", \"2020-04-29T00:00:00\", \"2020-04-30T00:00:00\", \"2020-05-01T00:00:00\", \"2020-05-02T00:00:00\", \"2020-05-03T00:00:00\", \"2020-05-04T00:00:00\", \"2020-05-05T00:00:00\", \"2020-05-06T00:00:00\", \"2020-05-07T00:00:00\", \"2020-05-08T00:00:00\", \"2020-05-09T00:00:00\", \"2020-05-10T00:00:00\", \"2020-05-11T00:00:00\", \"2020-05-12T00:00:00\", \"2020-05-13T00:00:00\", \"2020-05-14T00:00:00\", \"2020-05-15T00:00:00\", \"2020-05-16T00:00:00\", \"2020-05-17T00:00:00\", \"2020-05-18T00:00:00\", \"2020-05-19T00:00:00\", \"2020-05-20T00:00:00\", \"2020-05-21T00:00:00\", \"2020-05-22T00:00:00\", \"2020-05-23T00:00:00\", \"2020-05-24T00:00:00\", \"2020-05-25T00:00:00\", \"2020-05-26T00:00:00\", \"2020-05-27T00:00:00\", \"2020-05-28T00:00:00\", \"2020-05-29T00:00:00\", \"2020-05-30T00:00:00\", \"2020-05-31T00:00:00\", \"2020-06-01T00:00:00\", \"2020-06-02T00:00:00\", \"2020-06-03T00:00:00\", \"2020-06-04T00:00:00\", \"2020-06-05T00:00:00\", \"2020-06-06T00:00:00\", \"2020-06-07T00:00:00\", \"2020-06-08T00:00:00\", \"2020-06-09T00:00:00\", \"2020-06-10T00:00:00\", \"2020-06-11T00:00:00\", \"2020-06-12T00:00:00\", \"2020-06-13T00:00:00\", \"2020-06-14T00:00:00\", \"2020-06-15T00:00:00\", \"2020-06-16T00:00:00\", \"2020-06-17T00:00:00\", \"2020-06-18T00:00:00\", \"2020-06-19T00:00:00\", \"2020-06-20T00:00:00\", \"2020-06-21T00:00:00\", \"2020-06-22T00:00:00\", \"2020-06-23T00:00:00\", \"2020-06-24T00:00:00\", \"2020-06-25T00:00:00\", \"2020-06-26T00:00:00\", \"2020-06-27T00:00:00\", \"2020-06-28T00:00:00\", \"2020-06-29T00:00:00\", \"2020-06-30T00:00:00\", \"2020-07-01T00:00:00\", \"2020-07-02T00:00:00\", \"2020-07-03T00:00:00\", \"2020-07-04T00:00:00\", \"2020-07-05T00:00:00\", \"2020-07-06T00:00:00\", \"2020-07-07T00:00:00\", \"2020-07-08T00:00:00\", \"2020-07-09T00:00:00\", \"2020-07-10T00:00:00\", \"2020-07-11T00:00:00\", \"2020-07-12T00:00:00\", \"2020-07-13T00:00:00\", \"2020-07-14T00:00:00\", \"2020-07-15T00:00:00\", \"2020-07-16T00:00:00\", \"2020-07-17T00:00:00\", \"2020-07-18T00:00:00\", \"2020-07-19T00:00:00\", \"2020-07-20T00:00:00\", \"2020-07-21T00:00:00\", \"2020-07-22T00:00:00\", \"2020-07-23T00:00:00\", \"2020-07-24T00:00:00\", \"2020-07-25T00:00:00\", \"2020-07-26T00:00:00\", \"2020-07-27T00:00:00\", \"2020-07-28T00:00:00\", \"2020-07-29T00:00:00\", \"2020-07-30T00:00:00\", \"2020-07-31T00:00:00\", \"2020-08-01T00:00:00\", \"2020-08-02T00:00:00\", \"2020-08-03T00:00:00\", \"2020-08-04T00:00:00\", \"2020-08-05T00:00:00\", \"2020-08-06T00:00:00\", \"2020-08-07T00:00:00\", \"2020-08-08T00:00:00\", \"2020-08-09T00:00:00\", \"2020-08-10T00:00:00\", \"2020-08-11T00:00:00\", \"2020-08-12T00:00:00\", \"2020-08-13T00:00:00\", \"2020-08-14T00:00:00\", \"2020-08-15T00:00:00\", \"2020-08-16T00:00:00\", \"2020-08-17T00:00:00\", \"2020-08-18T00:00:00\", \"2020-08-19T00:00:00\", \"2020-08-20T00:00:00\", \"2020-08-21T00:00:00\", \"2020-08-22T00:00:00\", \"2020-08-23T00:00:00\", \"2020-08-24T00:00:00\", \"2020-08-25T00:00:00\", \"2020-08-26T00:00:00\", \"2020-08-27T00:00:00\", \"2020-08-28T00:00:00\", \"2020-08-29T00:00:00\", \"2020-08-30T00:00:00\"], \"y\": [9.114058800261756e-05, 9.114058800261756e-05, 9.114058800261756e-05, 9.114058800261756e-05, 9.114058800261756e-05, 9.114058800261756e-05, 9.114058800261756e-05, 9.114058800261756e-05, 9.114058800261756e-05, 9.114058800261756e-05, 9.114058800261756e-05, 9.114058800261756e-05, 9.114058800261756e-05, 9.114058800261756e-05, 9.114058800261756e-05, 9.114058800261756e-05, 9.114058800261756e-05, 9.114058800261756e-05, 9.114058800261756e-05, 9.114058800261756e-05, 9.114058800261756e-05, 9.114058800261756e-05, 9.114058800261756e-05, 9.114058800261756e-05, 9.114058800261756e-05, 9.114058800261756e-05, 9.114058800261756e-05, 9.114058800261756e-05, 9.114058800261756e-05, 9.114058800261756e-05, 9.114058800261756e-05, 9.114058800261756e-05, 9.114058800261756e-05, 9.114058800261756e-05, 9.114058800261756e-05, 9.114058800261756e-05, 9.114058800261756e-05, 9.114058800261756e-05, 9.114058800261756e-05, 9.114058800261756e-05, 9.114058800261756e-05, 9.114058800261756e-05, 9.114058800261756e-05, 9.114058800261756e-05, 9.114058800261756e-05, 9.114058800261756e-05, 9.114058800261756e-05, 9.114058800261756e-05, 9.114058800261756e-05, 9.114058800261756e-05, 9.114058800261756e-05, 9.114058800261756e-05, 9.114058800261756e-05, 9.114058800261756e-05, 9.114058800261756e-05, 9.114058800261756e-05, 9.114058800261756e-05, 9.114058800261756e-05, 9.114058800261756e-05, 9.114058800261756e-05, 9.114058800261756e-05, 9.114058800261756e-05, 9.114058800261756e-05, 9.114058800261756e-05, 9.114058800261756e-05, 9.114058800261756e-05, 9.114058800261756e-05, 9.114058800261756e-05, 9.114058800261756e-05, 9.114058800261756e-05, 0.0011848276440340282, 0.0012759682320366457, 0.0015493899960444986, 0.002005092936057586, 0.0021873741120628214, 0.003098779992088997, 0.0038279046961099375, 0.008020371744230344, 0.008476074684243433, 0.00929633997626699, 0.009478621152272226, 0.009752042916280079, 0.010207745856293166, 0.010663448796306254, 0.011028011148316724, 0.011028011148316724, 0.011848276440340283, 0.011848276440340283, 0.012759682320366459, 0.012850822908369076, 0.012850822908369076, 0.012941963496371695, 0.012941963496371695, 0.013215385260379546, 0.013215385260379546, 0.013488807024387397, 0.013488807024387397, 0.013488807024387397, 0.01458249408041881, 0.01458249408041881, 0.014764775256424044, 0.014764775256424044, 0.01494705643242928, 0.016952149368486866, 0.01795469583651566, 0.01795469583651566, 0.01795469583651566, 0.01795469583651566, 0.02059777288859157, 0.020688913476594184, 0.021053475828604656, 0.02123575700460989, 0.02169145994462298, 0.02169145994462298, 0.024790239936711977, 0.02570164581673815, 0.02588392699274339, 0.02588392699274339, 0.027068754636777412, 0.028891566396829764, 0.028891566396829764, 0.03025867521686903, 0.032901752268944935, 0.032901752268944935, 0.032901752268944935, 0.03499798579300514, 0.03499798579300514, 0.036273954025041785, 0.03718535990506796, 0.037549922257078434, 0.04265379518522502, 0.04392976341726166, 0.04566143458931139, 0.04593485635331925, 0.048942495757405634, 0.049124776933410864, 0.05158557280948154, 0.05404636868555222, 0.056507164561622886, 0.05678058632563074, 0.05905910102569618, 0.0591502416136988, 0.0591502416136988, 0.05987936631771973, 0.07081623687803384, 0.07190992393406526, 0.07190992393406526, 0.0783809056822511, 0.07956573332628514, 0.08157082626234272, 0.08229995096636365, 0.0835759191984003, 0.08366705978640292, 0.08685698036649453, 0.08813294859853119, 0.08813294859853119, 0.0887709327145495, 0.0914140097666254, 0.0918697127066385]}, {\"name\": \"Andaman and Nicobar Islands\", \"type\": \"scatter\", \"x\": [\"2020-03-26T00:00:00\", \"2020-03-27T00:00:00\", \"2020-03-28T00:00:00\", \"2020-03-29T00:00:00\", \"2020-03-30T00:00:00\", \"2020-03-31T00:00:00\", \"2020-04-01T00:00:00\", \"2020-04-02T00:00:00\", \"2020-04-03T00:00:00\", \"2020-04-04T00:00:00\", \"2020-04-05T00:00:00\", \"2020-04-06T00:00:00\", \"2020-04-07T00:00:00\", \"2020-04-08T00:00:00\", \"2020-04-09T00:00:00\", \"2020-04-10T00:00:00\", \"2020-04-11T00:00:00\", \"2020-04-12T00:00:00\", \"2020-04-13T00:00:00\", \"2020-04-14T00:00:00\", \"2020-04-15T00:00:00\", \"2020-04-16T00:00:00\", \"2020-04-17T00:00:00\", \"2020-04-18T00:00:00\", \"2020-04-19T00:00:00\", \"2020-04-20T00:00:00\", \"2020-04-21T00:00:00\", \"2020-04-22T00:00:00\", \"2020-04-23T00:00:00\", \"2020-04-24T00:00:00\", \"2020-04-25T00:00:00\", \"2020-04-26T00:00:00\", \"2020-04-27T00:00:00\", \"2020-04-28T00:00:00\", \"2020-04-29T00:00:00\", \"2020-04-30T00:00:00\", \"2020-05-01T00:00:00\", \"2020-05-02T00:00:00\", \"2020-05-03T00:00:00\", \"2020-05-04T00:00:00\", \"2020-05-05T00:00:00\", \"2020-05-06T00:00:00\", \"2020-05-07T00:00:00\", \"2020-05-08T00:00:00\", \"2020-05-09T00:00:00\", \"2020-05-10T00:00:00\", \"2020-05-11T00:00:00\", \"2020-05-12T00:00:00\", \"2020-05-13T00:00:00\", \"2020-05-14T00:00:00\", \"2020-05-15T00:00:00\", \"2020-05-16T00:00:00\", \"2020-05-17T00:00:00\", \"2020-05-18T00:00:00\", \"2020-05-19T00:00:00\", \"2020-05-20T00:00:00\", \"2020-05-21T00:00:00\", \"2020-05-22T00:00:00\", \"2020-05-23T00:00:00\", \"2020-05-24T00:00:00\", \"2020-05-25T00:00:00\", \"2020-05-26T00:00:00\", \"2020-05-27T00:00:00\", \"2020-05-28T00:00:00\", \"2020-05-29T00:00:00\", \"2020-05-30T00:00:00\", \"2020-05-31T00:00:00\", \"2020-06-01T00:00:00\", \"2020-06-02T00:00:00\", \"2020-06-03T00:00:00\", \"2020-06-04T00:00:00\", \"2020-06-05T00:00:00\", \"2020-06-06T00:00:00\", \"2020-06-07T00:00:00\", \"2020-06-08T00:00:00\", \"2020-06-09T00:00:00\", \"2020-06-10T00:00:00\", \"2020-06-11T00:00:00\", \"2020-06-12T00:00:00\", \"2020-06-13T00:00:00\", \"2020-06-14T00:00:00\", \"2020-06-15T00:00:00\", \"2020-06-16T00:00:00\", \"2020-06-17T00:00:00\", \"2020-06-18T00:00:00\", \"2020-06-19T00:00:00\", \"2020-06-20T00:00:00\", \"2020-06-21T00:00:00\", \"2020-06-22T00:00:00\", \"2020-06-23T00:00:00\", \"2020-06-24T00:00:00\", \"2020-06-25T00:00:00\", \"2020-06-26T00:00:00\", \"2020-06-27T00:00:00\", \"2020-06-28T00:00:00\", \"2020-06-29T00:00:00\", \"2020-06-30T00:00:00\", \"2020-07-01T00:00:00\", \"2020-07-02T00:00:00\", \"2020-07-03T00:00:00\", \"2020-07-04T00:00:00\", \"2020-07-05T00:00:00\", \"2020-07-06T00:00:00\", \"2020-07-07T00:00:00\", \"2020-07-08T00:00:00\", \"2020-07-09T00:00:00\", \"2020-07-10T00:00:00\", \"2020-07-11T00:00:00\", \"2020-07-12T00:00:00\", \"2020-07-13T00:00:00\", \"2020-07-14T00:00:00\", \"2020-07-15T00:00:00\", \"2020-07-16T00:00:00\", \"2020-07-17T00:00:00\", \"2020-07-18T00:00:00\", \"2020-07-19T00:00:00\", \"2020-07-20T00:00:00\", \"2020-07-21T00:00:00\", \"2020-07-22T00:00:00\", \"2020-07-23T00:00:00\", \"2020-07-24T00:00:00\", \"2020-07-25T00:00:00\", \"2020-07-26T00:00:00\", \"2020-07-27T00:00:00\", \"2020-07-28T00:00:00\", \"2020-07-29T00:00:00\", \"2020-07-30T00:00:00\", \"2020-07-31T00:00:00\", \"2020-08-01T00:00:00\", \"2020-08-02T00:00:00\", \"2020-08-03T00:00:00\", \"2020-08-04T00:00:00\", \"2020-08-05T00:00:00\", \"2020-08-06T00:00:00\", \"2020-08-07T00:00:00\", \"2020-08-08T00:00:00\", \"2020-08-09T00:00:00\", \"2020-08-10T00:00:00\", \"2020-08-11T00:00:00\", \"2020-08-12T00:00:00\", \"2020-08-13T00:00:00\", \"2020-08-14T00:00:00\", \"2020-08-15T00:00:00\", \"2020-08-16T00:00:00\", \"2020-08-17T00:00:00\", \"2020-08-18T00:00:00\", \"2020-08-19T00:00:00\", \"2020-08-20T00:00:00\", \"2020-08-21T00:00:00\", \"2020-08-22T00:00:00\", \"2020-08-23T00:00:00\", \"2020-08-24T00:00:00\", \"2020-08-25T00:00:00\", \"2020-08-26T00:00:00\", \"2020-08-27T00:00:00\", \"2020-08-28T00:00:00\", \"2020-08-29T00:00:00\", \"2020-08-30T00:00:00\"], \"y\": [0.0002627561544060266, 0.0002627561544060266, 0.0015765369264361593, 0.002364805389654239, 0.002364805389654239, 0.0026275615440602656, 0.0026275615440602656, 0.0026275615440602656, 0.0026275615440602656, 0.0026275615440602656, 0.0026275615440602656, 0.0026275615440602656, 0.0026275615440602656, 0.0026275615440602656, 0.002890317698466292, 0.002890317698466292, 0.002890317698466292, 0.002890317698466292, 0.002890317698466292, 0.002890317698466292, 0.002890317698466292, 0.002890317698466292, 0.002890317698466292, 0.0031530738528723185, 0.0036785861616843722, 0.003941342316090398, 0.0042040984704964255, 0.004466854624902452, 0.004729610779308478, 0.005780635396932584, 0.007094416168962717, 0.008670953095398877, 0.008670953095398877, 0.008670953095398877, 0.008670953095398877, 0.008670953095398877, 0.008670953095398877, 0.008670953095398877, 0.008670953095398877, 0.008670953095398877, 0.008670953095398877, 0.008670953095398877, 0.008670953095398877, 0.008670953095398877, 0.008670953095398877, 0.008670953095398877, 0.008670953095398877, 0.008670953095398877, 0.008670953095398877, 0.008670953095398877, 0.008670953095398877, 0.008670953095398877, 0.008670953095398877, 0.008670953095398877, 0.008670953095398877, 0.008670953095398877, 0.008670953095398877, 0.008670953095398877, 0.008670953095398877, 0.008670953095398877, 0.008670953095398877, 0.008670953095398877, 0.008670953095398877, 0.008670953095398877, 0.008670953095398877, 0.008670953095398877, 0.008670953095398877, 0.008670953095398877, 0.008670953095398877, 0.008670953095398877, 0.008670953095398877, 0.008670953095398877, 0.008670953095398877, 0.008670953095398877, 0.008670953095398877, 0.008670953095398877, 0.008670953095398877, 0.008933709249804904, 0.00998473386742901, 0.00998473386742901, 0.00998473386742901, 0.00998473386742901, 0.010773002330647088, 0.011561270793865168, 0.011561270793865168, 0.011561270793865168, 0.011824026948271196, 0.01234953925708325, 0.012612295411489274, 0.012612295411489274, 0.01313780772030133, 0.014714344646737489, 0.015502613109955567, 0.018918443117233914, 0.018918443117233914, 0.01996946773485802, 0.02364805389654239, 0.025487346977384577, 0.02627561544060266, 0.028640420830256898, 0.030479713911099084, 0.03126798237431716, 0.03284451930075332, 0.037048617771249744, 0.038625154697685904, 0.03915066700649796, 0.03967617931531001, 0.04098996008734015, 0.042829253168182334, 0.042829253168182334, 0.04361752163140041, 0.04361752163140041, 0.04624508317546067, 0.04729610779308478, 0.050974693954769154, 0.05202571857239326, 0.0533394993444234, 0.05439052396204751, 0.05570430473407764, 0.05806911012373187, 0.06306147705744637, 0.06805384399116088, 0.0761992847777477, 0.08513299402755262, 0.08881158018923699, 0.09538048404938765, 0.11245963408577936, 0.1237581487252385, 0.14399037261450257, 0.1671129142022329, 0.1928630173340235, 0.21808760815700207, 0.24383771128879267, 0.2698505705749893, 0.29507516139796786, 0.3210880206841645, 0.35498356460254193, 0.3915066700649796, 0.4269787509097932, 0.46350185637223085, 0.4992366933714505, 0.5352342865250761, 0.5743849535315741, 0.6059156920602973, 0.6303520144200577, 0.6424387975227349, 0.6645103144928413, 0.6842170260732932, 0.7041864938081512, 0.721791156153355, 0.7378192815721226, 0.751482601601236, 0.7630438723951012, 0.7738168747257482, 0.7843271209019894, 0.7929980739973882, 0.8014062709383811, 0.8095517117249679]}, {\"name\": \"Goa\", \"type\": \"scatter\", \"x\": [\"2020-03-26T00:00:00\", \"2020-03-27T00:00:00\", \"2020-03-28T00:00:00\", \"2020-03-29T00:00:00\", \"2020-03-30T00:00:00\", \"2020-03-31T00:00:00\", \"2020-04-01T00:00:00\", \"2020-04-02T00:00:00\", \"2020-04-03T00:00:00\", \"2020-04-04T00:00:00\", \"2020-04-05T00:00:00\", \"2020-04-06T00:00:00\", \"2020-04-07T00:00:00\", \"2020-04-08T00:00:00\", \"2020-04-09T00:00:00\", \"2020-04-10T00:00:00\", \"2020-04-11T00:00:00\", \"2020-04-12T00:00:00\", \"2020-04-13T00:00:00\", \"2020-04-14T00:00:00\", \"2020-04-15T00:00:00\", \"2020-04-16T00:00:00\", \"2020-04-17T00:00:00\", \"2020-04-18T00:00:00\", \"2020-04-19T00:00:00\", \"2020-04-20T00:00:00\", \"2020-04-21T00:00:00\", \"2020-04-22T00:00:00\", \"2020-04-23T00:00:00\", \"2020-04-24T00:00:00\", \"2020-04-25T00:00:00\", \"2020-04-26T00:00:00\", \"2020-04-27T00:00:00\", \"2020-04-28T00:00:00\", \"2020-04-29T00:00:00\", \"2020-04-30T00:00:00\", \"2020-05-01T00:00:00\", \"2020-05-02T00:00:00\", \"2020-05-03T00:00:00\", \"2020-05-04T00:00:00\", \"2020-05-05T00:00:00\", \"2020-05-06T00:00:00\", \"2020-05-07T00:00:00\", \"2020-05-08T00:00:00\", \"2020-05-09T00:00:00\", \"2020-05-10T00:00:00\", \"2020-05-11T00:00:00\", \"2020-05-12T00:00:00\", \"2020-05-13T00:00:00\", \"2020-05-14T00:00:00\", \"2020-05-15T00:00:00\", \"2020-05-16T00:00:00\", \"2020-05-17T00:00:00\", \"2020-05-18T00:00:00\", \"2020-05-19T00:00:00\", \"2020-05-20T00:00:00\", \"2020-05-21T00:00:00\", \"2020-05-22T00:00:00\", \"2020-05-23T00:00:00\", \"2020-05-24T00:00:00\", \"2020-05-25T00:00:00\", \"2020-05-26T00:00:00\", \"2020-05-27T00:00:00\", \"2020-05-28T00:00:00\", \"2020-05-29T00:00:00\", \"2020-05-30T00:00:00\", \"2020-05-31T00:00:00\", \"2020-06-01T00:00:00\", \"2020-06-02T00:00:00\", \"2020-06-03T00:00:00\", \"2020-06-04T00:00:00\", \"2020-06-05T00:00:00\", \"2020-06-06T00:00:00\", \"2020-06-07T00:00:00\", \"2020-06-08T00:00:00\", \"2020-06-09T00:00:00\", \"2020-06-10T00:00:00\", \"2020-06-11T00:00:00\", \"2020-06-12T00:00:00\", \"2020-06-13T00:00:00\", \"2020-06-14T00:00:00\", \"2020-06-15T00:00:00\", \"2020-06-16T00:00:00\", \"2020-06-17T00:00:00\", \"2020-06-18T00:00:00\", \"2020-06-19T00:00:00\", \"2020-06-20T00:00:00\", \"2020-06-21T00:00:00\", \"2020-06-22T00:00:00\", \"2020-06-23T00:00:00\", \"2020-06-24T00:00:00\", \"2020-06-25T00:00:00\", \"2020-06-26T00:00:00\", \"2020-06-27T00:00:00\", \"2020-06-28T00:00:00\", \"2020-06-29T00:00:00\", \"2020-06-30T00:00:00\", \"2020-07-01T00:00:00\", \"2020-07-02T00:00:00\", \"2020-07-03T00:00:00\", \"2020-07-04T00:00:00\", \"2020-07-05T00:00:00\", \"2020-07-06T00:00:00\", \"2020-07-07T00:00:00\", \"2020-07-08T00:00:00\", \"2020-07-09T00:00:00\", \"2020-07-10T00:00:00\", \"2020-07-11T00:00:00\", \"2020-07-12T00:00:00\", \"2020-07-13T00:00:00\", \"2020-07-14T00:00:00\", \"2020-07-15T00:00:00\", \"2020-07-16T00:00:00\", \"2020-07-17T00:00:00\", \"2020-07-18T00:00:00\", \"2020-07-19T00:00:00\", \"2020-07-20T00:00:00\", \"2020-07-21T00:00:00\", \"2020-07-22T00:00:00\", \"2020-07-23T00:00:00\", \"2020-07-24T00:00:00\", \"2020-07-25T00:00:00\", \"2020-07-26T00:00:00\", \"2020-07-27T00:00:00\", \"2020-07-28T00:00:00\", \"2020-07-29T00:00:00\", \"2020-07-30T00:00:00\", \"2020-07-31T00:00:00\", \"2020-08-01T00:00:00\", \"2020-08-02T00:00:00\", \"2020-08-03T00:00:00\", \"2020-08-04T00:00:00\", \"2020-08-05T00:00:00\", \"2020-08-06T00:00:00\", \"2020-08-07T00:00:00\", \"2020-08-08T00:00:00\", \"2020-08-09T00:00:00\", \"2020-08-10T00:00:00\", \"2020-08-11T00:00:00\", \"2020-08-12T00:00:00\", \"2020-08-13T00:00:00\", \"2020-08-14T00:00:00\", \"2020-08-15T00:00:00\", \"2020-08-16T00:00:00\", \"2020-08-17T00:00:00\", \"2020-08-18T00:00:00\", \"2020-08-19T00:00:00\", \"2020-08-20T00:00:00\", \"2020-08-21T00:00:00\", \"2020-08-22T00:00:00\", \"2020-08-23T00:00:00\", \"2020-08-24T00:00:00\", \"2020-08-25T00:00:00\", \"2020-08-26T00:00:00\", \"2020-08-27T00:00:00\", \"2020-08-28T00:00:00\", \"2020-08-29T00:00:00\", \"2020-08-30T00:00:00\"], \"y\": [0.00020568443208814264, 0.00020568443208814264, 0.00020568443208814264, 0.00034280738681357107, 0.00034280738681357107, 0.00034280738681357107, 0.00034280738681357107, 0.00034280738681357107, 0.0004113688641762853, 0.00047993034153899944, 0.00047993034153899944, 0.00047993034153899944, 0.00047993034153899944, 0.00047993034153899944, 0.00047993034153899944, 0.00047993034153899944, 0.00047993034153899944, 0.00047993034153899944, 0.00047993034153899944, 0.00047993034153899944, 0.00047993034153899944, 0.00047993034153899944, 0.00047993034153899944, 0.00047993034153899944, 0.00047993034153899944, 0.00047993034153899944, 0.00047993034153899944, 0.00047993034153899944, 0.00047993034153899944, 0.00047993034153899944, 0.00047993034153899944, 0.00047993034153899944, 0.00047993034153899944, 0.00047993034153899944, 0.00047993034153899944, 0.00047993034153899944, 0.00047993034153899944, 0.00047993034153899944, 0.00047993034153899944, 0.00047993034153899944, 0.00047993034153899944, 0.00047993034153899944, 0.00047993034153899944, 0.00047993034153899944, 0.00047993034153899944, 0.00047993034153899944, 0.00047993034153899944, 0.00047993034153899944, 0.00047993034153899944, 0.00047993034153899944, 0.0009598606830779989, 0.0010284221604407132, 0.0011655451151661416, 0.0019882828435187124, 0.00260533613978314, 0.0031538279586848534, 0.0034280738681357107, 0.003565196822861139, 0.003702319777586567, 0.0037708812549492815, 0.004525057505939138, 0.004593618983301852, 0.004593618983301852, 0.0046621804606645665, 0.00473074193802728, 0.00473074193802728, 0.0047993034153899945, 0.0047993034153899945, 0.004867864892752709, 0.005416356711654423, 0.005416356711654423, 0.011381205242210559, 0.013438049563091985, 0.018305914455844695, 0.020568443208814263, 0.02262528752969569, 0.024613570373214405, 0.0265332917393704, 0.028590136060251826, 0.03174396401893668, 0.035857652660699534, 0.03866867323257082, 0.04058839459872681, 0.04312516926114724, 0.04497632914994052, 0.04833584154071352, 0.0497070710879678, 0.05169535393148651, 0.05169535393148651, 0.059237116441385074, 0.06232238292270722, 0.06520196497194122, 0.06821866997590063, 0.07123537497986007, 0.07733734646514163, 0.08213664988053163, 0.08213664988053163, 0.09015834273196918, 0.0950947691020846, 0.10160810945154246, 0.10160810945154246, 0.11545752787881074, 0.12073676163573972, 0.12430195845860087, 0.13047249142124515, 0.13979685234257427, 0.14747573780719828, 0.1543318855434697, 0.16235357839490724, 0.16818130397073797, 0.1770942960278908, 0.18874974717955223, 0.20232491969736965, 0.21308907164331578, 0.22652712120640772, 0.23886818713169633, 0.25072932271544585, 0.26416737227853787, 0.27609706933965017, 0.28631272946669456, 0.2982424265278068, 0.3112691072267225, 0.3212790829216788, 0.33327734146015375, 0.35096620261973405, 0.36248453081667004, 0.3763339492439383, 0.39107466687692183, 0.40540401564572914, 0.4246012293072891, 0.44770644717852376, 0.4673150297042601, 0.48507245234120305, 0.5089318464634276, 0.522027088639706, 0.5448580606014899, 0.5626154832384328, 0.5973075907839662, 0.6190415791079467, 0.6474945922134729, 0.6804041013475758, 0.7194841434443229, 0.7521194066689749, 0.7774185918158164, 0.7979870350246308, 0.8223263594883943, 0.8455687003143544, 0.8690167255724026, 0.8980867919741935, 0.9244829607588384, 0.945462772831829, 0.9597921216006363, 0.9693221669540536, 0.9961982660802375, 1.0302733203295065, 1.061537354006904, 1.0973950066676035, 1.1348981347850082]}, {\"name\": \"Assam\", \"type\": \"scatter\", \"x\": [\"2020-04-01T00:00:00\", \"2020-04-02T00:00:00\", \"2020-04-03T00:00:00\", \"2020-04-04T00:00:00\", \"2020-04-05T00:00:00\", \"2020-04-06T00:00:00\", \"2020-04-07T00:00:00\", \"2020-04-08T00:00:00\", \"2020-04-09T00:00:00\", \"2020-04-10T00:00:00\", \"2020-04-11T00:00:00\", \"2020-04-12T00:00:00\", \"2020-04-13T00:00:00\", \"2020-04-14T00:00:00\", \"2020-04-15T00:00:00\", \"2020-04-16T00:00:00\", \"2020-04-17T00:00:00\", \"2020-04-18T00:00:00\", \"2020-04-19T00:00:00\", \"2020-04-20T00:00:00\", \"2020-04-21T00:00:00\", \"2020-04-22T00:00:00\", \"2020-04-23T00:00:00\", \"2020-04-24T00:00:00\", \"2020-04-25T00:00:00\", \"2020-04-26T00:00:00\", \"2020-04-27T00:00:00\", \"2020-04-28T00:00:00\", \"2020-04-29T00:00:00\", \"2020-04-30T00:00:00\", \"2020-05-01T00:00:00\", \"2020-05-02T00:00:00\", \"2020-05-03T00:00:00\", \"2020-05-04T00:00:00\", \"2020-05-05T00:00:00\", \"2020-05-06T00:00:00\", \"2020-05-07T00:00:00\", \"2020-05-08T00:00:00\", \"2020-05-09T00:00:00\", \"2020-05-10T00:00:00\", \"2020-05-11T00:00:00\", \"2020-05-12T00:00:00\", \"2020-05-13T00:00:00\", \"2020-05-14T00:00:00\", \"2020-05-15T00:00:00\", \"2020-05-16T00:00:00\", \"2020-05-17T00:00:00\", \"2020-05-18T00:00:00\", \"2020-05-19T00:00:00\", \"2020-05-20T00:00:00\", \"2020-05-21T00:00:00\", \"2020-05-22T00:00:00\", \"2020-05-23T00:00:00\", \"2020-05-24T00:00:00\", \"2020-05-25T00:00:00\", \"2020-05-26T00:00:00\", \"2020-05-27T00:00:00\", \"2020-05-28T00:00:00\", \"2020-05-29T00:00:00\", \"2020-05-30T00:00:00\", \"2020-05-31T00:00:00\", \"2020-06-01T00:00:00\", \"2020-06-02T00:00:00\", \"2020-06-03T00:00:00\", \"2020-06-04T00:00:00\", \"2020-06-05T00:00:00\", \"2020-06-06T00:00:00\", \"2020-06-07T00:00:00\", \"2020-06-08T00:00:00\", \"2020-06-09T00:00:00\", \"2020-06-10T00:00:00\", \"2020-06-11T00:00:00\", \"2020-06-12T00:00:00\", \"2020-06-13T00:00:00\", \"2020-06-14T00:00:00\", \"2020-06-15T00:00:00\", \"2020-06-16T00:00:00\", \"2020-06-17T00:00:00\", \"2020-06-18T00:00:00\", \"2020-06-19T00:00:00\", \"2020-06-20T00:00:00\", \"2020-06-21T00:00:00\", \"2020-06-22T00:00:00\", \"2020-06-23T00:00:00\", \"2020-06-24T00:00:00\", \"2020-06-25T00:00:00\", \"2020-06-26T00:00:00\", \"2020-06-27T00:00:00\", \"2020-06-28T00:00:00\", \"2020-06-29T00:00:00\", \"2020-06-30T00:00:00\", \"2020-07-01T00:00:00\", \"2020-07-02T00:00:00\", \"2020-07-03T00:00:00\", \"2020-07-04T00:00:00\", \"2020-07-05T00:00:00\", \"2020-07-06T00:00:00\", \"2020-07-07T00:00:00\", \"2020-07-08T00:00:00\", \"2020-07-09T00:00:00\", \"2020-07-10T00:00:00\", \"2020-07-11T00:00:00\", \"2020-07-12T00:00:00\", \"2020-07-13T00:00:00\", \"2020-07-14T00:00:00\", \"2020-07-15T00:00:00\", \"2020-07-16T00:00:00\", \"2020-07-17T00:00:00\", \"2020-07-18T00:00:00\", \"2020-07-19T00:00:00\", \"2020-07-20T00:00:00\", \"2020-07-21T00:00:00\", \"2020-07-22T00:00:00\", \"2020-07-23T00:00:00\", \"2020-07-24T00:00:00\", \"2020-07-25T00:00:00\", \"2020-07-26T00:00:00\", \"2020-07-27T00:00:00\", \"2020-07-28T00:00:00\", \"2020-07-29T00:00:00\", \"2020-07-30T00:00:00\", \"2020-07-31T00:00:00\", \"2020-08-01T00:00:00\", \"2020-08-02T00:00:00\", \"2020-08-03T00:00:00\", \"2020-08-04T00:00:00\", \"2020-08-05T00:00:00\", \"2020-08-06T00:00:00\", \"2020-08-07T00:00:00\", \"2020-08-08T00:00:00\", \"2020-08-09T00:00:00\", \"2020-08-10T00:00:00\", \"2020-08-11T00:00:00\", \"2020-08-12T00:00:00\", \"2020-08-13T00:00:00\", \"2020-08-14T00:00:00\", \"2020-08-15T00:00:00\", \"2020-08-16T00:00:00\", \"2020-08-17T00:00:00\", \"2020-08-18T00:00:00\", \"2020-08-19T00:00:00\", \"2020-08-20T00:00:00\", \"2020-08-21T00:00:00\", \"2020-08-22T00:00:00\", \"2020-08-23T00:00:00\", \"2020-08-24T00:00:00\", \"2020-08-25T00:00:00\", \"2020-08-26T00:00:00\", \"2020-08-27T00:00:00\", \"2020-08-28T00:00:00\", \"2020-08-29T00:00:00\", \"2020-08-30T00:00:00\"], \"y\": [3.2045554935438464e-06, 1.602277746771923e-05, 5.127288789670154e-05, 7.690933184505231e-05, 8.331844283214e-05, 8.331844283214e-05, 8.331844283214e-05, 8.652299832568384e-05, 8.972755381922769e-05, 9.293210931277155e-05, 9.293210931277155e-05, 9.293210931277155e-05, 9.934122029985922e-05, 9.934122029985922e-05, 0.00010575033128694691, 0.00010575033128694691, 0.00011215944227403461, 0.00011215944227403461, 0.00011215944227403461, 0.00011215944227403461, 0.00011215944227403461, 0.00011215944227403461, 0.00011215944227403461, 0.00011536399776757847, 0.00011536399776757847, 0.00011536399776757847, 0.00011536399776757847, 0.00012177310875466615, 0.00012177310875466615, 0.00013459133072884154, 0.00013459133072884154, 0.0001377958862223854, 0.0001377958862223854, 0.0001377958862223854, 0.0001377958862223854, 0.0001377958862223854, 0.00014420499720947308, 0.00017304599665136767, 0.00018906877411908692, 0.00020188699609326231, 0.00020188699609326231, 0.00020829610708035, 0.00020829610708035, 0.00025636443948350766, 0.0002787963279383146, 0.00028840999441894616, 0.0002948191054060338, 0.0003236601048479285, 0.0003428874378091915, 0.00045504688008322615, 0.0005447744339024538, 0.0006505247651894008, 0.0008299798728278561, 0.0010542987573759254, 0.0012113219765595739, 0.001685596189604063, 0.001974006184023009, 0.0025027578404577438, 0.002743099502473532, 0.0032814648253888987, 0.003797398259849458, 0.0040761945877877724, 0.004454332136025946, 0.004848492461731839, 0.005358016785205311, 0.006370656321165166, 0.006899407977599901, 0.007681319518024599, 0.008219684840939965, 0.008895846050077717, 0.009411779484538276, 0.009908485586037572, 0.010635919683072025, 0.011209535116416374, 0.011914537324996019, 0.012975245193359033, 0.013324541742155312, 0.013840475176615873, 0.014756978047769412, 0.015308161592658952, 0.01571514014033902, 0.01571514014033902, 0.017266144999214243, 0.017900646986935925, 0.018685763082854166, 0.019861834948984757, 0.02025599527469065, 0.021172498145844192, 0.021842250243994856, 0.023092026886476956, 0.024841714185951894, 0.026363878045385224, 0.02750149524559329, 0.028882658663310683, 0.03099766528904962, 0.03418619800512575, 0.03649347796047732, 0.038967394801493166, 0.04012744389015604, 0.04273595206190073, 0.04496632268540725, 0.04678651020574015, 0.0497859741476972, 0.05150041133674316, 0.05385575962449788, 0.057063519673535276, 0.059816232842489436, 0.06330278921946514, 0.06616125271970624, 0.07344200280103787, 0.07690612728955877, 0.0813380275371299, 0.0813380275371299, 0.08579235967315585, 0.09226235721462088, 0.09588350492232542, 0.09961681207230401, 0.10327641444593107, 0.10759615525122819, 0.1119896008328768, 0.1163093416381739, 0.1230773628405385, 0.12904424516951715, 0.1337132825236105, 0.13748824889500516, 0.14508624997019764, 0.15433459712456518, 0.16165380187181932, 0.16925500750250533, 0.17784001166970928, 0.18494771575438954, 0.18854643157363926, 0.19783964250491642, 0.20639260111718497, 0.22111112449903184, 0.23007106165898045, 0.23874258882451005, 0.24212980398118591, 0.24635020356618317, 0.2552973225041576, 0.2634176661247977, 0.27019850554913644, 0.27575840933043505, 0.2817060643264524, 0.28670517089638087, 0.2907813654841686, 0.29680272525653745, 0.3031253132452995, 0.3101080396657315, 0.3166325146505868, 0.32483617671405907, 0.33261363289689]}, {\"name\": \"Jharkhand\", \"type\": \"scatter\", \"x\": [\"2020-04-01T00:00:00\", \"2020-04-02T00:00:00\", \"2020-04-03T00:00:00\", \"2020-04-04T00:00:00\", \"2020-04-05T00:00:00\", \"2020-04-06T00:00:00\", \"2020-04-07T00:00:00\", \"2020-04-08T00:00:00\", \"2020-04-09T00:00:00\", \"2020-04-10T00:00:00\", \"2020-04-11T00:00:00\", \"2020-04-12T00:00:00\", \"2020-04-13T00:00:00\", \"2020-04-14T00:00:00\", \"2020-04-15T00:00:00\", \"2020-04-16T00:00:00\", \"2020-04-17T00:00:00\", \"2020-04-18T00:00:00\", \"2020-04-19T00:00:00\", \"2020-04-20T00:00:00\", \"2020-04-21T00:00:00\", \"2020-04-22T00:00:00\", \"2020-04-23T00:00:00\", \"2020-04-24T00:00:00\", \"2020-04-25T00:00:00\", \"2020-04-26T00:00:00\", \"2020-04-27T00:00:00\", \"2020-04-28T00:00:00\", \"2020-04-29T00:00:00\", \"2020-04-30T00:00:00\", \"2020-05-01T00:00:00\", \"2020-05-02T00:00:00\", \"2020-05-03T00:00:00\", \"2020-05-04T00:00:00\", \"2020-05-05T00:00:00\", \"2020-05-06T00:00:00\", \"2020-05-07T00:00:00\", \"2020-05-08T00:00:00\", \"2020-05-09T00:00:00\", \"2020-05-10T00:00:00\", \"2020-05-11T00:00:00\", \"2020-05-12T00:00:00\", \"2020-05-13T00:00:00\", \"2020-05-14T00:00:00\", \"2020-05-15T00:00:00\", \"2020-05-16T00:00:00\", \"2020-05-17T00:00:00\", \"2020-05-18T00:00:00\", \"2020-05-19T00:00:00\", \"2020-05-20T00:00:00\", \"2020-05-21T00:00:00\", \"2020-05-22T00:00:00\", \"2020-05-23T00:00:00\", \"2020-05-24T00:00:00\", \"2020-05-25T00:00:00\", \"2020-05-26T00:00:00\", \"2020-05-27T00:00:00\", \"2020-05-28T00:00:00\", \"2020-05-29T00:00:00\", \"2020-05-30T00:00:00\", \"2020-05-31T00:00:00\", \"2020-06-01T00:00:00\", \"2020-06-02T00:00:00\", \"2020-06-03T00:00:00\", \"2020-06-04T00:00:00\", \"2020-06-05T00:00:00\", \"2020-06-06T00:00:00\", \"2020-06-07T00:00:00\", \"2020-06-08T00:00:00\", \"2020-06-09T00:00:00\", \"2020-06-10T00:00:00\", \"2020-06-11T00:00:00\", \"2020-06-12T00:00:00\", \"2020-06-13T00:00:00\", \"2020-06-14T00:00:00\", \"2020-06-15T00:00:00\", \"2020-06-16T00:00:00\", \"2020-06-17T00:00:00\", \"2020-06-18T00:00:00\", \"2020-06-19T00:00:00\", \"2020-06-20T00:00:00\", \"2020-06-21T00:00:00\", \"2020-06-22T00:00:00\", \"2020-06-23T00:00:00\", \"2020-06-24T00:00:00\", \"2020-06-25T00:00:00\", \"2020-06-26T00:00:00\", \"2020-06-27T00:00:00\", \"2020-06-28T00:00:00\", \"2020-06-29T00:00:00\", \"2020-06-30T00:00:00\", \"2020-07-01T00:00:00\", \"2020-07-02T00:00:00\", \"2020-07-03T00:00:00\", \"2020-07-04T00:00:00\", \"2020-07-05T00:00:00\", \"2020-07-06T00:00:00\", \"2020-07-07T00:00:00\", \"2020-07-08T00:00:00\", \"2020-07-09T00:00:00\", \"2020-07-10T00:00:00\", \"2020-07-11T00:00:00\", \"2020-07-12T00:00:00\", \"2020-07-13T00:00:00\", \"2020-07-14T00:00:00\", \"2020-07-15T00:00:00\", \"2020-07-16T00:00:00\", \"2020-07-17T00:00:00\", \"2020-07-18T00:00:00\", \"2020-07-19T00:00:00\", \"2020-07-20T00:00:00\", \"2020-07-21T00:00:00\", \"2020-07-22T00:00:00\", \"2020-07-23T00:00:00\", \"2020-07-24T00:00:00\", \"2020-07-25T00:00:00\", \"2020-07-26T00:00:00\", \"2020-07-27T00:00:00\", \"2020-07-28T00:00:00\", \"2020-07-29T00:00:00\", \"2020-07-30T00:00:00\", \"2020-07-31T00:00:00\", \"2020-08-01T00:00:00\", \"2020-08-02T00:00:00\", \"2020-08-03T00:00:00\", \"2020-08-04T00:00:00\", \"2020-08-05T00:00:00\", \"2020-08-06T00:00:00\", \"2020-08-07T00:00:00\", \"2020-08-08T00:00:00\", \"2020-08-09T00:00:00\", \"2020-08-10T00:00:00\", \"2020-08-11T00:00:00\", \"2020-08-12T00:00:00\", \"2020-08-13T00:00:00\", \"2020-08-14T00:00:00\", \"2020-08-15T00:00:00\", \"2020-08-16T00:00:00\", \"2020-08-17T00:00:00\", \"2020-08-18T00:00:00\", \"2020-08-19T00:00:00\", \"2020-08-20T00:00:00\", \"2020-08-21T00:00:00\", \"2020-08-22T00:00:00\", \"2020-08-23T00:00:00\", \"2020-08-24T00:00:00\", \"2020-08-25T00:00:00\", \"2020-08-26T00:00:00\", \"2020-08-27T00:00:00\", \"2020-08-28T00:00:00\", \"2020-08-29T00:00:00\", \"2020-08-30T00:00:00\"], \"y\": [3.031393045753967e-06, 3.031393045753967e-06, 6.062786091507934e-06, 6.062786091507934e-06, 9.0941791372619e-06, 1.2125572183015867e-05, 1.2125572183015867e-05, 1.2125572183015867e-05, 3.9408109594801576e-05, 3.9408109594801576e-05, 5.1533681777817446e-05, 5.1533681777817446e-05, 5.759646786932538e-05, 7.27534330980952e-05, 8.184761223535712e-05, 8.487900528111109e-05, 8.791039832686505e-05, 0.00010003597050988092, 0.00010609875660138885, 0.00012731850792166663, 0.00013944408010468248, 0.00013641268705892853, 0.00014853825924194438, 0.0001667266175164682, 0.00017885218969948405, 0.00020310333406551578, 0.0002485742297518253, 0.0003122334837126586, 0.00031829626980416656, 0.0003243590558956745, 0.00033648462807869036, 0.00033648462807869036, 0.0003486102002617062, 0.0003486102002617062, 0.0003486102002617062, 0.0003789241307192459, 0.00038498691681075386, 0.00040014388203952366, 0.00040014388203952366, 0.0004728973151376189, 0.0004759287081833728, 0.0004850228873206347, 0.0005213996038696823, 0.0005244309969154364, 0.0005971844300135316, 0.0006153727882880554, 0.0006578122909286109, 0.0006760006492031347, 0.0006760006492031347, 0.0007002517935691664, 0.0007002517935691664, 0.0008791039832686504, 0.0009336690580922218, 0.0010609875660138885, 0.001121615426928968, 0.0011428351782492457, 0.00129137343749119, 0.0013580640844977775, 0.0014217233384586107, 0.0015490418463802772, 0.0017066742847594834, 0.00184914975790992, 0.001997688017151864, 0.0021583518485768245, 0.0022796075704069833, 0.002403894685282896, 0.002670657273309245, 0.0030313930457539673, 0.00333150095728361, 0.0038074296654669825, 0.0042772955875588475, 0.004513744245127657, 0.004847197480160594, 0.004901762554984165, 0.005186713501285038, 0.005289780864840672, 0.005344345939664244, 0.005574731811141546, 0.005744489821703768, 0.005820274647847617, 0.005956687334906546, 0.005956687334906546, 0.006284077783847974, 0.006478086938776228, 0.006623593804972418, 0.006690284451979006, 0.006857011069495474, 0.006941890074776585, 0.007090428334018529, 0.007166213160162378, 0.007354159528999125, 0.007548168683927379, 0.007642141868345751, 0.007833119630228251, 0.008169604258306942, 0.008302985552320116, 0.008430304060241783, 0.008630376001261543, 0.009082053565078886, 0.009385192869654283, 0.009839901826517377, 0.010364332823432814, 0.010952423074309083, 0.0113859122798519, 0.011816370092348965, 0.012401428950179481, 0.013095617957657138, 0.014017161443566345, 0.014917485178155273, 0.016193701650417693, 0.016778760508248208, 0.017448698371359834, 0.018670349768798684, 0.019658583901714474, 0.02114396649413392, 0.022714228091834477, 0.02375399590652809, 0.02508477745361408, 0.026321585816281697, 0.027518986069354514, 0.029892566824179873, 0.030820173096180587, 0.033218004995371975, 0.035424859132680855, 0.03796213511197693, 0.04085711547067197, 0.0422576190578103, 0.04513137966518506, 0.047762628828899506, 0.04991188649833907, 0.05181863272411832, 0.05498340706388546, 0.056756771995651524, 0.058278531304620025, 0.05984879290232058, 0.06329851818838858, 0.06546293282305693, 0.06786985890138557, 0.06988876666985772, 0.07200164762274823, 0.07419940758091986, 0.079089044563721, 0.08109885815305588, 0.08547315831807886, 0.0866099307102366, 0.08996265141884048, 0.09398834138360175, 0.09692272985189158, 0.1001754145899856, 0.10426779520175346, 0.10707183376907588, 0.11172805348735398]}, {\"name\": \"Arunachal Pradesh\", \"type\": \"scatter\", \"x\": [\"2020-04-03T00:00:00\", \"2020-04-04T00:00:00\", \"2020-04-05T00:00:00\", \"2020-04-06T00:00:00\", \"2020-04-07T00:00:00\", \"2020-04-08T00:00:00\", \"2020-04-09T00:00:00\", \"2020-04-10T00:00:00\", \"2020-04-11T00:00:00\", \"2020-04-12T00:00:00\", \"2020-04-13T00:00:00\", \"2020-04-14T00:00:00\", \"2020-04-15T00:00:00\", \"2020-04-16T00:00:00\", \"2020-04-17T00:00:00\", \"2020-04-18T00:00:00\", \"2020-04-19T00:00:00\", \"2020-04-20T00:00:00\", \"2020-04-21T00:00:00\", \"2020-04-22T00:00:00\", \"2020-04-23T00:00:00\", \"2020-04-24T00:00:00\", \"2020-04-25T00:00:00\", \"2020-04-26T00:00:00\", \"2020-04-27T00:00:00\", \"2020-04-28T00:00:00\", \"2020-04-29T00:00:00\", \"2020-04-30T00:00:00\", \"2020-05-01T00:00:00\", \"2020-05-02T00:00:00\", \"2020-05-03T00:00:00\", \"2020-05-04T00:00:00\", \"2020-05-05T00:00:00\", \"2020-05-06T00:00:00\", \"2020-05-07T00:00:00\", \"2020-05-08T00:00:00\", \"2020-05-09T00:00:00\", \"2020-05-10T00:00:00\", \"2020-05-11T00:00:00\", \"2020-05-12T00:00:00\", \"2020-05-13T00:00:00\", \"2020-05-14T00:00:00\", \"2020-05-15T00:00:00\", \"2020-05-16T00:00:00\", \"2020-05-17T00:00:00\", \"2020-05-18T00:00:00\", \"2020-05-19T00:00:00\", \"2020-05-20T00:00:00\", \"2020-05-21T00:00:00\", \"2020-05-22T00:00:00\", \"2020-05-23T00:00:00\", \"2020-05-24T00:00:00\", \"2020-05-25T00:00:00\", \"2020-05-26T00:00:00\", \"2020-05-27T00:00:00\", \"2020-05-28T00:00:00\", \"2020-05-29T00:00:00\", \"2020-05-30T00:00:00\", \"2020-05-31T00:00:00\", \"2020-06-01T00:00:00\", \"2020-06-02T00:00:00\", \"2020-06-03T00:00:00\", \"2020-06-04T00:00:00\", \"2020-06-05T00:00:00\", \"2020-06-06T00:00:00\", \"2020-06-07T00:00:00\", \"2020-06-08T00:00:00\", \"2020-06-09T00:00:00\", \"2020-06-10T00:00:00\", \"2020-06-11T00:00:00\", \"2020-06-12T00:00:00\", \"2020-06-13T00:00:00\", \"2020-06-14T00:00:00\", \"2020-06-15T00:00:00\", \"2020-06-16T00:00:00\", \"2020-06-17T00:00:00\", \"2020-06-18T00:00:00\", \"2020-06-19T00:00:00\", \"2020-06-20T00:00:00\", \"2020-06-21T00:00:00\", \"2020-06-22T00:00:00\", \"2020-06-23T00:00:00\", \"2020-06-24T00:00:00\", \"2020-06-25T00:00:00\", \"2020-06-26T00:00:00\", \"2020-06-27T00:00:00\", \"2020-06-28T00:00:00\", \"2020-06-29T00:00:00\", \"2020-06-30T00:00:00\", \"2020-07-01T00:00:00\", \"2020-07-02T00:00:00\", \"2020-07-03T00:00:00\", \"2020-07-04T00:00:00\", \"2020-07-05T00:00:00\", \"2020-07-06T00:00:00\", \"2020-07-07T00:00:00\", \"2020-07-08T00:00:00\", \"2020-07-09T00:00:00\", \"2020-07-10T00:00:00\", \"2020-07-11T00:00:00\", \"2020-07-12T00:00:00\", \"2020-07-13T00:00:00\", \"2020-07-14T00:00:00\", \"2020-07-15T00:00:00\", \"2020-07-16T00:00:00\", \"2020-07-17T00:00:00\", \"2020-07-18T00:00:00\", \"2020-07-19T00:00:00\", \"2020-07-20T00:00:00\", \"2020-07-21T00:00:00\", \"2020-07-22T00:00:00\", \"2020-07-23T00:00:00\", \"2020-07-24T00:00:00\", \"2020-07-25T00:00:00\", \"2020-07-26T00:00:00\", \"2020-07-27T00:00:00\", \"2020-07-28T00:00:00\", \"2020-07-29T00:00:00\", \"2020-07-30T00:00:00\", \"2020-07-31T00:00:00\", \"2020-08-01T00:00:00\", \"2020-08-02T00:00:00\", \"2020-08-03T00:00:00\", \"2020-08-04T00:00:00\", \"2020-08-05T00:00:00\", \"2020-08-06T00:00:00\", \"2020-08-07T00:00:00\", \"2020-08-08T00:00:00\", \"2020-08-09T00:00:00\", \"2020-08-10T00:00:00\", \"2020-08-11T00:00:00\", \"2020-08-12T00:00:00\", \"2020-08-13T00:00:00\", \"2020-08-14T00:00:00\", \"2020-08-15T00:00:00\", \"2020-08-16T00:00:00\", \"2020-08-17T00:00:00\", \"2020-08-18T00:00:00\", \"2020-08-19T00:00:00\", \"2020-08-20T00:00:00\", \"2020-08-21T00:00:00\", \"2020-08-22T00:00:00\", \"2020-08-23T00:00:00\", \"2020-08-24T00:00:00\", \"2020-08-25T00:00:00\", \"2020-08-26T00:00:00\", \"2020-08-27T00:00:00\", \"2020-08-28T00:00:00\", \"2020-08-29T00:00:00\", \"2020-08-30T00:00:00\"], \"y\": [7.22685905529053e-05, 7.22685905529053e-05, 7.22685905529053e-05, 7.22685905529053e-05, 7.22685905529053e-05, 7.22685905529053e-05, 7.22685905529053e-05, 7.22685905529053e-05, 7.22685905529053e-05, 7.22685905529053e-05, 7.22685905529053e-05, 7.22685905529053e-05, 7.22685905529053e-05, 7.22685905529053e-05, 7.22685905529053e-05, 7.22685905529053e-05, 7.22685905529053e-05, 7.22685905529053e-05, 7.22685905529053e-05, 7.22685905529053e-05, 7.22685905529053e-05, 7.22685905529053e-05, 7.22685905529053e-05, 7.22685905529053e-05, 7.22685905529053e-05, 7.22685905529053e-05, 7.22685905529053e-05, 7.22685905529053e-05, 7.22685905529053e-05, 7.22685905529053e-05, 7.22685905529053e-05, 7.22685905529053e-05, 7.22685905529053e-05, 7.22685905529053e-05, 7.22685905529053e-05, 7.22685905529053e-05, 7.22685905529053e-05, 7.22685905529053e-05, 7.22685905529053e-05, 7.22685905529053e-05, 7.22685905529053e-05, 7.22685905529053e-05, 7.22685905529053e-05, 7.22685905529053e-05, 7.22685905529053e-05, 7.22685905529053e-05, 7.22685905529053e-05, 7.22685905529053e-05, 7.22685905529053e-05, 7.22685905529053e-05, 7.22685905529053e-05, 7.22685905529053e-05, 7.22685905529053e-05, 0.0001445371811058106, 0.0001445371811058106, 0.0001445371811058106, 0.0002168057716587159, 0.0002168057716587159, 0.0002890743622116212, 0.0002890743622116212, 0.0015899089921639167, 0.0015899089921639167, 0.0027462064410104015, 0.0030352808032220228, 0.003252086574880739, 0.0033966237559865495, 0.0036856981181981707, 0.0036856981181981707, 0.0041193096615156025, 0.0041193096615156025, 0.004408384023727224, 0.004841995567044655, 0.006287367378102761, 0.006576441740314383, 0.006576441740314383, 0.0068655161025260045, 0.007154590464737625, 0.007443664826949247, 0.007443664826949247, 0.009756259724642216, 0.009756259724642216, 0.010045334086853838, 0.010695751401829984, 0.01141843730735904, 0.011562974488464849, 0.012430197575099711, 0.012791540527864239, 0.013152883480628767, 0.013514226433393292, 0.013803300795604915, 0.014092375157816533, 0.014092375157816533, 0.018211684819332136, 0.018717564953202474, 0.019440250858731526, 0.01951251944928443, 0.019946130992601865, 0.020741085488683822, 0.0218251143469774, 0.024209977835223277, 0.02464358937854071, 0.025944424008493002, 0.027967944543974353, 0.03338808883544225, 0.03338808883544225, 0.03924184467022758, 0.04401157164671933, 0.04697458385938845, 0.05347875700914993, 0.057092186536795195, 0.06200645069439275, 0.06858289243470712, 0.07161817323792917, 0.07631563162386801, 0.08137443296257137, 0.08368702786026434, 0.08954078369504967, 0.09611722543536405, 0.10189871267959648, 0.10724658838051147, 0.11497932756967233, 0.12090535199501058, 0.1227120667588332, 0.12704818219200753, 0.12936077708970048, 0.13405823547563933, 0.14077921439705954, 0.148078342042903, 0.15299260620050054, 0.15573881264151093, 0.16123122552353172, 0.16816901021661065, 0.17561267504355987, 0.18153869946889814, 0.18840421557142412, 0.1920899136896223, 0.19519746308339722, 0.19808820670551341, 0.20777219783960277, 0.21319234213107063, 0.22157549863520767, 0.22591161406838198, 0.2329216673520138, 0.23581241097413003, 0.2393535719112224, 0.2465804309665129, 0.25691483941557836, 0.262551789478705, 0.27064587162063036, 0.28018532557361386]}, {\"name\": \"Tripura\", \"type\": \"scatter\", \"x\": [\"2020-04-07T00:00:00\", \"2020-04-08T00:00:00\", \"2020-04-09T00:00:00\", \"2020-04-10T00:00:00\", \"2020-04-11T00:00:00\", \"2020-04-12T00:00:00\", \"2020-04-13T00:00:00\", \"2020-04-14T00:00:00\", \"2020-04-15T00:00:00\", \"2020-04-16T00:00:00\", \"2020-04-17T00:00:00\", \"2020-04-18T00:00:00\", \"2020-04-19T00:00:00\", \"2020-04-20T00:00:00\", \"2020-04-21T00:00:00\", \"2020-04-22T00:00:00\", \"2020-04-23T00:00:00\", \"2020-04-24T00:00:00\", \"2020-04-25T00:00:00\", \"2020-04-26T00:00:00\", \"2020-04-27T00:00:00\", \"2020-04-28T00:00:00\", \"2020-04-29T00:00:00\", \"2020-04-30T00:00:00\", \"2020-05-01T00:00:00\", \"2020-05-02T00:00:00\", \"2020-05-03T00:00:00\", \"2020-05-04T00:00:00\", \"2020-05-05T00:00:00\", \"2020-05-06T00:00:00\", \"2020-05-07T00:00:00\", \"2020-05-08T00:00:00\", \"2020-05-09T00:00:00\", \"2020-05-10T00:00:00\", \"2020-05-11T00:00:00\", \"2020-05-12T00:00:00\", \"2020-05-13T00:00:00\", \"2020-05-14T00:00:00\", \"2020-05-15T00:00:00\", \"2020-05-16T00:00:00\", \"2020-05-17T00:00:00\", \"2020-05-18T00:00:00\", \"2020-05-19T00:00:00\", \"2020-05-20T00:00:00\", \"2020-05-21T00:00:00\", \"2020-05-22T00:00:00\", \"2020-05-23T00:00:00\", \"2020-05-24T00:00:00\", \"2020-05-25T00:00:00\", \"2020-05-26T00:00:00\", \"2020-05-27T00:00:00\", \"2020-05-28T00:00:00\", \"2020-05-29T00:00:00\", \"2020-05-30T00:00:00\", \"2020-05-31T00:00:00\", \"2020-06-01T00:00:00\", \"2020-06-02T00:00:00\", \"2020-06-03T00:00:00\", \"2020-06-04T00:00:00\", \"2020-06-05T00:00:00\", \"2020-06-06T00:00:00\", \"2020-06-07T00:00:00\", \"2020-06-08T00:00:00\", \"2020-06-09T00:00:00\", \"2020-06-10T00:00:00\", \"2020-06-11T00:00:00\", \"2020-06-12T00:00:00\", \"2020-06-13T00:00:00\", \"2020-06-14T00:00:00\", \"2020-06-15T00:00:00\", \"2020-06-16T00:00:00\", \"2020-06-17T00:00:00\", \"2020-06-18T00:00:00\", \"2020-06-19T00:00:00\", \"2020-06-20T00:00:00\", \"2020-06-21T00:00:00\", \"2020-06-22T00:00:00\", \"2020-06-23T00:00:00\", \"2020-06-24T00:00:00\", \"2020-06-25T00:00:00\", \"2020-06-26T00:00:00\", \"2020-06-27T00:00:00\", \"2020-06-28T00:00:00\", \"2020-06-29T00:00:00\", \"2020-06-30T00:00:00\", \"2020-07-01T00:00:00\", \"2020-07-02T00:00:00\", \"2020-07-03T00:00:00\", \"2020-07-04T00:00:00\", \"2020-07-05T00:00:00\", \"2020-07-06T00:00:00\", \"2020-07-07T00:00:00\", \"2020-07-08T00:00:00\", \"2020-07-09T00:00:00\", \"2020-07-10T00:00:00\", \"2020-07-11T00:00:00\", \"2020-07-12T00:00:00\", \"2020-07-13T00:00:00\", \"2020-07-14T00:00:00\", \"2020-07-15T00:00:00\", \"2020-07-16T00:00:00\", \"2020-07-17T00:00:00\", \"2020-07-18T00:00:00\", \"2020-07-19T00:00:00\", \"2020-07-20T00:00:00\", \"2020-07-21T00:00:00\", \"2020-07-22T00:00:00\", \"2020-07-23T00:00:00\", \"2020-07-24T00:00:00\", \"2020-07-25T00:00:00\", \"2020-07-26T00:00:00\", \"2020-07-27T00:00:00\", \"2020-07-28T00:00:00\", \"2020-07-29T00:00:00\", \"2020-07-30T00:00:00\", \"2020-07-31T00:00:00\", \"2020-08-01T00:00:00\", \"2020-08-02T00:00:00\", \"2020-08-03T00:00:00\", \"2020-08-04T00:00:00\", \"2020-08-05T00:00:00\", \"2020-08-06T00:00:00\", \"2020-08-07T00:00:00\", \"2020-08-08T00:00:00\", \"2020-08-09T00:00:00\", \"2020-08-10T00:00:00\", \"2020-08-11T00:00:00\", \"2020-08-12T00:00:00\", \"2020-08-13T00:00:00\", \"2020-08-14T00:00:00\", \"2020-08-15T00:00:00\", \"2020-08-16T00:00:00\", \"2020-08-17T00:00:00\", \"2020-08-18T00:00:00\", \"2020-08-19T00:00:00\", \"2020-08-20T00:00:00\", \"2020-08-21T00:00:00\", \"2020-08-22T00:00:00\", \"2020-08-23T00:00:00\", \"2020-08-24T00:00:00\", \"2020-08-25T00:00:00\", \"2020-08-26T00:00:00\", \"2020-08-27T00:00:00\", \"2020-08-28T00:00:00\", \"2020-08-29T00:00:00\", \"2020-08-30T00:00:00\"], \"y\": [2.7218905598575034e-05, 2.7218905598575034e-05, 2.7218905598575034e-05, 2.7218905598575034e-05, 5.443781119715007e-05, 5.443781119715007e-05, 5.443781119715007e-05, 5.443781119715007e-05, 5.443781119715007e-05, 5.443781119715007e-05, 5.443781119715007e-05, 5.443781119715007e-05, 5.443781119715007e-05, 5.443781119715007e-05, 5.443781119715007e-05, 5.443781119715007e-05, 5.443781119715007e-05, 5.443781119715007e-05, 5.443781119715007e-05, 5.443781119715007e-05, 5.443781119715007e-05, 5.443781119715007e-05, 5.443781119715007e-05, 5.443781119715007e-05, 5.443781119715007e-05, 5.443781119715007e-05, 0.00010887562239430014, 0.00043550248957720055, 0.0007893482623586761, 0.0011704129407387265, 0.0011704129407387265, 0.0017692288639073771, 0.0032118308606318537, 0.003647333350209055, 0.004082835839786255, 0.0041372736509834055, 0.004191711462180556, 0.004218930367779131, 0.004246149273377706, 0.004246149273377706, 0.004545557234962031, 0.004545557234962031, 0.004545557234962031, 0.004708870668553481, 0.004708870668553481, 0.004708870668553481, 0.0047633084797506315, 0.005144373158130682, 0.005198810969327831, 0.005280467686123557, 0.005634313458905032, 0.006260348287672258, 0.006586975154855158, 0.006831945305242335, 0.00729466670041811, 0.008519517452353987, 0.011431940351401514, 0.012738447820133118, 0.012738447820133118, 0.01752897520548232, 0.018835482674213925, 0.020332522482135552, 0.021775124478860028, 0.022809442891605882, 0.02351713443716883, 0.024360920510724658, 0.02485086081149901, 0.02615736828023061, 0.02847097525610949, 0.02928754242406674, 0.029559731480052486, 0.029723044913643942, 0.030893457854382664, 0.03143783596635417, 0.032063870795121394, 0.032281622039909995, 0.03323428373586012, 0.03366978622543732, 0.03426860214860597, 0.03426860214860597, 0.0351123882221618, 0.03606504991811192, 0.036310020068499094, 0.036636646935682, 0.037562089726033546, 0.03777984097082215, 0.03799759221561075, 0.03905912953395518, 0.04150883103782693, 0.04208042805539701, 0.04267924397856566, 0.045727761405606054, 0.04638101513997186, 0.04793249275909064, 0.04834077634306926, 0.05220586093806692, 0.05304964701162274, 0.05590763209947313, 0.05661532364503607, 0.059065025148907824, 0.06173247789756819, 0.06214076148154681, 0.06439993064622854, 0.07223897545861814, 0.07833601031269896, 0.08380701033801254, 0.09066617454885344, 0.09387800540948531, 0.09951231886839032, 0.10231586614504355, 0.1051194134216968, 0.10615373183444263, 0.11020934876863032, 0.11619750800031683, 0.12207679160960902, 0.12809216974689414, 0.13549571206970654, 0.14243653299734316, 0.14627439868674225, 0.14984007532015559, 0.1531880007087803, 0.15582823455184208, 0.1593122544684597, 0.16328621468585164, 0.16728739380884217, 0.16897496595595382, 0.17343886647412013, 0.17643294608996338, 0.17972643366739097, 0.18419033418555728, 0.18873589142051928, 0.19219269243153833, 0.19608499593213458, 0.20166487157984242, 0.20808853330110616, 0.2132601253648354, 0.22022816519807065, 0.22784945876567161, 0.23685891651879995, 0.24230269763851497, 0.25027783697889744, 0.2592056380152301, 0.26968491667068145, 0.28345768290356044, 0.29551565808372915, 0.30776416560308795]}, {\"name\": \"Nagaland\", \"type\": \"scatter\", \"x\": [\"2020-04-13T00:00:00\", \"2020-04-14T00:00:00\", \"2020-04-15T00:00:00\", \"2020-04-16T00:00:00\", \"2020-04-17T00:00:00\", \"2020-04-18T00:00:00\", \"2020-04-19T00:00:00\", \"2020-04-20T00:00:00\", \"2020-04-21T00:00:00\", \"2020-05-26T00:00:00\", \"2020-05-27T00:00:00\", \"2020-05-28T00:00:00\", \"2020-05-29T00:00:00\", \"2020-05-30T00:00:00\", \"2020-05-31T00:00:00\", \"2020-06-01T00:00:00\", \"2020-06-02T00:00:00\", \"2020-06-03T00:00:00\", \"2020-06-04T00:00:00\", \"2020-06-05T00:00:00\", \"2020-06-06T00:00:00\", \"2020-06-07T00:00:00\", \"2020-06-08T00:00:00\", \"2020-06-09T00:00:00\", \"2020-06-10T00:00:00\", \"2020-06-11T00:00:00\", \"2020-06-12T00:00:00\", \"2020-06-13T00:00:00\", \"2020-06-14T00:00:00\", \"2020-06-15T00:00:00\", \"2020-06-16T00:00:00\", \"2020-06-17T00:00:00\", \"2020-06-18T00:00:00\", \"2020-06-19T00:00:00\", \"2020-06-20T00:00:00\", \"2020-06-21T00:00:00\", \"2020-06-22T00:00:00\", \"2020-06-23T00:00:00\", \"2020-06-24T00:00:00\", \"2020-06-25T00:00:00\", \"2020-06-26T00:00:00\", \"2020-06-27T00:00:00\", \"2020-06-28T00:00:00\", \"2020-06-29T00:00:00\", \"2020-06-30T00:00:00\", \"2020-07-01T00:00:00\", \"2020-07-02T00:00:00\", \"2020-07-03T00:00:00\", \"2020-07-04T00:00:00\", \"2020-07-05T00:00:00\", \"2020-07-06T00:00:00\", \"2020-07-07T00:00:00\", \"2020-07-08T00:00:00\", \"2020-07-09T00:00:00\", \"2020-07-10T00:00:00\", \"2020-07-11T00:00:00\", \"2020-07-12T00:00:00\", \"2020-07-13T00:00:00\", \"2020-07-14T00:00:00\", \"2020-07-15T00:00:00\", \"2020-07-16T00:00:00\", \"2020-07-17T00:00:00\", \"2020-07-18T00:00:00\", \"2020-07-19T00:00:00\", \"2020-07-20T00:00:00\", \"2020-07-21T00:00:00\", \"2020-07-22T00:00:00\", \"2020-07-23T00:00:00\", \"2020-07-24T00:00:00\", \"2020-07-25T00:00:00\", \"2020-07-26T00:00:00\", \"2020-07-27T00:00:00\", \"2020-07-28T00:00:00\", \"2020-07-29T00:00:00\", \"2020-07-30T00:00:00\", \"2020-07-31T00:00:00\", \"2020-08-01T00:00:00\", \"2020-08-02T00:00:00\", \"2020-08-03T00:00:00\", \"2020-08-04T00:00:00\", \"2020-08-05T00:00:00\", \"2020-08-06T00:00:00\", \"2020-08-07T00:00:00\", \"2020-08-08T00:00:00\", \"2020-08-09T00:00:00\", \"2020-08-10T00:00:00\", \"2020-08-11T00:00:00\", \"2020-08-12T00:00:00\", \"2020-08-13T00:00:00\", \"2020-08-14T00:00:00\", \"2020-08-15T00:00:00\", \"2020-08-16T00:00:00\", \"2020-08-17T00:00:00\", \"2020-08-18T00:00:00\", \"2020-08-19T00:00:00\", \"2020-08-20T00:00:00\", \"2020-08-21T00:00:00\", \"2020-08-22T00:00:00\", \"2020-08-23T00:00:00\", \"2020-08-24T00:00:00\", \"2020-08-25T00:00:00\", \"2020-08-26T00:00:00\", \"2020-08-27T00:00:00\", \"2020-08-28T00:00:00\", \"2020-08-29T00:00:00\", \"2020-08-30T00:00:00\"], \"y\": [5.0543289822299894e-05, 5.0543289822299894e-05, 0.0, 0.0, 0.0, 0.0, 0.0, 0.0, 0.0, 0.0001516298694668997, 0.00020217315928919958, 0.00020217315928919958, 0.0009097792168013982, 0.0012635822455574976, 0.0018195584336027964, 0.002173361462358896, 0.002173361462358896, 0.002476621201292695, 0.0029315108096933944, 0.004043463185783992, 0.004751069243296191, 0.005408132010986089, 0.005964108199031389, 0.006216824648142888, 0.006418997807432088, 0.0064695410972543865, 0.0064695410972543865, 0.007884753212278784, 0.008238556241034884, 0.008491272690146382, 0.008946162298547083, 0.009047248878191682, 0.009754854935703881, 0.009754854935703881, 0.01000757138481538, 0.01015920125428228, 0.01066463415250528, 0.014152121150243972, 0.016679285641358968, 0.017538521568338065, 0.017942867886916465, 0.018751560524073264, 0.01956025316123006, 0.02097546527625446, 0.02193578778287816, 0.023199370028435654, 0.023199370028435654, 0.02532218820097225, 0.027242833214219647, 0.028455872169954845, 0.029820540995156946, 0.03158955613893744, 0.03158955613893744, 0.033206941413251034, 0.034015634050407834, 0.036997688149923526, 0.037806380787080325, 0.03912050632246012, 0.04270907989984342, 0.04528678768078071, 0.045590047419714515, 0.04629765347722671, 0.0483193850701187, 0.04943133744620931, 0.0499367703444323, 0.0516046989085682, 0.052059588516968895, 0.054788926167373096, 0.05933782225138009, 0.06262313608982958, 0.06515030058094456, 0.06767746507205957, 0.07000245640388536, 0.07379320314055786, 0.07647199750113975, 0.07915079186172165, 0.08556978966915373, 0.09254476366463112, 0.09780126580615031, 0.1076066640316765, 0.12155661202263125, 0.12625713797610516, 0.13040168774153374, 0.13429352105785083, 0.1358603630423421, 0.14056088899581604, 0.152185845654945, 0.153196711451391, 0.1575939776659311, 0.1601211421570461, 0.16790480878968028, 0.16881458800648166, 0.17154392565688587, 0.17462706633604616, 0.17791238017449565, 0.17983302518774305, 0.18109660743330055, 0.18291616586690335, 0.18372485850406015, 0.18630256628499742, 0.18771777840002182, 0.18963842341326922, 0.19095254894864902, 0.19125580868758282, 0.19231721777385113, 0.19464220910567692]}, {\"name\": \"Meghalaya\", \"type\": \"scatter\", \"x\": [\"2020-04-14T00:00:00\", \"2020-04-15T00:00:00\", \"2020-04-16T00:00:00\", \"2020-04-17T00:00:00\", \"2020-04-18T00:00:00\", \"2020-04-19T00:00:00\", \"2020-04-20T00:00:00\", \"2020-04-21T00:00:00\", \"2020-04-22T00:00:00\", \"2020-04-23T00:00:00\", \"2020-04-24T00:00:00\", \"2020-04-25T00:00:00\", \"2020-04-26T00:00:00\", \"2020-04-27T00:00:00\", \"2020-04-28T00:00:00\", \"2020-04-29T00:00:00\", \"2020-04-30T00:00:00\", \"2020-05-01T00:00:00\", \"2020-05-02T00:00:00\", \"2020-05-03T00:00:00\", \"2020-05-04T00:00:00\", \"2020-05-05T00:00:00\", \"2020-05-06T00:00:00\", \"2020-05-07T00:00:00\", \"2020-05-08T00:00:00\", \"2020-05-09T00:00:00\", \"2020-05-10T00:00:00\", \"2020-05-11T00:00:00\", \"2020-05-12T00:00:00\", \"2020-05-13T00:00:00\", \"2020-05-14T00:00:00\", \"2020-05-15T00:00:00\", \"2020-05-16T00:00:00\", \"2020-05-17T00:00:00\", \"2020-05-18T00:00:00\", \"2020-05-19T00:00:00\", \"2020-05-20T00:00:00\", \"2020-05-21T00:00:00\", \"2020-05-22T00:00:00\", \"2020-05-23T00:00:00\", \"2020-05-24T00:00:00\", \"2020-05-25T00:00:00\", \"2020-05-26T00:00:00\", \"2020-05-27T00:00:00\", \"2020-05-28T00:00:00\", \"2020-05-29T00:00:00\", \"2020-05-30T00:00:00\", \"2020-05-31T00:00:00\", \"2020-06-01T00:00:00\", \"2020-06-02T00:00:00\", \"2020-06-03T00:00:00\", \"2020-06-04T00:00:00\", \"2020-06-05T00:00:00\", \"2020-06-06T00:00:00\", \"2020-06-07T00:00:00\", \"2020-06-08T00:00:00\", \"2020-06-09T00:00:00\", \"2020-06-10T00:00:00\", \"2020-06-11T00:00:00\", \"2020-06-12T00:00:00\", \"2020-06-13T00:00:00\", \"2020-06-14T00:00:00\", \"2020-06-15T00:00:00\", \"2020-06-16T00:00:00\", \"2020-06-17T00:00:00\", \"2020-06-18T00:00:00\", \"2020-06-19T00:00:00\", \"2020-06-20T00:00:00\", \"2020-06-21T00:00:00\", \"2020-06-22T00:00:00\", \"2020-06-23T00:00:00\", \"2020-06-24T00:00:00\", \"2020-06-25T00:00:00\", \"2020-06-26T00:00:00\", \"2020-06-27T00:00:00\", \"2020-06-28T00:00:00\", \"2020-06-29T00:00:00\", \"2020-06-30T00:00:00\", \"2020-07-01T00:00:00\", \"2020-07-02T00:00:00\", \"2020-07-03T00:00:00\", \"2020-07-04T00:00:00\", \"2020-07-05T00:00:00\", \"2020-07-06T00:00:00\", \"2020-07-07T00:00:00\", \"2020-07-08T00:00:00\", \"2020-07-09T00:00:00\", \"2020-07-10T00:00:00\", \"2020-07-11T00:00:00\", \"2020-07-12T00:00:00\", \"2020-07-13T00:00:00\", \"2020-07-14T00:00:00\", \"2020-07-15T00:00:00\", \"2020-07-16T00:00:00\", \"2020-07-17T00:00:00\", \"2020-07-18T00:00:00\", \"2020-07-19T00:00:00\", \"2020-07-20T00:00:00\", \"2020-07-21T00:00:00\", \"2020-07-22T00:00:00\", \"2020-07-23T00:00:00\", \"2020-07-24T00:00:00\", \"2020-07-25T00:00:00\", \"2020-07-26T00:00:00\", \"2020-07-27T00:00:00\", \"2020-07-28T00:00:00\", \"2020-07-29T00:00:00\", \"2020-07-30T00:00:00\", \"2020-07-31T00:00:00\", \"2020-08-01T00:00:00\", \"2020-08-02T00:00:00\", \"2020-08-03T00:00:00\", \"2020-08-04T00:00:00\", \"2020-08-05T00:00:00\", \"2020-08-06T00:00:00\", \"2020-08-07T00:00:00\", \"2020-08-08T00:00:00\", \"2020-08-09T00:00:00\", \"2020-08-10T00:00:00\", \"2020-08-11T00:00:00\", \"2020-08-12T00:00:00\", \"2020-08-13T00:00:00\", \"2020-08-14T00:00:00\", \"2020-08-15T00:00:00\", \"2020-08-16T00:00:00\", \"2020-08-17T00:00:00\", \"2020-08-18T00:00:00\", \"2020-08-19T00:00:00\", \"2020-08-20T00:00:00\", \"2020-08-21T00:00:00\", \"2020-08-22T00:00:00\", \"2020-08-23T00:00:00\", \"2020-08-24T00:00:00\", \"2020-08-25T00:00:00\", \"2020-08-26T00:00:00\", \"2020-08-27T00:00:00\", \"2020-08-28T00:00:00\", \"2020-08-29T00:00:00\", \"2020-08-30T00:00:00\"], \"y\": [3.370533916166058e-05, 0.00023593737413162407, 0.00023593737413162407, 0.0003033480524549452, 0.0003707587307782664, 0.0003707587307782664, 0.0003707587307782664, 0.0003707587307782664, 0.000404464069939927, 0.000404464069939927, 0.000404464069939927, 0.000404464069939927, 0.000404464069939927, 0.000404464069939927, 0.000404464069939927, 0.000404464069939927, 0.000404464069939927, 0.000404464069939927, 0.000404464069939927, 0.000404464069939927, 0.000404464069939927, 0.000404464069939927, 0.000404464069939927, 0.000404464069939927, 0.000404464069939927, 0.000404464069939927, 0.0004381694091015876, 0.0004381694091015876, 0.0004381694091015876, 0.0004381694091015876, 0.0004381694091015876, 0.0004381694091015876, 0.0004381694091015876, 0.0004381694091015876, 0.0004381694091015876, 0.0004381694091015876, 0.0004381694091015876, 0.00047187474826324813, 0.00047187474826324813, 0.00047187474826324813, 0.00047187474826324813, 0.00047187474826324813, 0.00047187474826324813, 0.0005055800874249087, 0.0006741067832332116, 0.0007078121223948723, 0.0009100441573648356, 0.0009100441573648356, 0.0009100441573648356, 0.0009100441573648356, 0.0009100441573648356, 0.001112276192334799, 0.001112276192334799, 0.001112276192334799, 0.001112276192334799, 0.001213392209819781, 0.001213392209819781, 0.0014493295839514049, 0.0014830349231130656, 0.0014830349231130656, 0.0014830349231130656, 0.0014830349231130656, 0.0014830349231130656, 0.0014830349231130656, 0.0014830349231130656, 0.0014830349231130656, 0.0014830349231130656, 0.0014830349231130656, 0.0014830349231130656, 0.0014830349231130656, 0.0014830349231130656, 0.0015504456014363867, 0.0015504456014363867, 0.0015504456014363867, 0.0015841509405980475, 0.0015841509405980475, 0.0015841509405980475, 0.0015841509405980475, 0.0017526776364063504, 0.0017526776364063504, 0.0018874989930529925, 0.002089731028022956, 0.002089731028022956, 0.002089731028022956, 0.0026964271329328465, 0.0026964271329328465, 0.0026964271329328465, 0.0038087033252676454, 0.006977005206463741, 0.006977005206463741, 0.010313833783468137, 0.010718297853408065, 0.010718297853408065, 0.01166204734993456, 0.012706912863946039, 0.013583251682149213, 0.014088831769574123, 0.015167402622747262, 0.015706688049333832, 0.016515616189213683, 0.017324544329093538, 0.01799865111232675, 0.019818739427056423, 0.021773649098432737, 0.02366114809148573, 0.02487454030130551, 0.02625645920693359, 0.026424985902741897, 0.027065387346813446, 0.027739494130046657, 0.02885177032238146, 0.02945846642729135, 0.030402215923817845, 0.030907796011242755, 0.03131226008118268, 0.03336828577004398, 0.03390757119663054, 0.034480561962378774, 0.03579507018968354, 0.03754774782608988, 0.03828926528764642, 0.039738594871597824, 0.04021046961986107, 0.04139015649051919, 0.043547298196865473, 0.04631113600812164, 0.047794170931234704, 0.04910867915853946, 0.05076024077746084, 0.05598456834751823, 0.05790577267973288, 0.06104036922176731, 0.06461313517290333, 0.0666017501834413, 0.06801737442823105, 0.06909594528140418, 0.07175866707517538, 0.0754999597221197, 0.0769492893060711]}, {\"name\": \"Dadra and Nagar Haveli and Daman and Diu\", \"type\": \"scatter\", \"x\": [\"2020-05-06T00:00:00\", \"2020-05-07T00:00:00\", \"2020-05-08T00:00:00\", \"2020-05-09T00:00:00\", \"2020-05-10T00:00:00\", \"2020-05-11T00:00:00\", \"2020-05-12T00:00:00\", \"2020-05-13T00:00:00\", \"2020-05-14T00:00:00\", \"2020-05-15T00:00:00\", \"2020-05-16T00:00:00\", \"2020-05-17T00:00:00\", \"2020-05-18T00:00:00\", \"2020-05-19T00:00:00\", \"2020-05-20T00:00:00\", \"2020-05-21T00:00:00\", \"2020-05-22T00:00:00\", \"2020-05-23T00:00:00\", \"2020-05-24T00:00:00\", \"2020-05-25T00:00:00\", \"2020-05-26T00:00:00\", \"2020-05-27T00:00:00\", \"2020-05-28T00:00:00\", \"2020-05-29T00:00:00\", \"2020-05-30T00:00:00\", \"2020-05-31T00:00:00\", \"2020-06-01T00:00:00\", \"2020-06-02T00:00:00\", \"2020-06-03T00:00:00\", \"2020-06-04T00:00:00\", \"2020-06-05T00:00:00\", \"2020-06-06T00:00:00\", \"2020-06-07T00:00:00\", \"2020-06-08T00:00:00\", \"2020-06-09T00:00:00\", \"2020-06-10T00:00:00\", \"2020-06-11T00:00:00\", \"2020-06-11T00:00:00\", \"2020-06-12T00:00:00\", \"2020-06-13T00:00:00\", \"2020-06-14T00:00:00\", \"2020-06-15T00:00:00\", \"2020-06-16T00:00:00\", \"2020-06-17T00:00:00\", \"2020-06-18T00:00:00\", \"2020-06-19T00:00:00\", \"2020-06-20T00:00:00\", \"2020-06-21T00:00:00\", \"2020-06-22T00:00:00\", \"2020-06-23T00:00:00\", \"2020-06-24T00:00:00\", \"2020-06-25T00:00:00\", \"2020-06-26T00:00:00\", \"2020-06-27T00:00:00\", \"2020-06-28T00:00:00\", \"2020-06-29T00:00:00\", \"2020-06-30T00:00:00\", \"2020-07-01T00:00:00\", \"2020-07-02T00:00:00\", \"2020-07-03T00:00:00\", \"2020-07-04T00:00:00\", \"2020-07-05T00:00:00\", \"2020-07-06T00:00:00\", \"2020-07-07T00:00:00\", \"2020-07-08T00:00:00\", \"2020-07-09T00:00:00\", \"2020-07-10T00:00:00\", \"2020-07-11T00:00:00\", \"2020-07-12T00:00:00\", \"2020-07-13T00:00:00\", \"2020-07-14T00:00:00\", \"2020-07-15T00:00:00\", \"2020-07-16T00:00:00\", \"2020-07-17T00:00:00\", \"2020-07-18T00:00:00\", \"2020-07-19T00:00:00\", \"2020-07-20T00:00:00\", \"2020-07-21T00:00:00\", \"2020-07-22T00:00:00\", \"2020-07-23T00:00:00\", \"2020-07-24T00:00:00\", \"2020-07-25T00:00:00\", \"2020-07-26T00:00:00\", \"2020-07-27T00:00:00\", \"2020-07-28T00:00:00\", \"2020-07-29T00:00:00\", \"2020-07-30T00:00:00\", \"2020-07-31T00:00:00\", \"2020-08-01T00:00:00\", \"2020-08-02T00:00:00\", \"2020-08-03T00:00:00\", \"2020-08-04T00:00:00\", \"2020-08-05T00:00:00\", \"2020-08-06T00:00:00\", \"2020-08-07T00:00:00\", \"2020-08-08T00:00:00\", \"2020-08-09T00:00:00\", \"2020-08-10T00:00:00\", \"2020-08-11T00:00:00\", \"2020-08-12T00:00:00\", \"2020-08-13T00:00:00\", \"2020-08-14T00:00:00\", \"2020-08-15T00:00:00\", \"2020-08-16T00:00:00\", \"2020-08-17T00:00:00\", \"2020-08-18T00:00:00\", \"2020-08-19T00:00:00\", \"2020-08-20T00:00:00\", \"2020-08-21T00:00:00\", \"2020-08-22T00:00:00\", \"2020-08-23T00:00:00\", \"2020-08-24T00:00:00\", \"2020-08-25T00:00:00\", \"2020-08-26T00:00:00\", \"2020-08-27T00:00:00\", \"2020-08-28T00:00:00\", \"2020-08-29T00:00:00\", \"2020-08-30T00:00:00\"], \"y\": [0.00017071721717278632, 0.00017071721717278632, 0.00017071721717278632, 0.00017071721717278632, 0.00017071721717278632, 0.00017071721717278632, 0.00017071721717278632, 0.00017071721717278632, 0.00017071721717278632, 0.00017071721717278632, 0.00017071721717278632, 0.00017071721717278632, 0.00017071721717278632, 0.00017071721717278632, 0.00017071721717278632, 0.00017071721717278632, 0.00017071721717278632, 0.00017071721717278632, 0.00034143443434557264, 0.00034143443434557264, 0.00034143443434557264, 0.00034143443434557264, 0.00034143443434557264, 0.00034143443434557264, 0.00034143443434557264, 0.00034143443434557264, 0.00034143443434557264, 0.0005121516515183589, 0.0006828688686911453, 0.0013657377373822905, 0.0020486066060734355, 0.0023900410404190083, 0.0032436271262829396, 0.0034143443434557262, 0.003755778777801299, 0.003755778777801299, 0.004438647646492444, 0.00034143443434557264, 0.00512151651518359, 0.00512151651518359, 0.005975102601047521, 0.006145819818220308, 0.006145819818220308, 0.007682274772775384, 0.00973088137884882, 0.009901598596021606, 0.010584467464712751, 0.011608770767749469, 0.015023115111205196, 0.015535266762723555, 0.02048606606073436, 0.02048606606073436, 0.02646116866178188, 0.027826906399164165, 0.030216947439583176, 0.030387664656755964, 0.03465559508607562, 0.036362767257803484, 0.03670420169214906, 0.03926495994974085, 0.043874324813406085, 0.04626436585382509, 0.04626436585382509, 0.05070301350031753, 0.06914047295497845, 0.06965262460649682, 0.07016477625801518, 0.07835920268230892, 0.08040780928838236, 0.08177354702576464, 0.08450502250052923, 0.08877295292984888, 0.09201658005613182, 0.09423590387937804, 0.09986957204607999, 0.10277176473801736, 0.10328391638953571, 0.11677057654618583, 0.12035563810681435, 0.12513572018765234, 0.13145225722304546, 0.13913453199582085, 0.14681680676859624, 0.1560355364959267, 0.16149848744545586, 0.16764430726367616, 0.17515586481927875, 0.18164311907184463, 0.18778893889006493, 0.19547121366284034, 0.202129185132579, 0.21749373467812977, 0.22620031275394187, 0.2331997186580261, 0.23746764908734574, 0.24532064107729395, 0.24856426820357688, 0.26700172765823776, 0.27536687129970433, 0.2821955599866158, 0.2895364003250456, 0.2990965644867216, 0.306778839259497, 0.31463183124944516, 0.3206069338504927, 0.32572845036567627, 0.33306929070410607, 0.3405808482597087, 0.3465559508607562, 0.3554332461537411, 0.36192050040630697, 0.36891990631039123, 0.37233425065384695, 0.37609002943164827, 0.3803579598609679, 0.3868452141135338, 0.3909424273256807, 0.3936739028004452]}, {\"name\": \"Sikkim\", \"type\": \"scatter\", \"x\": [\"2020-05-24T00:00:00\", \"2020-05-25T00:00:00\", \"2020-05-26T00:00:00\", \"2020-05-27T00:00:00\", \"2020-05-28T00:00:00\", \"2020-05-29T00:00:00\", \"2020-05-30T00:00:00\", \"2020-05-31T00:00:00\", \"2020-06-01T00:00:00\", \"2020-06-02T00:00:00\", \"2020-06-03T00:00:00\", \"2020-06-04T00:00:00\", \"2020-06-05T00:00:00\", \"2020-06-06T00:00:00\", \"2020-06-07T00:00:00\", \"2020-06-08T00:00:00\", \"2020-06-09T00:00:00\", \"2020-06-10T00:00:00\", \"2020-06-11T00:00:00\", \"2020-06-12T00:00:00\", \"2020-06-13T00:00:00\", \"2020-06-14T00:00:00\", \"2020-06-15T00:00:00\", \"2020-06-16T00:00:00\", \"2020-06-17T00:00:00\", \"2020-06-18T00:00:00\", \"2020-06-19T00:00:00\", \"2020-06-20T00:00:00\", \"2020-06-21T00:00:00\", \"2020-06-22T00:00:00\", \"2020-06-23T00:00:00\", \"2020-06-24T00:00:00\", \"2020-06-25T00:00:00\", \"2020-06-26T00:00:00\", \"2020-06-27T00:00:00\", \"2020-06-28T00:00:00\", \"2020-06-29T00:00:00\", \"2020-06-30T00:00:00\", \"2020-07-01T00:00:00\", \"2020-07-02T00:00:00\", \"2020-07-03T00:00:00\", \"2020-07-04T00:00:00\", \"2020-07-05T00:00:00\", \"2020-07-06T00:00:00\", \"2020-07-07T00:00:00\", \"2020-07-08T00:00:00\", \"2020-07-09T00:00:00\", \"2020-07-10T00:00:00\", \"2020-07-11T00:00:00\", \"2020-07-12T00:00:00\", \"2020-07-13T00:00:00\", \"2020-07-14T00:00:00\", \"2020-07-15T00:00:00\", \"2020-07-16T00:00:00\", \"2020-07-17T00:00:00\", \"2020-07-18T00:00:00\", \"2020-07-19T00:00:00\", \"2020-07-20T00:00:00\", \"2020-07-21T00:00:00\", \"2020-07-22T00:00:00\", \"2020-07-23T00:00:00\", \"2020-07-24T00:00:00\", \"2020-07-25T00:00:00\", \"2020-07-26T00:00:00\", \"2020-07-27T00:00:00\", \"2020-07-28T00:00:00\", \"2020-07-29T00:00:00\", \"2020-07-30T00:00:00\", \"2020-07-31T00:00:00\", \"2020-08-01T00:00:00\", \"2020-08-02T00:00:00\", \"2020-08-03T00:00:00\", \"2020-08-04T00:00:00\", \"2020-08-05T00:00:00\", \"2020-08-06T00:00:00\", \"2020-08-07T00:00:00\", \"2020-08-08T00:00:00\", \"2020-08-09T00:00:00\", \"2020-08-10T00:00:00\", \"2020-08-11T00:00:00\", \"2020-08-12T00:00:00\", \"2020-08-13T00:00:00\", \"2020-08-14T00:00:00\", \"2020-08-15T00:00:00\", \"2020-08-16T00:00:00\", \"2020-08-17T00:00:00\", \"2020-08-18T00:00:00\", \"2020-08-19T00:00:00\", \"2020-08-20T00:00:00\", \"2020-08-21T00:00:00\", \"2020-08-22T00:00:00\", \"2020-08-23T00:00:00\", \"2020-08-24T00:00:00\", \"2020-08-25T00:00:00\", \"2020-08-26T00:00:00\", \"2020-08-27T00:00:00\", \"2020-08-28T00:00:00\", \"2020-08-29T00:00:00\", \"2020-08-30T00:00:00\"], \"y\": [0.00016377950692541646, 0.00016377950692541646, 0.00016377950692541646, 0.00016377950692541646, 0.00016377950692541646, 0.00016377950692541646, 0.00016377950692541646, 0.00016377950692541646, 0.00016377950692541646, 0.00016377950692541646, 0.00016377950692541646, 0.0003275590138508329, 0.0003275590138508329, 0.0004913385207762494, 0.0011464565484779151, 0.0011464565484779151, 0.0011464565484779151, 0.002129133590030414, 0.002129133590030414, 0.0022929130969558302, 0.010318108936301237, 0.010318108936301237, 0.011137006470928319, 0.011137006470928319, 0.01146456548477915, 0.01146456548477915, 0.01146456548477915, 0.01146456548477915, 0.01146456548477915, 0.012774801540182483, 0.012774801540182483, 0.012938581047107899, 0.013757478581734981, 0.013921258088660397, 0.014085037595585815, 0.01424881710251123, 0.014412596609436647, 0.014412596609436647, 0.014576376116362064, 0.016541730199467062, 0.01670550970639248, 0.01670550970639248, 0.016869289213317894, 0.020144879351826222, 0.020472438365677057, 0.020472438365677057, 0.021782674421080388, 0.021946453928005805, 0.021946453928005805, 0.024730705545737888, 0.02505826455958872, 0.03144566532967996, 0.03422991694741204, 0.03603149152359161, 0.039798420182876194, 0.043565348842160775, 0.045039364404489524, 0.04634960045989285, 0.04995274961225202, 0.05404723728538743, 0.0717354240333324, 0.07533857318569157, 0.07812282480342365, 0.08172597395578281, 0.08925983127435197, 0.09089762634360612, 0.09482833450981612, 0.09761258612754821, 0.09990549922450404, 0.10465510492534112, 0.1064566795015207, 0.10776691555692403, 0.11268030076468652, 0.12823935392260108, 0.13102360554033315, 0.13577321124117023, 0.13986769891430564, 0.14085037595585817, 0.14183305299741064, 0.14903935130212898, 0.1495306898229052, 0.1523149414406373, 0.1524787209475627, 0.17688186747944978, 0.18801887395037808, 0.191130684581961, 0.1944062747204693, 0.19768186485897765, 0.20177635253211304, 0.2112755639337872, 0.21880942125235636, 0.22617949906400012, 0.22978264821635927, 0.23682516701415218, 0.24157477271498926, 0.24337634729116883, 0.25254799967899216, 0.2581165029144563, 0.26237477009451715]}],\n",
       "                        {\"template\": {\"data\": {\"bar\": [{\"error_x\": {\"color\": \"#2a3f5f\"}, \"error_y\": {\"color\": \"#2a3f5f\"}, \"marker\": {\"line\": {\"color\": \"#E5ECF6\", \"width\": 0.5}}, \"type\": \"bar\"}], \"barpolar\": [{\"marker\": {\"line\": {\"color\": \"#E5ECF6\", \"width\": 0.5}}, \"type\": \"barpolar\"}], \"carpet\": [{\"aaxis\": {\"endlinecolor\": \"#2a3f5f\", \"gridcolor\": \"white\", \"linecolor\": \"white\", \"minorgridcolor\": \"white\", \"startlinecolor\": \"#2a3f5f\"}, \"baxis\": {\"endlinecolor\": \"#2a3f5f\", \"gridcolor\": \"white\", \"linecolor\": \"white\", \"minorgridcolor\": \"white\", \"startlinecolor\": \"#2a3f5f\"}, \"type\": \"carpet\"}], \"choropleth\": [{\"colorbar\": {\"outlinewidth\": 0, \"ticks\": \"\"}, \"type\": \"choropleth\"}], \"contour\": [{\"colorbar\": {\"outlinewidth\": 0, \"ticks\": \"\"}, \"colorscale\": [[0.0, \"#0d0887\"], [0.1111111111111111, \"#46039f\"], [0.2222222222222222, \"#7201a8\"], [0.3333333333333333, \"#9c179e\"], [0.4444444444444444, \"#bd3786\"], [0.5555555555555556, \"#d8576b\"], [0.6666666666666666, \"#ed7953\"], [0.7777777777777778, \"#fb9f3a\"], [0.8888888888888888, \"#fdca26\"], [1.0, \"#f0f921\"]], \"type\": \"contour\"}], \"contourcarpet\": [{\"colorbar\": {\"outlinewidth\": 0, \"ticks\": \"\"}, \"type\": \"contourcarpet\"}], \"heatmap\": [{\"colorbar\": {\"outlinewidth\": 0, \"ticks\": \"\"}, \"colorscale\": [[0.0, \"#0d0887\"], [0.1111111111111111, \"#46039f\"], [0.2222222222222222, \"#7201a8\"], [0.3333333333333333, \"#9c179e\"], [0.4444444444444444, \"#bd3786\"], [0.5555555555555556, \"#d8576b\"], [0.6666666666666666, \"#ed7953\"], [0.7777777777777778, \"#fb9f3a\"], [0.8888888888888888, \"#fdca26\"], [1.0, \"#f0f921\"]], \"type\": \"heatmap\"}], \"heatmapgl\": [{\"colorbar\": {\"outlinewidth\": 0, \"ticks\": \"\"}, \"colorscale\": [[0.0, \"#0d0887\"], [0.1111111111111111, \"#46039f\"], [0.2222222222222222, \"#7201a8\"], [0.3333333333333333, \"#9c179e\"], [0.4444444444444444, \"#bd3786\"], [0.5555555555555556, \"#d8576b\"], [0.6666666666666666, \"#ed7953\"], [0.7777777777777778, \"#fb9f3a\"], [0.8888888888888888, \"#fdca26\"], [1.0, \"#f0f921\"]], \"type\": \"heatmapgl\"}], \"histogram\": [{\"marker\": {\"colorbar\": {\"outlinewidth\": 0, \"ticks\": \"\"}}, \"type\": \"histogram\"}], \"histogram2d\": [{\"colorbar\": {\"outlinewidth\": 0, \"ticks\": \"\"}, \"colorscale\": [[0.0, \"#0d0887\"], [0.1111111111111111, \"#46039f\"], [0.2222222222222222, \"#7201a8\"], [0.3333333333333333, \"#9c179e\"], [0.4444444444444444, \"#bd3786\"], [0.5555555555555556, \"#d8576b\"], [0.6666666666666666, \"#ed7953\"], [0.7777777777777778, \"#fb9f3a\"], [0.8888888888888888, \"#fdca26\"], [1.0, \"#f0f921\"]], \"type\": \"histogram2d\"}], \"histogram2dcontour\": [{\"colorbar\": {\"outlinewidth\": 0, \"ticks\": \"\"}, \"colorscale\": [[0.0, \"#0d0887\"], [0.1111111111111111, \"#46039f\"], [0.2222222222222222, \"#7201a8\"], [0.3333333333333333, \"#9c179e\"], [0.4444444444444444, \"#bd3786\"], [0.5555555555555556, \"#d8576b\"], [0.6666666666666666, \"#ed7953\"], [0.7777777777777778, \"#fb9f3a\"], [0.8888888888888888, \"#fdca26\"], [1.0, \"#f0f921\"]], \"type\": \"histogram2dcontour\"}], \"mesh3d\": [{\"colorbar\": {\"outlinewidth\": 0, \"ticks\": \"\"}, \"type\": \"mesh3d\"}], \"parcoords\": [{\"line\": {\"colorbar\": {\"outlinewidth\": 0, \"ticks\": \"\"}}, \"type\": \"parcoords\"}], \"pie\": [{\"automargin\": true, \"type\": \"pie\"}], \"scatter\": [{\"marker\": {\"colorbar\": {\"outlinewidth\": 0, \"ticks\": \"\"}}, \"type\": \"scatter\"}], \"scatter3d\": [{\"line\": {\"colorbar\": {\"outlinewidth\": 0, \"ticks\": \"\"}}, \"marker\": {\"colorbar\": {\"outlinewidth\": 0, \"ticks\": \"\"}}, \"type\": \"scatter3d\"}], \"scattercarpet\": [{\"marker\": {\"colorbar\": {\"outlinewidth\": 0, \"ticks\": \"\"}}, \"type\": \"scattercarpet\"}], \"scattergeo\": [{\"marker\": {\"colorbar\": {\"outlinewidth\": 0, \"ticks\": \"\"}}, \"type\": \"scattergeo\"}], \"scattergl\": [{\"marker\": {\"colorbar\": {\"outlinewidth\": 0, \"ticks\": \"\"}}, \"type\": \"scattergl\"}], \"scattermapbox\": [{\"marker\": {\"colorbar\": {\"outlinewidth\": 0, \"ticks\": \"\"}}, \"type\": \"scattermapbox\"}], \"scatterpolar\": [{\"marker\": {\"colorbar\": {\"outlinewidth\": 0, \"ticks\": \"\"}}, \"type\": \"scatterpolar\"}], \"scatterpolargl\": [{\"marker\": {\"colorbar\": {\"outlinewidth\": 0, \"ticks\": \"\"}}, \"type\": \"scatterpolargl\"}], \"scatterternary\": [{\"marker\": {\"colorbar\": {\"outlinewidth\": 0, \"ticks\": \"\"}}, \"type\": \"scatterternary\"}], \"surface\": [{\"colorbar\": {\"outlinewidth\": 0, \"ticks\": \"\"}, \"colorscale\": [[0.0, \"#0d0887\"], [0.1111111111111111, \"#46039f\"], [0.2222222222222222, \"#7201a8\"], [0.3333333333333333, \"#9c179e\"], [0.4444444444444444, \"#bd3786\"], [0.5555555555555556, \"#d8576b\"], [0.6666666666666666, \"#ed7953\"], [0.7777777777777778, \"#fb9f3a\"], [0.8888888888888888, \"#fdca26\"], [1.0, \"#f0f921\"]], \"type\": \"surface\"}], \"table\": [{\"cells\": {\"fill\": {\"color\": \"#EBF0F8\"}, \"line\": {\"color\": \"white\"}}, \"header\": {\"fill\": {\"color\": \"#C8D4E3\"}, \"line\": {\"color\": \"white\"}}, \"type\": \"table\"}]}, \"layout\": {\"annotationdefaults\": {\"arrowcolor\": \"#2a3f5f\", \"arrowhead\": 0, \"arrowwidth\": 1}, \"coloraxis\": {\"colorbar\": {\"outlinewidth\": 0, \"ticks\": \"\"}}, \"colorscale\": {\"diverging\": [[0, \"#8e0152\"], [0.1, \"#c51b7d\"], [0.2, \"#de77ae\"], [0.3, \"#f1b6da\"], [0.4, \"#fde0ef\"], [0.5, \"#f7f7f7\"], [0.6, \"#e6f5d0\"], [0.7, \"#b8e186\"], [0.8, \"#7fbc41\"], [0.9, \"#4d9221\"], [1, \"#276419\"]], \"sequential\": [[0.0, \"#0d0887\"], [0.1111111111111111, \"#46039f\"], [0.2222222222222222, \"#7201a8\"], [0.3333333333333333, \"#9c179e\"], [0.4444444444444444, \"#bd3786\"], [0.5555555555555556, \"#d8576b\"], [0.6666666666666666, \"#ed7953\"], [0.7777777777777778, \"#fb9f3a\"], [0.8888888888888888, \"#fdca26\"], [1.0, \"#f0f921\"]], \"sequentialminus\": [[0.0, \"#0d0887\"], [0.1111111111111111, \"#46039f\"], [0.2222222222222222, \"#7201a8\"], [0.3333333333333333, \"#9c179e\"], [0.4444444444444444, \"#bd3786\"], [0.5555555555555556, \"#d8576b\"], [0.6666666666666666, \"#ed7953\"], [0.7777777777777778, \"#fb9f3a\"], [0.8888888888888888, \"#fdca26\"], [1.0, \"#f0f921\"]]}, \"colorway\": [\"#636efa\", \"#EF553B\", \"#00cc96\", \"#ab63fa\", \"#FFA15A\", \"#19d3f3\", \"#FF6692\", \"#B6E880\", \"#FF97FF\", \"#FECB52\"], \"font\": {\"color\": \"#2a3f5f\"}, \"geo\": {\"bgcolor\": \"white\", \"lakecolor\": \"white\", \"landcolor\": \"#E5ECF6\", \"showlakes\": true, \"showland\": true, \"subunitcolor\": \"white\"}, \"hoverlabel\": {\"align\": \"left\"}, \"hovermode\": \"closest\", \"mapbox\": {\"style\": \"light\"}, \"paper_bgcolor\": \"white\", \"plot_bgcolor\": \"#E5ECF6\", \"polar\": {\"angularaxis\": {\"gridcolor\": \"white\", \"linecolor\": \"white\", \"ticks\": \"\"}, \"bgcolor\": \"#E5ECF6\", \"radialaxis\": {\"gridcolor\": \"white\", \"linecolor\": \"white\", \"ticks\": \"\"}}, \"scene\": {\"xaxis\": {\"backgroundcolor\": \"#E5ECF6\", \"gridcolor\": \"white\", \"gridwidth\": 2, \"linecolor\": \"white\", \"showbackground\": true, \"ticks\": \"\", \"zerolinecolor\": \"white\"}, \"yaxis\": {\"backgroundcolor\": \"#E5ECF6\", \"gridcolor\": \"white\", \"gridwidth\": 2, \"linecolor\": \"white\", \"showbackground\": true, \"ticks\": \"\", \"zerolinecolor\": \"white\"}, \"zaxis\": {\"backgroundcolor\": \"#E5ECF6\", \"gridcolor\": \"white\", \"gridwidth\": 2, \"linecolor\": \"white\", \"showbackground\": true, \"ticks\": \"\", \"zerolinecolor\": \"white\"}}, \"shapedefaults\": {\"line\": {\"color\": \"#2a3f5f\"}}, \"ternary\": {\"aaxis\": {\"gridcolor\": \"white\", \"linecolor\": \"white\", \"ticks\": \"\"}, \"baxis\": {\"gridcolor\": \"white\", \"linecolor\": \"white\", \"ticks\": \"\"}, \"bgcolor\": \"#E5ECF6\", \"caxis\": {\"gridcolor\": \"white\", \"linecolor\": \"white\", \"ticks\": \"\"}}, \"title\": {\"x\": 0.05}, \"xaxis\": {\"automargin\": true, \"gridcolor\": \"white\", \"linecolor\": \"white\", \"ticks\": \"\", \"title\": {\"standoff\": 15}, \"zerolinecolor\": \"white\", \"zerolinewidth\": 2}, \"yaxis\": {\"automargin\": true, \"gridcolor\": \"white\", \"linecolor\": \"white\", \"ticks\": \"\", \"title\": {\"standoff\": 15}, \"zerolinecolor\": \"white\", \"zerolinewidth\": 2}}}, \"title\": {\"text\": \"Positive Cases Percentage Per Population\"}, \"yaxis\": {\"title\": {\"text\": \"Percentage (%)\"}}},\n",
       "                        {\"responsive\": true}\n",
       "                    ).then(function(){\n",
       "                            \n",
       "var gd = document.getElementById('f8713f53-fb12-40db-81bb-2b6a3ebcd683');\n",
       "var x = new MutationObserver(function (mutations, observer) {{\n",
       "        var display = window.getComputedStyle(gd).display;\n",
       "        if (!display || display === 'none') {{\n",
       "            console.log([gd, 'removed!']);\n",
       "            Plotly.purge(gd);\n",
       "            observer.disconnect();\n",
       "        }}\n",
       "}});\n",
       "\n",
       "// Listen for the removal of the full notebook cells\n",
       "var notebookContainer = gd.closest('#notebook-container');\n",
       "if (notebookContainer) {{\n",
       "    x.observe(notebookContainer, {childList: true});\n",
       "}}\n",
       "\n",
       "// Listen for the clearing of the current output cell\n",
       "var outputEl = gd.closest('.output');\n",
       "if (outputEl) {{\n",
       "    x.observe(outputEl, {childList: true});\n",
       "}}\n",
       "\n",
       "                        })\n",
       "                };\n",
       "                });\n",
       "            </script>\n",
       "        </div>"
      ]
     },
     "metadata": {},
     "output_type": "display_data"
    }
   ],
   "source": [
    "fig = go.Figure()\n",
    "for st in popul['State/UnionTerritory'].unique():\n",
    "    df = popul[popul['State/UnionTerritory'] == st]\n",
    "    fig.add_trace(go.Scatter(x = df.Date, y = df.ConfirmPerc, name = st))\n",
    "    \n",
    "fig.update_layout(title = 'Positive Cases Percentage Per Population', yaxis_title = 'Percentage (%)')\n",
    "fig.show()"
   ]
  },
  {
   "cell_type": "markdown",
   "execution_count": null,
   "metadata": {
    "papermill": {
     "duration": 0.01703,
     "end_time": "2020-08-30T17:37:56.157542",
     "exception": false,
     "start_time": "2020-08-30T17:37:56.140512",
     "status": "completed"
    },
    "tags": []
   },
   "source": [
    "# Analyzing the data & calculating positive percentage on a day-to-day basis"
   ]
  },
  {
   "cell_type": "code",
   "execution_count": 17,
   "metadata": {
    "collapsed": true,
    "execution": {
     "iopub.execute_input": "2020-08-30T17:37:56.204341Z",
     "iopub.status.busy": "2020-08-30T17:37:56.203222Z",
     "iopub.status.idle": "2020-08-30T17:37:56.228225Z",
     "shell.execute_reply": "2020-08-30T17:37:56.227489Z"
    },
    "papermill": {
     "duration": 0.05382,
     "end_time": "2020-08-30T17:37:56.228354",
     "exception": false,
     "start_time": "2020-08-30T17:37:56.174534",
     "status": "completed"
    },
    "tags": []
   },
   "outputs": [
    {
     "data": {
      "text/html": [
       "<div>\n",
       "<style scoped>\n",
       "    .dataframe tbody tr th:only-of-type {\n",
       "        vertical-align: middle;\n",
       "    }\n",
       "\n",
       "    .dataframe tbody tr th {\n",
       "        vertical-align: top;\n",
       "    }\n",
       "\n",
       "    .dataframe thead th {\n",
       "        text-align: right;\n",
       "    }\n",
       "</style>\n",
       "<table border=\"1\" class=\"dataframe\">\n",
       "  <thead>\n",
       "    <tr style=\"text-align: right;\">\n",
       "      <th></th>\n",
       "      <th>Cured</th>\n",
       "      <th>Deaths</th>\n",
       "      <th>Confirmed</th>\n",
       "      <th>Population</th>\n",
       "      <th>TotConfirmPerc</th>\n",
       "    </tr>\n",
       "    <tr>\n",
       "      <th>Date</th>\n",
       "      <th></th>\n",
       "      <th></th>\n",
       "      <th></th>\n",
       "      <th></th>\n",
       "      <th></th>\n",
       "    </tr>\n",
       "  </thead>\n",
       "  <tbody>\n",
       "    <tr>\n",
       "      <th>2020-01-30</th>\n",
       "      <td>0</td>\n",
       "      <td>0</td>\n",
       "      <td>1</td>\n",
       "      <td>1210568111</td>\n",
       "      <td>8.260584e-08</td>\n",
       "    </tr>\n",
       "    <tr>\n",
       "      <th>2020-01-31</th>\n",
       "      <td>0</td>\n",
       "      <td>0</td>\n",
       "      <td>1</td>\n",
       "      <td>1210568111</td>\n",
       "      <td>8.260584e-08</td>\n",
       "    </tr>\n",
       "    <tr>\n",
       "      <th>2020-02-01</th>\n",
       "      <td>0</td>\n",
       "      <td>0</td>\n",
       "      <td>2</td>\n",
       "      <td>1210568111</td>\n",
       "      <td>1.652117e-07</td>\n",
       "    </tr>\n",
       "    <tr>\n",
       "      <th>2020-02-02</th>\n",
       "      <td>0</td>\n",
       "      <td>0</td>\n",
       "      <td>3</td>\n",
       "      <td>1210568111</td>\n",
       "      <td>2.478175e-07</td>\n",
       "    </tr>\n",
       "    <tr>\n",
       "      <th>2020-02-03</th>\n",
       "      <td>0</td>\n",
       "      <td>0</td>\n",
       "      <td>3</td>\n",
       "      <td>1210568111</td>\n",
       "      <td>2.478175e-07</td>\n",
       "    </tr>\n",
       "    <tr>\n",
       "      <th>...</th>\n",
       "      <td>...</td>\n",
       "      <td>...</td>\n",
       "      <td>...</td>\n",
       "      <td>...</td>\n",
       "      <td>...</td>\n",
       "    </tr>\n",
       "    <tr>\n",
       "      <th>2020-08-26</th>\n",
       "      <td>2382535</td>\n",
       "      <td>58669</td>\n",
       "      <td>3122786</td>\n",
       "      <td>1210568111</td>\n",
       "      <td>2.579604e-01</td>\n",
       "    </tr>\n",
       "    <tr>\n",
       "      <th>2020-08-27</th>\n",
       "      <td>2437676</td>\n",
       "      <td>59684</td>\n",
       "      <td>3195751</td>\n",
       "      <td>1210568111</td>\n",
       "      <td>2.639877e-01</td>\n",
       "    </tr>\n",
       "    <tr>\n",
       "      <th>2020-08-28</th>\n",
       "      <td>2496273</td>\n",
       "      <td>60730</td>\n",
       "      <td>3270085</td>\n",
       "      <td>1210568111</td>\n",
       "      <td>2.701281e-01</td>\n",
       "    </tr>\n",
       "    <tr>\n",
       "      <th>2020-08-29</th>\n",
       "      <td>2559648</td>\n",
       "      <td>61742</td>\n",
       "      <td>3343806</td>\n",
       "      <td>1210568111</td>\n",
       "      <td>2.762179e-01</td>\n",
       "    </tr>\n",
       "    <tr>\n",
       "      <th>2020-08-30</th>\n",
       "      <td>2622945</td>\n",
       "      <td>62680</td>\n",
       "      <td>3419643</td>\n",
       "      <td>1210568111</td>\n",
       "      <td>2.824825e-01</td>\n",
       "    </tr>\n",
       "  </tbody>\n",
       "</table>\n",
       "<p>214 rows × 5 columns</p>\n",
       "</div>"
      ],
      "text/plain": [
       "              Cured  Deaths  Confirmed  Population  TotConfirmPerc\n",
       "Date                                                              \n",
       "2020-01-30        0       0          1  1210568111    8.260584e-08\n",
       "2020-01-31        0       0          1  1210568111    8.260584e-08\n",
       "2020-02-01        0       0          2  1210568111    1.652117e-07\n",
       "2020-02-02        0       0          3  1210568111    2.478175e-07\n",
       "2020-02-03        0       0          3  1210568111    2.478175e-07\n",
       "...             ...     ...        ...         ...             ...\n",
       "2020-08-26  2382535   58669    3122786  1210568111    2.579604e-01\n",
       "2020-08-27  2437676   59684    3195751  1210568111    2.639877e-01\n",
       "2020-08-28  2496273   60730    3270085  1210568111    2.701281e-01\n",
       "2020-08-29  2559648   61742    3343806  1210568111    2.762179e-01\n",
       "2020-08-30  2622945   62680    3419643  1210568111    2.824825e-01\n",
       "\n",
       "[214 rows x 5 columns]"
      ]
     },
     "execution_count": 17,
     "metadata": {},
     "output_type": "execute_result"
    }
   ],
   "source": [
    "# Here, we're grouping the data by date bcoz we want to visualize the data on per basis\n",
    "popul_dates = popul.drop('ConfirmPerc', axis=1).groupby('Date').sum()\n",
    "\n",
    "# In this, population should be same, as we're talking about the positive percentage per population\n",
    "popul_dates['Population'] = total_pop\n",
    "\n",
    "# Calculating total percentage of positive cases\n",
    "popul_dates['TotConfirmPerc'] = (popul_dates['Confirmed']/popul_dates['Population'])*100\n",
    "popul_dates"
   ]
  },
  {
   "cell_type": "markdown",
   "execution_count": null,
   "metadata": {
    "papermill": {
     "duration": 0.017251,
     "end_time": "2020-08-30T17:37:56.263698",
     "exception": false,
     "start_time": "2020-08-30T17:37:56.246447",
     "status": "completed"
    },
    "tags": []
   },
   "source": [
    "# Visualizing the increase in percentage"
   ]
  },
  {
   "cell_type": "code",
   "execution_count": 18,
   "metadata": {
    "collapsed": true,
    "execution": {
     "iopub.execute_input": "2020-08-30T17:37:56.323127Z",
     "iopub.status.busy": "2020-08-30T17:37:56.322363Z",
     "iopub.status.idle": "2020-08-30T17:37:56.330276Z",
     "shell.execute_reply": "2020-08-30T17:37:56.329497Z"
    },
    "papermill": {
     "duration": 0.04969,
     "end_time": "2020-08-30T17:37:56.330418",
     "exception": false,
     "start_time": "2020-08-30T17:37:56.280728",
     "status": "completed"
    },
    "tags": []
   },
   "outputs": [
    {
     "data": {
      "text/html": [
       "<div>\n",
       "        \n",
       "        \n",
       "            <div id=\"17a9e24c-c47c-4716-974d-3323297f2be4\" class=\"plotly-graph-div\" style=\"height:525px; width:100%;\"></div>\n",
       "            <script type=\"text/javascript\">\n",
       "                require([\"plotly\"], function(Plotly) {\n",
       "                    window.PLOTLYENV=window.PLOTLYENV || {};\n",
       "                    \n",
       "                if (document.getElementById(\"17a9e24c-c47c-4716-974d-3323297f2be4\")) {\n",
       "                    Plotly.newPlot(\n",
       "                        '17a9e24c-c47c-4716-974d-3323297f2be4',\n",
       "                        [{\"type\": \"scatter\", \"x\": [\"2020-01-30T00:00:00\", \"2020-01-31T00:00:00\", \"2020-02-01T00:00:00\", \"2020-02-02T00:00:00\", \"2020-02-03T00:00:00\", \"2020-02-04T00:00:00\", \"2020-02-05T00:00:00\", \"2020-02-06T00:00:00\", \"2020-02-07T00:00:00\", \"2020-02-08T00:00:00\", \"2020-02-09T00:00:00\", \"2020-02-10T00:00:00\", \"2020-02-11T00:00:00\", \"2020-02-12T00:00:00\", \"2020-02-13T00:00:00\", \"2020-02-14T00:00:00\", \"2020-02-15T00:00:00\", \"2020-02-16T00:00:00\", \"2020-02-17T00:00:00\", \"2020-02-18T00:00:00\", \"2020-02-19T00:00:00\", \"2020-02-20T00:00:00\", \"2020-02-21T00:00:00\", \"2020-02-22T00:00:00\", \"2020-02-23T00:00:00\", \"2020-02-24T00:00:00\", \"2020-02-25T00:00:00\", \"2020-02-26T00:00:00\", \"2020-02-27T00:00:00\", \"2020-02-28T00:00:00\", \"2020-02-29T00:00:00\", \"2020-03-01T00:00:00\", \"2020-03-02T00:00:00\", \"2020-03-03T00:00:00\", \"2020-03-04T00:00:00\", \"2020-03-05T00:00:00\", \"2020-03-06T00:00:00\", \"2020-03-07T00:00:00\", \"2020-03-08T00:00:00\", \"2020-03-09T00:00:00\", \"2020-03-10T00:00:00\", \"2020-03-11T00:00:00\", \"2020-03-12T00:00:00\", \"2020-03-13T00:00:00\", \"2020-03-14T00:00:00\", \"2020-03-15T00:00:00\", \"2020-03-16T00:00:00\", \"2020-03-17T00:00:00\", \"2020-03-18T00:00:00\", \"2020-03-19T00:00:00\", \"2020-03-20T00:00:00\", \"2020-03-21T00:00:00\", \"2020-03-22T00:00:00\", \"2020-03-23T00:00:00\", \"2020-03-24T00:00:00\", \"2020-03-25T00:00:00\", \"2020-03-26T00:00:00\", \"2020-03-27T00:00:00\", \"2020-03-28T00:00:00\", \"2020-03-29T00:00:00\", \"2020-03-30T00:00:00\", \"2020-03-31T00:00:00\", \"2020-04-01T00:00:00\", \"2020-04-02T00:00:00\", \"2020-04-03T00:00:00\", \"2020-04-04T00:00:00\", \"2020-04-05T00:00:00\", \"2020-04-06T00:00:00\", \"2020-04-07T00:00:00\", \"2020-04-08T00:00:00\", \"2020-04-09T00:00:00\", \"2020-04-10T00:00:00\", \"2020-04-11T00:00:00\", \"2020-04-12T00:00:00\", \"2020-04-13T00:00:00\", \"2020-04-14T00:00:00\", \"2020-04-15T00:00:00\", \"2020-04-16T00:00:00\", \"2020-04-17T00:00:00\", \"2020-04-18T00:00:00\", \"2020-04-19T00:00:00\", \"2020-04-20T00:00:00\", \"2020-04-21T00:00:00\", \"2020-04-22T00:00:00\", \"2020-04-23T00:00:00\", \"2020-04-24T00:00:00\", \"2020-04-25T00:00:00\", \"2020-04-26T00:00:00\", \"2020-04-27T00:00:00\", \"2020-04-28T00:00:00\", \"2020-04-29T00:00:00\", \"2020-04-30T00:00:00\", \"2020-05-01T00:00:00\", \"2020-05-02T00:00:00\", \"2020-05-03T00:00:00\", \"2020-05-04T00:00:00\", \"2020-05-05T00:00:00\", \"2020-05-06T00:00:00\", \"2020-05-07T00:00:00\", \"2020-05-08T00:00:00\", \"2020-05-09T00:00:00\", \"2020-05-10T00:00:00\", \"2020-05-11T00:00:00\", \"2020-05-12T00:00:00\", \"2020-05-13T00:00:00\", \"2020-05-14T00:00:00\", \"2020-05-15T00:00:00\", \"2020-05-16T00:00:00\", \"2020-05-17T00:00:00\", \"2020-05-18T00:00:00\", \"2020-05-19T00:00:00\", \"2020-05-20T00:00:00\", \"2020-05-21T00:00:00\", \"2020-05-22T00:00:00\", \"2020-05-23T00:00:00\", \"2020-05-24T00:00:00\", \"2020-05-25T00:00:00\", \"2020-05-26T00:00:00\", \"2020-05-27T00:00:00\", \"2020-05-28T00:00:00\", \"2020-05-29T00:00:00\", \"2020-05-30T00:00:00\", \"2020-05-31T00:00:00\", \"2020-06-01T00:00:00\", \"2020-06-02T00:00:00\", \"2020-06-03T00:00:00\", \"2020-06-04T00:00:00\", \"2020-06-05T00:00:00\", \"2020-06-06T00:00:00\", \"2020-06-07T00:00:00\", \"2020-06-08T00:00:00\", \"2020-06-09T00:00:00\", \"2020-06-10T00:00:00\", \"2020-06-11T00:00:00\", \"2020-06-12T00:00:00\", \"2020-06-13T00:00:00\", \"2020-06-14T00:00:00\", \"2020-06-15T00:00:00\", \"2020-06-16T00:00:00\", \"2020-06-17T00:00:00\", \"2020-06-18T00:00:00\", \"2020-06-19T00:00:00\", \"2020-06-20T00:00:00\", \"2020-06-21T00:00:00\", \"2020-06-22T00:00:00\", \"2020-06-23T00:00:00\", \"2020-06-24T00:00:00\", \"2020-06-25T00:00:00\", \"2020-06-26T00:00:00\", \"2020-06-27T00:00:00\", \"2020-06-28T00:00:00\", \"2020-06-29T00:00:00\", \"2020-06-30T00:00:00\", \"2020-07-01T00:00:00\", \"2020-07-02T00:00:00\", \"2020-07-03T00:00:00\", \"2020-07-04T00:00:00\", \"2020-07-05T00:00:00\", \"2020-07-06T00:00:00\", \"2020-07-07T00:00:00\", \"2020-07-08T00:00:00\", \"2020-07-09T00:00:00\", \"2020-07-10T00:00:00\", \"2020-07-11T00:00:00\", \"2020-07-12T00:00:00\", \"2020-07-13T00:00:00\", \"2020-07-14T00:00:00\", \"2020-07-15T00:00:00\", \"2020-07-16T00:00:00\", \"2020-07-17T00:00:00\", \"2020-07-18T00:00:00\", \"2020-07-19T00:00:00\", \"2020-07-20T00:00:00\", \"2020-07-21T00:00:00\", \"2020-07-22T00:00:00\", \"2020-07-23T00:00:00\", \"2020-07-24T00:00:00\", \"2020-07-25T00:00:00\", \"2020-07-26T00:00:00\", \"2020-07-27T00:00:00\", \"2020-07-28T00:00:00\", \"2020-07-29T00:00:00\", \"2020-07-30T00:00:00\", \"2020-07-31T00:00:00\", \"2020-08-01T00:00:00\", \"2020-08-02T00:00:00\", \"2020-08-03T00:00:00\", \"2020-08-04T00:00:00\", \"2020-08-05T00:00:00\", \"2020-08-06T00:00:00\", \"2020-08-07T00:00:00\", \"2020-08-08T00:00:00\", \"2020-08-09T00:00:00\", \"2020-08-10T00:00:00\", \"2020-08-11T00:00:00\", \"2020-08-12T00:00:00\", \"2020-08-13T00:00:00\", \"2020-08-14T00:00:00\", \"2020-08-15T00:00:00\", \"2020-08-16T00:00:00\", \"2020-08-17T00:00:00\", \"2020-08-18T00:00:00\", \"2020-08-19T00:00:00\", \"2020-08-20T00:00:00\", \"2020-08-21T00:00:00\", \"2020-08-22T00:00:00\", \"2020-08-23T00:00:00\", \"2020-08-24T00:00:00\", \"2020-08-25T00:00:00\", \"2020-08-26T00:00:00\", \"2020-08-27T00:00:00\", \"2020-08-28T00:00:00\", \"2020-08-29T00:00:00\", \"2020-08-30T00:00:00\"], \"y\": [8.260584356331191e-08, 8.260584356331191e-08, 1.6521168712662382e-07, 2.478175306899357e-07, 2.478175306899357e-07, 2.478175306899357e-07, 2.478175306899357e-07, 2.478175306899357e-07, 2.478175306899357e-07, 2.478175306899357e-07, 2.478175306899357e-07, 2.478175306899357e-07, 2.478175306899357e-07, 2.478175306899357e-07, 2.478175306899357e-07, 2.478175306899357e-07, 2.478175306899357e-07, 2.478175306899357e-07, 2.478175306899357e-07, 2.478175306899357e-07, 2.478175306899357e-07, 2.478175306899357e-07, 2.478175306899357e-07, 2.478175306899357e-07, 2.478175306899357e-07, 2.478175306899357e-07, 2.478175306899357e-07, 2.478175306899357e-07, 2.478175306899357e-07, 2.478175306899357e-07, 2.478175306899357e-07, 2.478175306899357e-07, 3.3042337425324763e-07, 4.130292178165595e-07, 2.2303577762094213e-06, 2.3955694633360454e-06, 2.478175306899357e-06, 2.7259928375892927e-06, 3.139022055405852e-06, 3.717262960349036e-06, 4.708533083108778e-06, 4.873744770235402e-06, 6.030226580121769e-06, 6.608467485064952e-06, 6.856285015754889e-06, 8.838825261274374e-06, 9.169248635527622e-06, 1.090397135035717e-05, 1.1977847316680226e-05, 1.3795175875073087e-05, 1.7016803774042252e-05, 2.164273101358772e-05, 2.792077512439942e-05, 3.312494326888807e-05, 3.998122828464296e-05, 4.7167936674651095e-05, 5.369379831615274e-05, 5.608936777948879e-05, 7.046278455950505e-05, 7.91363981336528e-05, 9.36750266007957e-05, 0.00010573547976103924, 0.00014356895611303608, 0.00016207266507121794, 0.00019098471031837712, 0.0002406308222999276, 0.0002732601305074358, 0.00032711914051071516, 0.00036553085776765517, 0.0004003905237513728, 0.0004479714896438404, 0.0005194255443261052, 0.0005803060510322661, 0.0006561382154233865, 0.0007261053649215116, 0.0008418361517537116, 0.0009322895504555381, 0.000996309079217105, 0.0010814757039308794, 0.00115656441572993, 0.0012615564428988995, 0.0013863738725230638, 0.0014923571698147928, 0.0016129617014172283, 0.001713245195503089, 0.001855988093180492, 0.0019750231137552242, 0.0021158660770306714, 0.0022434094994924244, 0.0023815264699302823, 0.0025357515798629855, 0.0026696556522791143, 0.002803064089633863, 0.0029835578578196994, 0.0032266668554265265, 0.003449124392142525, 0.0037689742184196687, 0.003989449214890148, 0.004282699959539905, 0.004561412075722519, 0.004834837417917082, 0.0051030585919671564, 0.0054483510180618, 0.005739536616622474, 0.006026509317161421, 0.00633058142731797, 0.006654396334086154, 0.006960037955270408, 0.007362493625110864, 0.007782131310412488, 0.008155509723318658, 0.008592659847455704, 0.009028405672252174, 0.009510245557756973, 0.010031736248172161, 0.010550170522375507, 0.011098012476887392, 0.011605294962209689, 0.012040875575319033, 0.012548075454797768, 0.013123590366903361, 0.013736938755360951, 0.014386055474081458, 0.015051362938140373, 0.015653807355247604, 0.016322997293953995, 0.01705116780496459, 0.017843936085641696, 0.018600770824368756, 0.01937330067337285, 0.020142774106165103, 0.020993862112397902, 0.021761353004944636, 0.022595754630777648, 0.02353440483118756, 0.02449469776261106, 0.025504471594328986, 0.02647335553348307, 0.027277606026415473, 0.028117872667141487, 0.02912417705342975, 0.03019887907818844, 0.03132884441229098, 0.03256834509495848, 0.033839318604023595, 0.034985722500995235, 0.036221753738233074, 0.03751693075946224, 0.03890024821577347, 0.040359645654006494, 0.04192940449924011, 0.04350139370224994, 0.04497409068129666, 0.046444226879192925, 0.04794872710801153, 0.04964140344846735, 0.05145138008678307, 0.053381878650857674, 0.05523010179474321, 0.05690700041907844, 0.05863255388527246, 0.060581060523243864, 0.06267264048226692, 0.06486838641002332, 0.06716904175910512, 0.06949010075154706, 0.07173094946988902, 0.07409017236205721, 0.07667879168180071, 0.07949019896163446, 0.08228012872214176, 0.08540106009780725, 0.08863334415059608, 0.09160302422669714, 0.09460103810714042, 0.09824940779395766, 0.10219325858320087, 0.10609853244349998, 0.1101182153971343, 0.11411121666329768, 0.11779708940309265, 0.1218045466918796, 0.12596449436788443, 0.13036465983697137, 0.1349188852043039, 0.1392682480795994, 0.1434878371746569, 0.14760003867308216, 0.15177138595549872, 0.15624779661819457, 0.16123148976621274, 0.16612844677848945, 0.17128445571618067, 0.17630755185157854, 0.1805786869930196, 0.18545788374893019, 0.19083288077790775, 0.1960066499719651, 0.20122230032870908, 0.20637591369693695, 0.21109163348843576, 0.2155025377171859, 0.22068754130596785, 0.22629879104753653, 0.23182768276307253, 0.23739564704261404, 0.24291826071403924, 0.2478387603917315, 0.25266261123245465, 0.25796037179770054, 0.2639877071732976, 0.2701281299487328, 0.27621791534206375, 0.28248249470037456]}],\n",
       "                        {\"template\": {\"data\": {\"bar\": [{\"error_x\": {\"color\": \"#2a3f5f\"}, \"error_y\": {\"color\": \"#2a3f5f\"}, \"marker\": {\"line\": {\"color\": \"#E5ECF6\", \"width\": 0.5}}, \"type\": \"bar\"}], \"barpolar\": [{\"marker\": {\"line\": {\"color\": \"#E5ECF6\", \"width\": 0.5}}, \"type\": \"barpolar\"}], \"carpet\": [{\"aaxis\": {\"endlinecolor\": \"#2a3f5f\", \"gridcolor\": \"white\", \"linecolor\": \"white\", \"minorgridcolor\": \"white\", \"startlinecolor\": \"#2a3f5f\"}, \"baxis\": {\"endlinecolor\": \"#2a3f5f\", \"gridcolor\": \"white\", \"linecolor\": \"white\", \"minorgridcolor\": \"white\", \"startlinecolor\": \"#2a3f5f\"}, \"type\": \"carpet\"}], \"choropleth\": [{\"colorbar\": {\"outlinewidth\": 0, \"ticks\": \"\"}, \"type\": \"choropleth\"}], \"contour\": [{\"colorbar\": {\"outlinewidth\": 0, \"ticks\": \"\"}, \"colorscale\": [[0.0, \"#0d0887\"], [0.1111111111111111, \"#46039f\"], [0.2222222222222222, \"#7201a8\"], [0.3333333333333333, \"#9c179e\"], [0.4444444444444444, \"#bd3786\"], [0.5555555555555556, \"#d8576b\"], [0.6666666666666666, \"#ed7953\"], [0.7777777777777778, \"#fb9f3a\"], [0.8888888888888888, \"#fdca26\"], [1.0, \"#f0f921\"]], \"type\": \"contour\"}], \"contourcarpet\": [{\"colorbar\": {\"outlinewidth\": 0, \"ticks\": \"\"}, \"type\": \"contourcarpet\"}], \"heatmap\": [{\"colorbar\": {\"outlinewidth\": 0, \"ticks\": \"\"}, \"colorscale\": [[0.0, \"#0d0887\"], [0.1111111111111111, \"#46039f\"], [0.2222222222222222, \"#7201a8\"], [0.3333333333333333, \"#9c179e\"], [0.4444444444444444, \"#bd3786\"], [0.5555555555555556, \"#d8576b\"], [0.6666666666666666, \"#ed7953\"], [0.7777777777777778, \"#fb9f3a\"], [0.8888888888888888, \"#fdca26\"], [1.0, \"#f0f921\"]], \"type\": \"heatmap\"}], \"heatmapgl\": [{\"colorbar\": {\"outlinewidth\": 0, \"ticks\": \"\"}, \"colorscale\": [[0.0, \"#0d0887\"], [0.1111111111111111, \"#46039f\"], [0.2222222222222222, \"#7201a8\"], [0.3333333333333333, \"#9c179e\"], [0.4444444444444444, \"#bd3786\"], [0.5555555555555556, \"#d8576b\"], [0.6666666666666666, \"#ed7953\"], [0.7777777777777778, \"#fb9f3a\"], [0.8888888888888888, \"#fdca26\"], [1.0, \"#f0f921\"]], \"type\": \"heatmapgl\"}], \"histogram\": [{\"marker\": {\"colorbar\": {\"outlinewidth\": 0, \"ticks\": \"\"}}, \"type\": \"histogram\"}], \"histogram2d\": [{\"colorbar\": {\"outlinewidth\": 0, \"ticks\": \"\"}, \"colorscale\": [[0.0, \"#0d0887\"], [0.1111111111111111, \"#46039f\"], [0.2222222222222222, \"#7201a8\"], [0.3333333333333333, \"#9c179e\"], [0.4444444444444444, \"#bd3786\"], [0.5555555555555556, \"#d8576b\"], [0.6666666666666666, \"#ed7953\"], [0.7777777777777778, \"#fb9f3a\"], [0.8888888888888888, \"#fdca26\"], [1.0, \"#f0f921\"]], \"type\": \"histogram2d\"}], \"histogram2dcontour\": [{\"colorbar\": {\"outlinewidth\": 0, \"ticks\": \"\"}, \"colorscale\": [[0.0, \"#0d0887\"], [0.1111111111111111, \"#46039f\"], [0.2222222222222222, \"#7201a8\"], [0.3333333333333333, \"#9c179e\"], [0.4444444444444444, \"#bd3786\"], [0.5555555555555556, \"#d8576b\"], [0.6666666666666666, \"#ed7953\"], [0.7777777777777778, \"#fb9f3a\"], [0.8888888888888888, \"#fdca26\"], [1.0, \"#f0f921\"]], \"type\": \"histogram2dcontour\"}], \"mesh3d\": [{\"colorbar\": {\"outlinewidth\": 0, \"ticks\": \"\"}, \"type\": \"mesh3d\"}], \"parcoords\": [{\"line\": {\"colorbar\": {\"outlinewidth\": 0, \"ticks\": \"\"}}, \"type\": \"parcoords\"}], \"pie\": [{\"automargin\": true, \"type\": \"pie\"}], \"scatter\": [{\"marker\": {\"colorbar\": {\"outlinewidth\": 0, \"ticks\": \"\"}}, \"type\": \"scatter\"}], \"scatter3d\": [{\"line\": {\"colorbar\": {\"outlinewidth\": 0, \"ticks\": \"\"}}, \"marker\": {\"colorbar\": {\"outlinewidth\": 0, \"ticks\": \"\"}}, \"type\": \"scatter3d\"}], \"scattercarpet\": [{\"marker\": {\"colorbar\": {\"outlinewidth\": 0, \"ticks\": \"\"}}, \"type\": \"scattercarpet\"}], \"scattergeo\": [{\"marker\": {\"colorbar\": {\"outlinewidth\": 0, \"ticks\": \"\"}}, \"type\": \"scattergeo\"}], \"scattergl\": [{\"marker\": {\"colorbar\": {\"outlinewidth\": 0, \"ticks\": \"\"}}, \"type\": \"scattergl\"}], \"scattermapbox\": [{\"marker\": {\"colorbar\": {\"outlinewidth\": 0, \"ticks\": \"\"}}, \"type\": \"scattermapbox\"}], \"scatterpolar\": [{\"marker\": {\"colorbar\": {\"outlinewidth\": 0, \"ticks\": \"\"}}, \"type\": \"scatterpolar\"}], \"scatterpolargl\": [{\"marker\": {\"colorbar\": {\"outlinewidth\": 0, \"ticks\": \"\"}}, \"type\": \"scatterpolargl\"}], \"scatterternary\": [{\"marker\": {\"colorbar\": {\"outlinewidth\": 0, \"ticks\": \"\"}}, \"type\": \"scatterternary\"}], \"surface\": [{\"colorbar\": {\"outlinewidth\": 0, \"ticks\": \"\"}, \"colorscale\": [[0.0, \"#0d0887\"], [0.1111111111111111, \"#46039f\"], [0.2222222222222222, \"#7201a8\"], [0.3333333333333333, \"#9c179e\"], [0.4444444444444444, \"#bd3786\"], [0.5555555555555556, \"#d8576b\"], [0.6666666666666666, \"#ed7953\"], [0.7777777777777778, \"#fb9f3a\"], [0.8888888888888888, \"#fdca26\"], [1.0, \"#f0f921\"]], \"type\": \"surface\"}], \"table\": [{\"cells\": {\"fill\": {\"color\": \"#EBF0F8\"}, \"line\": {\"color\": \"white\"}}, \"header\": {\"fill\": {\"color\": \"#C8D4E3\"}, \"line\": {\"color\": \"white\"}}, \"type\": \"table\"}]}, \"layout\": {\"annotationdefaults\": {\"arrowcolor\": \"#2a3f5f\", \"arrowhead\": 0, \"arrowwidth\": 1}, \"coloraxis\": {\"colorbar\": {\"outlinewidth\": 0, \"ticks\": \"\"}}, \"colorscale\": {\"diverging\": [[0, \"#8e0152\"], [0.1, \"#c51b7d\"], [0.2, \"#de77ae\"], [0.3, \"#f1b6da\"], [0.4, \"#fde0ef\"], [0.5, \"#f7f7f7\"], [0.6, \"#e6f5d0\"], [0.7, \"#b8e186\"], [0.8, \"#7fbc41\"], [0.9, \"#4d9221\"], [1, \"#276419\"]], \"sequential\": [[0.0, \"#0d0887\"], [0.1111111111111111, \"#46039f\"], [0.2222222222222222, \"#7201a8\"], [0.3333333333333333, \"#9c179e\"], [0.4444444444444444, \"#bd3786\"], [0.5555555555555556, \"#d8576b\"], [0.6666666666666666, \"#ed7953\"], [0.7777777777777778, \"#fb9f3a\"], [0.8888888888888888, \"#fdca26\"], [1.0, \"#f0f921\"]], \"sequentialminus\": [[0.0, \"#0d0887\"], [0.1111111111111111, \"#46039f\"], [0.2222222222222222, \"#7201a8\"], [0.3333333333333333, \"#9c179e\"], [0.4444444444444444, \"#bd3786\"], [0.5555555555555556, \"#d8576b\"], [0.6666666666666666, \"#ed7953\"], [0.7777777777777778, \"#fb9f3a\"], [0.8888888888888888, \"#fdca26\"], [1.0, \"#f0f921\"]]}, \"colorway\": [\"#636efa\", \"#EF553B\", \"#00cc96\", \"#ab63fa\", \"#FFA15A\", \"#19d3f3\", \"#FF6692\", \"#B6E880\", \"#FF97FF\", \"#FECB52\"], \"font\": {\"color\": \"#2a3f5f\"}, \"geo\": {\"bgcolor\": \"white\", \"lakecolor\": \"white\", \"landcolor\": \"#E5ECF6\", \"showlakes\": true, \"showland\": true, \"subunitcolor\": \"white\"}, \"hoverlabel\": {\"align\": \"left\"}, \"hovermode\": \"closest\", \"mapbox\": {\"style\": \"light\"}, \"paper_bgcolor\": \"white\", \"plot_bgcolor\": \"#E5ECF6\", \"polar\": {\"angularaxis\": {\"gridcolor\": \"white\", \"linecolor\": \"white\", \"ticks\": \"\"}, \"bgcolor\": \"#E5ECF6\", \"radialaxis\": {\"gridcolor\": \"white\", \"linecolor\": \"white\", \"ticks\": \"\"}}, \"scene\": {\"xaxis\": {\"backgroundcolor\": \"#E5ECF6\", \"gridcolor\": \"white\", \"gridwidth\": 2, \"linecolor\": \"white\", \"showbackground\": true, \"ticks\": \"\", \"zerolinecolor\": \"white\"}, \"yaxis\": {\"backgroundcolor\": \"#E5ECF6\", \"gridcolor\": \"white\", \"gridwidth\": 2, \"linecolor\": \"white\", \"showbackground\": true, \"ticks\": \"\", \"zerolinecolor\": \"white\"}, \"zaxis\": {\"backgroundcolor\": \"#E5ECF6\", \"gridcolor\": \"white\", \"gridwidth\": 2, \"linecolor\": \"white\", \"showbackground\": true, \"ticks\": \"\", \"zerolinecolor\": \"white\"}}, \"shapedefaults\": {\"line\": {\"color\": \"#2a3f5f\"}}, \"ternary\": {\"aaxis\": {\"gridcolor\": \"white\", \"linecolor\": \"white\", \"ticks\": \"\"}, \"baxis\": {\"gridcolor\": \"white\", \"linecolor\": \"white\", \"ticks\": \"\"}, \"bgcolor\": \"#E5ECF6\", \"caxis\": {\"gridcolor\": \"white\", \"linecolor\": \"white\", \"ticks\": \"\"}}, \"title\": {\"x\": 0.05}, \"xaxis\": {\"automargin\": true, \"gridcolor\": \"white\", \"linecolor\": \"white\", \"ticks\": \"\", \"title\": {\"standoff\": 15}, \"zerolinecolor\": \"white\", \"zerolinewidth\": 2}, \"yaxis\": {\"automargin\": true, \"gridcolor\": \"white\", \"linecolor\": \"white\", \"ticks\": \"\", \"title\": {\"standoff\": 15}, \"zerolinecolor\": \"white\", \"zerolinewidth\": 2}}}, \"title\": {\"text\": \"Percentage of positive cases across India\"}, \"yaxis\": {\"title\": {\"text\": \"Percentage (%)\"}}},\n",
       "                        {\"responsive\": true}\n",
       "                    ).then(function(){\n",
       "                            \n",
       "var gd = document.getElementById('17a9e24c-c47c-4716-974d-3323297f2be4');\n",
       "var x = new MutationObserver(function (mutations, observer) {{\n",
       "        var display = window.getComputedStyle(gd).display;\n",
       "        if (!display || display === 'none') {{\n",
       "            console.log([gd, 'removed!']);\n",
       "            Plotly.purge(gd);\n",
       "            observer.disconnect();\n",
       "        }}\n",
       "}});\n",
       "\n",
       "// Listen for the removal of the full notebook cells\n",
       "var notebookContainer = gd.closest('#notebook-container');\n",
       "if (notebookContainer) {{\n",
       "    x.observe(notebookContainer, {childList: true});\n",
       "}}\n",
       "\n",
       "// Listen for the clearing of the current output cell\n",
       "var outputEl = gd.closest('.output');\n",
       "if (outputEl) {{\n",
       "    x.observe(outputEl, {childList: true});\n",
       "}}\n",
       "\n",
       "                        })\n",
       "                };\n",
       "                });\n",
       "            </script>\n",
       "        </div>"
      ]
     },
     "metadata": {},
     "output_type": "display_data"
    }
   ],
   "source": [
    "fig = go.Figure()\n",
    "fig.add_trace(go.Scatter(x = popul_dates.index, y = popul_dates.TotConfirmPerc))\n",
    "fig.update_layout(title = 'Percentage of positive cases across India', yaxis_title = 'Percentage (%)')\n",
    "fig.show()"
   ]
  },
  {
   "cell_type": "markdown",
   "execution_count": null,
   "metadata": {
    "papermill": {
     "duration": 0.018047,
     "end_time": "2020-08-30T17:37:56.367099",
     "exception": false,
     "start_time": "2020-08-30T17:37:56.349052",
     "status": "completed"
    },
    "tags": []
   },
   "source": [
    "If you want to know how to flatten the curve or wanted to get the idea of capacity of patients a state can have look at my another notebook where I've described the hospitals capacity of sustaining patients and how many more beds it needed to have. \n",
    "**Link:-** https://www.kaggle.com/ayushirastogi15/covid-19-flattening-the-curve\n",
    "\n",
    "If you want to look at the interactive & interesting visualization of how the corona virus cases increases in each state then take a look at my another notebook which shows you the interesting bar-chart race of Indian states. \n",
    "**Link:-** https://www.kaggle.com/ayushirastogi15/covid-19-india-bar-chart-race\n",
    "\n",
    "You can also look at the analysis & interesting visualizations of corona-virus cases all over the world. How the confirmed cases increasing, death cases increasing & the recovery rate as well. The link for the notebook is given below.\n",
    "**Link:-** https://www.kaggle.com/ayushirastogi15/covid-19\n",
    "\n",
    "*If you found anything wrong, do let me know. I'll be happy to get any kind of feed back.\n",
    "Thanks in advance for the whole data science kaggle community.*"
   ]
  },
  {
   "cell_type": "code",
   "execution_count": null,
   "metadata": {
    "papermill": {
     "duration": 0.018016,
     "end_time": "2020-08-30T17:37:56.404710",
     "exception": false,
     "start_time": "2020-08-30T17:37:56.386694",
     "status": "completed"
    },
    "tags": []
   },
   "outputs": [],
   "source": []
  }
 ],
 "metadata": {
  "kernelspec": {
   "display_name": "Python 3",
   "language": "python",
   "name": "python3"
  },
  "language_info": {
   "codemirror_mode": {
    "name": "ipython",
    "version": 3
   },
   "file_extension": ".py",
   "mimetype": "text/x-python",
   "name": "python",
   "nbconvert_exporter": "python",
   "pygments_lexer": "ipython3",
   "version": "3.7.6"
  },
  "papermill": {
   "duration": 8.120895,
   "end_time": "2020-08-30T17:37:56.531763",
   "environment_variables": {},
   "exception": null,
   "input_path": "__notebook__.ipynb",
   "output_path": "__notebook__.ipynb",
   "parameters": {},
   "start_time": "2020-08-30T17:37:48.410868",
   "version": "2.1.0"
  }
 },
 "nbformat": 4,
 "nbformat_minor": 4
}
